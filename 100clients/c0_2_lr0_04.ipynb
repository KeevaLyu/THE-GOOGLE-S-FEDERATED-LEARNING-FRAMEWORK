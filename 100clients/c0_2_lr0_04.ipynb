{
  "cells": [
    {
      "cell_type": "markdown",
      "metadata": {
        "id": "NsvvFSId2xB6"
      },
      "source": [
        "## Library"
      ]
    },
    {
      "cell_type": "code",
      "execution_count": 1,
      "metadata": {
        "id": "vDaWQfJ022KB",
        "colab": {
          "base_uri": "https://localhost:8080/"
        },
        "outputId": "1fa965ac-7643-479c-802b-03bf9c296fb5"
      },
      "outputs": [
        {
          "output_type": "stream",
          "name": "stdout",
          "text": [
            "cuda:0\n"
          ]
        }
      ],
      "source": [
        "import torch\n",
        "import torch.nn as nn\n",
        "import torch.nn.functional as F\n",
        "from torchvision import datasets, transforms\n",
        "import torch.optim as optim\n",
        "import numpy as np\n",
        "import random\n",
        "from collections import OrderedDict, ChainMap, Counter\n",
        "from tqdm.asyncio import tqdm\n",
        "import math\n",
        "import matplotlib.pyplot as plt\n",
        "\n",
        "# for reproducible results\n",
        "seed = 42\n",
        "torch.manual_seed(seed)\n",
        "np.random.seed(seed)\n",
        "\n",
        "device = torch.device('cpu')\n",
        "# gpu\n",
        "if torch.backends.mps.is_available():\n",
        "    device = torch.device('mps')\n",
        "elif torch.cuda.is_available():\n",
        "    device = torch.device('cuda:0')\n",
        "print(device)"
      ]
    },
    {
      "cell_type": "markdown",
      "metadata": {
        "id": "t_RCPBAVzB9L"
      },
      "source": [
        "## Data processing"
      ]
    },
    {
      "cell_type": "code",
      "execution_count": 2,
      "metadata": {
        "id": "GrvHYZ_swCAM",
        "colab": {
          "base_uri": "https://localhost:8080/"
        },
        "outputId": "b8c48403-61cf-4ef9-f5e8-6e68b2b99efc"
      },
      "outputs": [
        {
          "output_type": "stream",
          "name": "stdout",
          "text": [
            "Downloading http://yann.lecun.com/exdb/mnist/train-images-idx3-ubyte.gz\n",
            "Downloading http://yann.lecun.com/exdb/mnist/train-images-idx3-ubyte.gz to ./data/mnist/MNIST/raw/train-images-idx3-ubyte.gz\n"
          ]
        },
        {
          "output_type": "stream",
          "name": "stderr",
          "text": [
            "100%|██████████| 9912422/9912422 [00:00<00:00, 547762364.72it/s]"
          ]
        },
        {
          "output_type": "stream",
          "name": "stdout",
          "text": [
            "Extracting ./data/mnist/MNIST/raw/train-images-idx3-ubyte.gz to ./data/mnist/MNIST/raw\n"
          ]
        },
        {
          "output_type": "stream",
          "name": "stderr",
          "text": [
            "\n"
          ]
        },
        {
          "output_type": "stream",
          "name": "stdout",
          "text": [
            "\n",
            "Downloading http://yann.lecun.com/exdb/mnist/train-labels-idx1-ubyte.gz\n",
            "Downloading http://yann.lecun.com/exdb/mnist/train-labels-idx1-ubyte.gz to ./data/mnist/MNIST/raw/train-labels-idx1-ubyte.gz\n"
          ]
        },
        {
          "output_type": "stream",
          "name": "stderr",
          "text": [
            "100%|██████████| 28881/28881 [00:00<00:00, 99454592.63it/s]\n"
          ]
        },
        {
          "output_type": "stream",
          "name": "stdout",
          "text": [
            "Extracting ./data/mnist/MNIST/raw/train-labels-idx1-ubyte.gz to ./data/mnist/MNIST/raw\n",
            "\n",
            "Downloading http://yann.lecun.com/exdb/mnist/t10k-images-idx3-ubyte.gz\n",
            "Downloading http://yann.lecun.com/exdb/mnist/t10k-images-idx3-ubyte.gz to ./data/mnist/MNIST/raw/t10k-images-idx3-ubyte.gz\n"
          ]
        },
        {
          "output_type": "stream",
          "name": "stderr",
          "text": [
            "100%|██████████| 1648877/1648877 [00:00<00:00, 109480629.99it/s]"
          ]
        },
        {
          "output_type": "stream",
          "name": "stdout",
          "text": [
            "Extracting ./data/mnist/MNIST/raw/t10k-images-idx3-ubyte.gz to ./data/mnist/MNIST/raw\n",
            "\n",
            "Downloading http://yann.lecun.com/exdb/mnist/t10k-labels-idx1-ubyte.gz\n"
          ]
        },
        {
          "output_type": "stream",
          "name": "stderr",
          "text": [
            "\n"
          ]
        },
        {
          "output_type": "stream",
          "name": "stdout",
          "text": [
            "Downloading http://yann.lecun.com/exdb/mnist/t10k-labels-idx1-ubyte.gz to ./data/mnist/MNIST/raw/t10k-labels-idx1-ubyte.gz\n"
          ]
        },
        {
          "output_type": "stream",
          "name": "stderr",
          "text": [
            "100%|██████████| 4542/4542 [00:00<00:00, 11212789.15it/s]"
          ]
        },
        {
          "output_type": "stream",
          "name": "stdout",
          "text": [
            "Extracting ./data/mnist/MNIST/raw/t10k-labels-idx1-ubyte.gz to ./data/mnist/MNIST/raw\n",
            "\n"
          ]
        },
        {
          "output_type": "stream",
          "name": "stderr",
          "text": [
            "\n"
          ]
        }
      ],
      "source": [
        "transform = transforms.Compose([\n",
        "            transforms.ToTensor(),\n",
        "            transforms.Normalize((0.1307,), (0.3081,))]) # scale from [0,255] to [0,1] and make mean and std to 0.0 and 1.0 respectively\n",
        "training_dataset = datasets.MNIST('./data/mnist/', train=True, download=True, transform=transform)\n",
        "test_dataset = datasets.MNIST('./data/mnist/', train=False, download=True, transform=transform)"
      ]
    },
    {
      "cell_type": "code",
      "execution_count": 3,
      "metadata": {
        "id": "ZohHDK7o65fH"
      },
      "outputs": [],
      "source": [
        "# sort by labels\n",
        "sorted_indices = torch.argsort(torch.Tensor(training_dataset.targets))\n",
        "sorted_training_dataset = torch.utils.data.Subset(training_dataset, sorted_indices)\n",
        "\n",
        "# partition data into shards\n",
        "def prepare_datashards(num_clients, num_shards, strict=False):\n",
        "    training_datashards = []\n",
        "\n",
        "    shards = []\n",
        "    # partition by class\n",
        "    if strict:\n",
        "        number_of_classes = len(sorted_training_dataset.dataset.classes)\n",
        "        shards_per_class = num_shards // number_of_classes\n",
        "\n",
        "        ptr = 0\n",
        "        # for each class\n",
        "        for label, size in sorted(Counter(sorted_training_dataset.dataset.targets.tolist()).items()):\n",
        "            shard_size = math.ceil(size / shards_per_class)\n",
        "\n",
        "            # for each shard\n",
        "            for i in range(shards_per_class):\n",
        "                shard = []\n",
        "                # fill shard of shard_size\n",
        "                for j in range(shard_size):\n",
        "                    shard.append(sorted_training_dataset[ptr])\n",
        "                    ptr += 1\n",
        "                    # break for next class\n",
        "                    if ptr >= len(sorted_training_dataset) or sorted_training_dataset[ptr][1] != label:\n",
        "                        break\n",
        "                shards.append(shard)\n",
        "\n",
        "    # partition by size\n",
        "    else:\n",
        "        shard_size = len(sorted_training_dataset) // num_shards\n",
        "\n",
        "        # for each shard\n",
        "        for i in range(num_shards):\n",
        "            shard = []\n",
        "            # fill shard of shard_size\n",
        "            for j in range(shard_size):\n",
        "                shard.append(sorted_training_dataset[i * shard_size + j])\n",
        "            shards.append(shard)\n",
        "    \n",
        "    # shuffled shard ids\n",
        "    random.seed(seed)\n",
        "    shard_ids = random.sample(list(range(num_shards)), num_shards)\n",
        "    print(\"Shards order - {}\".format(shard_ids))\n",
        "\n",
        "    # for each client\n",
        "    for k in range(num_clients):\n",
        "        client_shards = []\n",
        "        # number of shards per client\n",
        "        shards_per_client = num_shards // num_clients\n",
        "        for s in range(shards_per_client):\n",
        "            id = shard_ids[k * shards_per_client + s]\n",
        "            client_shards.append(shards[id])\n",
        "        training_datashards.append(client_shards)\n",
        "\n",
        "    return training_datashards"
      ]
    },
    {
      "cell_type": "markdown",
      "metadata": {
        "id": "mamL4quE65fI"
      },
      "source": [
        "## Global"
      ]
    },
    {
      "cell_type": "code",
      "execution_count": 4,
      "metadata": {
        "colab": {
          "base_uri": "https://localhost:8080/"
        },
        "id": "tPNbLHz865fI",
        "outputId": "ab641c65-bd9d-44ea-a53e-f5d67390c571"
      },
      "outputs": [
        {
          "output_type": "stream",
          "name": "stdout",
          "text": [
            "Shards order - [163, 28, 6, 189, 70, 62, 57, 35, 188, 26, 173, 139, 22, 151, 108, 8, 7, 23, 55, 59, 129, 154, 197, 143, 50, 166, 191, 107, 56, 114, 150, 71, 1, 40, 185, 87, 168, 39, 181, 86, 190, 182, 97, 24, 91, 88, 67, 11, 117, 137, 31, 96, 20, 141, 75, 92, 49, 17, 152, 58, 74, 147, 180, 25, 157, 199, 116, 93, 41, 94, 90, 53, 68, 89, 119, 164, 82, 9, 77, 81, 21, 127, 132, 149, 138, 169, 48, 34, 120, 178, 134, 198, 124, 131, 98, 99, 183, 29, 4, 174, 51, 112, 184, 27, 72, 155, 100, 148, 83, 63, 175, 123, 140, 18, 33, 142, 133, 109, 118, 85, 196, 54, 79, 104, 46, 165, 84, 65, 179, 146, 177, 14, 19, 115, 78, 135, 176, 156, 38, 102, 80, 16, 192, 161, 0, 43, 145, 103, 95, 105, 113, 73, 106, 125, 52, 160, 144, 10, 60, 171, 172, 32, 195, 61, 69, 153, 36, 12, 122, 37, 194, 5, 110, 47, 162, 186, 126, 42, 15, 159, 3, 30, 130, 45, 167, 158, 76, 128, 170, 136, 44, 64, 2, 13, 121, 111, 193, 101, 187, 66]\n"
          ]
        }
      ],
      "source": [
        "# clients training mode\n",
        "PARALLEL_TRAINING = True\n",
        "\n",
        "# clients and shards\n",
        "num_clients = 100\n",
        "num_shards = 200\n",
        "\n",
        "# prepare training data\n",
        "training_datashards = prepare_datashards(num_clients, num_shards)"
      ]
    },
    {
      "cell_type": "markdown",
      "metadata": {
        "id": "e6vzuzLL1cP8"
      },
      "source": [
        "## Model"
      ]
    },
    {
      "cell_type": "code",
      "execution_count": 5,
      "metadata": {
        "id": "4KIxpXNR1dWg"
      },
      "outputs": [],
      "source": [
        "class CNN(nn.Module):\n",
        "    # https://pytorch.org/tutorials/recipes/recipes/defining_a_neural_network.html#specify-how-data-will-pass-through-your-model\n",
        "    def __init__(self):\n",
        "        super(CNN, self).__init__()\n",
        "        # 5x5 convolution layer with 32 channels\n",
        "        self.conv1 = nn.Conv2d(in_channels=1, out_channels=32, kernel_size=5, padding='same')\n",
        "        # 5x5 convolution layer with 64 channels\n",
        "        self.conv2 = nn.Conv2d(in_channels=32, out_channels=64, kernel_size=5, padding='same')\n",
        "        # fully connected layer with 512 units, in_features = channels * height * width from conv2\n",
        "        self.fc1 = nn.Linear(in_features=64*7*7, out_features=512)\n",
        "        self.fc2 = nn.Linear(in_features=512, out_features=10)\n",
        "\n",
        "    # x represents our data\n",
        "    def forward(self, x):\n",
        "        # Pass data through conv1\n",
        "        x = self.conv1(x)\n",
        "        # Use the rectified-linear activation function over x\n",
        "        x = F.relu(x)\n",
        "        # Run max pooling over x\n",
        "        x = F.max_pool2d(x, kernel_size=2)\n",
        "        \n",
        "        x = self.conv2(x)\n",
        "        x = F.relu(x)\n",
        "        x = F.max_pool2d(x, kernel_size=2)\n",
        "\n",
        "        # Flatten x with start_dim=1\n",
        "        x = torch.flatten(x, start_dim=1)\n",
        "        # Pass data through fc1\n",
        "        x = self.fc1(x)\n",
        "        x = F.relu(x)\n",
        "        x = self.fc2(x)\n",
        "\n",
        "        # Apply softmax to x\n",
        "        output = F.log_softmax(x, dim=1)\n",
        "        return output"
      ]
    },
    {
      "cell_type": "code",
      "execution_count": 6,
      "metadata": {
        "colab": {
          "base_uri": "https://localhost:8080/"
        },
        "id": "gLzdTLYt65fJ",
        "outputId": "f9f3f9fc-8136-482d-f10d-98347542d7d2"
      },
      "outputs": [
        {
          "output_type": "stream",
          "name": "stdout",
          "text": [
            "Total number of parameters: 1663370\n"
          ]
        }
      ],
      "source": [
        "num_params = sum(p.numel() for p in CNN().parameters())\n",
        "print(\"Total number of parameters:\", num_params)"
      ]
    },
    {
      "cell_type": "code",
      "execution_count": 7,
      "metadata": {
        "colab": {
          "base_uri": "https://localhost:8080/"
        },
        "id": "qY3Pl12PP4rP",
        "outputId": "2f420233-a7e7-402e-fbfc-cffad04c87f1"
      },
      "outputs": [
        {
          "output_type": "stream",
          "name": "stdout",
          "text": [
            "torch.Size([32, 1, 5, 5])\n",
            "torch.Size([32])\n",
            "torch.Size([64, 32, 5, 5])\n",
            "torch.Size([64])\n",
            "torch.Size([512, 3136])\n",
            "torch.Size([512])\n",
            "torch.Size([10, 512])\n",
            "torch.Size([10])\n"
          ]
        }
      ],
      "source": [
        "for p in CNN().parameters():\n",
        "    print(p.shape)"
      ]
    },
    {
      "cell_type": "markdown",
      "metadata": {
        "id": "RtdxFdsz1h0m"
      },
      "source": [
        "## Client\n"
      ]
    },
    {
      "cell_type": "code",
      "execution_count": 8,
      "metadata": {
        "id": "bzCVn4hfAOhX"
      },
      "outputs": [],
      "source": [
        "class Client():\n",
        "    def __init__(self, k, model, args):\n",
        "        # inititalize client\n",
        "        self.id = k\n",
        "        self.model = model\n",
        "        self.args = args\n",
        "\n",
        "        # load dataset\n",
        "        self.dataset = []\n",
        "        self._load_dataset(k)\n",
        "        self.training_loader = torch.utils.data.DataLoader(self.dataset, batch_size=self.args['B'], shuffle=True)\n",
        "\n",
        "        # state_dict\n",
        "        self.state_dict = self.model.state_dict()\n",
        "\n",
        "    def _load_dataset(self, k):\n",
        "        # load dataset\n",
        "        for shard in training_datashards[k]:\n",
        "            self.dataset += shard\n",
        "        return\n",
        "\n",
        "    def labels(self):\n",
        "        return dict(Counter(data[1] for data in self.dataset))\n",
        "\n",
        "    def size(self):\n",
        "        return len(self.dataset)\n",
        "\n",
        "    async def update(self):\n",
        "        # load state_dict\n",
        "        self.model.load_state_dict(self.state_dict)\n",
        "\n",
        "        # Sets the module in training mode\n",
        "        self.model.train(True)\n",
        "\n",
        "        optimizer = optim.SGD(self.model.parameters(), lr=self.args['lr'])\n",
        "        loss_fn = nn.CrossEntropyLoss()\n",
        "\n",
        "        # https://pytorch.org/tutorials/beginner/introyt/trainingyt.html\n",
        "        for epoch in range(self.args['E']):\n",
        "            for inputs, labels in self.training_loader:\n",
        "                # Every data instance is an input + label pair\n",
        "                inputs, labels = inputs.to(device), labels.to(device)\n",
        "\n",
        "                # Zero your gradients for every batch!\n",
        "                optimizer.zero_grad()\n",
        "\n",
        "                # Make predictions for this batch\n",
        "                outputs = self.model(inputs)\n",
        "\n",
        "                # Compute the loss and its gradients\n",
        "                loss = loss_fn(outputs, labels)\n",
        "                loss.backward()\n",
        "\n",
        "                # Adjust learning weights\n",
        "                optimizer.step()\n",
        "        \n",
        "        # save state_dict\n",
        "        self.state_dict = self.model.state_dict()\n",
        "\n",
        "        return { self.id: self.state_dict }\n",
        "\n",
        "    def model_sync(self, state_dict):\n",
        "        self.state_dict = state_dict"
      ]
    },
    {
      "cell_type": "markdown",
      "metadata": {
        "id": "unKQT-qEPnKL"
      },
      "source": [
        "## Server"
      ]
    },
    {
      "cell_type": "code",
      "execution_count": 9,
      "metadata": {
        "id": "rjIkYahr1jVG"
      },
      "outputs": [],
      "source": [
        "class Server():\n",
        "    def __init__(self, args):\n",
        "        self.model = CNN().to(device)\n",
        "        # number of rounds of communication\n",
        "        self.rounds = 0\n",
        "        # client fraction C\n",
        "        self.c = args['C']\n",
        "        # client list\n",
        "        self.clients = []\n",
        "        # inititalize clients according to num_clients\n",
        "        if PARALLEL_TRAINING:\n",
        "            for k in range(num_clients):\n",
        "                torch.manual_seed(seed)\n",
        "                client_model = CNN().to(device)\n",
        "                client = Client(k, client_model, args)\n",
        "                self.clients.append(client)\n",
        "        else:\n",
        "            torch.manual_seed(seed)\n",
        "            client_model = CNN().to(device)\n",
        "            for k in range(num_clients):\n",
        "                client = Client(k, client_model, args)\n",
        "                self.clients.append(client)\n",
        "\n",
        "    def _fed_avg(self, state_dicts):\n",
        "        # total number of data\n",
        "        len_total = 0\n",
        "        for k in ChainMap(*state_dicts).keys():\n",
        "            len_total += self.clients[k].size()\n",
        "\n",
        "        dict = OrderedDict()\n",
        "        # for each client's state_dict\n",
        "        for k, state_dict in ChainMap(*state_dicts).items():\n",
        "            # for each tensor param\n",
        "            for param_tensor in self.model.state_dict().keys():\n",
        "                # param = w0 * wf0 + w1 * wf1 + ... wk * wfk\n",
        "                if param_tensor in dict:\n",
        "                    dict[param_tensor] += state_dict[param_tensor] * (self.clients[k].size() / len_total)\n",
        "                else:\n",
        "                    dict[param_tensor] = state_dict[param_tensor] * (self.clients[k].size() / len_total)\n",
        "\n",
        "        return dict\n",
        "\n",
        "    def clients_info(self):\n",
        "        for i, client in enumerate(self.clients):\n",
        "            print(\"Client {} - {}\".format(i, client.labels()))\n",
        "\n",
        "    async def model_sync(self):\n",
        "        selected_clients = self.clients\n",
        "\n",
        "        # clients random selection\n",
        "        if self.c < 1.0:\n",
        "            # clients per round\n",
        "            k = max(int(self.c * num_clients), 1)\n",
        "            # client selection\n",
        "            random.seed(self.rounds)\n",
        "            selected_clients = random.sample(self.clients, k=k)\n",
        "            client_ids = []\n",
        "            for client in selected_clients:\n",
        "                client_ids.append(client.id)\n",
        "            print(\"Selected clients - {}\".format(client_ids))\n",
        "\n",
        "        state_dicts = []\n",
        "        # for each selected client do client update\n",
        "        if PARALLEL_TRAINING:\n",
        "            state_dicts = await tqdm.gather(*[client.update() for client in selected_clients])\n",
        "        else:\n",
        "            for client in tqdm(selected_clients):\n",
        "                state_dict = await client.update()\n",
        "                state_dicts.append(state_dict)\n",
        "        \n",
        "        # update server weights\n",
        "        avg_state_dict = self._fed_avg(state_dicts)\n",
        "        self.model.load_state_dict(avg_state_dict)\n",
        "\n",
        "        # sync with all clients\n",
        "        for client in self.clients:\n",
        "            client.model_sync(avg_state_dict)\n",
        "\n",
        "        # increase rounds count\n",
        "        self.rounds += 1"
      ]
    },
    {
      "cell_type": "code",
      "execution_count": 10,
      "metadata": {
        "id": "v-JVTN0sCHlk"
      },
      "outputs": [],
      "source": [
        "def test_model(model):\n",
        "    # https://learn.microsoft.com/en-us/windows/ai/windows-ml/tutorials/pytorch-analysis-train-model#test-the-model-on-the-test-data\n",
        "    test_loader = torch.utils.data.DataLoader(test_dataset, batch_size=10, shuffle=False)\n",
        "    loss_fn = nn.CrossEntropyLoss()\n",
        "\n",
        "    # Sets the module in evaluate mode\n",
        "    model.eval()\n",
        "    model.to(device)\n",
        "    \n",
        "    correct = 0\n",
        "    loss = 0\n",
        "    total = 0\n",
        "\n",
        "    with torch.no_grad():\n",
        "        for inputs, labels in test_loader:\n",
        "            # Every data instance is an input + label pair\n",
        "            inputs, labels = inputs.to(device), labels.to(device)\n",
        "            \n",
        "            # Make predictions for this batch\n",
        "            outputs = model(inputs)\n",
        "            _, pred = torch.max(outputs, dim=1)\n",
        "            total += labels.size(0)\n",
        "\n",
        "            # Compute the loss and accuracy\n",
        "            loss += loss_fn(outputs, labels).item()\n",
        "            correct += (pred == labels).sum().item()\n",
        "\n",
        "    loss /= total\n",
        "    accuracy = correct / total\n",
        "\n",
        "    print('Test set: Average loss: {:.4f}, Accuracy: {}/{} ({:.2f}%)'.format(\n",
        "        loss, correct, total, accuracy * 100))\n",
        "    return accuracy, loss"
      ]
    },
    {
      "cell_type": "code",
      "execution_count": 11,
      "metadata": {
        "id": "BQ7wc8Q_FAkU"
      },
      "outputs": [],
      "source": [
        "async def execute(server, T, target_accuracy, es=None, min_delta=0.0, patience=0):\n",
        "    _patience = patience\n",
        "\n",
        "    # initial values\n",
        "    record_round = 0\n",
        "    best_round = 0\n",
        "    best_accuracy = 0.0\n",
        "    last_loss = None\n",
        "    state_dict, accuracies, losses = [], [], []\n",
        "\n",
        "    # loop until rounds\n",
        "    while server.rounds < T:\n",
        "        print(\"Round {}/{}\".format(server.rounds + 1, T))\n",
        "\n",
        "        # model sync\n",
        "        await server.model_sync()\n",
        "        \n",
        "        # test accuracy\n",
        "        accuracy, loss = test_model(server.model)\n",
        "\n",
        "        if accuracy >= best_accuracy:\n",
        "            # save best record\n",
        "            best_accuracy = accuracy\n",
        "            best_round = server.rounds\n",
        "\n",
        "            if best_accuracy >= target_accuracy or server.rounds > T - 10:\n",
        "                # save state_dict\n",
        "                state_dict = server.model.state_dict()\n",
        "\n",
        "        # statistics\n",
        "        accuracies.append(accuracy)\n",
        "        losses.append(loss)\n",
        "\n",
        "        # early stopping\n",
        "        if es == 'loss':\n",
        "            if last_loss is None:\n",
        "                last_loss = loss\n",
        "                continue\n",
        "\n",
        "            if last_loss - loss < min_delta:\n",
        "                # break if patience equal to 0\n",
        "                if patience == 0:\n",
        "                    break\n",
        "                else:\n",
        "                    patience -= 1\n",
        "            else:\n",
        "                # reset patience and update last loss\n",
        "                patience = _patience\n",
        "                last_loss = loss\n",
        "\n",
        "        # target accuracy reached\n",
        "        if accuracy >= target_accuracy and record_round == 0:\n",
        "            record_round = server.rounds\n",
        "\n",
        "    if record_round > 0:\n",
        "        print(\"Target accuracy reached at round: {}\".format(record_round))\n",
        "    print(\"Best round: {}, accuracy: {}\".format(best_round, best_accuracy))\n",
        "\n",
        "    return state_dict, accuracies, losses"
      ]
    },
    {
      "cell_type": "markdown",
      "metadata": {
        "id": "OE0VQHt_65fS"
      },
      "source": [
        "## Execute"
      ]
    },
    {
      "cell_type": "code",
      "execution_count": 12,
      "metadata": {
        "colab": {
          "base_uri": "https://localhost:8080/"
        },
        "id": "4Gas3rs865fT",
        "outputId": "b269c50f-971a-45bc-99bc-7d0d3420dda1"
      },
      "outputs": [
        {
          "output_type": "stream",
          "name": "stdout",
          "text": [
            "Training dataset - {0: 5923, 1: 6742, 2: 5958, 3: 6131, 4: 5842, 5: 5421, 6: 5918, 7: 6265, 8: 5851, 9: 5949}\n",
            "Client 0 - {8: 300, 1: 300}\n",
            "Client 1 - {0: 300, 9: 300}\n",
            "Client 2 - {3: 577, 2: 23}\n",
            "Client 3 - {2: 300, 1: 300}\n",
            "Client 4 - {9: 300, 1: 300}\n",
            "Client 5 - {8: 300, 6: 235, 7: 65}\n",
            "Client 6 - {1: 300, 7: 300}\n",
            "Client 7 - {5: 300, 0: 300}\n",
            "Client 8 - {0: 300, 1: 300}\n",
            "Client 9 - {2: 600}\n",
            "Client 10 - {6: 300, 7: 300}\n",
            "Client 11 - {9: 300, 7: 300}\n",
            "Client 12 - {2: 300, 8: 300}\n",
            "Client 13 - {9: 300, 5: 300}\n",
            "Client 14 - {2: 300, 5: 300}\n",
            "Client 15 - {7: 300, 3: 300}\n",
            "Client 16 - {0: 300, 1: 300}\n",
            "Client 17 - {9: 300, 4: 300}\n",
            "Client 18 - {8: 300, 1: 300}\n",
            "Client 19 - {9: 300, 4: 300}\n",
            "Client 20 - {9: 600}\n",
            "Client 21 - {4: 300, 1: 300}\n",
            "Client 22 - {4: 600}\n",
            "Client 23 - {3: 300, 0: 300}\n",
            "Client 24 - {5: 300, 6: 300}\n",
            "Client 25 - {1: 300, 4: 300}\n",
            "Client 26 - {1: 300, 7: 300}\n",
            "Client 27 - {3: 300, 4: 300}\n",
            "Client 28 - {2: 300, 0: 300}\n",
            "Client 29 - {7: 300, 2: 300}\n",
            "Client 30 - {3: 300, 7: 300}\n",
            "Client 31 - {8: 51, 9: 249, 1: 300}\n",
            "Client 32 - {7: 300, 9: 300}\n",
            "Client 33 - {5: 300, 4: 300}\n",
            "Client 34 - {1: 300, 4: 300}\n",
            "Client 35 - {4: 300, 2: 300}\n",
            "Client 36 - {3: 300, 4: 300}\n",
            "Client 37 - {5: 300, 8: 300}\n",
            "Client 38 - {3: 154, 4: 146, 0: 300}\n",
            "Client 39 - {3: 600}\n",
            "Client 40 - {1: 300, 6: 300}\n",
            "Client 41 - {6: 300, 7: 300}\n",
            "Client 42 - {6: 300, 8: 300}\n",
            "Client 43 - {2: 300, 1: 300}\n",
            "Client 44 - {5: 17, 6: 283, 8: 300}\n",
            "Client 45 - {6: 300, 9: 300}\n",
            "Client 46 - {6: 600}\n",
            "Client 47 - {4: 600}\n",
            "Client 48 - {9: 300, 1: 300}\n",
            "Client 49 - {0: 300, 8: 300}\n",
            "Client 50 - {2: 300, 5: 300}\n",
            "Client 51 - {9: 300, 1: 300}\n",
            "Client 52 - {3: 300, 7: 300}\n",
            "Client 53 - {4: 300, 7: 300}\n",
            "Client 54 - {4: 300, 3: 300}\n",
            "Client 55 - {8: 300, 6: 300}\n",
            "Client 56 - {7: 300, 0: 300}\n",
            "Client 57 - {1: 300, 7: 300}\n",
            "Client 58 - {6: 300, 5: 300}\n",
            "Client 59 - {5: 300, 4: 300}\n",
            "Client 60 - {9: 300, 2: 300}\n",
            "Client 61 - {3: 300, 5: 300}\n",
            "Client 62 - {2: 300, 8: 300}\n",
            "Client 63 - {4: 300, 3: 300}\n",
            "Client 64 - {8: 300, 7: 300}\n",
            "Client 65 - {8: 300, 0: 300}\n",
            "Client 66 - {0: 223, 1: 77, 5: 300}\n",
            "Client 67 - {3: 300, 6: 300}\n",
            "Client 68 - {8: 300, 7: 300}\n",
            "Client 69 - {1: 300, 5: 300}\n",
            "Client 70 - {3: 300, 0: 300}\n",
            "Client 71 - {9: 300, 8: 300}\n",
            "Client 72 - {0: 300, 2: 300}\n",
            "Client 73 - {7: 300, 5: 300}\n",
            "Client 74 - {4: 300, 5: 300}\n",
            "Client 75 - {5: 300, 3: 300}\n",
            "Client 76 - {5: 300, 6: 300}\n",
            "Client 77 - {2: 300, 7: 200, 8: 100}\n",
            "Client 78 - {7: 300, 0: 300}\n",
            "Client 79 - {2: 300, 8: 300}\n",
            "Client 80 - {8: 300, 1: 300}\n",
            "Client 81 - {9: 300, 2: 300}\n",
            "Client 82 - {3: 300, 7: 300}\n",
            "Client 83 - {1: 300, 0: 300}\n",
            "Client 84 - {6: 300, 1: 300}\n",
            "Client 85 - {9: 300, 0: 300}\n",
            "Client 86 - {5: 300, 2: 300}\n",
            "Client 87 - {8: 300, 9: 300}\n",
            "Client 88 - {6: 300, 1: 65, 2: 235}\n",
            "Client 89 - {0: 300, 7: 300}\n",
            "Client 90 - {0: 300, 1: 300}\n",
            "Client 91 - {6: 300, 2: 300}\n",
            "Client 92 - {8: 300, 7: 300}\n",
            "Client 93 - {3: 300, 6: 300}\n",
            "Client 94 - {8: 300, 6: 300}\n",
            "Client 95 - {2: 300, 3: 300}\n",
            "Client 96 - {0: 600}\n",
            "Client 97 - {6: 300, 5: 300}\n",
            "Client 98 - {9: 300, 4: 296, 5: 4}\n",
            "Client 99 - {9: 300, 3: 300}\n"
          ]
        }
      ],
      "source": [
        "# model params\n",
        "args = { 'C': 0.2, 'E': 5, 'B': 10 , 'lr': 0.04 }\n",
        "\n",
        "# server\n",
        "server = Server(args)\n",
        "\n",
        "# data distribution\n",
        "print(\"Training dataset - {}\".format(dict(sorted(Counter(training_dataset.targets.tolist()).items()))))\n",
        "server.clients_info()"
      ]
    },
    {
      "cell_type": "code",
      "execution_count": 13,
      "metadata": {
        "colab": {
          "base_uri": "https://localhost:8080/"
        },
        "id": "wjbFmiTb65fT",
        "outputId": "1bf3eba2-f1e1-4b29-d8c2-c7da89f47f3f"
      },
      "outputs": [
        {
          "output_type": "stream",
          "name": "stdout",
          "text": [
            "Round 1/200\n",
            "Selected clients - [49, 97, 53, 5, 33, 65, 62, 51, 38, 61, 45, 74, 27, 64, 17, 36, 96, 12, 79, 32]\n"
          ]
        },
        {
          "output_type": "stream",
          "name": "stderr",
          "text": [
            "100%|██████████| 20/20 [00:17<00:00,  1.15it/s]\n"
          ]
        },
        {
          "output_type": "stream",
          "name": "stdout",
          "text": [
            "Test set: Average loss: 0.1968, Accuracy: 2342/10000 (23.42%)\n",
            "Round 2/200\n",
            "Selected clients - [17, 72, 97, 8, 32, 15, 63, 57, 60, 83, 48, 26, 12, 62, 3, 49, 55, 77, 98, 0]\n"
          ]
        },
        {
          "output_type": "stream",
          "name": "stderr",
          "text": [
            "100%|██████████| 20/20 [00:11<00:00,  1.77it/s]\n"
          ]
        },
        {
          "output_type": "stream",
          "name": "stdout",
          "text": [
            "Test set: Average loss: 0.1431, Accuracy: 5644/10000 (56.44%)\n",
            "Round 3/200\n",
            "Selected clients - [7, 11, 10, 46, 21, 94, 85, 39, 32, 77, 27, 4, 74, 87, 20, 55, 81, 50, 92, 65]\n"
          ]
        },
        {
          "output_type": "stream",
          "name": "stderr",
          "text": [
            "100%|██████████| 20/20 [00:10<00:00,  1.86it/s]\n"
          ]
        },
        {
          "output_type": "stream",
          "name": "stdout",
          "text": [
            "Test set: Average loss: 0.1006, Accuracy: 7288/10000 (72.88%)\n",
            "Round 4/200\n",
            "Selected clients - [30, 75, 69, 16, 47, 77, 60, 80, 74, 8, 1, 33, 70, 29, 24, 91, 50, 81, 19, 66]\n"
          ]
        },
        {
          "output_type": "stream",
          "name": "stderr",
          "text": [
            "100%|██████████| 20/20 [00:10<00:00,  1.87it/s]\n"
          ]
        },
        {
          "output_type": "stream",
          "name": "stdout",
          "text": [
            "Test set: Average loss: 0.0780, Accuracy: 7451/10000 (74.51%)\n",
            "Round 5/200\n",
            "Selected clients - [30, 38, 13, 92, 50, 61, 19, 11, 8, 2, 51, 70, 37, 97, 7, 28, 66, 68, 46, 35]\n"
          ]
        },
        {
          "output_type": "stream",
          "name": "stderr",
          "text": [
            "100%|██████████| 20/20 [00:10<00:00,  1.91it/s]\n"
          ]
        },
        {
          "output_type": "stream",
          "name": "stdout",
          "text": [
            "Test set: Average loss: 0.0546, Accuracy: 8430/10000 (84.30%)\n",
            "Round 6/200\n",
            "Selected clients - [79, 32, 94, 45, 88, 83, 67, 3, 59, 99, 31, 6, 20, 14, 47, 60, 48, 69, 13, 73]\n"
          ]
        },
        {
          "output_type": "stream",
          "name": "stderr",
          "text": [
            "100%|██████████| 20/20 [00:10<00:00,  1.84it/s]\n"
          ]
        },
        {
          "output_type": "stream",
          "name": "stdout",
          "text": [
            "Test set: Average loss: 0.0485, Accuracy: 8180/10000 (81.80%)\n",
            "Round 7/200\n",
            "Selected clients - [73, 10, 62, 97, 33, 4, 0, 18, 84, 75, 60, 94, 47, 40, 98, 2, 34, 25, 93, 52]\n"
          ]
        },
        {
          "output_type": "stream",
          "name": "stderr",
          "text": [
            "100%|██████████| 20/20 [00:10<00:00,  1.84it/s]\n"
          ]
        },
        {
          "output_type": "stream",
          "name": "stdout",
          "text": [
            "Test set: Average loss: 0.0304, Accuracy: 9140/10000 (91.40%)\n",
            "Round 8/200\n",
            "Selected clients - [41, 19, 50, 83, 6, 9, 68, 12, 46, 74, 7, 64, 27, 4, 11, 55, 53, 8, 30, 70]\n"
          ]
        },
        {
          "output_type": "stream",
          "name": "stderr",
          "text": [
            "100%|██████████| 20/20 [00:10<00:00,  1.85it/s]\n"
          ]
        },
        {
          "output_type": "stream",
          "name": "stdout",
          "text": [
            "Test set: Average loss: 0.0235, Accuracy: 9390/10000 (93.90%)\n",
            "Round 9/200\n",
            "Selected clients - [29, 47, 48, 16, 24, 90, 5, 10, 17, 31, 64, 26, 51, 82, 3, 58, 62, 49, 63, 73]\n"
          ]
        },
        {
          "output_type": "stream",
          "name": "stderr",
          "text": [
            "100%|██████████| 20/20 [00:10<00:00,  1.86it/s]\n"
          ]
        },
        {
          "output_type": "stream",
          "name": "stdout",
          "text": [
            "Test set: Average loss: 0.0219, Accuracy: 9422/10000 (94.22%)\n",
            "Round 10/200\n",
            "Selected clients - [59, 78, 47, 34, 17, 23, 86, 0, 43, 64, 77, 10, 42, 70, 89, 5, 93, 48, 21, 90]\n"
          ]
        },
        {
          "output_type": "stream",
          "name": "stderr",
          "text": [
            "100%|██████████| 20/20 [00:12<00:00,  1.54it/s]\n"
          ]
        },
        {
          "output_type": "stream",
          "name": "stdout",
          "text": [
            "Test set: Average loss: 0.0247, Accuracy: 9242/10000 (92.42%)\n",
            "Round 11/200\n",
            "Selected clients - [73, 4, 54, 61, 1, 26, 59, 62, 35, 83, 20, 66, 41, 9, 31, 95, 46, 5, 53, 17]\n"
          ]
        },
        {
          "output_type": "stream",
          "name": "stderr",
          "text": [
            "100%|██████████| 20/20 [00:10<00:00,  1.92it/s]\n"
          ]
        },
        {
          "output_type": "stream",
          "name": "stdout",
          "text": [
            "Test set: Average loss: 0.0175, Accuracy: 9527/10000 (95.27%)\n",
            "Round 12/200\n",
            "Selected clients - [57, 71, 99, 59, 65, 75, 24, 23, 60, 80, 78, 12, 38, 18, 11, 68, 88, 81, 5, 76]\n"
          ]
        },
        {
          "output_type": "stream",
          "name": "stderr",
          "text": [
            "100%|██████████| 20/20 [00:10<00:00,  1.86it/s]\n"
          ]
        },
        {
          "output_type": "stream",
          "name": "stdout",
          "text": [
            "Test set: Average loss: 0.0179, Accuracy: 9465/10000 (94.65%)\n",
            "Round 13/200\n",
            "Selected clients - [60, 34, 84, 67, 85, 44, 18, 48, 1, 47, 61, 35, 82, 58, 88, 76, 29, 71, 0, 79]\n"
          ]
        },
        {
          "output_type": "stream",
          "name": "stderr",
          "text": [
            "100%|██████████| 20/20 [00:10<00:00,  1.84it/s]\n"
          ]
        },
        {
          "output_type": "stream",
          "name": "stdout",
          "text": [
            "Test set: Average loss: 0.0153, Accuracy: 9527/10000 (95.27%)\n",
            "Round 14/200\n",
            "Selected clients - [33, 37, 87, 23, 83, 29, 85, 18, 28, 82, 93, 16, 9, 68, 27, 95, 3, 55, 77, 1]\n"
          ]
        },
        {
          "output_type": "stream",
          "name": "stderr",
          "text": [
            "100%|██████████| 20/20 [00:10<00:00,  1.83it/s]\n"
          ]
        },
        {
          "output_type": "stream",
          "name": "stdout",
          "text": [
            "Test set: Average loss: 0.0138, Accuracy: 9619/10000 (96.19%)\n",
            "Round 15/200\n",
            "Selected clients - [13, 78, 89, 96, 83, 67, 31, 34, 94, 32, 37, 93, 9, 84, 57, 38, 59, 87, 50, 99]\n"
          ]
        },
        {
          "output_type": "stream",
          "name": "stderr",
          "text": [
            "100%|██████████| 20/20 [00:10<00:00,  1.83it/s]\n"
          ]
        },
        {
          "output_type": "stream",
          "name": "stdout",
          "text": [
            "Test set: Average loss: 0.0123, Accuracy: 9632/10000 (96.32%)\n",
            "Round 16/200\n",
            "Selected clients - [26, 1, 66, 94, 4, 20, 30, 2, 7, 87, 18, 88, 47, 14, 43, 59, 90, 45, 35, 50]\n"
          ]
        },
        {
          "output_type": "stream",
          "name": "stderr",
          "text": [
            "100%|██████████| 20/20 [00:10<00:00,  1.86it/s]\n"
          ]
        },
        {
          "output_type": "stream",
          "name": "stdout",
          "text": [
            "Test set: Average loss: 0.0139, Accuracy: 9557/10000 (95.57%)\n",
            "Round 17/200\n",
            "Selected clients - [46, 60, 61, 36, 53, 29, 57, 0, 52, 84, 91, 33, 30, 81, 28, 1, 37, 38, 42, 85]\n"
          ]
        },
        {
          "output_type": "stream",
          "name": "stderr",
          "text": [
            "100%|██████████| 20/20 [00:10<00:00,  1.93it/s]\n"
          ]
        },
        {
          "output_type": "stream",
          "name": "stdout",
          "text": [
            "Test set: Average loss: 0.0105, Accuracy: 9685/10000 (96.85%)\n",
            "Round 18/200\n",
            "Selected clients - [66, 53, 38, 46, 37, 22, 98, 90, 69, 84, 35, 14, 3, 31, 49, 95, 32, 64, 40, 81]\n"
          ]
        },
        {
          "output_type": "stream",
          "name": "stderr",
          "text": [
            "100%|██████████| 20/20 [00:10<00:00,  1.87it/s]\n"
          ]
        },
        {
          "output_type": "stream",
          "name": "stdout",
          "text": [
            "Test set: Average loss: 0.0110, Accuracy: 9657/10000 (96.57%)\n",
            "Round 19/200\n",
            "Selected clients - [23, 15, 84, 57, 42, 30, 25, 62, 80, 63, 61, 37, 58, 33, 32, 88, 41, 66, 86, 97]\n"
          ]
        },
        {
          "output_type": "stream",
          "name": "stderr",
          "text": [
            "100%|██████████| 20/20 [00:10<00:00,  1.87it/s]\n"
          ]
        },
        {
          "output_type": "stream",
          "name": "stdout",
          "text": [
            "Test set: Average loss: 0.0107, Accuracy: 9709/10000 (97.09%)\n",
            "Round 20/200\n",
            "Selected clients - [86, 5, 66, 15, 65, 25, 50, 44, 67, 37, 74, 18, 76, 33, 13, 52, 41, 34, 98, 39]\n"
          ]
        },
        {
          "output_type": "stream",
          "name": "stderr",
          "text": [
            "100%|██████████| 20/20 [00:10<00:00,  1.85it/s]\n"
          ]
        },
        {
          "output_type": "stream",
          "name": "stdout",
          "text": [
            "Test set: Average loss: 0.0110, Accuracy: 9671/10000 (96.71%)\n",
            "Round 21/200\n",
            "Selected clients - [92, 87, 98, 19, 33, 86, 81, 12, 41, 73, 21, 3, 52, 9, 13, 16, 40, 60, 74, 57]\n"
          ]
        },
        {
          "output_type": "stream",
          "name": "stderr",
          "text": [
            "100%|██████████| 20/20 [00:10<00:00,  1.87it/s]\n"
          ]
        },
        {
          "output_type": "stream",
          "name": "stdout",
          "text": [
            "Test set: Average loss: 0.0118, Accuracy: 9613/10000 (96.13%)\n",
            "Round 22/200\n",
            "Selected clients - [21, 53, 88, 81, 36, 61, 27, 60, 65, 23, 64, 67, 30, 0, 1, 47, 74, 54, 8, 18]\n"
          ]
        },
        {
          "output_type": "stream",
          "name": "stderr",
          "text": [
            "100%|██████████| 20/20 [00:10<00:00,  1.87it/s]\n"
          ]
        },
        {
          "output_type": "stream",
          "name": "stdout",
          "text": [
            "Test set: Average loss: 0.0092, Accuracy: 9709/10000 (97.09%)\n",
            "Round 23/200\n",
            "Selected clients - [17, 31, 3, 78, 57, 23, 89, 15, 94, 83, 44, 10, 29, 34, 6, 40, 76, 22, 70, 87]\n"
          ]
        },
        {
          "output_type": "stream",
          "name": "stderr",
          "text": [
            "100%|██████████| 20/20 [00:10<00:00,  1.87it/s]\n"
          ]
        },
        {
          "output_type": "stream",
          "name": "stdout",
          "text": [
            "Test set: Average loss: 0.0084, Accuracy: 9736/10000 (97.36%)\n",
            "Round 24/200\n",
            "Selected clients - [99, 37, 10, 2, 75, 39, 54, 48, 67, 45, 16, 92, 24, 34, 56, 1, 28, 79, 58, 3]\n"
          ]
        },
        {
          "output_type": "stream",
          "name": "stderr",
          "text": [
            "100%|██████████| 20/20 [00:10<00:00,  1.91it/s]\n"
          ]
        },
        {
          "output_type": "stream",
          "name": "stdout",
          "text": [
            "Test set: Average loss: 0.0083, Accuracy: 9724/10000 (97.24%)\n",
            "Round 25/200\n",
            "Selected clients - [91, 49, 74, 23, 27, 21, 24, 85, 87, 11, 90, 96, 19, 36, 92, 98, 1, 56, 59, 81]\n"
          ]
        },
        {
          "output_type": "stream",
          "name": "stderr",
          "text": [
            "100%|██████████| 20/20 [00:10<00:00,  1.86it/s]\n"
          ]
        },
        {
          "output_type": "stream",
          "name": "stdout",
          "text": [
            "Test set: Average loss: 0.0098, Accuracy: 9689/10000 (96.89%)\n",
            "Round 26/200\n",
            "Selected clients - [48, 98, 1, 27, 39, 81, 60, 5, 96, 32, 4, 72, 54, 12, 75, 15, 73, 87, 93, 25]\n"
          ]
        },
        {
          "output_type": "stream",
          "name": "stderr",
          "text": [
            "100%|██████████| 20/20 [00:10<00:00,  1.85it/s]\n"
          ]
        },
        {
          "output_type": "stream",
          "name": "stdout",
          "text": [
            "Test set: Average loss: 0.0096, Accuracy: 9673/10000 (96.73%)\n",
            "Round 27/200\n",
            "Selected clients - [95, 25, 84, 26, 55, 76, 69, 7, 16, 99, 97, 61, 5, 93, 87, 79, 64, 21, 81, 54]\n"
          ]
        },
        {
          "output_type": "stream",
          "name": "stderr",
          "text": [
            "100%|██████████| 20/20 [00:10<00:00,  1.88it/s]\n"
          ]
        },
        {
          "output_type": "stream",
          "name": "stdout",
          "text": [
            "Test set: Average loss: 0.0072, Accuracy: 9769/10000 (97.69%)\n",
            "Round 28/200\n",
            "Selected clients - [83, 61, 89, 35, 36, 25, 9, 8, 32, 69, 42, 47, 51, 23, 31, 30, 62, 93, 81, 73]\n"
          ]
        },
        {
          "output_type": "stream",
          "name": "stderr",
          "text": [
            "100%|██████████| 20/20 [00:10<00:00,  1.87it/s]\n"
          ]
        },
        {
          "output_type": "stream",
          "name": "stdout",
          "text": [
            "Test set: Average loss: 0.0073, Accuracy: 9780/10000 (97.80%)\n",
            "Round 29/200\n",
            "Selected clients - [14, 95, 16, 69, 76, 91, 22, 28, 81, 59, 97, 53, 26, 27, 18, 50, 20, 77, 24, 25]\n"
          ]
        },
        {
          "output_type": "stream",
          "name": "stderr",
          "text": [
            "100%|██████████| 20/20 [00:10<00:00,  1.86it/s]\n"
          ]
        },
        {
          "output_type": "stream",
          "name": "stdout",
          "text": [
            "Test set: Average loss: 0.0084, Accuracy: 9725/10000 (97.25%)\n",
            "Round 30/200\n",
            "Selected clients - [70, 9, 44, 76, 77, 36, 11, 65, 50, 53, 2, 4, 13, 56, 83, 28, 10, 63, 42, 69]\n"
          ]
        },
        {
          "output_type": "stream",
          "name": "stderr",
          "text": [
            "100%|██████████| 20/20 [00:10<00:00,  1.86it/s]\n"
          ]
        },
        {
          "output_type": "stream",
          "name": "stdout",
          "text": [
            "Test set: Average loss: 0.0071, Accuracy: 9772/10000 (97.72%)\n",
            "Round 31/200\n",
            "Selected clients - [69, 37, 78, 3, 79, 83, 26, 32, 6, 50, 48, 82, 17, 10, 59, 0, 66, 31, 9, 20]\n"
          ]
        },
        {
          "output_type": "stream",
          "name": "stderr",
          "text": [
            "100%|██████████| 20/20 [00:10<00:00,  1.85it/s]\n"
          ]
        },
        {
          "output_type": "stream",
          "name": "stdout",
          "text": [
            "Test set: Average loss: 0.0079, Accuracy: 9732/10000 (97.32%)\n",
            "Round 32/200\n",
            "Selected clients - [1, 60, 14, 97, 50, 18, 87, 5, 17, 68, 29, 91, 96, 94, 4, 84, 7, 93, 57, 67]\n"
          ]
        },
        {
          "output_type": "stream",
          "name": "stderr",
          "text": [
            "100%|██████████| 20/20 [00:11<00:00,  1.80it/s]\n"
          ]
        },
        {
          "output_type": "stream",
          "name": "stdout",
          "text": [
            "Test set: Average loss: 0.0078, Accuracy: 9733/10000 (97.33%)\n",
            "Round 33/200\n",
            "Selected clients - [9, 27, 18, 38, 89, 30, 63, 3, 92, 4, 12, 41, 65, 42, 7, 66, 88, 60, 47, 76]\n"
          ]
        },
        {
          "output_type": "stream",
          "name": "stderr",
          "text": [
            "100%|██████████| 20/20 [00:11<00:00,  1.81it/s]\n"
          ]
        },
        {
          "output_type": "stream",
          "name": "stdout",
          "text": [
            "Test set: Average loss: 0.0063, Accuracy: 9798/10000 (97.98%)\n",
            "Round 34/200\n",
            "Selected clients - [73, 21, 80, 29, 35, 61, 83, 68, 67, 23, 78, 64, 41, 87, 56, 36, 86, 81, 9, 38]\n"
          ]
        },
        {
          "output_type": "stream",
          "name": "stderr",
          "text": [
            "100%|██████████| 20/20 [00:10<00:00,  1.83it/s]\n"
          ]
        },
        {
          "output_type": "stream",
          "name": "stdout",
          "text": [
            "Test set: Average loss: 0.0069, Accuracy: 9788/10000 (97.88%)\n",
            "Round 35/200\n",
            "Selected clients - [67, 45, 74, 3, 29, 49, 46, 8, 54, 39, 43, 12, 65, 19, 35, 44, 78, 0, 99, 96]\n"
          ]
        },
        {
          "output_type": "stream",
          "name": "stderr",
          "text": [
            "100%|██████████| 20/20 [00:10<00:00,  1.84it/s]\n"
          ]
        },
        {
          "output_type": "stream",
          "name": "stdout",
          "text": [
            "Test set: Average loss: 0.0068, Accuracy: 9798/10000 (97.98%)\n",
            "Round 36/200\n",
            "Selected clients - [70, 42, 96, 16, 95, 43, 19, 36, 55, 32, 72, 7, 67, 35, 83, 46, 91, 74, 12, 1]\n"
          ]
        },
        {
          "output_type": "stream",
          "name": "stderr",
          "text": [
            "100%|██████████| 20/20 [00:10<00:00,  1.89it/s]\n"
          ]
        },
        {
          "output_type": "stream",
          "name": "stdout",
          "text": [
            "Test set: Average loss: 0.0073, Accuracy: 9763/10000 (97.63%)\n",
            "Round 37/200\n",
            "Selected clients - [42, 7, 2, 36, 10, 0, 64, 80, 22, 31, 34, 93, 83, 55, 46, 71, 69, 9, 73, 52]\n"
          ]
        },
        {
          "output_type": "stream",
          "name": "stderr",
          "text": [
            "100%|██████████| 20/20 [00:10<00:00,  1.84it/s]\n"
          ]
        },
        {
          "output_type": "stream",
          "name": "stdout",
          "text": [
            "Test set: Average loss: 0.0068, Accuracy: 9762/10000 (97.62%)\n",
            "Round 38/200\n",
            "Selected clients - [87, 77, 11, 79, 85, 95, 81, 65, 4, 80, 47, 56, 67, 13, 58, 76, 36, 48, 94, 54]\n"
          ]
        },
        {
          "output_type": "stream",
          "name": "stderr",
          "text": [
            "100%|██████████| 20/20 [00:10<00:00,  1.84it/s]\n"
          ]
        },
        {
          "output_type": "stream",
          "name": "stdout",
          "text": [
            "Test set: Average loss: 0.0065, Accuracy: 9781/10000 (97.81%)\n",
            "Round 39/200\n",
            "Selected clients - [81, 53, 54, 96, 92, 13, 8, 46, 89, 59, 47, 5, 77, 85, 21, 75, 44, 41, 34, 90]\n"
          ]
        },
        {
          "output_type": "stream",
          "name": "stderr",
          "text": [
            "100%|██████████| 20/20 [00:10<00:00,  1.83it/s]\n"
          ]
        },
        {
          "output_type": "stream",
          "name": "stdout",
          "text": [
            "Test set: Average loss: 0.0062, Accuracy: 9796/10000 (97.96%)\n",
            "Round 40/200\n",
            "Selected clients - [26, 33, 49, 3, 24, 28, 50, 93, 72, 0, 82, 32, 86, 45, 90, 22, 37, 9, 46, 1]\n"
          ]
        },
        {
          "output_type": "stream",
          "name": "stderr",
          "text": [
            "100%|██████████| 20/20 [00:10<00:00,  1.84it/s]\n"
          ]
        },
        {
          "output_type": "stream",
          "name": "stdout",
          "text": [
            "Test set: Average loss: 0.0059, Accuracy: 9802/10000 (98.02%)\n",
            "Round 41/200\n",
            "Selected clients - [58, 74, 67, 4, 31, 36, 85, 81, 26, 16, 97, 44, 35, 95, 56, 3, 94, 7, 82, 25]\n"
          ]
        },
        {
          "output_type": "stream",
          "name": "stderr",
          "text": [
            "100%|██████████| 20/20 [00:10<00:00,  1.84it/s]\n"
          ]
        },
        {
          "output_type": "stream",
          "name": "stdout",
          "text": [
            "Test set: Average loss: 0.0056, Accuracy: 9815/10000 (98.15%)\n",
            "Round 42/200\n",
            "Selected clients - [48, 42, 29, 21, 49, 73, 88, 36, 70, 35, 93, 97, 1, 99, 31, 84, 2, 56, 19, 92]\n"
          ]
        },
        {
          "output_type": "stream",
          "name": "stderr",
          "text": [
            "100%|██████████| 20/20 [00:10<00:00,  1.85it/s]\n"
          ]
        },
        {
          "output_type": "stream",
          "name": "stdout",
          "text": [
            "Test set: Average loss: 0.0052, Accuracy: 9833/10000 (98.33%)\n",
            "Round 43/200\n",
            "Selected clients - [81, 14, 3, 94, 35, 31, 28, 17, 13, 86, 69, 11, 75, 54, 4, 27, 29, 64, 77, 71]\n"
          ]
        },
        {
          "output_type": "stream",
          "name": "stderr",
          "text": [
            "100%|██████████| 20/20 [00:10<00:00,  1.95it/s]\n"
          ]
        },
        {
          "output_type": "stream",
          "name": "stdout",
          "text": [
            "Test set: Average loss: 0.0057, Accuracy: 9819/10000 (98.19%)\n",
            "Round 44/200\n",
            "Selected clients - [4, 36, 89, 97, 18, 59, 47, 85, 12, 58, 76, 63, 77, 2, 65, 55, 73, 79, 70, 96]\n"
          ]
        },
        {
          "output_type": "stream",
          "name": "stderr",
          "text": [
            "100%|██████████| 20/20 [00:10<00:00,  1.83it/s]\n"
          ]
        },
        {
          "output_type": "stream",
          "name": "stdout",
          "text": [
            "Test set: Average loss: 0.0055, Accuracy: 9820/10000 (98.20%)\n",
            "Round 45/200\n",
            "Selected clients - [52, 66, 69, 89, 14, 22, 48, 28, 37, 3, 72, 1, 12, 20, 99, 65, 88, 38, 81, 75]\n"
          ]
        },
        {
          "output_type": "stream",
          "name": "stderr",
          "text": [
            "100%|██████████| 20/20 [00:10<00:00,  1.84it/s]\n"
          ]
        },
        {
          "output_type": "stream",
          "name": "stdout",
          "text": [
            "Test set: Average loss: 0.0061, Accuracy: 9800/10000 (98.00%)\n",
            "Round 46/200\n",
            "Selected clients - [34, 53, 62, 32, 10, 38, 43, 2, 9, 61, 1, 14, 36, 15, 39, 95, 83, 4, 79, 8]\n"
          ]
        },
        {
          "output_type": "stream",
          "name": "stderr",
          "text": [
            "100%|██████████| 20/20 [00:10<00:00,  1.84it/s]\n"
          ]
        },
        {
          "output_type": "stream",
          "name": "stdout",
          "text": [
            "Test set: Average loss: 0.0061, Accuracy: 9804/10000 (98.04%)\n",
            "Round 47/200\n",
            "Selected clients - [9, 51, 5, 75, 29, 81, 66, 19, 74, 68, 4, 3, 8, 40, 80, 6, 17, 70, 37, 67]\n"
          ]
        },
        {
          "output_type": "stream",
          "name": "stderr",
          "text": [
            "100%|██████████| 20/20 [00:10<00:00,  1.89it/s]\n"
          ]
        },
        {
          "output_type": "stream",
          "name": "stdout",
          "text": [
            "Test set: Average loss: 0.0053, Accuracy: 9827/10000 (98.27%)\n",
            "Round 48/200\n",
            "Selected clients - [45, 8, 55, 70, 58, 73, 43, 32, 65, 49, 50, 78, 5, 53, 84, 3, 13, 0, 33, 61]\n"
          ]
        },
        {
          "output_type": "stream",
          "name": "stderr",
          "text": [
            "100%|██████████| 20/20 [00:10<00:00,  1.84it/s]\n"
          ]
        },
        {
          "output_type": "stream",
          "name": "stdout",
          "text": [
            "Test set: Average loss: 0.0054, Accuracy: 9814/10000 (98.14%)\n",
            "Round 49/200\n",
            "Selected clients - [70, 40, 16, 71, 91, 68, 38, 64, 24, 97, 55, 21, 19, 84, 13, 63, 83, 28, 27, 65]\n"
          ]
        },
        {
          "output_type": "stream",
          "name": "stderr",
          "text": [
            "100%|██████████| 20/20 [00:10<00:00,  1.89it/s]\n"
          ]
        },
        {
          "output_type": "stream",
          "name": "stdout",
          "text": [
            "Test set: Average loss: 0.0053, Accuracy: 9811/10000 (98.11%)\n",
            "Round 50/200\n",
            "Selected clients - [8, 44, 52, 14, 41, 96, 70, 65, 6, 87, 5, 97, 94, 35, 19, 58, 93, 80, 69, 64]\n"
          ]
        },
        {
          "output_type": "stream",
          "name": "stderr",
          "text": [
            "100%|██████████| 20/20 [00:10<00:00,  1.90it/s]\n"
          ]
        },
        {
          "output_type": "stream",
          "name": "stdout",
          "text": [
            "Test set: Average loss: 0.0052, Accuracy: 9814/10000 (98.14%)\n",
            "Round 51/200\n",
            "Selected clients - [63, 34, 46, 81, 31, 88, 60, 98, 42, 10, 68, 40, 28, 86, 71, 19, 44, 12, 24, 8]\n"
          ]
        },
        {
          "output_type": "stream",
          "name": "stderr",
          "text": [
            "100%|██████████| 20/20 [00:10<00:00,  1.86it/s]\n"
          ]
        },
        {
          "output_type": "stream",
          "name": "stdout",
          "text": [
            "Test set: Average loss: 0.0057, Accuracy: 9810/10000 (98.10%)\n",
            "Round 52/200\n",
            "Selected clients - [31, 64, 70, 20, 29, 32, 50, 59, 93, 89, 67, 80, 43, 75, 84, 46, 49, 35, 51, 0]\n"
          ]
        },
        {
          "output_type": "stream",
          "name": "stderr",
          "text": [
            "100%|██████████| 20/20 [00:10<00:00,  1.87it/s]\n"
          ]
        },
        {
          "output_type": "stream",
          "name": "stdout",
          "text": [
            "Test set: Average loss: 0.0054, Accuracy: 9818/10000 (98.18%)\n",
            "Round 53/200\n",
            "Selected clients - [34, 6, 92, 65, 61, 47, 52, 4, 17, 20, 23, 44, 56, 80, 0, 69, 49, 1, 30, 8]\n"
          ]
        },
        {
          "output_type": "stream",
          "name": "stderr",
          "text": [
            "100%|██████████| 20/20 [00:10<00:00,  1.84it/s]\n"
          ]
        },
        {
          "output_type": "stream",
          "name": "stdout",
          "text": [
            "Test set: Average loss: 0.0054, Accuracy: 9811/10000 (98.11%)\n",
            "Round 54/200\n",
            "Selected clients - [78, 27, 58, 64, 91, 61, 66, 46, 93, 3, 4, 21, 44, 95, 16, 33, 7, 6, 29, 56]\n"
          ]
        },
        {
          "output_type": "stream",
          "name": "stderr",
          "text": [
            "100%|██████████| 20/20 [00:10<00:00,  1.85it/s]\n"
          ]
        },
        {
          "output_type": "stream",
          "name": "stdout",
          "text": [
            "Test set: Average loss: 0.0053, Accuracy: 9829/10000 (98.29%)\n",
            "Round 55/200\n",
            "Selected clients - [17, 56, 71, 38, 61, 62, 48, 28, 57, 42, 73, 93, 26, 92, 25, 7, 63, 70, 76, 11]\n"
          ]
        },
        {
          "output_type": "stream",
          "name": "stderr",
          "text": [
            "100%|██████████| 20/20 [00:10<00:00,  1.84it/s]\n"
          ]
        },
        {
          "output_type": "stream",
          "name": "stdout",
          "text": [
            "Test set: Average loss: 0.0048, Accuracy: 9836/10000 (98.36%)\n",
            "Round 56/200\n",
            "Selected clients - [11, 25, 19, 94, 38, 10, 95, 23, 45, 92, 84, 60, 69, 49, 64, 51, 40, 54, 68, 98]\n"
          ]
        },
        {
          "output_type": "stream",
          "name": "stderr",
          "text": [
            "100%|██████████| 20/20 [00:10<00:00,  1.94it/s]\n"
          ]
        },
        {
          "output_type": "stream",
          "name": "stdout",
          "text": [
            "Test set: Average loss: 0.0047, Accuracy: 9842/10000 (98.42%)\n",
            "Round 57/200\n",
            "Selected clients - [71, 1, 60, 83, 66, 38, 98, 69, 53, 90, 29, 12, 47, 79, 8, 43, 82, 32, 73, 26]\n"
          ]
        },
        {
          "output_type": "stream",
          "name": "stderr",
          "text": [
            "100%|██████████| 20/20 [00:10<00:00,  1.88it/s]\n"
          ]
        },
        {
          "output_type": "stream",
          "name": "stdout",
          "text": [
            "Test set: Average loss: 0.0049, Accuracy: 9848/10000 (98.48%)\n",
            "Round 58/200\n",
            "Selected clients - [5, 47, 75, 77, 2, 28, 65, 41, 61, 37, 55, 81, 48, 94, 21, 66, 50, 13, 83, 92]\n"
          ]
        },
        {
          "output_type": "stream",
          "name": "stderr",
          "text": [
            "100%|██████████| 20/20 [00:10<00:00,  1.83it/s]\n"
          ]
        },
        {
          "output_type": "stream",
          "name": "stdout",
          "text": [
            "Test set: Average loss: 0.0048, Accuracy: 9829/10000 (98.29%)\n",
            "Round 59/200\n",
            "Selected clients - [74, 25, 26, 94, 82, 5, 24, 57, 51, 45, 36, 33, 78, 53, 13, 1, 62, 27, 60, 96]\n"
          ]
        },
        {
          "output_type": "stream",
          "name": "stderr",
          "text": [
            "100%|██████████| 20/20 [00:10<00:00,  1.83it/s]\n"
          ]
        },
        {
          "output_type": "stream",
          "name": "stdout",
          "text": [
            "Test set: Average loss: 0.0043, Accuracy: 9855/10000 (98.55%)\n",
            "Round 60/200\n",
            "Selected clients - [28, 10, 83, 58, 2, 17, 38, 91, 87, 79, 1, 62, 48, 68, 97, 20, 93, 74, 43, 85]\n"
          ]
        },
        {
          "output_type": "stream",
          "name": "stderr",
          "text": [
            "100%|██████████| 20/20 [00:10<00:00,  1.84it/s]\n"
          ]
        },
        {
          "output_type": "stream",
          "name": "stdout",
          "text": [
            "Test set: Average loss: 0.0047, Accuracy: 9832/10000 (98.32%)\n",
            "Round 61/200\n",
            "Selected clients - [39, 36, 73, 19, 33, 29, 61, 59, 42, 5, 11, 85, 23, 49, 30, 81, 1, 52, 92, 21]\n"
          ]
        },
        {
          "output_type": "stream",
          "name": "stderr",
          "text": [
            "100%|██████████| 20/20 [00:10<00:00,  1.86it/s]\n"
          ]
        },
        {
          "output_type": "stream",
          "name": "stdout",
          "text": [
            "Test set: Average loss: 0.0047, Accuracy: 9844/10000 (98.44%)\n",
            "Round 62/200\n",
            "Selected clients - [63, 23, 71, 27, 41, 37, 88, 3, 62, 45, 8, 51, 59, 42, 21, 80, 0, 64, 11, 81]\n"
          ]
        },
        {
          "output_type": "stream",
          "name": "stderr",
          "text": [
            "100%|██████████| 20/20 [00:10<00:00,  1.87it/s]\n"
          ]
        },
        {
          "output_type": "stream",
          "name": "stdout",
          "text": [
            "Test set: Average loss: 0.0049, Accuracy: 9831/10000 (98.31%)\n",
            "Round 63/200\n",
            "Selected clients - [73, 22, 8, 30, 59, 39, 85, 45, 21, 65, 23, 20, 0, 33, 81, 15, 3, 60, 66, 2]\n"
          ]
        },
        {
          "output_type": "stream",
          "name": "stderr",
          "text": [
            "100%|██████████| 20/20 [00:10<00:00,  1.90it/s]\n"
          ]
        },
        {
          "output_type": "stream",
          "name": "stdout",
          "text": [
            "Test set: Average loss: 0.0047, Accuracy: 9840/10000 (98.40%)\n",
            "Round 64/200\n",
            "Selected clients - [56, 37, 32, 61, 84, 11, 49, 95, 10, 9, 25, 80, 39, 78, 7, 28, 16, 42, 30, 35]\n"
          ]
        },
        {
          "output_type": "stream",
          "name": "stderr",
          "text": [
            "100%|██████████| 20/20 [00:10<00:00,  1.86it/s]\n"
          ]
        },
        {
          "output_type": "stream",
          "name": "stdout",
          "text": [
            "Test set: Average loss: 0.0043, Accuracy: 9861/10000 (98.61%)\n",
            "Round 65/200\n",
            "Selected clients - [60, 15, 80, 78, 51, 68, 87, 2, 26, 34, 90, 97, 25, 89, 99, 83, 18, 10, 53, 56]\n"
          ]
        },
        {
          "output_type": "stream",
          "name": "stderr",
          "text": [
            "100%|██████████| 20/20 [00:10<00:00,  1.84it/s]\n"
          ]
        },
        {
          "output_type": "stream",
          "name": "stdout",
          "text": [
            "Test set: Average loss: 0.0048, Accuracy: 9839/10000 (98.39%)\n",
            "Round 66/200\n",
            "Selected clients - [53, 36, 65, 28, 56, 58, 67, 70, 43, 81, 55, 9, 71, 59, 33, 25, 83, 60, 79, 88]\n"
          ]
        },
        {
          "output_type": "stream",
          "name": "stderr",
          "text": [
            "100%|██████████| 20/20 [00:10<00:00,  1.84it/s]\n"
          ]
        },
        {
          "output_type": "stream",
          "name": "stdout",
          "text": [
            "Test set: Average loss: 0.0041, Accuracy: 9871/10000 (98.71%)\n",
            "Round 67/200\n",
            "Selected clients - [9, 39, 55, 31, 57, 37, 32, 71, 12, 95, 63, 23, 59, 66, 16, 91, 8, 46, 93, 21]\n"
          ]
        },
        {
          "output_type": "stream",
          "name": "stderr",
          "text": [
            "100%|██████████| 20/20 [00:10<00:00,  1.87it/s]\n"
          ]
        },
        {
          "output_type": "stream",
          "name": "stdout",
          "text": [
            "Test set: Average loss: 0.0041, Accuracy: 9877/10000 (98.77%)\n",
            "Round 68/200\n",
            "Selected clients - [9, 14, 98, 52, 59, 53, 34, 76, 54, 62, 79, 35, 26, 82, 5, 85, 22, 36, 4, 20]\n"
          ]
        },
        {
          "output_type": "stream",
          "name": "stderr",
          "text": [
            "100%|██████████| 20/20 [00:10<00:00,  1.87it/s]\n"
          ]
        },
        {
          "output_type": "stream",
          "name": "stdout",
          "text": [
            "Test set: Average loss: 0.0039, Accuracy: 9868/10000 (98.68%)\n",
            "Round 69/200\n",
            "Selected clients - [94, 59, 88, 95, 64, 14, 77, 74, 31, 55, 60, 33, 92, 86, 42, 56, 70, 46, 21, 83]\n"
          ]
        },
        {
          "output_type": "stream",
          "name": "stderr",
          "text": [
            "100%|██████████| 20/20 [00:10<00:00,  1.93it/s]\n"
          ]
        },
        {
          "output_type": "stream",
          "name": "stdout",
          "text": [
            "Test set: Average loss: 0.0040, Accuracy: 9872/10000 (98.72%)\n",
            "Round 70/200\n",
            "Selected clients - [87, 4, 12, 21, 8, 77, 44, 41, 70, 53, 59, 54, 72, 56, 66, 71, 18, 52, 50, 36]\n"
          ]
        },
        {
          "output_type": "stream",
          "name": "stderr",
          "text": [
            "100%|██████████| 20/20 [00:10<00:00,  1.85it/s]\n"
          ]
        },
        {
          "output_type": "stream",
          "name": "stdout",
          "text": [
            "Test set: Average loss: 0.0039, Accuracy: 9862/10000 (98.62%)\n",
            "Round 71/200\n",
            "Selected clients - [15, 37, 89, 58, 57, 17, 41, 13, 19, 86, 76, 27, 91, 85, 52, 48, 30, 51, 83, 9]\n"
          ]
        },
        {
          "output_type": "stream",
          "name": "stderr",
          "text": [
            "100%|██████████| 20/20 [00:10<00:00,  1.85it/s]\n"
          ]
        },
        {
          "output_type": "stream",
          "name": "stdout",
          "text": [
            "Test set: Average loss: 0.0041, Accuracy: 9866/10000 (98.66%)\n",
            "Round 72/200\n",
            "Selected clients - [41, 65, 79, 1, 33, 19, 96, 25, 11, 7, 76, 24, 64, 3, 88, 67, 46, 58, 97, 16]\n"
          ]
        },
        {
          "output_type": "stream",
          "name": "stderr",
          "text": [
            "100%|██████████| 20/20 [00:10<00:00,  1.86it/s]\n"
          ]
        },
        {
          "output_type": "stream",
          "name": "stdout",
          "text": [
            "Test set: Average loss: 0.0043, Accuracy: 9845/10000 (98.45%)\n",
            "Round 73/200\n",
            "Selected clients - [9, 76, 94, 23, 44, 89, 69, 79, 47, 39, 91, 87, 16, 88, 43, 29, 48, 18, 81, 3]\n"
          ]
        },
        {
          "output_type": "stream",
          "name": "stderr",
          "text": [
            "100%|██████████| 20/20 [00:10<00:00,  1.87it/s]\n"
          ]
        },
        {
          "output_type": "stream",
          "name": "stdout",
          "text": [
            "Test set: Average loss: 0.0044, Accuracy: 9846/10000 (98.46%)\n",
            "Round 74/200\n",
            "Selected clients - [35, 15, 64, 61, 72, 23, 59, 38, 75, 9, 62, 51, 66, 25, 57, 14, 2, 32, 52, 99]\n"
          ]
        },
        {
          "output_type": "stream",
          "name": "stderr",
          "text": [
            "100%|██████████| 20/20 [00:10<00:00,  1.89it/s]\n"
          ]
        },
        {
          "output_type": "stream",
          "name": "stdout",
          "text": [
            "Test set: Average loss: 0.0043, Accuracy: 9857/10000 (98.57%)\n",
            "Round 75/200\n",
            "Selected clients - [78, 65, 14, 40, 15, 39, 23, 27, 44, 56, 58, 67, 35, 57, 21, 64, 79, 0, 88, 5]\n"
          ]
        },
        {
          "output_type": "stream",
          "name": "stderr",
          "text": [
            "100%|██████████| 20/20 [00:10<00:00,  1.87it/s]\n"
          ]
        },
        {
          "output_type": "stream",
          "name": "stdout",
          "text": [
            "Test set: Average loss: 0.0043, Accuracy: 9852/10000 (98.52%)\n",
            "Round 76/200\n",
            "Selected clients - [57, 74, 55, 58, 5, 93, 98, 65, 86, 85, 60, 88, 44, 12, 40, 10, 96, 32, 35, 63]\n"
          ]
        },
        {
          "output_type": "stream",
          "name": "stderr",
          "text": [
            "100%|██████████| 20/20 [00:10<00:00,  1.94it/s]\n"
          ]
        },
        {
          "output_type": "stream",
          "name": "stdout",
          "text": [
            "Test set: Average loss: 0.0038, Accuracy: 9879/10000 (98.79%)\n",
            "Round 77/200\n",
            "Selected clients - [47, 59, 49, 25, 38, 6, 53, 30, 36, 96, 56, 62, 29, 10, 42, 68, 7, 0, 84, 52]\n"
          ]
        },
        {
          "output_type": "stream",
          "name": "stderr",
          "text": [
            "100%|██████████| 20/20 [00:10<00:00,  1.86it/s]\n"
          ]
        },
        {
          "output_type": "stream",
          "name": "stdout",
          "text": [
            "Test set: Average loss: 0.0047, Accuracy: 9839/10000 (98.39%)\n",
            "Round 78/200\n",
            "Selected clients - [32, 41, 25, 30, 24, 14, 37, 60, 71, 78, 18, 80, 84, 64, 0, 35, 3, 63, 22, 49]\n"
          ]
        },
        {
          "output_type": "stream",
          "name": "stderr",
          "text": [
            "100%|██████████| 20/20 [00:10<00:00,  1.86it/s]\n"
          ]
        },
        {
          "output_type": "stream",
          "name": "stdout",
          "text": [
            "Test set: Average loss: 0.0040, Accuracy: 9853/10000 (98.53%)\n",
            "Round 79/200\n",
            "Selected clients - [24, 12, 38, 85, 93, 32, 95, 54, 4, 83, 18, 51, 98, 84, 89, 60, 48, 69, 1, 30]\n"
          ]
        },
        {
          "output_type": "stream",
          "name": "stderr",
          "text": [
            "100%|██████████| 20/20 [00:10<00:00,  1.85it/s]\n"
          ]
        },
        {
          "output_type": "stream",
          "name": "stdout",
          "text": [
            "Test set: Average loss: 0.0040, Accuracy: 9865/10000 (98.65%)\n",
            "Round 80/200\n",
            "Selected clients - [18, 56, 44, 76, 20, 30, 31, 92, 88, 63, 19, 8, 3, 25, 14, 62, 91, 39, 22, 52]\n"
          ]
        },
        {
          "output_type": "stream",
          "name": "stderr",
          "text": [
            "100%|██████████| 20/20 [00:10<00:00,  1.84it/s]\n"
          ]
        },
        {
          "output_type": "stream",
          "name": "stdout",
          "text": [
            "Test set: Average loss: 0.0036, Accuracy: 9884/10000 (98.84%)\n",
            "Round 81/200\n",
            "Selected clients - [34, 50, 69, 90, 53, 47, 46, 68, 51, 3, 70, 97, 49, 28, 79, 6, 30, 21, 67, 72]\n"
          ]
        },
        {
          "output_type": "stream",
          "name": "stderr",
          "text": [
            "100%|██████████| 20/20 [00:11<00:00,  1.82it/s]\n"
          ]
        },
        {
          "output_type": "stream",
          "name": "stdout",
          "text": [
            "Test set: Average loss: 0.0037, Accuracy: 9879/10000 (98.79%)\n",
            "Round 82/200\n",
            "Selected clients - [64, 58, 43, 71, 68, 49, 61, 2, 20, 19, 57, 86, 97, 77, 0, 40, 36, 92, 45, 28]\n"
          ]
        },
        {
          "output_type": "stream",
          "name": "stderr",
          "text": [
            "100%|██████████| 20/20 [00:10<00:00,  1.84it/s]\n"
          ]
        },
        {
          "output_type": "stream",
          "name": "stdout",
          "text": [
            "Test set: Average loss: 0.0037, Accuracy: 9872/10000 (98.72%)\n",
            "Round 83/200\n",
            "Selected clients - [18, 98, 62, 64, 37, 22, 21, 87, 33, 20, 97, 4, 55, 60, 74, 12, 25, 39, 71, 17]\n"
          ]
        },
        {
          "output_type": "stream",
          "name": "stderr",
          "text": [
            "100%|██████████| 20/20 [00:10<00:00,  1.88it/s]\n"
          ]
        },
        {
          "output_type": "stream",
          "name": "stdout",
          "text": [
            "Test set: Average loss: 0.0046, Accuracy: 9840/10000 (98.40%)\n",
            "Round 84/200\n",
            "Selected clients - [63, 58, 11, 16, 48, 4, 6, 83, 27, 24, 22, 39, 10, 52, 19, 45, 38, 71, 25, 60]\n"
          ]
        },
        {
          "output_type": "stream",
          "name": "stderr",
          "text": [
            "100%|██████████| 20/20 [00:10<00:00,  1.87it/s]\n"
          ]
        },
        {
          "output_type": "stream",
          "name": "stdout",
          "text": [
            "Test set: Average loss: 0.0048, Accuracy: 9844/10000 (98.44%)\n",
            "Round 85/200\n",
            "Selected clients - [93, 36, 99, 4, 62, 0, 66, 84, 40, 25, 58, 63, 70, 96, 94, 46, 77, 19, 69, 91]\n"
          ]
        },
        {
          "output_type": "stream",
          "name": "stderr",
          "text": [
            "100%|██████████| 20/20 [00:10<00:00,  1.87it/s]\n"
          ]
        },
        {
          "output_type": "stream",
          "name": "stdout",
          "text": [
            "Test set: Average loss: 0.0041, Accuracy: 9869/10000 (98.69%)\n",
            "Round 86/200\n",
            "Selected clients - [25, 89, 78, 13, 41, 24, 28, 59, 99, 98, 44, 74, 87, 48, 68, 75, 76, 73, 77, 55]\n"
          ]
        },
        {
          "output_type": "stream",
          "name": "stderr",
          "text": [
            "100%|██████████| 20/20 [00:10<00:00,  1.84it/s]\n"
          ]
        },
        {
          "output_type": "stream",
          "name": "stdout",
          "text": [
            "Test set: Average loss: 0.0039, Accuracy: 9864/10000 (98.64%)\n",
            "Round 87/200\n",
            "Selected clients - [99, 3, 71, 40, 95, 1, 98, 8, 90, 64, 94, 80, 38, 92, 48, 13, 12, 52, 58, 0]\n"
          ]
        },
        {
          "output_type": "stream",
          "name": "stderr",
          "text": [
            "100%|██████████| 20/20 [00:10<00:00,  1.83it/s]\n"
          ]
        },
        {
          "output_type": "stream",
          "name": "stdout",
          "text": [
            "Test set: Average loss: 0.0040, Accuracy: 9856/10000 (98.56%)\n",
            "Round 88/200\n",
            "Selected clients - [18, 94, 24, 69, 13, 35, 96, 42, 82, 90, 41, 15, 46, 1, 49, 11, 63, 65, 78, 89]\n"
          ]
        },
        {
          "output_type": "stream",
          "name": "stderr",
          "text": [
            "100%|██████████| 20/20 [00:10<00:00,  1.83it/s]\n"
          ]
        },
        {
          "output_type": "stream",
          "name": "stdout",
          "text": [
            "Test set: Average loss: 0.0039, Accuracy: 9876/10000 (98.76%)\n",
            "Round 89/200\n",
            "Selected clients - [50, 24, 42, 23, 80, 1, 67, 98, 89, 43, 87, 59, 17, 28, 15, 88, 77, 22, 56, 52]\n"
          ]
        },
        {
          "output_type": "stream",
          "name": "stderr",
          "text": [
            "100%|██████████| 20/20 [00:10<00:00,  1.85it/s]\n"
          ]
        },
        {
          "output_type": "stream",
          "name": "stdout",
          "text": [
            "Test set: Average loss: 0.0035, Accuracy: 9870/10000 (98.70%)\n",
            "Round 90/200\n",
            "Selected clients - [10, 98, 77, 90, 33, 17, 44, 8, 19, 53, 42, 26, 38, 88, 87, 9, 73, 21, 59, 79]\n"
          ]
        },
        {
          "output_type": "stream",
          "name": "stderr",
          "text": [
            "100%|██████████| 20/20 [00:11<00:00,  1.82it/s]\n"
          ]
        },
        {
          "output_type": "stream",
          "name": "stdout",
          "text": [
            "Test set: Average loss: 0.0037, Accuracy: 9875/10000 (98.75%)\n",
            "Round 91/200\n",
            "Selected clients - [26, 91, 11, 61, 84, 73, 75, 39, 81, 45, 57, 33, 62, 34, 47, 9, 69, 93, 18, 5]\n"
          ]
        },
        {
          "output_type": "stream",
          "name": "stderr",
          "text": [
            "100%|██████████| 20/20 [00:10<00:00,  1.82it/s]\n"
          ]
        },
        {
          "output_type": "stream",
          "name": "stdout",
          "text": [
            "Test set: Average loss: 0.0040, Accuracy: 9866/10000 (98.66%)\n",
            "Round 92/200\n",
            "Selected clients - [10, 75, 22, 87, 86, 20, 51, 58, 95, 56, 59, 32, 31, 24, 77, 47, 62, 27, 49, 96]\n"
          ]
        },
        {
          "output_type": "stream",
          "name": "stderr",
          "text": [
            "100%|██████████| 20/20 [00:10<00:00,  1.84it/s]\n"
          ]
        },
        {
          "output_type": "stream",
          "name": "stdout",
          "text": [
            "Test set: Average loss: 0.0038, Accuracy: 9861/10000 (98.61%)\n",
            "Round 93/200\n",
            "Selected clients - [53, 66, 72, 70, 71, 75, 34, 86, 97, 12, 60, 20, 9, 73, 85, 80, 43, 7, 5, 3]\n"
          ]
        },
        {
          "output_type": "stream",
          "name": "stderr",
          "text": [
            "100%|██████████| 20/20 [00:10<00:00,  1.83it/s]\n"
          ]
        },
        {
          "output_type": "stream",
          "name": "stdout",
          "text": [
            "Test set: Average loss: 0.0041, Accuracy: 9851/10000 (98.51%)\n",
            "Round 94/200\n",
            "Selected clients - [63, 72, 92, 45, 14, 11, 18, 22, 50, 15, 20, 74, 4, 79, 70, 86, 47, 51, 83, 9]\n"
          ]
        },
        {
          "output_type": "stream",
          "name": "stderr",
          "text": [
            "100%|██████████| 20/20 [00:11<00:00,  1.82it/s]\n"
          ]
        },
        {
          "output_type": "stream",
          "name": "stdout",
          "text": [
            "Test set: Average loss: 0.0040, Accuracy: 9857/10000 (98.57%)\n",
            "Round 95/200\n",
            "Selected clients - [69, 23, 15, 35, 38, 55, 2, 87, 63, 47, 39, 54, 76, 68, 1, 95, 45, 58, 44, 27]\n"
          ]
        },
        {
          "output_type": "stream",
          "name": "stderr",
          "text": [
            "100%|██████████| 20/20 [00:10<00:00,  1.88it/s]\n"
          ]
        },
        {
          "output_type": "stream",
          "name": "stdout",
          "text": [
            "Test set: Average loss: 0.0038, Accuracy: 9873/10000 (98.73%)\n",
            "Round 96/200\n",
            "Selected clients - [97, 68, 65, 94, 69, 16, 63, 3, 17, 1, 76, 10, 80, 35, 24, 5, 72, 92, 67, 77]\n"
          ]
        },
        {
          "output_type": "stream",
          "name": "stderr",
          "text": [
            "100%|██████████| 20/20 [00:11<00:00,  1.82it/s]\n"
          ]
        },
        {
          "output_type": "stream",
          "name": "stdout",
          "text": [
            "Test set: Average loss: 0.0035, Accuracy: 9883/10000 (98.83%)\n",
            "Round 97/200\n",
            "Selected clients - [47, 40, 86, 50, 26, 12, 43, 97, 5, 89, 2, 21, 52, 82, 11, 32, 45, 35, 16, 64]\n"
          ]
        },
        {
          "output_type": "stream",
          "name": "stderr",
          "text": [
            "100%|██████████| 20/20 [00:10<00:00,  1.84it/s]\n"
          ]
        },
        {
          "output_type": "stream",
          "name": "stdout",
          "text": [
            "Test set: Average loss: 0.0034, Accuracy: 9889/10000 (98.89%)\n",
            "Round 98/200\n",
            "Selected clients - [24, 54, 47, 6, 73, 2, 71, 99, 5, 95, 34, 3, 9, 81, 56, 60, 86, 14, 40, 31]\n"
          ]
        },
        {
          "output_type": "stream",
          "name": "stderr",
          "text": [
            "100%|██████████| 20/20 [00:10<00:00,  1.82it/s]\n"
          ]
        },
        {
          "output_type": "stream",
          "name": "stdout",
          "text": [
            "Test set: Average loss: 0.0034, Accuracy: 9884/10000 (98.84%)\n",
            "Round 99/200\n",
            "Selected clients - [45, 73, 5, 53, 7, 60, 36, 93, 86, 71, 8, 63, 25, 50, 4, 83, 90, 97, 46, 0]\n"
          ]
        },
        {
          "output_type": "stream",
          "name": "stderr",
          "text": [
            "100%|██████████| 20/20 [00:11<00:00,  1.82it/s]\n"
          ]
        },
        {
          "output_type": "stream",
          "name": "stdout",
          "text": [
            "Test set: Average loss: 0.0034, Accuracy: 9884/10000 (98.84%)\n",
            "Round 100/200\n",
            "Selected clients - [51, 48, 25, 76, 22, 29, 31, 17, 97, 11, 32, 93, 49, 67, 87, 89, 68, 79, 62, 53]\n"
          ]
        },
        {
          "output_type": "stream",
          "name": "stderr",
          "text": [
            "100%|██████████| 20/20 [00:11<00:00,  1.82it/s]\n"
          ]
        },
        {
          "output_type": "stream",
          "name": "stdout",
          "text": [
            "Test set: Average loss: 0.0033, Accuracy: 9881/10000 (98.81%)\n",
            "Round 101/200\n",
            "Selected clients - [18, 58, 98, 22, 90, 50, 93, 44, 55, 64, 14, 68, 15, 10, 94, 33, 6, 84, 82, 26]\n"
          ]
        },
        {
          "output_type": "stream",
          "name": "stderr",
          "text": [
            "100%|██████████| 20/20 [00:10<00:00,  1.89it/s]\n"
          ]
        },
        {
          "output_type": "stream",
          "name": "stdout",
          "text": [
            "Test set: Average loss: 0.0036, Accuracy: 9875/10000 (98.75%)\n",
            "Round 102/200\n",
            "Selected clients - [74, 24, 69, 45, 59, 6, 84, 64, 27, 77, 28, 36, 62, 88, 42, 56, 9, 32, 20, 11]\n"
          ]
        },
        {
          "output_type": "stream",
          "name": "stderr",
          "text": [
            "100%|██████████| 20/20 [00:11<00:00,  1.81it/s]\n"
          ]
        },
        {
          "output_type": "stream",
          "name": "stdout",
          "text": [
            "Test set: Average loss: 0.0032, Accuracy: 9886/10000 (98.86%)\n",
            "Round 103/200\n",
            "Selected clients - [18, 86, 78, 45, 21, 70, 91, 84, 77, 23, 49, 37, 79, 54, 72, 74, 5, 92, 67, 69]\n"
          ]
        },
        {
          "output_type": "stream",
          "name": "stderr",
          "text": [
            "100%|██████████| 20/20 [00:10<00:00,  1.84it/s]\n"
          ]
        },
        {
          "output_type": "stream",
          "name": "stdout",
          "text": [
            "Test set: Average loss: 0.0033, Accuracy: 9889/10000 (98.89%)\n",
            "Round 104/200\n",
            "Selected clients - [91, 58, 92, 89, 94, 27, 88, 9, 77, 15, 83, 48, 59, 43, 86, 62, 10, 16, 28, 74]\n"
          ]
        },
        {
          "output_type": "stream",
          "name": "stderr",
          "text": [
            "100%|██████████| 20/20 [00:10<00:00,  1.84it/s]\n"
          ]
        },
        {
          "output_type": "stream",
          "name": "stdout",
          "text": [
            "Test set: Average loss: 0.0038, Accuracy: 9872/10000 (98.72%)\n",
            "Round 105/200\n",
            "Selected clients - [2, 25, 93, 98, 29, 50, 42, 0, 91, 16, 21, 13, 18, 15, 9, 83, 96, 47, 82, 7]\n"
          ]
        },
        {
          "output_type": "stream",
          "name": "stderr",
          "text": [
            "100%|██████████| 20/20 [00:10<00:00,  1.84it/s]\n"
          ]
        },
        {
          "output_type": "stream",
          "name": "stdout",
          "text": [
            "Test set: Average loss: 0.0035, Accuracy: 9887/10000 (98.87%)\n",
            "Round 106/200\n",
            "Selected clients - [75, 44, 74, 13, 0, 39, 67, 98, 73, 42, 37, 20, 21, 96, 18, 12, 84, 50, 55, 78]\n"
          ]
        },
        {
          "output_type": "stream",
          "name": "stderr",
          "text": [
            "100%|██████████| 20/20 [00:10<00:00,  1.86it/s]\n"
          ]
        },
        {
          "output_type": "stream",
          "name": "stdout",
          "text": [
            "Test set: Average loss: 0.0039, Accuracy: 9868/10000 (98.68%)\n",
            "Round 107/200\n",
            "Selected clients - [90, 61, 2, 71, 67, 60, 7, 33, 8, 24, 63, 46, 55, 57, 94, 83, 36, 88, 28, 95]\n"
          ]
        },
        {
          "output_type": "stream",
          "name": "stderr",
          "text": [
            "100%|██████████| 20/20 [00:10<00:00,  1.89it/s]\n"
          ]
        },
        {
          "output_type": "stream",
          "name": "stdout",
          "text": [
            "Test set: Average loss: 0.0037, Accuracy: 9872/10000 (98.72%)\n",
            "Round 108/200\n",
            "Selected clients - [31, 79, 74, 98, 93, 84, 54, 61, 97, 39, 17, 69, 96, 15, 32, 37, 76, 4, 90, 35]\n"
          ]
        },
        {
          "output_type": "stream",
          "name": "stderr",
          "text": [
            "100%|██████████| 20/20 [00:10<00:00,  1.85it/s]\n"
          ]
        },
        {
          "output_type": "stream",
          "name": "stdout",
          "text": [
            "Test set: Average loss: 0.0036, Accuracy: 9874/10000 (98.74%)\n",
            "Round 109/200\n",
            "Selected clients - [16, 91, 10, 84, 49, 93, 35, 48, 25, 38, 27, 23, 40, 24, 14, 71, 54, 13, 68, 41]\n"
          ]
        },
        {
          "output_type": "stream",
          "name": "stderr",
          "text": [
            "100%|██████████| 20/20 [00:10<00:00,  1.83it/s]\n"
          ]
        },
        {
          "output_type": "stream",
          "name": "stdout",
          "text": [
            "Test set: Average loss: 0.0036, Accuracy: 9876/10000 (98.76%)\n",
            "Round 110/200\n",
            "Selected clients - [35, 29, 58, 57, 70, 7, 12, 64, 63, 38, 72, 66, 10, 30, 54, 85, 21, 39, 93, 40]\n"
          ]
        },
        {
          "output_type": "stream",
          "name": "stderr",
          "text": [
            "100%|██████████| 20/20 [00:10<00:00,  1.85it/s]\n"
          ]
        },
        {
          "output_type": "stream",
          "name": "stdout",
          "text": [
            "Test set: Average loss: 0.0044, Accuracy: 9856/10000 (98.56%)\n",
            "Round 111/200\n",
            "Selected clients - [49, 76, 31, 52, 61, 91, 35, 81, 69, 88, 9, 53, 64, 40, 95, 5, 14, 65, 10, 19]\n"
          ]
        },
        {
          "output_type": "stream",
          "name": "stderr",
          "text": [
            "100%|██████████| 20/20 [00:10<00:00,  1.84it/s]\n"
          ]
        },
        {
          "output_type": "stream",
          "name": "stdout",
          "text": [
            "Test set: Average loss: 0.0033, Accuracy: 9885/10000 (98.85%)\n",
            "Round 112/200\n",
            "Selected clients - [27, 40, 63, 24, 50, 53, 78, 21, 80, 89, 71, 29, 23, 85, 59, 49, 91, 35, 48, 28]\n"
          ]
        },
        {
          "output_type": "stream",
          "name": "stderr",
          "text": [
            "100%|██████████| 20/20 [00:10<00:00,  1.85it/s]\n"
          ]
        },
        {
          "output_type": "stream",
          "name": "stdout",
          "text": [
            "Test set: Average loss: 0.0032, Accuracy: 9886/10000 (98.86%)\n",
            "Round 113/200\n",
            "Selected clients - [61, 85, 74, 79, 38, 89, 59, 53, 96, 84, 20, 46, 28, 67, 58, 3, 49, 76, 30, 93]\n"
          ]
        },
        {
          "output_type": "stream",
          "name": "stderr",
          "text": [
            "100%|██████████| 20/20 [00:10<00:00,  1.86it/s]\n"
          ]
        },
        {
          "output_type": "stream",
          "name": "stdout",
          "text": [
            "Test set: Average loss: 0.0032, Accuracy: 9887/10000 (98.87%)\n",
            "Round 114/200\n",
            "Selected clients - [3, 83, 92, 35, 2, 61, 70, 44, 30, 55, 8, 38, 16, 76, 63, 36, 43, 50, 24, 59]\n"
          ]
        },
        {
          "output_type": "stream",
          "name": "stderr",
          "text": [
            "100%|██████████| 20/20 [00:10<00:00,  1.87it/s]\n"
          ]
        },
        {
          "output_type": "stream",
          "name": "stdout",
          "text": [
            "Test set: Average loss: 0.0037, Accuracy: 9865/10000 (98.65%)\n",
            "Round 115/200\n",
            "Selected clients - [30, 72, 12, 43, 85, 31, 80, 79, 6, 19, 66, 67, 86, 37, 74, 8, 68, 47, 90, 13]\n"
          ]
        },
        {
          "output_type": "stream",
          "name": "stderr",
          "text": [
            "100%|██████████| 20/20 [00:10<00:00,  1.85it/s]\n"
          ]
        },
        {
          "output_type": "stream",
          "name": "stdout",
          "text": [
            "Test set: Average loss: 0.0036, Accuracy: 9872/10000 (98.72%)\n",
            "Round 116/200\n",
            "Selected clients - [36, 25, 99, 14, 68, 42, 96, 70, 37, 86, 81, 87, 43, 61, 7, 18, 19, 5, 22, 62]\n"
          ]
        },
        {
          "output_type": "stream",
          "name": "stderr",
          "text": [
            "100%|██████████| 20/20 [00:10<00:00,  1.84it/s]\n"
          ]
        },
        {
          "output_type": "stream",
          "name": "stdout",
          "text": [
            "Test set: Average loss: 0.0037, Accuracy: 9872/10000 (98.72%)\n",
            "Round 117/200\n",
            "Selected clients - [95, 76, 69, 92, 38, 1, 96, 82, 15, 94, 16, 61, 31, 35, 52, 74, 54, 73, 9, 57]\n"
          ]
        },
        {
          "output_type": "stream",
          "name": "stderr",
          "text": [
            "100%|██████████| 20/20 [00:10<00:00,  1.83it/s]\n"
          ]
        },
        {
          "output_type": "stream",
          "name": "stdout",
          "text": [
            "Test set: Average loss: 0.0036, Accuracy: 9875/10000 (98.75%)\n",
            "Round 118/200\n",
            "Selected clients - [30, 23, 21, 26, 51, 20, 71, 52, 89, 15, 91, 67, 72, 42, 44, 58, 83, 4, 16, 47]\n"
          ]
        },
        {
          "output_type": "stream",
          "name": "stderr",
          "text": [
            "100%|██████████| 20/20 [00:10<00:00,  1.82it/s]\n"
          ]
        },
        {
          "output_type": "stream",
          "name": "stdout",
          "text": [
            "Test set: Average loss: 0.0032, Accuracy: 9880/10000 (98.80%)\n",
            "Round 119/200\n",
            "Selected clients - [91, 80, 23, 39, 12, 89, 46, 37, 98, 2, 38, 42, 3, 77, 63, 65, 43, 72, 66, 18]\n"
          ]
        },
        {
          "output_type": "stream",
          "name": "stderr",
          "text": [
            "100%|██████████| 20/20 [00:10<00:00,  1.86it/s]\n"
          ]
        },
        {
          "output_type": "stream",
          "name": "stdout",
          "text": [
            "Test set: Average loss: 0.0035, Accuracy: 9877/10000 (98.77%)\n",
            "Round 120/200\n",
            "Selected clients - [36, 23, 94, 68, 85, 96, 70, 55, 13, 10, 54, 80, 31, 22, 32, 35, 26, 60, 74, 2]\n"
          ]
        },
        {
          "output_type": "stream",
          "name": "stderr",
          "text": [
            "100%|██████████| 20/20 [00:10<00:00,  1.88it/s]\n"
          ]
        },
        {
          "output_type": "stream",
          "name": "stdout",
          "text": [
            "Test set: Average loss: 0.0035, Accuracy: 9876/10000 (98.76%)\n",
            "Round 121/200\n",
            "Selected clients - [65, 31, 24, 81, 93, 75, 85, 59, 11, 40, 27, 28, 32, 92, 41, 47, 94, 20, 13, 90]\n"
          ]
        },
        {
          "output_type": "stream",
          "name": "stderr",
          "text": [
            "100%|██████████| 20/20 [00:10<00:00,  1.85it/s]\n"
          ]
        },
        {
          "output_type": "stream",
          "name": "stdout",
          "text": [
            "Test set: Average loss: 0.0035, Accuracy: 9868/10000 (98.68%)\n",
            "Round 122/200\n",
            "Selected clients - [11, 27, 74, 50, 80, 22, 78, 66, 42, 36, 23, 81, 54, 7, 86, 92, 77, 55, 16, 3]\n"
          ]
        },
        {
          "output_type": "stream",
          "name": "stderr",
          "text": [
            "100%|██████████| 20/20 [00:10<00:00,  1.83it/s]\n"
          ]
        },
        {
          "output_type": "stream",
          "name": "stdout",
          "text": [
            "Test set: Average loss: 0.0033, Accuracy: 9873/10000 (98.73%)\n",
            "Round 123/200\n",
            "Selected clients - [65, 27, 76, 38, 9, 93, 46, 97, 28, 58, 85, 75, 20, 13, 57, 91, 30, 71, 50, 48]\n"
          ]
        },
        {
          "output_type": "stream",
          "name": "stderr",
          "text": [
            "100%|██████████| 20/20 [00:10<00:00,  1.83it/s]\n"
          ]
        },
        {
          "output_type": "stream",
          "name": "stdout",
          "text": [
            "Test set: Average loss: 0.0033, Accuracy: 9876/10000 (98.76%)\n",
            "Round 124/200\n",
            "Selected clients - [6, 34, 11, 98, 52, 13, 4, 48, 68, 71, 42, 43, 20, 17, 89, 31, 0, 55, 99, 76]\n"
          ]
        },
        {
          "output_type": "stream",
          "name": "stderr",
          "text": [
            "100%|██████████| 20/20 [00:10<00:00,  1.83it/s]\n"
          ]
        },
        {
          "output_type": "stream",
          "name": "stdout",
          "text": [
            "Test set: Average loss: 0.0040, Accuracy: 9871/10000 (98.71%)\n",
            "Round 125/200\n",
            "Selected clients - [35, 70, 0, 22, 7, 53, 46, 4, 40, 21, 50, 39, 2, 69, 60, 78, 54, 29, 27, 12]\n"
          ]
        },
        {
          "output_type": "stream",
          "name": "stderr",
          "text": [
            "100%|██████████| 20/20 [00:10<00:00,  1.84it/s]\n"
          ]
        },
        {
          "output_type": "stream",
          "name": "stdout",
          "text": [
            "Test set: Average loss: 0.0033, Accuracy: 9875/10000 (98.75%)\n",
            "Round 126/200\n",
            "Selected clients - [31, 28, 76, 38, 72, 94, 23, 44, 19, 77, 39, 78, 80, 0, 9, 90, 81, 60, 64, 85]\n"
          ]
        },
        {
          "output_type": "stream",
          "name": "stderr",
          "text": [
            "100%|██████████| 20/20 [00:10<00:00,  1.90it/s]\n"
          ]
        },
        {
          "output_type": "stream",
          "name": "stdout",
          "text": [
            "Test set: Average loss: 0.0033, Accuracy: 9881/10000 (98.81%)\n",
            "Round 127/200\n",
            "Selected clients - [73, 7, 76, 58, 31, 82, 22, 60, 29, 20, 86, 17, 80, 62, 11, 94, 37, 68, 18, 45]\n"
          ]
        },
        {
          "output_type": "stream",
          "name": "stderr",
          "text": [
            "100%|██████████| 20/20 [00:10<00:00,  1.84it/s]\n"
          ]
        },
        {
          "output_type": "stream",
          "name": "stdout",
          "text": [
            "Test set: Average loss: 0.0036, Accuracy: 9878/10000 (98.78%)\n",
            "Round 128/200\n",
            "Selected clients - [5, 79, 74, 72, 12, 3, 34, 25, 52, 29, 38, 86, 85, 39, 48, 7, 40, 37, 68, 90]\n"
          ]
        },
        {
          "output_type": "stream",
          "name": "stderr",
          "text": [
            "100%|██████████| 20/20 [00:10<00:00,  1.82it/s]\n"
          ]
        },
        {
          "output_type": "stream",
          "name": "stdout",
          "text": [
            "Test set: Average loss: 0.0033, Accuracy: 9887/10000 (98.87%)\n",
            "Round 129/200\n",
            "Selected clients - [30, 51, 65, 46, 17, 61, 3, 19, 40, 81, 69, 32, 80, 85, 73, 91, 71, 38, 8, 99]\n"
          ]
        },
        {
          "output_type": "stream",
          "name": "stderr",
          "text": [
            "100%|██████████| 20/20 [00:10<00:00,  1.84it/s]\n"
          ]
        },
        {
          "output_type": "stream",
          "name": "stdout",
          "text": [
            "Test set: Average loss: 0.0039, Accuracy: 9867/10000 (98.67%)\n",
            "Round 130/200\n",
            "Selected clients - [75, 66, 34, 5, 88, 51, 80, 28, 42, 29, 14, 90, 70, 19, 17, 86, 35, 72, 61, 93]\n"
          ]
        },
        {
          "output_type": "stream",
          "name": "stderr",
          "text": [
            "100%|██████████| 20/20 [00:11<00:00,  1.82it/s]\n"
          ]
        },
        {
          "output_type": "stream",
          "name": "stdout",
          "text": [
            "Test set: Average loss: 0.0034, Accuracy: 9877/10000 (98.77%)\n",
            "Round 131/200\n",
            "Selected clients - [66, 54, 34, 94, 84, 56, 82, 58, 2, 45, 30, 74, 43, 28, 67, 85, 92, 13, 71, 87]\n"
          ]
        },
        {
          "output_type": "stream",
          "name": "stderr",
          "text": [
            "100%|██████████| 20/20 [00:10<00:00,  1.85it/s]\n"
          ]
        },
        {
          "output_type": "stream",
          "name": "stdout",
          "text": [
            "Test set: Average loss: 0.0031, Accuracy: 9889/10000 (98.89%)\n",
            "Round 132/200\n",
            "Selected clients - [40, 47, 98, 65, 11, 50, 36, 2, 49, 99, 15, 44, 72, 76, 12, 90, 21, 28, 89, 88]\n"
          ]
        },
        {
          "output_type": "stream",
          "name": "stderr",
          "text": [
            "100%|██████████| 20/20 [00:10<00:00,  1.89it/s]\n"
          ]
        },
        {
          "output_type": "stream",
          "name": "stdout",
          "text": [
            "Test set: Average loss: 0.0031, Accuracy: 9888/10000 (98.88%)\n",
            "Round 133/200\n",
            "Selected clients - [52, 19, 7, 21, 5, 39, 15, 99, 69, 3, 31, 57, 33, 25, 84, 73, 51, 88, 98, 63]\n"
          ]
        },
        {
          "output_type": "stream",
          "name": "stderr",
          "text": [
            "100%|██████████| 20/20 [00:10<00:00,  1.84it/s]\n"
          ]
        },
        {
          "output_type": "stream",
          "name": "stdout",
          "text": [
            "Test set: Average loss: 0.0033, Accuracy: 9888/10000 (98.88%)\n",
            "Round 134/200\n",
            "Selected clients - [63, 45, 61, 41, 98, 78, 43, 69, 88, 79, 94, 90, 4, 95, 10, 36, 84, 33, 27, 0]\n"
          ]
        },
        {
          "output_type": "stream",
          "name": "stderr",
          "text": [
            "100%|██████████| 20/20 [00:10<00:00,  1.83it/s]\n"
          ]
        },
        {
          "output_type": "stream",
          "name": "stdout",
          "text": [
            "Test set: Average loss: 0.0031, Accuracy: 9892/10000 (98.92%)\n",
            "Round 135/200\n",
            "Selected clients - [61, 66, 25, 92, 71, 95, 81, 16, 3, 83, 97, 62, 14, 49, 28, 31, 76, 69, 58, 13]\n"
          ]
        },
        {
          "output_type": "stream",
          "name": "stderr",
          "text": [
            "100%|██████████| 20/20 [00:10<00:00,  1.85it/s]\n"
          ]
        },
        {
          "output_type": "stream",
          "name": "stdout",
          "text": [
            "Test set: Average loss: 0.0034, Accuracy: 9879/10000 (98.79%)\n",
            "Round 136/200\n",
            "Selected clients - [85, 47, 80, 82, 74, 35, 62, 37, 90, 15, 57, 36, 1, 75, 19, 81, 33, 46, 44, 39]\n"
          ]
        },
        {
          "output_type": "stream",
          "name": "stderr",
          "text": [
            "100%|██████████| 20/20 [00:10<00:00,  1.84it/s]\n"
          ]
        },
        {
          "output_type": "stream",
          "name": "stdout",
          "text": [
            "Test set: Average loss: 0.0032, Accuracy: 9889/10000 (98.89%)\n",
            "Round 137/200\n",
            "Selected clients - [73, 54, 67, 7, 55, 63, 97, 25, 89, 17, 21, 81, 5, 20, 90, 77, 6, 24, 35, 79]\n"
          ]
        },
        {
          "output_type": "stream",
          "name": "stderr",
          "text": [
            "100%|██████████| 20/20 [00:10<00:00,  1.83it/s]\n"
          ]
        },
        {
          "output_type": "stream",
          "name": "stdout",
          "text": [
            "Test set: Average loss: 0.0030, Accuracy: 9900/10000 (99.00%)\n",
            "Round 138/200\n",
            "Selected clients - [9, 23, 52, 41, 24, 29, 62, 44, 1, 51, 65, 50, 67, 60, 17, 54, 66, 42, 0, 78]\n"
          ]
        },
        {
          "output_type": "stream",
          "name": "stderr",
          "text": [
            "100%|██████████| 20/20 [00:10<00:00,  1.89it/s]\n"
          ]
        },
        {
          "output_type": "stream",
          "name": "stdout",
          "text": [
            "Test set: Average loss: 0.0030, Accuracy: 9893/10000 (98.93%)\n",
            "Round 139/200\n",
            "Selected clients - [24, 48, 57, 89, 38, 26, 66, 34, 31, 23, 18, 56, 21, 43, 95, 91, 98, 10, 62, 69]\n"
          ]
        },
        {
          "output_type": "stream",
          "name": "stderr",
          "text": [
            "100%|██████████| 20/20 [00:10<00:00,  1.86it/s]\n"
          ]
        },
        {
          "output_type": "stream",
          "name": "stdout",
          "text": [
            "Test set: Average loss: 0.0032, Accuracy: 9890/10000 (98.90%)\n",
            "Round 140/200\n",
            "Selected clients - [0, 88, 78, 68, 77, 84, 38, 95, 70, 67, 43, 97, 35, 44, 74, 96, 19, 34, 29, 72]\n"
          ]
        },
        {
          "output_type": "stream",
          "name": "stderr",
          "text": [
            "100%|██████████| 20/20 [00:10<00:00,  1.84it/s]\n"
          ]
        },
        {
          "output_type": "stream",
          "name": "stdout",
          "text": [
            "Test set: Average loss: 0.0032, Accuracy: 9891/10000 (98.91%)\n",
            "Round 141/200\n",
            "Selected clients - [98, 12, 3, 34, 2, 68, 93, 6, 86, 92, 28, 1, 65, 24, 90, 48, 81, 49, 39, 22]\n"
          ]
        },
        {
          "output_type": "stream",
          "name": "stderr",
          "text": [
            "100%|██████████| 20/20 [00:10<00:00,  1.83it/s]\n"
          ]
        },
        {
          "output_type": "stream",
          "name": "stdout",
          "text": [
            "Test set: Average loss: 0.0031, Accuracy: 9891/10000 (98.91%)\n",
            "Round 142/200\n",
            "Selected clients - [66, 99, 3, 74, 60, 22, 73, 89, 59, 0, 34, 83, 71, 1, 87, 43, 52, 30, 65, 44]\n"
          ]
        },
        {
          "output_type": "stream",
          "name": "stderr",
          "text": [
            "100%|██████████| 20/20 [00:10<00:00,  1.82it/s]\n"
          ]
        },
        {
          "output_type": "stream",
          "name": "stdout",
          "text": [
            "Test set: Average loss: 0.0031, Accuracy: 9889/10000 (98.89%)\n",
            "Round 143/200\n",
            "Selected clients - [74, 88, 87, 81, 62, 21, 36, 44, 45, 33, 4, 12, 37, 73, 71, 26, 77, 68, 60, 31]\n"
          ]
        },
        {
          "output_type": "stream",
          "name": "stderr",
          "text": [
            "100%|██████████| 20/20 [00:10<00:00,  1.82it/s]\n"
          ]
        },
        {
          "output_type": "stream",
          "name": "stdout",
          "text": [
            "Test set: Average loss: 0.0032, Accuracy: 9888/10000 (98.88%)\n",
            "Round 144/200\n",
            "Selected clients - [23, 5, 2, 28, 18, 31, 10, 93, 52, 63, 17, 73, 16, 97, 11, 75, 37, 55, 12, 35]\n"
          ]
        },
        {
          "output_type": "stream",
          "name": "stderr",
          "text": [
            "100%|██████████| 20/20 [00:10<00:00,  1.86it/s]\n"
          ]
        },
        {
          "output_type": "stream",
          "name": "stdout",
          "text": [
            "Test set: Average loss: 0.0029, Accuracy: 9897/10000 (98.97%)\n",
            "Round 145/200\n",
            "Selected clients - [57, 4, 58, 10, 92, 21, 50, 11, 84, 52, 63, 75, 30, 59, 87, 17, 28, 53, 15, 64]\n"
          ]
        },
        {
          "output_type": "stream",
          "name": "stderr",
          "text": [
            "100%|██████████| 20/20 [00:10<00:00,  1.87it/s]\n"
          ]
        },
        {
          "output_type": "stream",
          "name": "stdout",
          "text": [
            "Test set: Average loss: 0.0033, Accuracy: 9888/10000 (98.88%)\n",
            "Round 146/200\n",
            "Selected clients - [96, 54, 66, 0, 56, 3, 84, 41, 93, 83, 87, 92, 60, 72, 65, 35, 14, 33, 23, 7]\n"
          ]
        },
        {
          "output_type": "stream",
          "name": "stderr",
          "text": [
            "100%|██████████| 20/20 [00:10<00:00,  1.82it/s]\n"
          ]
        },
        {
          "output_type": "stream",
          "name": "stdout",
          "text": [
            "Test set: Average loss: 0.0031, Accuracy: 9897/10000 (98.97%)\n",
            "Round 147/200\n",
            "Selected clients - [17, 79, 42, 98, 8, 20, 72, 36, 10, 44, 5, 27, 84, 52, 39, 68, 90, 54, 19, 9]\n"
          ]
        },
        {
          "output_type": "stream",
          "name": "stderr",
          "text": [
            "100%|██████████| 20/20 [00:10<00:00,  1.82it/s]\n"
          ]
        },
        {
          "output_type": "stream",
          "name": "stdout",
          "text": [
            "Test set: Average loss: 0.0030, Accuracy: 9898/10000 (98.98%)\n",
            "Round 148/200\n",
            "Selected clients - [77, 82, 19, 50, 56, 78, 57, 23, 80, 94, 39, 53, 58, 91, 13, 59, 45, 8, 44, 43]\n"
          ]
        },
        {
          "output_type": "stream",
          "name": "stderr",
          "text": [
            "100%|██████████| 20/20 [00:10<00:00,  1.85it/s]\n"
          ]
        },
        {
          "output_type": "stream",
          "name": "stdout",
          "text": [
            "Test set: Average loss: 0.0028, Accuracy: 9902/10000 (99.02%)\n",
            "Round 149/200\n",
            "Selected clients - [51, 89, 81, 4, 86, 44, 36, 34, 13, 24, 63, 80, 9, 32, 68, 84, 73, 28, 53, 40]\n"
          ]
        },
        {
          "output_type": "stream",
          "name": "stderr",
          "text": [
            "100%|██████████| 20/20 [00:10<00:00,  1.85it/s]\n"
          ]
        },
        {
          "output_type": "stream",
          "name": "stdout",
          "text": [
            "Test set: Average loss: 0.0029, Accuracy: 9905/10000 (99.05%)\n",
            "Round 150/200\n",
            "Selected clients - [9, 12, 32, 48, 17, 7, 2, 22, 73, 5, 51, 6, 38, 24, 63, 8, 49, 11, 20, 4]\n"
          ]
        },
        {
          "output_type": "stream",
          "name": "stderr",
          "text": [
            "100%|██████████| 20/20 [00:10<00:00,  1.85it/s]\n"
          ]
        },
        {
          "output_type": "stream",
          "name": "stdout",
          "text": [
            "Test set: Average loss: 0.0032, Accuracy: 9885/10000 (98.85%)\n",
            "Round 151/200\n",
            "Selected clients - [41, 51, 24, 29, 38, 61, 18, 20, 53, 11, 95, 37, 42, 36, 94, 56, 96, 50, 6, 17]\n"
          ]
        },
        {
          "output_type": "stream",
          "name": "stderr",
          "text": [
            "100%|██████████| 20/20 [00:10<00:00,  1.89it/s]\n"
          ]
        },
        {
          "output_type": "stream",
          "name": "stdout",
          "text": [
            "Test set: Average loss: 0.0029, Accuracy: 9896/10000 (98.96%)\n",
            "Round 152/200\n",
            "Selected clients - [90, 52, 91, 80, 92, 26, 45, 36, 47, 73, 14, 59, 62, 9, 58, 13, 51, 93, 85, 23]\n"
          ]
        },
        {
          "output_type": "stream",
          "name": "stderr",
          "text": [
            "100%|██████████| 20/20 [00:10<00:00,  1.83it/s]\n"
          ]
        },
        {
          "output_type": "stream",
          "name": "stdout",
          "text": [
            "Test set: Average loss: 0.0028, Accuracy: 9893/10000 (98.93%)\n",
            "Round 153/200\n",
            "Selected clients - [96, 50, 80, 18, 48, 25, 11, 79, 2, 15, 14, 3, 44, 97, 62, 77, 22, 58, 31, 30]\n"
          ]
        },
        {
          "output_type": "stream",
          "name": "stderr",
          "text": [
            "100%|██████████| 20/20 [00:10<00:00,  1.84it/s]\n"
          ]
        },
        {
          "output_type": "stream",
          "name": "stdout",
          "text": [
            "Test set: Average loss: 0.0030, Accuracy: 9887/10000 (98.87%)\n",
            "Round 154/200\n",
            "Selected clients - [62, 9, 4, 33, 90, 53, 74, 72, 76, 71, 40, 54, 31, 65, 84, 26, 98, 28, 77, 83]\n"
          ]
        },
        {
          "output_type": "stream",
          "name": "stderr",
          "text": [
            "100%|██████████| 20/20 [00:10<00:00,  1.86it/s]\n"
          ]
        },
        {
          "output_type": "stream",
          "name": "stdout",
          "text": [
            "Test set: Average loss: 0.0030, Accuracy: 9897/10000 (98.97%)\n",
            "Round 155/200\n",
            "Selected clients - [26, 48, 62, 56, 65, 0, 57, 33, 50, 54, 83, 81, 74, 88, 6, 90, 97, 67, 7, 49]\n"
          ]
        },
        {
          "output_type": "stream",
          "name": "stderr",
          "text": [
            "100%|██████████| 20/20 [00:10<00:00,  1.84it/s]\n"
          ]
        },
        {
          "output_type": "stream",
          "name": "stdout",
          "text": [
            "Test set: Average loss: 0.0032, Accuracy: 9892/10000 (98.92%)\n",
            "Round 156/200\n",
            "Selected clients - [74, 64, 69, 36, 87, 99, 53, 68, 35, 24, 83, 7, 73, 3, 67, 11, 22, 30, 81, 12]\n"
          ]
        },
        {
          "output_type": "stream",
          "name": "stderr",
          "text": [
            "100%|██████████| 20/20 [00:10<00:00,  1.82it/s]\n"
          ]
        },
        {
          "output_type": "stream",
          "name": "stdout",
          "text": [
            "Test set: Average loss: 0.0029, Accuracy: 9896/10000 (98.96%)\n",
            "Round 157/200\n",
            "Selected clients - [62, 53, 94, 31, 98, 45, 19, 28, 20, 17, 95, 71, 57, 48, 42, 10, 1, 56, 4, 68]\n"
          ]
        },
        {
          "output_type": "stream",
          "name": "stderr",
          "text": [
            "100%|██████████| 20/20 [00:10<00:00,  1.91it/s]\n"
          ]
        },
        {
          "output_type": "stream",
          "name": "stdout",
          "text": [
            "Test set: Average loss: 0.0031, Accuracy: 9891/10000 (98.91%)\n",
            "Round 158/200\n",
            "Selected clients - [78, 62, 28, 20, 2, 3, 44, 29, 40, 17, 11, 22, 94, 13, 14, 88, 92, 50, 52, 48]\n"
          ]
        },
        {
          "output_type": "stream",
          "name": "stderr",
          "text": [
            "100%|██████████| 20/20 [00:10<00:00,  1.87it/s]\n"
          ]
        },
        {
          "output_type": "stream",
          "name": "stdout",
          "text": [
            "Test set: Average loss: 0.0030, Accuracy: 9894/10000 (98.94%)\n",
            "Round 159/200\n",
            "Selected clients - [87, 28, 13, 7, 53, 72, 98, 42, 97, 81, 59, 5, 8, 14, 0, 71, 36, 6, 10, 77]\n"
          ]
        },
        {
          "output_type": "stream",
          "name": "stderr",
          "text": [
            "100%|██████████| 20/20 [00:10<00:00,  1.85it/s]\n"
          ]
        },
        {
          "output_type": "stream",
          "name": "stdout",
          "text": [
            "Test set: Average loss: 0.0031, Accuracy: 9892/10000 (98.92%)\n",
            "Round 160/200\n",
            "Selected clients - [50, 21, 86, 57, 31, 66, 25, 79, 24, 2, 96, 91, 62, 48, 4, 34, 85, 49, 28, 60]\n"
          ]
        },
        {
          "output_type": "stream",
          "name": "stderr",
          "text": [
            "100%|██████████| 20/20 [00:10<00:00,  1.83it/s]\n"
          ]
        },
        {
          "output_type": "stream",
          "name": "stdout",
          "text": [
            "Test set: Average loss: 0.0036, Accuracy: 9872/10000 (98.72%)\n",
            "Round 161/200\n",
            "Selected clients - [15, 64, 43, 51, 22, 75, 44, 91, 66, 63, 68, 27, 94, 54, 60, 1, 35, 42, 6, 29]\n"
          ]
        },
        {
          "output_type": "stream",
          "name": "stderr",
          "text": [
            "100%|██████████| 20/20 [00:10<00:00,  1.82it/s]\n"
          ]
        },
        {
          "output_type": "stream",
          "name": "stdout",
          "text": [
            "Test set: Average loss: 0.0030, Accuracy: 9895/10000 (98.95%)\n",
            "Round 162/200\n",
            "Selected clients - [66, 26, 70, 21, 29, 81, 75, 61, 4, 96, 89, 93, 62, 6, 58, 90, 7, 79, 9, 76]\n"
          ]
        },
        {
          "output_type": "stream",
          "name": "stderr",
          "text": [
            "100%|██████████| 20/20 [00:10<00:00,  1.84it/s]\n"
          ]
        },
        {
          "output_type": "stream",
          "name": "stdout",
          "text": [
            "Test set: Average loss: 0.0030, Accuracy: 9892/10000 (98.92%)\n",
            "Round 163/200\n",
            "Selected clients - [6, 88, 80, 26, 64, 25, 52, 63, 98, 78, 37, 57, 58, 3, 23, 15, 53, 40, 82, 71]\n"
          ]
        },
        {
          "output_type": "stream",
          "name": "stderr",
          "text": [
            "100%|██████████| 20/20 [00:10<00:00,  1.87it/s]\n"
          ]
        },
        {
          "output_type": "stream",
          "name": "stdout",
          "text": [
            "Test set: Average loss: 0.0031, Accuracy: 9895/10000 (98.95%)\n",
            "Round 164/200\n",
            "Selected clients - [69, 79, 58, 74, 22, 63, 36, 27, 45, 26, 46, 17, 18, 78, 7, 88, 8, 43, 19, 93]\n"
          ]
        },
        {
          "output_type": "stream",
          "name": "stderr",
          "text": [
            "100%|██████████| 20/20 [00:10<00:00,  1.83it/s]\n"
          ]
        },
        {
          "output_type": "stream",
          "name": "stdout",
          "text": [
            "Test set: Average loss: 0.0031, Accuracy: 9892/10000 (98.92%)\n",
            "Round 165/200\n",
            "Selected clients - [12, 94, 38, 32, 59, 62, 77, 49, 15, 10, 53, 50, 0, 75, 24, 19, 39, 40, 82, 14]\n"
          ]
        },
        {
          "output_type": "stream",
          "name": "stderr",
          "text": [
            "100%|██████████| 20/20 [00:11<00:00,  1.79it/s]\n"
          ]
        },
        {
          "output_type": "stream",
          "name": "stdout",
          "text": [
            "Test set: Average loss: 0.0030, Accuracy: 9899/10000 (98.99%)\n",
            "Round 166/200\n",
            "Selected clients - [2, 7, 91, 55, 9, 63, 29, 22, 54, 86, 40, 74, 61, 25, 8, 53, 87, 16, 77, 52]\n"
          ]
        },
        {
          "output_type": "stream",
          "name": "stderr",
          "text": [
            "100%|██████████| 20/20 [00:11<00:00,  1.80it/s]\n"
          ]
        },
        {
          "output_type": "stream",
          "name": "stdout",
          "text": [
            "Test set: Average loss: 0.0032, Accuracy: 9883/10000 (98.83%)\n",
            "Round 167/200\n",
            "Selected clients - [22, 80, 77, 52, 54, 1, 41, 4, 62, 95, 72, 47, 37, 86, 25, 21, 94, 63, 12, 24]\n"
          ]
        },
        {
          "output_type": "stream",
          "name": "stderr",
          "text": [
            "100%|██████████| 20/20 [00:11<00:00,  1.79it/s]\n"
          ]
        },
        {
          "output_type": "stream",
          "name": "stdout",
          "text": [
            "Test set: Average loss: 0.0033, Accuracy: 9886/10000 (98.86%)\n",
            "Round 168/200\n",
            "Selected clients - [29, 11, 42, 54, 41, 98, 94, 92, 10, 95, 66, 0, 55, 78, 96, 63, 31, 7, 90, 14]\n"
          ]
        },
        {
          "output_type": "stream",
          "name": "stderr",
          "text": [
            "100%|██████████| 20/20 [00:10<00:00,  1.84it/s]\n"
          ]
        },
        {
          "output_type": "stream",
          "name": "stdout",
          "text": [
            "Test set: Average loss: 0.0031, Accuracy: 9893/10000 (98.93%)\n",
            "Round 169/200\n",
            "Selected clients - [95, 14, 66, 47, 48, 23, 28, 68, 24, 25, 69, 65, 96, 63, 77, 27, 78, 85, 49, 53]\n"
          ]
        },
        {
          "output_type": "stream",
          "name": "stderr",
          "text": [
            "100%|██████████| 20/20 [00:10<00:00,  1.88it/s]\n"
          ]
        },
        {
          "output_type": "stream",
          "name": "stdout",
          "text": [
            "Test set: Average loss: 0.0035, Accuracy: 9884/10000 (98.84%)\n",
            "Round 170/200\n",
            "Selected clients - [32, 66, 79, 22, 71, 65, 15, 67, 44, 96, 68, 34, 60, 72, 26, 9, 77, 0, 16, 89]\n"
          ]
        },
        {
          "output_type": "stream",
          "name": "stderr",
          "text": [
            "100%|██████████| 20/20 [00:10<00:00,  1.88it/s]\n"
          ]
        },
        {
          "output_type": "stream",
          "name": "stdout",
          "text": [
            "Test set: Average loss: 0.0032, Accuracy: 9890/10000 (98.90%)\n",
            "Round 171/200\n",
            "Selected clients - [44, 75, 40, 11, 31, 41, 33, 74, 15, 27, 1, 49, 64, 38, 73, 63, 66, 0, 23, 58]\n"
          ]
        },
        {
          "output_type": "stream",
          "name": "stderr",
          "text": [
            "100%|██████████| 20/20 [00:10<00:00,  1.84it/s]\n"
          ]
        },
        {
          "output_type": "stream",
          "name": "stdout",
          "text": [
            "Test set: Average loss: 0.0033, Accuracy: 9894/10000 (98.94%)\n",
            "Round 172/200\n",
            "Selected clients - [71, 49, 52, 15, 75, 59, 86, 22, 48, 39, 41, 23, 17, 97, 29, 18, 79, 31, 24, 13]\n"
          ]
        },
        {
          "output_type": "stream",
          "name": "stderr",
          "text": [
            "100%|██████████| 20/20 [00:10<00:00,  1.84it/s]\n"
          ]
        },
        {
          "output_type": "stream",
          "name": "stdout",
          "text": [
            "Test set: Average loss: 0.0030, Accuracy: 9890/10000 (98.90%)\n",
            "Round 173/200\n",
            "Selected clients - [45, 24, 27, 38, 94, 6, 50, 59, 71, 56, 26, 73, 89, 12, 54, 0, 67, 17, 28, 34]\n"
          ]
        },
        {
          "output_type": "stream",
          "name": "stderr",
          "text": [
            "100%|██████████| 20/20 [00:10<00:00,  1.85it/s]\n"
          ]
        },
        {
          "output_type": "stream",
          "name": "stdout",
          "text": [
            "Test set: Average loss: 0.0029, Accuracy: 9907/10000 (99.07%)\n",
            "Round 174/200\n",
            "Selected clients - [41, 62, 85, 99, 92, 65, 76, 46, 31, 52, 91, 0, 44, 89, 19, 94, 57, 58, 80, 87]\n"
          ]
        },
        {
          "output_type": "stream",
          "name": "stderr",
          "text": [
            "100%|██████████| 20/20 [00:10<00:00,  1.85it/s]\n"
          ]
        },
        {
          "output_type": "stream",
          "name": "stdout",
          "text": [
            "Test set: Average loss: 0.0031, Accuracy: 9892/10000 (98.92%)\n",
            "Round 175/200\n",
            "Selected clients - [0, 56, 3, 63, 46, 8, 28, 30, 13, 95, 43, 55, 83, 47, 86, 72, 11, 87, 41, 89]\n"
          ]
        },
        {
          "output_type": "stream",
          "name": "stderr",
          "text": [
            "100%|██████████| 20/20 [00:10<00:00,  1.83it/s]\n"
          ]
        },
        {
          "output_type": "stream",
          "name": "stdout",
          "text": [
            "Test set: Average loss: 0.0029, Accuracy: 9897/10000 (98.97%)\n",
            "Round 176/200\n",
            "Selected clients - [56, 30, 6, 92, 73, 88, 64, 24, 32, 76, 9, 63, 65, 62, 58, 99, 4, 35, 96, 95]\n"
          ]
        },
        {
          "output_type": "stream",
          "name": "stderr",
          "text": [
            "100%|██████████| 20/20 [00:10<00:00,  1.92it/s]\n"
          ]
        },
        {
          "output_type": "stream",
          "name": "stdout",
          "text": [
            "Test set: Average loss: 0.0029, Accuracy: 9903/10000 (99.03%)\n",
            "Round 177/200\n",
            "Selected clients - [3, 7, 98, 28, 99, 14, 49, 81, 40, 80, 83, 73, 61, 12, 0, 39, 78, 45, 60, 33]\n"
          ]
        },
        {
          "output_type": "stream",
          "name": "stderr",
          "text": [
            "100%|██████████| 20/20 [00:10<00:00,  1.84it/s]\n"
          ]
        },
        {
          "output_type": "stream",
          "name": "stdout",
          "text": [
            "Test set: Average loss: 0.0029, Accuracy: 9898/10000 (98.98%)\n",
            "Round 178/200\n",
            "Selected clients - [27, 63, 53, 74, 24, 90, 51, 5, 54, 82, 76, 93, 38, 94, 35, 11, 15, 13, 70, 88]\n"
          ]
        },
        {
          "output_type": "stream",
          "name": "stderr",
          "text": [
            "100%|██████████| 20/20 [00:10<00:00,  1.87it/s]\n"
          ]
        },
        {
          "output_type": "stream",
          "name": "stdout",
          "text": [
            "Test set: Average loss: 0.0032, Accuracy: 9899/10000 (98.99%)\n",
            "Round 179/200\n",
            "Selected clients - [14, 71, 59, 82, 30, 96, 43, 93, 61, 36, 23, 10, 57, 99, 70, 28, 35, 98, 21, 66]\n"
          ]
        },
        {
          "output_type": "stream",
          "name": "stderr",
          "text": [
            "100%|██████████| 20/20 [00:10<00:00,  1.84it/s]\n"
          ]
        },
        {
          "output_type": "stream",
          "name": "stdout",
          "text": [
            "Test set: Average loss: 0.0035, Accuracy: 9881/10000 (98.81%)\n",
            "Round 180/200\n",
            "Selected clients - [25, 15, 8, 7, 66, 38, 56, 6, 74, 32, 28, 72, 31, 40, 70, 63, 93, 16, 42, 20]\n"
          ]
        },
        {
          "output_type": "stream",
          "name": "stderr",
          "text": [
            "100%|██████████| 20/20 [00:10<00:00,  1.84it/s]\n"
          ]
        },
        {
          "output_type": "stream",
          "name": "stdout",
          "text": [
            "Test set: Average loss: 0.0032, Accuracy: 9895/10000 (98.95%)\n",
            "Round 181/200\n",
            "Selected clients - [18, 10, 86, 1, 79, 33, 15, 75, 64, 57, 31, 76, 4, 17, 0, 83, 3, 24, 14, 23]\n"
          ]
        },
        {
          "output_type": "stream",
          "name": "stderr",
          "text": [
            "100%|██████████| 20/20 [00:10<00:00,  1.83it/s]\n"
          ]
        },
        {
          "output_type": "stream",
          "name": "stdout",
          "text": [
            "Test set: Average loss: 0.0031, Accuracy: 9893/10000 (98.93%)\n",
            "Round 182/200\n",
            "Selected clients - [74, 89, 13, 7, 42, 43, 24, 96, 39, 29, 57, 58, 95, 31, 8, 28, 3, 98, 46, 35]\n"
          ]
        },
        {
          "output_type": "stream",
          "name": "stderr",
          "text": [
            "100%|██████████| 20/20 [00:10<00:00,  1.88it/s]\n"
          ]
        },
        {
          "output_type": "stream",
          "name": "stdout",
          "text": [
            "Test set: Average loss: 0.0030, Accuracy: 9891/10000 (98.91%)\n",
            "Round 183/200\n",
            "Selected clients - [57, 45, 29, 40, 44, 36, 9, 91, 34, 4, 80, 64, 59, 88, 35, 11, 27, 47, 97, 3]\n"
          ]
        },
        {
          "output_type": "stream",
          "name": "stderr",
          "text": [
            "100%|██████████| 20/20 [00:11<00:00,  1.80it/s]\n"
          ]
        },
        {
          "output_type": "stream",
          "name": "stdout",
          "text": [
            "Test set: Average loss: 0.0030, Accuracy: 9894/10000 (98.94%)\n",
            "Round 184/200\n",
            "Selected clients - [13, 11, 95, 0, 45, 38, 28, 66, 1, 82, 4, 9, 54, 79, 75, 89, 81, 29, 68, 91]\n"
          ]
        },
        {
          "output_type": "stream",
          "name": "stderr",
          "text": [
            "100%|██████████| 20/20 [00:11<00:00,  1.80it/s]\n"
          ]
        },
        {
          "output_type": "stream",
          "name": "stdout",
          "text": [
            "Test set: Average loss: 0.0029, Accuracy: 9900/10000 (99.00%)\n",
            "Round 185/200\n",
            "Selected clients - [35, 0, 30, 88, 89, 41, 42, 43, 92, 79, 68, 26, 57, 74, 85, 1, 16, 65, 22, 45]\n"
          ]
        },
        {
          "output_type": "stream",
          "name": "stderr",
          "text": [
            "100%|██████████| 20/20 [00:11<00:00,  1.81it/s]\n"
          ]
        },
        {
          "output_type": "stream",
          "name": "stdout",
          "text": [
            "Test set: Average loss: 0.0028, Accuracy: 9901/10000 (99.01%)\n",
            "Round 186/200\n",
            "Selected clients - [14, 19, 38, 75, 62, 60, 95, 51, 22, 0, 74, 99, 30, 90, 33, 55, 68, 3, 81, 26]\n"
          ]
        },
        {
          "output_type": "stream",
          "name": "stderr",
          "text": [
            "100%|██████████| 20/20 [00:11<00:00,  1.79it/s]\n"
          ]
        },
        {
          "output_type": "stream",
          "name": "stdout",
          "text": [
            "Test set: Average loss: 0.0028, Accuracy: 9900/10000 (99.00%)\n",
            "Round 187/200\n",
            "Selected clients - [43, 84, 53, 70, 98, 57, 13, 60, 87, 15, 0, 25, 71, 56, 44, 5, 50, 86, 58, 17]\n"
          ]
        },
        {
          "output_type": "stream",
          "name": "stderr",
          "text": [
            "100%|██████████| 20/20 [00:11<00:00,  1.81it/s]\n"
          ]
        },
        {
          "output_type": "stream",
          "name": "stdout",
          "text": [
            "Test set: Average loss: 0.0027, Accuracy: 9901/10000 (99.01%)\n",
            "Round 188/200\n",
            "Selected clients - [44, 60, 75, 19, 74, 3, 70, 31, 63, 94, 90, 58, 96, 21, 57, 28, 42, 30, 32, 79]\n"
          ]
        },
        {
          "output_type": "stream",
          "name": "stderr",
          "text": [
            "100%|██████████| 20/20 [00:10<00:00,  1.88it/s]\n"
          ]
        },
        {
          "output_type": "stream",
          "name": "stdout",
          "text": [
            "Test set: Average loss: 0.0029, Accuracy: 9894/10000 (98.94%)\n",
            "Round 189/200\n",
            "Selected clients - [90, 28, 33, 0, 30, 9, 88, 34, 50, 44, 38, 14, 13, 3, 65, 91, 63, 60, 31, 5]\n"
          ]
        },
        {
          "output_type": "stream",
          "name": "stderr",
          "text": [
            "100%|██████████| 20/20 [00:10<00:00,  1.83it/s]\n"
          ]
        },
        {
          "output_type": "stream",
          "name": "stdout",
          "text": [
            "Test set: Average loss: 0.0031, Accuracy: 9897/10000 (98.97%)\n",
            "Round 190/200\n",
            "Selected clients - [61, 95, 35, 18, 73, 70, 14, 51, 94, 0, 67, 1, 87, 4, 25, 39, 37, 89, 12, 74]\n"
          ]
        },
        {
          "output_type": "stream",
          "name": "stderr",
          "text": [
            "100%|██████████| 20/20 [00:10<00:00,  1.85it/s]\n"
          ]
        },
        {
          "output_type": "stream",
          "name": "stdout",
          "text": [
            "Test set: Average loss: 0.0030, Accuracy: 9894/10000 (98.94%)\n",
            "Round 191/200\n",
            "Selected clients - [9, 21, 96, 42, 47, 26, 28, 60, 50, 19, 10, 90, 67, 7, 75, 68, 8, 66, 95, 45]\n"
          ]
        },
        {
          "output_type": "stream",
          "name": "stderr",
          "text": [
            "100%|██████████| 20/20 [00:10<00:00,  1.85it/s]\n"
          ]
        },
        {
          "output_type": "stream",
          "name": "stdout",
          "text": [
            "Test set: Average loss: 0.0031, Accuracy: 9892/10000 (98.92%)\n",
            "Round 192/200\n",
            "Selected clients - [97, 67, 70, 65, 64, 18, 98, 51, 81, 89, 61, 7, 78, 14, 6, 46, 54, 47, 92, 10]\n"
          ]
        },
        {
          "output_type": "stream",
          "name": "stderr",
          "text": [
            "100%|██████████| 20/20 [00:10<00:00,  1.84it/s]\n"
          ]
        },
        {
          "output_type": "stream",
          "name": "stdout",
          "text": [
            "Test set: Average loss: 0.0028, Accuracy: 9904/10000 (99.04%)\n",
            "Round 193/200\n",
            "Selected clients - [47, 38, 11, 59, 39, 54, 42, 35, 87, 29, 23, 98, 16, 50, 92, 21, 34, 58, 25, 82]\n"
          ]
        },
        {
          "output_type": "stream",
          "name": "stderr",
          "text": [
            "100%|██████████| 20/20 [00:10<00:00,  1.85it/s]\n"
          ]
        },
        {
          "output_type": "stream",
          "name": "stdout",
          "text": [
            "Test set: Average loss: 0.0031, Accuracy: 9892/10000 (98.92%)\n",
            "Round 194/200\n",
            "Selected clients - [71, 59, 97, 22, 38, 34, 67, 28, 3, 39, 19, 58, 69, 85, 95, 76, 26, 27, 62, 64]\n"
          ]
        },
        {
          "output_type": "stream",
          "name": "stderr",
          "text": [
            "100%|██████████| 20/20 [00:10<00:00,  1.89it/s]\n"
          ]
        },
        {
          "output_type": "stream",
          "name": "stdout",
          "text": [
            "Test set: Average loss: 0.0029, Accuracy: 9901/10000 (99.01%)\n",
            "Round 195/200\n",
            "Selected clients - [77, 8, 74, 19, 45, 49, 32, 94, 55, 56, 69, 52, 47, 18, 81, 13, 80, 21, 86, 53]\n"
          ]
        },
        {
          "output_type": "stream",
          "name": "stderr",
          "text": [
            "100%|██████████| 20/20 [00:10<00:00,  1.82it/s]\n"
          ]
        },
        {
          "output_type": "stream",
          "name": "stdout",
          "text": [
            "Test set: Average loss: 0.0028, Accuracy: 9900/10000 (99.00%)\n",
            "Round 196/200\n",
            "Selected clients - [76, 50, 5, 82, 25, 86, 26, 10, 38, 91, 72, 79, 92, 40, 43, 30, 8, 70, 65, 55]\n"
          ]
        },
        {
          "output_type": "stream",
          "name": "stderr",
          "text": [
            "100%|██████████| 20/20 [00:10<00:00,  1.83it/s]\n"
          ]
        },
        {
          "output_type": "stream",
          "name": "stdout",
          "text": [
            "Test set: Average loss: 0.0028, Accuracy: 9903/10000 (99.03%)\n",
            "Round 197/200\n",
            "Selected clients - [83, 64, 91, 3, 26, 98, 54, 84, 82, 40, 10, 38, 90, 19, 35, 76, 13, 17, 70, 39]\n"
          ]
        },
        {
          "output_type": "stream",
          "name": "stderr",
          "text": [
            "100%|██████████| 20/20 [00:10<00:00,  1.84it/s]\n"
          ]
        },
        {
          "output_type": "stream",
          "name": "stdout",
          "text": [
            "Test set: Average loss: 0.0028, Accuracy: 9906/10000 (99.06%)\n",
            "Round 198/200\n",
            "Selected clients - [69, 1, 16, 20, 2, 88, 24, 74, 15, 5, 62, 58, 12, 26, 53, 28, 86, 79, 21, 19]\n"
          ]
        },
        {
          "output_type": "stream",
          "name": "stderr",
          "text": [
            "100%|██████████| 20/20 [00:10<00:00,  1.85it/s]\n"
          ]
        },
        {
          "output_type": "stream",
          "name": "stdout",
          "text": [
            "Test set: Average loss: 0.0027, Accuracy: 9905/10000 (99.05%)\n",
            "Round 199/200\n",
            "Selected clients - [6, 73, 91, 61, 12, 85, 95, 58, 67, 37, 25, 55, 23, 49, 97, 3, 76, 62, 68, 74]\n"
          ]
        },
        {
          "output_type": "stream",
          "name": "stderr",
          "text": [
            "100%|██████████| 20/20 [00:10<00:00,  1.86it/s]\n"
          ]
        },
        {
          "output_type": "stream",
          "name": "stdout",
          "text": [
            "Test set: Average loss: 0.0028, Accuracy: 9904/10000 (99.04%)\n",
            "Round 200/200\n",
            "Selected clients - [44, 95, 50, 35, 85, 91, 39, 1, 61, 88, 65, 32, 30, 98, 73, 43, 68, 48, 3, 66]\n"
          ]
        },
        {
          "output_type": "stream",
          "name": "stderr",
          "text": [
            "100%|██████████| 20/20 [00:10<00:00,  1.91it/s]\n"
          ]
        },
        {
          "output_type": "stream",
          "name": "stdout",
          "text": [
            "Test set: Average loss: 0.0029, Accuracy: 9896/10000 (98.96%)\n",
            "Target accuracy reached at round: 137\n",
            "Best round: 173, accuracy: 0.9907\n"
          ]
        }
      ],
      "source": [
        "# rounds and target accuracy\n",
        "T = 200\n",
        "target_accuracy = 0.99\n",
        "\n",
        "state_dict, accuracies, losses = await execute(server, T, target_accuracy)\n",
        "\n",
        "# save model to file\n",
        "torch.save(state_dict, \"cnn_state_dict.pth\")"
      ]
    },
    {
      "cell_type": "markdown",
      "metadata": {
        "id": "VIENpKmy65fT"
      },
      "source": [
        "## Statistics"
      ]
    },
    {
      "cell_type": "code",
      "execution_count": 14,
      "metadata": {
        "id": "Um5mHx2E65fT",
        "colab": {
          "base_uri": "https://localhost:8080/"
        },
        "outputId": "ac21a756-b8c0-42b5-91ec-20e84e0b63ee"
      },
      "outputs": [
        {
          "output_type": "stream",
          "name": "stdout",
          "text": [
            "[0.2342, 0.5644, 0.7288, 0.7451, 0.843, 0.818, 0.914, 0.939, 0.9422, 0.9242, 0.9527, 0.9465, 0.9527, 0.9619, 0.9632, 0.9557, 0.9685, 0.9657, 0.9709, 0.9671, 0.9613, 0.9709, 0.9736, 0.9724, 0.9689, 0.9673, 0.9769, 0.978, 0.9725, 0.9772, 0.9732, 0.9733, 0.9798, 0.9788, 0.9798, 0.9763, 0.9762, 0.9781, 0.9796, 0.9802, 0.9815, 0.9833, 0.9819, 0.982, 0.98, 0.9804, 0.9827, 0.9814, 0.9811, 0.9814, 0.981, 0.9818, 0.9811, 0.9829, 0.9836, 0.9842, 0.9848, 0.9829, 0.9855, 0.9832, 0.9844, 0.9831, 0.984, 0.9861, 0.9839, 0.9871, 0.9877, 0.9868, 0.9872, 0.9862, 0.9866, 0.9845, 0.9846, 0.9857, 0.9852, 0.9879, 0.9839, 0.9853, 0.9865, 0.9884, 0.9879, 0.9872, 0.984, 0.9844, 0.9869, 0.9864, 0.9856, 0.9876, 0.987, 0.9875, 0.9866, 0.9861, 0.9851, 0.9857, 0.9873, 0.9883, 0.9889, 0.9884, 0.9884, 0.9881, 0.9875, 0.9886, 0.9889, 0.9872, 0.9887, 0.9868, 0.9872, 0.9874, 0.9876, 0.9856, 0.9885, 0.9886, 0.9887, 0.9865, 0.9872, 0.9872, 0.9875, 0.988, 0.9877, 0.9876, 0.9868, 0.9873, 0.9876, 0.9871, 0.9875, 0.9881, 0.9878, 0.9887, 0.9867, 0.9877, 0.9889, 0.9888, 0.9888, 0.9892, 0.9879, 0.9889, 0.99, 0.9893, 0.989, 0.9891, 0.9891, 0.9889, 0.9888, 0.9897, 0.9888, 0.9897, 0.9898, 0.9902, 0.9905, 0.9885, 0.9896, 0.9893, 0.9887, 0.9897, 0.9892, 0.9896, 0.9891, 0.9894, 0.9892, 0.9872, 0.9895, 0.9892, 0.9895, 0.9892, 0.9899, 0.9883, 0.9886, 0.9893, 0.9884, 0.989, 0.9894, 0.989, 0.9907, 0.9892, 0.9897, 0.9903, 0.9898, 0.9899, 0.9881, 0.9895, 0.9893, 0.9891, 0.9894, 0.99, 0.9901, 0.99, 0.9901, 0.9894, 0.9897, 0.9894, 0.9892, 0.9904, 0.9892, 0.9901, 0.99, 0.9903, 0.9906, 0.9905, 0.9904, 0.9896]\n"
          ]
        }
      ],
      "source": [
        "# manual save to shared drive for reproducible graph\n",
        "print(accuracies)"
      ]
    },
    {
      "cell_type": "code",
      "execution_count": 15,
      "metadata": {
        "id": "WfI_uBW-65fU",
        "colab": {
          "base_uri": "https://localhost:8080/"
        },
        "outputId": "aa61e626-e30f-4833-cca8-fa64c19799b9"
      },
      "outputs": [
        {
          "output_type": "stream",
          "name": "stdout",
          "text": [
            "[0.19677179445028306, 0.14308333921432495, 0.1006071801930666, 0.07799548683911561, 0.05459738747701049, 0.048514058814570306, 0.030422784396633505, 0.023456681197229774, 0.021925032091047614, 0.02465670895446092, 0.017458668796834536, 0.017850392669206485, 0.01529797589185182, 0.013792601760127582, 0.012266535579145421, 0.013887767903576605, 0.010507247546187136, 0.010994935454579536, 0.010693613782711327, 0.011041996580736305, 0.011804133281752002, 0.009153455187747022, 0.008397305740175944, 0.00830791023746715, 0.009765914326591883, 0.009620877630182077, 0.007158193529318669, 0.00727712518221233, 0.008386549394775648, 0.007072260893860221, 0.007948014678461186, 0.007827130292748915, 0.0063450179960665995, 0.006895751757856488, 0.006755517256502935, 0.007300613603413513, 0.00682949364532833, 0.006545767186227022, 0.00624878375377848, 0.005902526194953316, 0.0056085038338085725, 0.005184704228775808, 0.0056815206782506724, 0.005477407703758945, 0.006147512876468681, 0.006144997669118584, 0.005346539959841903, 0.005421798475295872, 0.00531540745261118, 0.005245718422225764, 0.005671912004246406, 0.005382152549282182, 0.005440486448447973, 0.005285146611567507, 0.0047710941282918615, 0.004652305635169159, 0.004899462524627734, 0.004813585769682868, 0.00430135243883692, 0.004672729598972001, 0.004713401936646324, 0.0048575403182310765, 0.0046997520787856045, 0.004280076943230301, 0.004762283454697763, 0.0040882887948946066, 0.0040972801183296725, 0.003917674081119276, 0.004030644796106867, 0.0038829387422799526, 0.004064600090142494, 0.004317668069429419, 0.004420420885871454, 0.004284765686510127, 0.0042940653563579645, 0.0037512061138192847, 0.004713954441960874, 0.004037862698874597, 0.00399667763086818, 0.0036298312679712125, 0.0037199902916192572, 0.0036784392022420663, 0.004617183532502168, 0.004751073283162259, 0.004080970507595793, 0.003940638515057481, 0.004017707522713772, 0.003860069901992671, 0.0034980857977032543, 0.0037087814748590973, 0.004040204194410609, 0.0038279393372937873, 0.004061505225823089, 0.003999156898384126, 0.0038220487686198793, 0.0035051113526019377, 0.003425869977442085, 0.003358040638418032, 0.0033560345350999343, 0.0033254834616644417, 0.003635682840058567, 0.0032402142266319688, 0.0033155086665099306, 0.003799927393968602, 0.0034926965124142725, 0.00394086987057126, 0.003693474981655618, 0.00361920954941279, 0.003564899919132813, 0.004397455907291385, 0.003291888548783146, 0.003234925916061337, 0.003191972932448141, 0.003714892510249604, 0.0036006071636938033, 0.00371383682581195, 0.003595454042581014, 0.0031958175506648615, 0.0035043284727335673, 0.0035060741352358946, 0.003457084173822659, 0.0033245550616307637, 0.003308779914767183, 0.003969359039241681, 0.0033410538008243067, 0.0033077308930643426, 0.0035612700235152033, 0.0033397968090593624, 0.003911747129383912, 0.0033646012441359745, 0.003101851814642805, 0.003089460794735328, 0.003254203481022438, 0.003102709885681202, 0.0033538734512032534, 0.003210676557068928, 0.00297896636710102, 0.003039894954750241, 0.0031570871163965307, 0.0031737653226791593, 0.0031308671357469196, 0.003136194531185771, 0.0032046774350967836, 0.0028922172816329976, 0.003284552896812295, 0.0031281944291098028, 0.003037377169677882, 0.0028342711990390454, 0.0028763094208599286, 0.0031550038190805083, 0.0029095687675852588, 0.00281515967232224, 0.003018102120711035, 0.0029640036653029653, 0.003166951352182455, 0.002895686900690629, 0.0030549092250985155, 0.0029686936081120222, 0.003116668915318246, 0.0035942481860043755, 0.002970331832577597, 0.003003818153098416, 0.0031358476381524326, 0.0030603867570784416, 0.0030042973226155818, 0.0032220651684892574, 0.003289648640178222, 0.003093507219791182, 0.003530964762916902, 0.0031808914630561064, 0.0032870855361741475, 0.0030068334246958327, 0.002940395343871156, 0.0030936232530766688, 0.00292050518682464, 0.00291607990701988, 0.0029074547378076586, 0.003200932245915643, 0.0035084126507726396, 0.003223697842619714, 0.0030741087647632548, 0.003046920316130308, 0.003023193973772057, 0.0028788571432733123, 0.002838257051788614, 0.0027592880306054014, 0.002724765981319966, 0.0029173324564790077, 0.0031272121090118675, 0.002954696211320237, 0.0030678852857617387, 0.002805034659081061, 0.003084290640103374, 0.0028583227776152937, 0.0027840562808088606, 0.0027681394685668886, 0.0028089122915021065, 0.0026974349280749804, 0.002836809421469443, 0.002859167196444211]\n"
          ]
        }
      ],
      "source": [
        "# manual save to shared drive for reproducible graph\n",
        "print(losses)"
      ]
    },
    {
      "cell_type": "code",
      "execution_count": 16,
      "metadata": {
        "id": "mTQI9WGZ65fU",
        "colab": {
          "base_uri": "https://localhost:8080/",
          "height": 472
        },
        "outputId": "1c49b7e2-180b-4a2c-b56d-e2e67bde9533"
      },
      "outputs": [
        {
          "output_type": "display_data",
          "data": {
            "text/plain": [
              "<Figure size 640x480 with 1 Axes>"
            ],
            "image/png": "[encoded data removed]"
          },
          "metadata": {}
        }
      ],
      "source": [
        "plt.plot(accuracies)\n",
        "plt.title('Test Accuracy')\n",
        "plt.xlabel('Rounds')\n",
        "plt.ylabel('Accuracy')\n",
        "plt.ylim(0, 1)\n",
        "plt.grid(True)\n",
        "plt.show()"
      ]
    }
  ],
  "metadata": {
    "accelerator": "GPU",
    "colab": {
      "provenance": []
    },
    "gpuClass": "standard",
    "kernelspec": {
      "display_name": "python38",
      "language": "python",
      "name": "python3"
    },
    "language_info": {
      "codemirror_mode": {
        "name": "ipython",
        "version": 3
      },
      "file_extension": ".py",
      "mimetype": "text/x-python",
      "name": "python",
      "nbconvert_exporter": "python",
      "pygments_lexer": "ipython3",
      "version": "3.10.7"
    },
    "vscode": {
      "interpreter": {
        "hash": "a5e36ac6a21e329c2cec267b08e4f28884519c7e5682f29504bd17199cc3d203"
      }
    }
  },
  "nbformat": 4,
  "nbformat_minor": 0
}