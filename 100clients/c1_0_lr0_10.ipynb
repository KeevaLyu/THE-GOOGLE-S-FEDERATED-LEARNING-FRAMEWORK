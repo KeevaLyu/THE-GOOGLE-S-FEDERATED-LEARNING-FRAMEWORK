{
  "cells": [
    {
      "cell_type": "markdown",
      "metadata": {
        "id": "NsvvFSId2xB6"
      },
      "source": [
        "## Library"
      ]
    },
    {
      "cell_type": "code",
      "execution_count": 1,
      "metadata": {
        "id": "vDaWQfJ022KB",
        "colab": {
          "base_uri": "https://localhost:8080/"
        },
        "outputId": "73dce7eb-db2e-4d17-cfa1-459dc2c60b53"
      },
      "outputs": [
        {
          "output_type": "stream",
          "name": "stdout",
          "text": [
            "cuda:0\n"
          ]
        }
      ],
      "source": [
        "import torch\n",
        "import torch.nn as nn\n",
        "import torch.nn.functional as F\n",
        "from torchvision import datasets, transforms\n",
        "import torch.optim as optim\n",
        "import numpy as np\n",
        "import random\n",
        "from collections import OrderedDict, ChainMap, Counter\n",
        "from tqdm.asyncio import tqdm\n",
        "import math\n",
        "import matplotlib.pyplot as plt\n",
        "\n",
        "# for reproducible results\n",
        "seed = 42\n",
        "torch.manual_seed(seed)\n",
        "np.random.seed(seed)\n",
        "\n",
        "device = torch.device('cpu')\n",
        "# gpu\n",
        "if torch.backends.mps.is_available():\n",
        "    device = torch.device('mps')\n",
        "elif torch.cuda.is_available():\n",
        "    device = torch.device('cuda:0')\n",
        "print(device)"
      ]
    },
    {
      "cell_type": "markdown",
      "metadata": {
        "id": "t_RCPBAVzB9L"
      },
      "source": [
        "## Data processing"
      ]
    },
    {
      "cell_type": "code",
      "execution_count": 2,
      "metadata": {
        "id": "GrvHYZ_swCAM"
      },
      "outputs": [],
      "source": [
        "transform = transforms.Compose([\n",
        "            transforms.ToTensor(),\n",
        "            transforms.Normalize((0.1307,), (0.3081,))]) # scale from [0,255] to [0,1] and make mean and std to 0.0 and 1.0 respectively\n",
        "training_dataset = datasets.MNIST('./data/mnist/', train=True, download=True, transform=transform)\n",
        "test_dataset = datasets.MNIST('./data/mnist/', train=False, download=True, transform=transform)"
      ]
    },
    {
      "cell_type": "code",
      "execution_count": 3,
      "metadata": {
        "id": "ZohHDK7o65fH"
      },
      "outputs": [],
      "source": [
        "# sort by labels\n",
        "sorted_indices = torch.argsort(torch.Tensor(training_dataset.targets))\n",
        "sorted_training_dataset = torch.utils.data.Subset(training_dataset, sorted_indices)\n",
        "\n",
        "# partition data into shards\n",
        "def prepare_datashards(num_clients, num_shards, strict=False):\n",
        "    training_datashards = []\n",
        "\n",
        "    shards = []\n",
        "    # partition by class\n",
        "    if strict:\n",
        "        number_of_classes = len(sorted_training_dataset.dataset.classes)\n",
        "        shards_per_class = num_shards // number_of_classes\n",
        "\n",
        "        ptr = 0\n",
        "        # for each class\n",
        "        for label, size in sorted(Counter(sorted_training_dataset.dataset.targets.tolist()).items()):\n",
        "            shard_size = math.ceil(size / shards_per_class)\n",
        "\n",
        "            # for each shard\n",
        "            for i in range(shards_per_class):\n",
        "                shard = []\n",
        "                # fill shard of shard_size\n",
        "                for j in range(shard_size):\n",
        "                    shard.append(sorted_training_dataset[ptr])\n",
        "                    ptr += 1\n",
        "                    # break for next class\n",
        "                    if ptr >= len(sorted_training_dataset) or sorted_training_dataset[ptr][1] != label:\n",
        "                        break\n",
        "                shards.append(shard)\n",
        "\n",
        "    # partition by size\n",
        "    else:\n",
        "        shard_size = len(sorted_training_dataset) // num_shards\n",
        "\n",
        "        # for each shard\n",
        "        for i in range(num_shards):\n",
        "            shard = []\n",
        "            # fill shard of shard_size\n",
        "            for j in range(shard_size):\n",
        "                shard.append(sorted_training_dataset[i * shard_size + j])\n",
        "            shards.append(shard)\n",
        "    \n",
        "    # shuffled shard ids\n",
        "    random.seed(seed)\n",
        "    shard_ids = random.sample(list(range(num_shards)), num_shards)\n",
        "    print(\"Shards order - {}\".format(shard_ids))\n",
        "\n",
        "    # for each client\n",
        "    for k in range(num_clients):\n",
        "        client_shards = []\n",
        "        # number of shards per client\n",
        "        shards_per_client = num_shards // num_clients\n",
        "        for s in range(shards_per_client):\n",
        "            id = shard_ids[k * shards_per_client + s]\n",
        "            client_shards.append(shards[id])\n",
        "        training_datashards.append(client_shards)\n",
        "\n",
        "    return training_datashards"
      ]
    },
    {
      "cell_type": "markdown",
      "metadata": {
        "id": "mamL4quE65fI"
      },
      "source": [
        "## Global"
      ]
    },
    {
      "cell_type": "code",
      "execution_count": 4,
      "metadata": {
        "colab": {
          "base_uri": "https://localhost:8080/"
        },
        "id": "tPNbLHz865fI",
        "outputId": "1acd56f8-ca41-4fc4-b761-add2b1f710fa"
      },
      "outputs": [
        {
          "output_type": "stream",
          "name": "stdout",
          "text": [
            "Shards order - [163, 28, 6, 189, 70, 62, 57, 35, 188, 26, 173, 139, 22, 151, 108, 8, 7, 23, 55, 59, 129, 154, 197, 143, 50, 166, 191, 107, 56, 114, 150, 71, 1, 40, 185, 87, 168, 39, 181, 86, 190, 182, 97, 24, 91, 88, 67, 11, 117, 137, 31, 96, 20, 141, 75, 92, 49, 17, 152, 58, 74, 147, 180, 25, 157, 199, 116, 93, 41, 94, 90, 53, 68, 89, 119, 164, 82, 9, 77, 81, 21, 127, 132, 149, 138, 169, 48, 34, 120, 178, 134, 198, 124, 131, 98, 99, 183, 29, 4, 174, 51, 112, 184, 27, 72, 155, 100, 148, 83, 63, 175, 123, 140, 18, 33, 142, 133, 109, 118, 85, 196, 54, 79, 104, 46, 165, 84, 65, 179, 146, 177, 14, 19, 115, 78, 135, 176, 156, 38, 102, 80, 16, 192, 161, 0, 43, 145, 103, 95, 105, 113, 73, 106, 125, 52, 160, 144, 10, 60, 171, 172, 32, 195, 61, 69, 153, 36, 12, 122, 37, 194, 5, 110, 47, 162, 186, 126, 42, 15, 159, 3, 30, 130, 45, 167, 158, 76, 128, 170, 136, 44, 64, 2, 13, 121, 111, 193, 101, 187, 66]\n"
          ]
        }
      ],
      "source": [
        "# clients training mode\n",
        "PARALLEL_TRAINING = True\n",
        "\n",
        "# clients and shards\n",
        "num_clients = 100\n",
        "num_shards = 200\n",
        "\n",
        "# prepare training data\n",
        "training_datashards = prepare_datashards(num_clients, num_shards)"
      ]
    },
    {
      "cell_type": "markdown",
      "metadata": {
        "id": "e6vzuzLL1cP8"
      },
      "source": [
        "## Model"
      ]
    },
    {
      "cell_type": "code",
      "execution_count": 5,
      "metadata": {
        "id": "4KIxpXNR1dWg"
      },
      "outputs": [],
      "source": [
        "class CNN(nn.Module):\n",
        "    # https://pytorch.org/tutorials/recipes/recipes/defining_a_neural_network.html#specify-how-data-will-pass-through-your-model\n",
        "    def __init__(self):\n",
        "        super(CNN, self).__init__()\n",
        "        # 5x5 convolution layer with 32 channels\n",
        "        self.conv1 = nn.Conv2d(in_channels=1, out_channels=32, kernel_size=5, padding='same')\n",
        "        # 5x5 convolution layer with 64 channels\n",
        "        self.conv2 = nn.Conv2d(in_channels=32, out_channels=64, kernel_size=5, padding='same')\n",
        "        # fully connected layer with 512 units, in_features = channels * height * width from conv2\n",
        "        self.fc1 = nn.Linear(in_features=64*7*7, out_features=512)\n",
        "        self.fc2 = nn.Linear(in_features=512, out_features=10)\n",
        "\n",
        "    # x represents our data\n",
        "    def forward(self, x):\n",
        "        # Pass data through conv1\n",
        "        x = self.conv1(x)\n",
        "        # Use the rectified-linear activation function over x\n",
        "        x = F.relu(x)\n",
        "        # Run max pooling over x\n",
        "        x = F.max_pool2d(x, kernel_size=2)\n",
        "        \n",
        "        x = self.conv2(x)\n",
        "        x = F.relu(x)\n",
        "        x = F.max_pool2d(x, kernel_size=2)\n",
        "\n",
        "        # Flatten x with start_dim=1\n",
        "        x = torch.flatten(x, start_dim=1)\n",
        "        # Pass data through fc1\n",
        "        x = self.fc1(x)\n",
        "        x = F.relu(x)\n",
        "        x = self.fc2(x)\n",
        "\n",
        "        # Apply softmax to x\n",
        "        output = F.log_softmax(x, dim=1)\n",
        "        return output"
      ]
    },
    {
      "cell_type": "code",
      "execution_count": 6,
      "metadata": {
        "colab": {
          "base_uri": "https://localhost:8080/"
        },
        "id": "gLzdTLYt65fJ",
        "outputId": "48419f0c-4cc2-49b4-8357-3cc41cdbef5c"
      },
      "outputs": [
        {
          "output_type": "stream",
          "name": "stdout",
          "text": [
            "Total number of parameters: 1663370\n"
          ]
        }
      ],
      "source": [
        "num_params = sum(p.numel() for p in CNN().parameters())\n",
        "print(\"Total number of parameters:\", num_params)"
      ]
    },
    {
      "cell_type": "code",
      "execution_count": 7,
      "metadata": {
        "colab": {
          "base_uri": "https://localhost:8080/"
        },
        "id": "qY3Pl12PP4rP",
        "outputId": "a27f920f-211c-45b2-c1f6-859f08edb43d"
      },
      "outputs": [
        {
          "output_type": "stream",
          "name": "stdout",
          "text": [
            "torch.Size([32, 1, 5, 5])\n",
            "torch.Size([32])\n",
            "torch.Size([64, 32, 5, 5])\n",
            "torch.Size([64])\n",
            "torch.Size([512, 3136])\n",
            "torch.Size([512])\n",
            "torch.Size([10, 512])\n",
            "torch.Size([10])\n"
          ]
        }
      ],
      "source": [
        "for p in CNN().parameters():\n",
        "    print(p.shape)"
      ]
    },
    {
      "cell_type": "markdown",
      "metadata": {
        "id": "RtdxFdsz1h0m"
      },
      "source": [
        "## Client\n"
      ]
    },
    {
      "cell_type": "code",
      "execution_count": 8,
      "metadata": {
        "id": "bzCVn4hfAOhX"
      },
      "outputs": [],
      "source": [
        "class Client():\n",
        "    def __init__(self, k, model, args):\n",
        "        # inititalize client\n",
        "        self.id = k\n",
        "        self.model = model\n",
        "        self.args = args\n",
        "\n",
        "        # load dataset\n",
        "        self.dataset = []\n",
        "        self._load_dataset(k)\n",
        "        self.training_loader = torch.utils.data.DataLoader(self.dataset, batch_size=self.args['B'], shuffle=True)\n",
        "\n",
        "        # state_dict\n",
        "        self.state_dict = self.model.state_dict()\n",
        "\n",
        "    def _load_dataset(self, k):\n",
        "        # load dataset\n",
        "        for shard in training_datashards[k]:\n",
        "            self.dataset += shard\n",
        "        return\n",
        "\n",
        "    def labels(self):\n",
        "        return dict(Counter(data[1] for data in self.dataset))\n",
        "\n",
        "    def size(self):\n",
        "        return len(self.dataset)\n",
        "\n",
        "    async def update(self):\n",
        "        # load state_dict\n",
        "        self.model.load_state_dict(self.state_dict)\n",
        "\n",
        "        # Sets the module in training mode\n",
        "        self.model.train(True)\n",
        "\n",
        "        optimizer = optim.SGD(self.model.parameters(), lr=self.args['lr'])\n",
        "        loss_fn = nn.CrossEntropyLoss()\n",
        "\n",
        "        # https://pytorch.org/tutorials/beginner/introyt/trainingyt.html\n",
        "        for epoch in range(self.args['E']):\n",
        "            for inputs, labels in self.training_loader:\n",
        "                # Every data instance is an input + label pair\n",
        "                inputs, labels = inputs.to(device), labels.to(device)\n",
        "\n",
        "                # Zero your gradients for every batch!\n",
        "                optimizer.zero_grad()\n",
        "\n",
        "                # Make predictions for this batch\n",
        "                outputs = self.model(inputs)\n",
        "\n",
        "                # Compute the loss and its gradients\n",
        "                loss = loss_fn(outputs, labels)\n",
        "                loss.backward()\n",
        "\n",
        "                # Adjust learning weights\n",
        "                optimizer.step()\n",
        "        \n",
        "        # save state_dict\n",
        "        self.state_dict = self.model.state_dict()\n",
        "\n",
        "        return { self.id: self.state_dict }\n",
        "\n",
        "    def model_sync(self, state_dict):\n",
        "        self.state_dict = state_dict"
      ]
    },
    {
      "cell_type": "markdown",
      "metadata": {
        "id": "unKQT-qEPnKL"
      },
      "source": [
        "## Server"
      ]
    },
    {
      "cell_type": "code",
      "execution_count": 9,
      "metadata": {
        "id": "rjIkYahr1jVG"
      },
      "outputs": [],
      "source": [
        "class Server():\n",
        "    def __init__(self, args):\n",
        "        self.model = CNN().to(device)\n",
        "        # number of rounds of communication\n",
        "        self.rounds = 0\n",
        "        # client fraction C\n",
        "        self.c = args['C']\n",
        "        # client list\n",
        "        self.clients = []\n",
        "        # inititalize clients according to num_clients\n",
        "        if PARALLEL_TRAINING:\n",
        "            for k in range(num_clients):\n",
        "                torch.manual_seed(seed)\n",
        "                client_model = CNN().to(device)\n",
        "                client = Client(k, client_model, args)\n",
        "                self.clients.append(client)\n",
        "        else:\n",
        "            torch.manual_seed(seed)\n",
        "            client_model = CNN().to(device)\n",
        "            for k in range(num_clients):\n",
        "                client = Client(k, client_model, args)\n",
        "                self.clients.append(client)\n",
        "\n",
        "    def _fed_avg(self, state_dicts):\n",
        "        # total number of data\n",
        "        len_total = 0\n",
        "        for k in ChainMap(*state_dicts).keys():\n",
        "            len_total += self.clients[k].size()\n",
        "\n",
        "        dict = OrderedDict()\n",
        "        # for each client's state_dict\n",
        "        for k, state_dict in ChainMap(*state_dicts).items():\n",
        "            # for each tensor param\n",
        "            for param_tensor in self.model.state_dict().keys():\n",
        "                # param = w0 * wf0 + w1 * wf1 + ... wk * wfk\n",
        "                if param_tensor in dict:\n",
        "                    dict[param_tensor] += state_dict[param_tensor] * (self.clients[k].size() / len_total)\n",
        "                else:\n",
        "                    dict[param_tensor] = state_dict[param_tensor] * (self.clients[k].size() / len_total)\n",
        "\n",
        "        return dict\n",
        "\n",
        "    def clients_info(self):\n",
        "        for i, client in enumerate(self.clients):\n",
        "            print(\"Client {} - {}\".format(i, client.labels()))\n",
        "\n",
        "    async def model_sync(self):\n",
        "        selected_clients = self.clients\n",
        "\n",
        "        # clients random selection\n",
        "        if self.c < 1.0:\n",
        "            # clients per round\n",
        "            k = max(int(self.c * num_clients), 1)\n",
        "            # client selection\n",
        "            random.seed(self.rounds)\n",
        "            selected_clients = random.sample(self.clients, k=k)\n",
        "            client_ids = []\n",
        "            for client in selected_clients:\n",
        "                client_ids.append(client.id)\n",
        "            print(\"Selected clients - {}\".format(client_ids))\n",
        "\n",
        "        state_dicts = []\n",
        "        # for each selected client do client update\n",
        "        if PARALLEL_TRAINING:\n",
        "            state_dicts = await tqdm.gather(*[client.update() for client in selected_clients])\n",
        "        else:\n",
        "            for client in tqdm(selected_clients):\n",
        "                state_dict = await client.update()\n",
        "                state_dicts.append(state_dict)\n",
        "        \n",
        "        # update server weights\n",
        "        avg_state_dict = self._fed_avg(state_dicts)\n",
        "        self.model.load_state_dict(avg_state_dict)\n",
        "\n",
        "        # sync with all clients\n",
        "        for client in self.clients:\n",
        "            client.model_sync(avg_state_dict)\n",
        "\n",
        "        # increase rounds count\n",
        "        self.rounds += 1"
      ]
    },
    {
      "cell_type": "code",
      "execution_count": 10,
      "metadata": {
        "id": "v-JVTN0sCHlk"
      },
      "outputs": [],
      "source": [
        "def test_model(model):\n",
        "    # https://learn.microsoft.com/en-us/windows/ai/windows-ml/tutorials/pytorch-analysis-train-model#test-the-model-on-the-test-data\n",
        "    test_loader = torch.utils.data.DataLoader(test_dataset, batch_size=10, shuffle=False)\n",
        "    loss_fn = nn.CrossEntropyLoss()\n",
        "\n",
        "    # Sets the module in evaluate mode\n",
        "    model.eval()\n",
        "    model.to(device)\n",
        "    \n",
        "    correct = 0\n",
        "    loss = 0\n",
        "    total = 0\n",
        "\n",
        "    with torch.no_grad():\n",
        "        for inputs, labels in test_loader:\n",
        "            # Every data instance is an input + label pair\n",
        "            inputs, labels = inputs.to(device), labels.to(device)\n",
        "            \n",
        "            # Make predictions for this batch\n",
        "            outputs = model(inputs)\n",
        "            _, pred = torch.max(outputs, dim=1)\n",
        "            total += labels.size(0)\n",
        "\n",
        "            # Compute the loss and accuracy\n",
        "            loss += loss_fn(outputs, labels).item()\n",
        "            correct += (pred == labels).sum().item()\n",
        "\n",
        "    loss /= total\n",
        "    accuracy = correct / total\n",
        "\n",
        "    print('Test set: Average loss: {:.4f}, Accuracy: {}/{} ({:.2f}%)'.format(\n",
        "        loss, correct, total, accuracy * 100))\n",
        "    return accuracy, loss"
      ]
    },
    {
      "cell_type": "code",
      "execution_count": 11,
      "metadata": {
        "id": "BQ7wc8Q_FAkU"
      },
      "outputs": [],
      "source": [
        "async def execute(server, T, target_accuracy, es=None, min_delta=0.0, patience=0):\n",
        "    _patience = patience\n",
        "\n",
        "    # initial values\n",
        "    record_round = 0\n",
        "    best_round = 0\n",
        "    best_accuracy = 0.0\n",
        "    last_loss = None\n",
        "    state_dict, accuracies, losses = [], [], []\n",
        "\n",
        "    # loop until rounds\n",
        "    while server.rounds < T:\n",
        "        print(\"Round {}/{}\".format(server.rounds + 1, T))\n",
        "\n",
        "        # model sync\n",
        "        await server.model_sync()\n",
        "        \n",
        "        # test accuracy\n",
        "        accuracy, loss = test_model(server.model)\n",
        "\n",
        "        if accuracy >= best_accuracy:\n",
        "            # save best record\n",
        "            best_accuracy = accuracy\n",
        "            best_round = server.rounds\n",
        "\n",
        "            if best_accuracy >= target_accuracy or server.rounds > T - 10:\n",
        "                # save state_dict\n",
        "                state_dict = server.model.state_dict()\n",
        "\n",
        "        # statistics\n",
        "        accuracies.append(accuracy)\n",
        "        losses.append(loss)\n",
        "\n",
        "        # early stopping\n",
        "        if es == 'loss':\n",
        "            if last_loss is None:\n",
        "                last_loss = loss\n",
        "                continue\n",
        "\n",
        "            if last_loss - loss < min_delta:\n",
        "                # break if patience equal to 0\n",
        "                if patience == 0:\n",
        "                    break\n",
        "                else:\n",
        "                    patience -= 1\n",
        "            else:\n",
        "                # reset patience and update last loss\n",
        "                patience = _patience\n",
        "                last_loss = loss\n",
        "\n",
        "        # target accuracy reached\n",
        "        if accuracy >= target_accuracy and record_round == 0:\n",
        "            record_round = server.rounds\n",
        "\n",
        "    if record_round > 0:\n",
        "        print(\"Target accuracy reached at round: {}\".format(record_round))\n",
        "    print(\"Best round: {}, accuracy: {}\".format(best_round, best_accuracy))\n",
        "\n",
        "    return state_dict, accuracies, losses"
      ]
    },
    {
      "cell_type": "markdown",
      "metadata": {
        "id": "OE0VQHt_65fS"
      },
      "source": [
        "## Execute"
      ]
    },
    {
      "cell_type": "code",
      "execution_count": 12,
      "metadata": {
        "colab": {
          "base_uri": "https://localhost:8080/"
        },
        "id": "4Gas3rs865fT",
        "outputId": "5f1db881-6c4e-48af-8b9c-8726040ec25b"
      },
      "outputs": [
        {
          "output_type": "stream",
          "name": "stdout",
          "text": [
            "Training dataset - {0: 5923, 1: 6742, 2: 5958, 3: 6131, 4: 5842, 5: 5421, 6: 5918, 7: 6265, 8: 5851, 9: 5949}\n",
            "Client 0 - {8: 300, 1: 300}\n",
            "Client 1 - {0: 300, 9: 300}\n",
            "Client 2 - {3: 577, 2: 23}\n",
            "Client 3 - {2: 300, 1: 300}\n",
            "Client 4 - {9: 300, 1: 300}\n",
            "Client 5 - {8: 300, 6: 235, 7: 65}\n",
            "Client 6 - {1: 300, 7: 300}\n",
            "Client 7 - {5: 300, 0: 300}\n",
            "Client 8 - {0: 300, 1: 300}\n",
            "Client 9 - {2: 600}\n",
            "Client 10 - {6: 300, 7: 300}\n",
            "Client 11 - {9: 300, 7: 300}\n",
            "Client 12 - {2: 300, 8: 300}\n",
            "Client 13 - {9: 300, 5: 300}\n",
            "Client 14 - {2: 300, 5: 300}\n",
            "Client 15 - {7: 300, 3: 300}\n",
            "Client 16 - {0: 300, 1: 300}\n",
            "Client 17 - {9: 300, 4: 300}\n",
            "Client 18 - {8: 300, 1: 300}\n",
            "Client 19 - {9: 300, 4: 300}\n",
            "Client 20 - {9: 600}\n",
            "Client 21 - {4: 300, 1: 300}\n",
            "Client 22 - {4: 600}\n",
            "Client 23 - {3: 300, 0: 300}\n",
            "Client 24 - {5: 300, 6: 300}\n",
            "Client 25 - {1: 300, 4: 300}\n",
            "Client 26 - {1: 300, 7: 300}\n",
            "Client 27 - {3: 300, 4: 300}\n",
            "Client 28 - {2: 300, 0: 300}\n",
            "Client 29 - {7: 300, 2: 300}\n",
            "Client 30 - {3: 300, 7: 300}\n",
            "Client 31 - {8: 51, 9: 249, 1: 300}\n",
            "Client 32 - {7: 300, 9: 300}\n",
            "Client 33 - {5: 300, 4: 300}\n",
            "Client 34 - {1: 300, 4: 300}\n",
            "Client 35 - {4: 300, 2: 300}\n",
            "Client 36 - {3: 300, 4: 300}\n",
            "Client 37 - {5: 300, 8: 300}\n",
            "Client 38 - {3: 154, 4: 146, 0: 300}\n",
            "Client 39 - {3: 600}\n",
            "Client 40 - {1: 300, 6: 300}\n",
            "Client 41 - {6: 300, 7: 300}\n",
            "Client 42 - {6: 300, 8: 300}\n",
            "Client 43 - {2: 300, 1: 300}\n",
            "Client 44 - {5: 17, 6: 283, 8: 300}\n",
            "Client 45 - {6: 300, 9: 300}\n",
            "Client 46 - {6: 600}\n",
            "Client 47 - {4: 600}\n",
            "Client 48 - {9: 300, 1: 300}\n",
            "Client 49 - {0: 300, 8: 300}\n",
            "Client 50 - {2: 300, 5: 300}\n",
            "Client 51 - {9: 300, 1: 300}\n",
            "Client 52 - {3: 300, 7: 300}\n",
            "Client 53 - {4: 300, 7: 300}\n",
            "Client 54 - {4: 300, 3: 300}\n",
            "Client 55 - {8: 300, 6: 300}\n",
            "Client 56 - {7: 300, 0: 300}\n",
            "Client 57 - {1: 300, 7: 300}\n",
            "Client 58 - {6: 300, 5: 300}\n",
            "Client 59 - {5: 300, 4: 300}\n",
            "Client 60 - {9: 300, 2: 300}\n",
            "Client 61 - {3: 300, 5: 300}\n",
            "Client 62 - {2: 300, 8: 300}\n",
            "Client 63 - {4: 300, 3: 300}\n",
            "Client 64 - {8: 300, 7: 300}\n",
            "Client 65 - {8: 300, 0: 300}\n",
            "Client 66 - {0: 223, 1: 77, 5: 300}\n",
            "Client 67 - {3: 300, 6: 300}\n",
            "Client 68 - {8: 300, 7: 300}\n",
            "Client 69 - {1: 300, 5: 300}\n",
            "Client 70 - {3: 300, 0: 300}\n",
            "Client 71 - {9: 300, 8: 300}\n",
            "Client 72 - {0: 300, 2: 300}\n",
            "Client 73 - {7: 300, 5: 300}\n",
            "Client 74 - {4: 300, 5: 300}\n",
            "Client 75 - {5: 300, 3: 300}\n",
            "Client 76 - {5: 300, 6: 300}\n",
            "Client 77 - {2: 300, 7: 200, 8: 100}\n",
            "Client 78 - {7: 300, 0: 300}\n",
            "Client 79 - {2: 300, 8: 300}\n",
            "Client 80 - {8: 300, 1: 300}\n",
            "Client 81 - {9: 300, 2: 300}\n",
            "Client 82 - {3: 300, 7: 300}\n",
            "Client 83 - {1: 300, 0: 300}\n",
            "Client 84 - {6: 300, 1: 300}\n",
            "Client 85 - {9: 300, 0: 300}\n",
            "Client 86 - {5: 300, 2: 300}\n",
            "Client 87 - {8: 300, 9: 300}\n",
            "Client 88 - {6: 300, 1: 65, 2: 235}\n",
            "Client 89 - {0: 300, 7: 300}\n",
            "Client 90 - {0: 300, 1: 300}\n",
            "Client 91 - {6: 300, 2: 300}\n",
            "Client 92 - {8: 300, 7: 300}\n",
            "Client 93 - {3: 300, 6: 300}\n",
            "Client 94 - {8: 300, 6: 300}\n",
            "Client 95 - {2: 300, 3: 300}\n",
            "Client 96 - {0: 600}\n",
            "Client 97 - {6: 300, 5: 300}\n",
            "Client 98 - {9: 300, 4: 296, 5: 4}\n",
            "Client 99 - {9: 300, 3: 300}\n"
          ]
        }
      ],
      "source": [
        "# model params\n",
        "args = { 'C': 1.0, 'E': 5, 'B': 10 , 'lr': 0.1 }\n",
        "\n",
        "# server\n",
        "server = Server(args)\n",
        "\n",
        "# data distribution\n",
        "print(\"Training dataset - {}\".format(dict(sorted(Counter(training_dataset.targets.tolist()).items()))))\n",
        "server.clients_info()"
      ]
    },
    {
      "cell_type": "code",
      "execution_count": 13,
      "metadata": {
        "colab": {
          "base_uri": "https://localhost:8080/"
        },
        "id": "wjbFmiTb65fT",
        "outputId": "ae3af757-1f7f-4e3b-e023-258997dfad70"
      },
      "outputs": [
        {
          "output_type": "stream",
          "name": "stdout",
          "text": [
            "Round 1/200\n"
          ]
        },
        {
          "output_type": "stream",
          "name": "stderr",
          "text": [
            "100%|██████████| 100/100 [00:53<00:00,  1.86it/s]\n"
          ]
        },
        {
          "output_type": "stream",
          "name": "stdout",
          "text": [
            "Test set: Average loss: 0.2302, Accuracy: 1077/10000 (10.77%)\n",
            "Round 2/200\n"
          ]
        },
        {
          "output_type": "stream",
          "name": "stderr",
          "text": [
            "100%|██████████| 100/100 [00:53<00:00,  1.88it/s]\n"
          ]
        },
        {
          "output_type": "stream",
          "name": "stdout",
          "text": [
            "Test set: Average loss: 0.2155, Accuracy: 5143/10000 (51.43%)\n",
            "Round 3/200\n"
          ]
        },
        {
          "output_type": "stream",
          "name": "stderr",
          "text": [
            "100%|██████████| 100/100 [00:51<00:00,  1.93it/s]\n"
          ]
        },
        {
          "output_type": "stream",
          "name": "stdout",
          "text": [
            "Test set: Average loss: 0.1571, Accuracy: 7548/10000 (75.48%)\n",
            "Round 4/200\n"
          ]
        },
        {
          "output_type": "stream",
          "name": "stderr",
          "text": [
            "100%|██████████| 100/100 [00:52<00:00,  1.91it/s]\n"
          ]
        },
        {
          "output_type": "stream",
          "name": "stdout",
          "text": [
            "Test set: Average loss: 0.0949, Accuracy: 8683/10000 (86.83%)\n",
            "Round 5/200\n"
          ]
        },
        {
          "output_type": "stream",
          "name": "stderr",
          "text": [
            "100%|██████████| 100/100 [00:51<00:00,  1.94it/s]\n"
          ]
        },
        {
          "output_type": "stream",
          "name": "stdout",
          "text": [
            "Test set: Average loss: 0.0690, Accuracy: 8999/10000 (89.99%)\n",
            "Round 6/200\n"
          ]
        },
        {
          "output_type": "stream",
          "name": "stderr",
          "text": [
            "100%|██████████| 100/100 [00:51<00:00,  1.93it/s]\n"
          ]
        },
        {
          "output_type": "stream",
          "name": "stdout",
          "text": [
            "Test set: Average loss: 0.0432, Accuracy: 9249/10000 (92.49%)\n",
            "Round 7/200\n"
          ]
        },
        {
          "output_type": "stream",
          "name": "stderr",
          "text": [
            "100%|██████████| 100/100 [00:51<00:00,  1.95it/s]\n"
          ]
        },
        {
          "output_type": "stream",
          "name": "stdout",
          "text": [
            "Test set: Average loss: 0.0368, Accuracy: 9312/10000 (93.12%)\n",
            "Round 8/200\n"
          ]
        },
        {
          "output_type": "stream",
          "name": "stderr",
          "text": [
            "100%|██████████| 100/100 [00:51<00:00,  1.94it/s]\n"
          ]
        },
        {
          "output_type": "stream",
          "name": "stdout",
          "text": [
            "Test set: Average loss: 0.0283, Accuracy: 9384/10000 (93.84%)\n",
            "Round 9/200\n"
          ]
        },
        {
          "output_type": "stream",
          "name": "stderr",
          "text": [
            "100%|██████████| 100/100 [00:51<00:00,  1.96it/s]\n"
          ]
        },
        {
          "output_type": "stream",
          "name": "stdout",
          "text": [
            "Test set: Average loss: 0.0240, Accuracy: 9463/10000 (94.63%)\n",
            "Round 10/200\n"
          ]
        },
        {
          "output_type": "stream",
          "name": "stderr",
          "text": [
            "100%|██████████| 100/100 [00:51<00:00,  1.93it/s]\n"
          ]
        },
        {
          "output_type": "stream",
          "name": "stdout",
          "text": [
            "Test set: Average loss: 0.0231, Accuracy: 9489/10000 (94.89%)\n",
            "Round 11/200\n"
          ]
        },
        {
          "output_type": "stream",
          "name": "stderr",
          "text": [
            "100%|██████████| 100/100 [00:51<00:00,  1.95it/s]\n"
          ]
        },
        {
          "output_type": "stream",
          "name": "stdout",
          "text": [
            "Test set: Average loss: 0.0199, Accuracy: 9544/10000 (95.44%)\n",
            "Round 12/200\n"
          ]
        },
        {
          "output_type": "stream",
          "name": "stderr",
          "text": [
            "100%|██████████| 100/100 [00:51<00:00,  1.93it/s]\n"
          ]
        },
        {
          "output_type": "stream",
          "name": "stdout",
          "text": [
            "Test set: Average loss: 0.0155, Accuracy: 9587/10000 (95.87%)\n",
            "Round 13/200\n"
          ]
        },
        {
          "output_type": "stream",
          "name": "stderr",
          "text": [
            "100%|██████████| 100/100 [00:51<00:00,  1.94it/s]\n"
          ]
        },
        {
          "output_type": "stream",
          "name": "stdout",
          "text": [
            "Test set: Average loss: 0.0145, Accuracy: 9598/10000 (95.98%)\n",
            "Round 14/200\n"
          ]
        },
        {
          "output_type": "stream",
          "name": "stderr",
          "text": [
            "100%|██████████| 100/100 [00:52<00:00,  1.92it/s]\n"
          ]
        },
        {
          "output_type": "stream",
          "name": "stdout",
          "text": [
            "Test set: Average loss: 0.0142, Accuracy: 9623/10000 (96.23%)\n",
            "Round 15/200\n"
          ]
        },
        {
          "output_type": "stream",
          "name": "stderr",
          "text": [
            "100%|██████████| 100/100 [00:52<00:00,  1.92it/s]\n"
          ]
        },
        {
          "output_type": "stream",
          "name": "stdout",
          "text": [
            "Test set: Average loss: 0.0124, Accuracy: 9658/10000 (96.58%)\n",
            "Round 16/200\n"
          ]
        },
        {
          "output_type": "stream",
          "name": "stderr",
          "text": [
            "100%|██████████| 100/100 [00:52<00:00,  1.91it/s]\n"
          ]
        },
        {
          "output_type": "stream",
          "name": "stdout",
          "text": [
            "Test set: Average loss: 0.0116, Accuracy: 9661/10000 (96.61%)\n",
            "Round 17/200\n"
          ]
        },
        {
          "output_type": "stream",
          "name": "stderr",
          "text": [
            "100%|██████████| 100/100 [00:52<00:00,  1.90it/s]\n"
          ]
        },
        {
          "output_type": "stream",
          "name": "stdout",
          "text": [
            "Test set: Average loss: 0.0107, Accuracy: 9689/10000 (96.89%)\n",
            "Round 18/200\n"
          ]
        },
        {
          "output_type": "stream",
          "name": "stderr",
          "text": [
            "100%|██████████| 100/100 [00:52<00:00,  1.92it/s]\n"
          ]
        },
        {
          "output_type": "stream",
          "name": "stdout",
          "text": [
            "Test set: Average loss: 0.0100, Accuracy: 9706/10000 (97.06%)\n",
            "Round 19/200\n"
          ]
        },
        {
          "output_type": "stream",
          "name": "stderr",
          "text": [
            "100%|██████████| 100/100 [00:52<00:00,  1.92it/s]\n"
          ]
        },
        {
          "output_type": "stream",
          "name": "stdout",
          "text": [
            "Test set: Average loss: 0.0104, Accuracy: 9714/10000 (97.14%)\n",
            "Round 20/200\n"
          ]
        },
        {
          "output_type": "stream",
          "name": "stderr",
          "text": [
            "100%|██████████| 100/100 [00:51<00:00,  1.93it/s]\n"
          ]
        },
        {
          "output_type": "stream",
          "name": "stdout",
          "text": [
            "Test set: Average loss: 0.0097, Accuracy: 9725/10000 (97.25%)\n",
            "Round 21/200\n"
          ]
        },
        {
          "output_type": "stream",
          "name": "stderr",
          "text": [
            "100%|██████████| 100/100 [00:52<00:00,  1.91it/s]\n"
          ]
        },
        {
          "output_type": "stream",
          "name": "stdout",
          "text": [
            "Test set: Average loss: 0.0089, Accuracy: 9730/10000 (97.30%)\n",
            "Round 22/200\n"
          ]
        },
        {
          "output_type": "stream",
          "name": "stderr",
          "text": [
            "100%|██████████| 100/100 [00:52<00:00,  1.92it/s]\n"
          ]
        },
        {
          "output_type": "stream",
          "name": "stdout",
          "text": [
            "Test set: Average loss: 0.0084, Accuracy: 9747/10000 (97.47%)\n",
            "Round 23/200\n"
          ]
        },
        {
          "output_type": "stream",
          "name": "stderr",
          "text": [
            "100%|██████████| 100/100 [00:52<00:00,  1.89it/s]\n"
          ]
        },
        {
          "output_type": "stream",
          "name": "stdout",
          "text": [
            "Test set: Average loss: 0.0081, Accuracy: 9754/10000 (97.54%)\n",
            "Round 24/200\n"
          ]
        },
        {
          "output_type": "stream",
          "name": "stderr",
          "text": [
            "100%|██████████| 100/100 [00:51<00:00,  1.94it/s]\n"
          ]
        },
        {
          "output_type": "stream",
          "name": "stdout",
          "text": [
            "Test set: Average loss: 0.0075, Accuracy: 9778/10000 (97.78%)\n",
            "Round 25/200\n"
          ]
        },
        {
          "output_type": "stream",
          "name": "stderr",
          "text": [
            "100%|██████████| 100/100 [00:52<00:00,  1.90it/s]\n"
          ]
        },
        {
          "output_type": "stream",
          "name": "stdout",
          "text": [
            "Test set: Average loss: 0.0078, Accuracy: 9767/10000 (97.67%)\n",
            "Round 26/200\n"
          ]
        },
        {
          "output_type": "stream",
          "name": "stderr",
          "text": [
            "100%|██████████| 100/100 [00:52<00:00,  1.92it/s]\n"
          ]
        },
        {
          "output_type": "stream",
          "name": "stdout",
          "text": [
            "Test set: Average loss: 0.0072, Accuracy: 9790/10000 (97.90%)\n",
            "Round 27/200\n"
          ]
        },
        {
          "output_type": "stream",
          "name": "stderr",
          "text": [
            "100%|██████████| 100/100 [00:52<00:00,  1.92it/s]\n"
          ]
        },
        {
          "output_type": "stream",
          "name": "stdout",
          "text": [
            "Test set: Average loss: 0.0074, Accuracy: 9785/10000 (97.85%)\n",
            "Round 28/200\n"
          ]
        },
        {
          "output_type": "stream",
          "name": "stderr",
          "text": [
            "100%|██████████| 100/100 [00:52<00:00,  1.91it/s]\n"
          ]
        },
        {
          "output_type": "stream",
          "name": "stdout",
          "text": [
            "Test set: Average loss: 0.0069, Accuracy: 9788/10000 (97.88%)\n",
            "Round 29/200\n"
          ]
        },
        {
          "output_type": "stream",
          "name": "stderr",
          "text": [
            "100%|██████████| 100/100 [00:52<00:00,  1.92it/s]\n"
          ]
        },
        {
          "output_type": "stream",
          "name": "stdout",
          "text": [
            "Test set: Average loss: 0.0069, Accuracy: 9789/10000 (97.89%)\n",
            "Round 30/200\n"
          ]
        },
        {
          "output_type": "stream",
          "name": "stderr",
          "text": [
            "100%|██████████| 100/100 [00:52<00:00,  1.92it/s]\n"
          ]
        },
        {
          "output_type": "stream",
          "name": "stdout",
          "text": [
            "Test set: Average loss: 0.0066, Accuracy: 9796/10000 (97.96%)\n",
            "Round 31/200\n"
          ]
        },
        {
          "output_type": "stream",
          "name": "stderr",
          "text": [
            "100%|██████████| 100/100 [00:52<00:00,  1.90it/s]\n"
          ]
        },
        {
          "output_type": "stream",
          "name": "stdout",
          "text": [
            "Test set: Average loss: 0.0065, Accuracy: 9793/10000 (97.93%)\n",
            "Round 32/200\n"
          ]
        },
        {
          "output_type": "stream",
          "name": "stderr",
          "text": [
            "100%|██████████| 100/100 [00:52<00:00,  1.91it/s]\n"
          ]
        },
        {
          "output_type": "stream",
          "name": "stdout",
          "text": [
            "Test set: Average loss: 0.0064, Accuracy: 9800/10000 (98.00%)\n",
            "Round 33/200\n"
          ]
        },
        {
          "output_type": "stream",
          "name": "stderr",
          "text": [
            "100%|██████████| 100/100 [00:51<00:00,  1.92it/s]\n"
          ]
        },
        {
          "output_type": "stream",
          "name": "stdout",
          "text": [
            "Test set: Average loss: 0.0060, Accuracy: 9805/10000 (98.05%)\n",
            "Round 34/200\n"
          ]
        },
        {
          "output_type": "stream",
          "name": "stderr",
          "text": [
            "100%|██████████| 100/100 [00:52<00:00,  1.92it/s]\n"
          ]
        },
        {
          "output_type": "stream",
          "name": "stdout",
          "text": [
            "Test set: Average loss: 0.0062, Accuracy: 9813/10000 (98.13%)\n",
            "Round 35/200\n"
          ]
        },
        {
          "output_type": "stream",
          "name": "stderr",
          "text": [
            "100%|██████████| 100/100 [00:51<00:00,  1.94it/s]\n"
          ]
        },
        {
          "output_type": "stream",
          "name": "stdout",
          "text": [
            "Test set: Average loss: 0.0058, Accuracy: 9823/10000 (98.23%)\n",
            "Round 36/200\n"
          ]
        },
        {
          "output_type": "stream",
          "name": "stderr",
          "text": [
            "100%|██████████| 100/100 [00:51<00:00,  1.95it/s]\n"
          ]
        },
        {
          "output_type": "stream",
          "name": "stdout",
          "text": [
            "Test set: Average loss: 0.0056, Accuracy: 9823/10000 (98.23%)\n",
            "Round 37/200\n"
          ]
        },
        {
          "output_type": "stream",
          "name": "stderr",
          "text": [
            "100%|██████████| 100/100 [00:51<00:00,  1.95it/s]\n"
          ]
        },
        {
          "output_type": "stream",
          "name": "stdout",
          "text": [
            "Test set: Average loss: 0.0055, Accuracy: 9824/10000 (98.24%)\n",
            "Round 38/200\n"
          ]
        },
        {
          "output_type": "stream",
          "name": "stderr",
          "text": [
            "100%|██████████| 100/100 [00:51<00:00,  1.94it/s]\n"
          ]
        },
        {
          "output_type": "stream",
          "name": "stdout",
          "text": [
            "Test set: Average loss: 0.0055, Accuracy: 9819/10000 (98.19%)\n",
            "Round 39/200\n"
          ]
        },
        {
          "output_type": "stream",
          "name": "stderr",
          "text": [
            "100%|██████████| 100/100 [00:51<00:00,  1.95it/s]\n"
          ]
        },
        {
          "output_type": "stream",
          "name": "stdout",
          "text": [
            "Test set: Average loss: 0.0055, Accuracy: 9825/10000 (98.25%)\n",
            "Round 40/200\n"
          ]
        },
        {
          "output_type": "stream",
          "name": "stderr",
          "text": [
            "100%|██████████| 100/100 [00:51<00:00,  1.93it/s]\n"
          ]
        },
        {
          "output_type": "stream",
          "name": "stdout",
          "text": [
            "Test set: Average loss: 0.0054, Accuracy: 9821/10000 (98.21%)\n",
            "Round 41/200\n"
          ]
        },
        {
          "output_type": "stream",
          "name": "stderr",
          "text": [
            "100%|██████████| 100/100 [00:50<00:00,  1.96it/s]\n"
          ]
        },
        {
          "output_type": "stream",
          "name": "stdout",
          "text": [
            "Test set: Average loss: 0.0052, Accuracy: 9829/10000 (98.29%)\n",
            "Round 42/200\n"
          ]
        },
        {
          "output_type": "stream",
          "name": "stderr",
          "text": [
            "100%|██████████| 100/100 [00:51<00:00,  1.94it/s]\n"
          ]
        },
        {
          "output_type": "stream",
          "name": "stdout",
          "text": [
            "Test set: Average loss: 0.0050, Accuracy: 9839/10000 (98.39%)\n",
            "Round 43/200\n"
          ]
        },
        {
          "output_type": "stream",
          "name": "stderr",
          "text": [
            "100%|██████████| 100/100 [00:50<00:00,  1.97it/s]\n"
          ]
        },
        {
          "output_type": "stream",
          "name": "stdout",
          "text": [
            "Test set: Average loss: 0.0050, Accuracy: 9835/10000 (98.35%)\n",
            "Round 44/200\n"
          ]
        },
        {
          "output_type": "stream",
          "name": "stderr",
          "text": [
            "100%|██████████| 100/100 [00:51<00:00,  1.95it/s]\n"
          ]
        },
        {
          "output_type": "stream",
          "name": "stdout",
          "text": [
            "Test set: Average loss: 0.0048, Accuracy: 9840/10000 (98.40%)\n",
            "Round 45/200\n"
          ]
        },
        {
          "output_type": "stream",
          "name": "stderr",
          "text": [
            "100%|██████████| 100/100 [00:50<00:00,  1.96it/s]\n"
          ]
        },
        {
          "output_type": "stream",
          "name": "stdout",
          "text": [
            "Test set: Average loss: 0.0048, Accuracy: 9843/10000 (98.43%)\n",
            "Round 46/200\n"
          ]
        },
        {
          "output_type": "stream",
          "name": "stderr",
          "text": [
            "100%|██████████| 100/100 [00:51<00:00,  1.96it/s]\n"
          ]
        },
        {
          "output_type": "stream",
          "name": "stdout",
          "text": [
            "Test set: Average loss: 0.0048, Accuracy: 9839/10000 (98.39%)\n",
            "Round 47/200\n"
          ]
        },
        {
          "output_type": "stream",
          "name": "stderr",
          "text": [
            "100%|██████████| 100/100 [00:51<00:00,  1.96it/s]\n"
          ]
        },
        {
          "output_type": "stream",
          "name": "stdout",
          "text": [
            "Test set: Average loss: 0.0047, Accuracy: 9841/10000 (98.41%)\n",
            "Round 48/200\n"
          ]
        },
        {
          "output_type": "stream",
          "name": "stderr",
          "text": [
            "100%|██████████| 100/100 [00:51<00:00,  1.96it/s]\n"
          ]
        },
        {
          "output_type": "stream",
          "name": "stdout",
          "text": [
            "Test set: Average loss: 0.0046, Accuracy: 9848/10000 (98.48%)\n",
            "Round 49/200\n"
          ]
        },
        {
          "output_type": "stream",
          "name": "stderr",
          "text": [
            "100%|██████████| 100/100 [00:50<00:00,  1.97it/s]\n"
          ]
        },
        {
          "output_type": "stream",
          "name": "stdout",
          "text": [
            "Test set: Average loss: 0.0047, Accuracy: 9848/10000 (98.48%)\n",
            "Round 50/200\n"
          ]
        },
        {
          "output_type": "stream",
          "name": "stderr",
          "text": [
            "100%|██████████| 100/100 [00:50<00:00,  1.96it/s]\n"
          ]
        },
        {
          "output_type": "stream",
          "name": "stdout",
          "text": [
            "Test set: Average loss: 0.0045, Accuracy: 9852/10000 (98.52%)\n",
            "Round 51/200\n"
          ]
        },
        {
          "output_type": "stream",
          "name": "stderr",
          "text": [
            "100%|██████████| 100/100 [00:51<00:00,  1.94it/s]\n"
          ]
        },
        {
          "output_type": "stream",
          "name": "stdout",
          "text": [
            "Test set: Average loss: 0.0045, Accuracy: 9853/10000 (98.53%)\n",
            "Round 52/200\n"
          ]
        },
        {
          "output_type": "stream",
          "name": "stderr",
          "text": [
            "100%|██████████| 100/100 [00:51<00:00,  1.96it/s]\n"
          ]
        },
        {
          "output_type": "stream",
          "name": "stdout",
          "text": [
            "Test set: Average loss: 0.0046, Accuracy: 9851/10000 (98.51%)\n",
            "Round 53/200\n"
          ]
        },
        {
          "output_type": "stream",
          "name": "stderr",
          "text": [
            "100%|██████████| 100/100 [00:50<00:00,  1.96it/s]\n"
          ]
        },
        {
          "output_type": "stream",
          "name": "stdout",
          "text": [
            "Test set: Average loss: 0.0043, Accuracy: 9852/10000 (98.52%)\n",
            "Round 54/200\n"
          ]
        },
        {
          "output_type": "stream",
          "name": "stderr",
          "text": [
            "100%|██████████| 100/100 [00:51<00:00,  1.96it/s]\n"
          ]
        },
        {
          "output_type": "stream",
          "name": "stdout",
          "text": [
            "Test set: Average loss: 0.0043, Accuracy: 9859/10000 (98.59%)\n",
            "Round 55/200\n"
          ]
        },
        {
          "output_type": "stream",
          "name": "stderr",
          "text": [
            "100%|██████████| 100/100 [00:50<00:00,  1.97it/s]\n"
          ]
        },
        {
          "output_type": "stream",
          "name": "stdout",
          "text": [
            "Test set: Average loss: 0.0043, Accuracy: 9856/10000 (98.56%)\n",
            "Round 56/200\n"
          ]
        },
        {
          "output_type": "stream",
          "name": "stderr",
          "text": [
            "100%|██████████| 100/100 [00:50<00:00,  1.96it/s]\n"
          ]
        },
        {
          "output_type": "stream",
          "name": "stdout",
          "text": [
            "Test set: Average loss: 0.0043, Accuracy: 9856/10000 (98.56%)\n",
            "Round 57/200\n"
          ]
        },
        {
          "output_type": "stream",
          "name": "stderr",
          "text": [
            "100%|██████████| 100/100 [00:51<00:00,  1.95it/s]\n"
          ]
        },
        {
          "output_type": "stream",
          "name": "stdout",
          "text": [
            "Test set: Average loss: 0.0042, Accuracy: 9858/10000 (98.58%)\n",
            "Round 58/200\n"
          ]
        },
        {
          "output_type": "stream",
          "name": "stderr",
          "text": [
            "100%|██████████| 100/100 [00:50<00:00,  1.98it/s]\n"
          ]
        },
        {
          "output_type": "stream",
          "name": "stdout",
          "text": [
            "Test set: Average loss: 0.0042, Accuracy: 9861/10000 (98.61%)\n",
            "Round 59/200\n"
          ]
        },
        {
          "output_type": "stream",
          "name": "stderr",
          "text": [
            "100%|██████████| 100/100 [00:51<00:00,  1.96it/s]\n"
          ]
        },
        {
          "output_type": "stream",
          "name": "stdout",
          "text": [
            "Test set: Average loss: 0.0041, Accuracy: 9860/10000 (98.60%)\n",
            "Round 60/200\n"
          ]
        },
        {
          "output_type": "stream",
          "name": "stderr",
          "text": [
            "100%|██████████| 100/100 [00:50<00:00,  1.98it/s]\n"
          ]
        },
        {
          "output_type": "stream",
          "name": "stdout",
          "text": [
            "Test set: Average loss: 0.0041, Accuracy: 9860/10000 (98.60%)\n",
            "Round 61/200\n"
          ]
        },
        {
          "output_type": "stream",
          "name": "stderr",
          "text": [
            "100%|██████████| 100/100 [00:51<00:00,  1.96it/s]\n"
          ]
        },
        {
          "output_type": "stream",
          "name": "stdout",
          "text": [
            "Test set: Average loss: 0.0041, Accuracy: 9857/10000 (98.57%)\n",
            "Round 62/200\n"
          ]
        },
        {
          "output_type": "stream",
          "name": "stderr",
          "text": [
            "100%|██████████| 100/100 [00:50<00:00,  1.97it/s]\n"
          ]
        },
        {
          "output_type": "stream",
          "name": "stdout",
          "text": [
            "Test set: Average loss: 0.0040, Accuracy: 9859/10000 (98.59%)\n",
            "Round 63/200\n"
          ]
        },
        {
          "output_type": "stream",
          "name": "stderr",
          "text": [
            "100%|██████████| 100/100 [00:51<00:00,  1.96it/s]\n"
          ]
        },
        {
          "output_type": "stream",
          "name": "stdout",
          "text": [
            "Test set: Average loss: 0.0040, Accuracy: 9863/10000 (98.63%)\n",
            "Round 64/200\n"
          ]
        },
        {
          "output_type": "stream",
          "name": "stderr",
          "text": [
            "100%|██████████| 100/100 [00:50<00:00,  1.98it/s]\n"
          ]
        },
        {
          "output_type": "stream",
          "name": "stdout",
          "text": [
            "Test set: Average loss: 0.0040, Accuracy: 9861/10000 (98.61%)\n",
            "Round 65/200\n"
          ]
        },
        {
          "output_type": "stream",
          "name": "stderr",
          "text": [
            "100%|██████████| 100/100 [00:51<00:00,  1.94it/s]\n"
          ]
        },
        {
          "output_type": "stream",
          "name": "stdout",
          "text": [
            "Test set: Average loss: 0.0039, Accuracy: 9865/10000 (98.65%)\n",
            "Round 66/200\n"
          ]
        },
        {
          "output_type": "stream",
          "name": "stderr",
          "text": [
            "100%|██████████| 100/100 [00:52<00:00,  1.91it/s]\n"
          ]
        },
        {
          "output_type": "stream",
          "name": "stdout",
          "text": [
            "Test set: Average loss: 0.0039, Accuracy: 9864/10000 (98.64%)\n",
            "Round 67/200\n"
          ]
        },
        {
          "output_type": "stream",
          "name": "stderr",
          "text": [
            "100%|██████████| 100/100 [00:51<00:00,  1.93it/s]\n"
          ]
        },
        {
          "output_type": "stream",
          "name": "stdout",
          "text": [
            "Test set: Average loss: 0.0038, Accuracy: 9866/10000 (98.66%)\n",
            "Round 68/200\n"
          ]
        },
        {
          "output_type": "stream",
          "name": "stderr",
          "text": [
            "100%|██████████| 100/100 [00:51<00:00,  1.94it/s]\n"
          ]
        },
        {
          "output_type": "stream",
          "name": "stdout",
          "text": [
            "Test set: Average loss: 0.0038, Accuracy: 9864/10000 (98.64%)\n",
            "Round 69/200\n"
          ]
        },
        {
          "output_type": "stream",
          "name": "stderr",
          "text": [
            "100%|██████████| 100/100 [00:51<00:00,  1.93it/s]\n"
          ]
        },
        {
          "output_type": "stream",
          "name": "stdout",
          "text": [
            "Test set: Average loss: 0.0038, Accuracy: 9869/10000 (98.69%)\n",
            "Round 70/200\n"
          ]
        },
        {
          "output_type": "stream",
          "name": "stderr",
          "text": [
            "100%|██████████| 100/100 [00:51<00:00,  1.94it/s]\n"
          ]
        },
        {
          "output_type": "stream",
          "name": "stdout",
          "text": [
            "Test set: Average loss: 0.0038, Accuracy: 9862/10000 (98.62%)\n",
            "Round 71/200\n"
          ]
        },
        {
          "output_type": "stream",
          "name": "stderr",
          "text": [
            "100%|██████████| 100/100 [00:51<00:00,  1.93it/s]\n"
          ]
        },
        {
          "output_type": "stream",
          "name": "stdout",
          "text": [
            "Test set: Average loss: 0.0038, Accuracy: 9864/10000 (98.64%)\n",
            "Round 72/200\n"
          ]
        },
        {
          "output_type": "stream",
          "name": "stderr",
          "text": [
            "100%|██████████| 100/100 [00:51<00:00,  1.93it/s]\n"
          ]
        },
        {
          "output_type": "stream",
          "name": "stdout",
          "text": [
            "Test set: Average loss: 0.0038, Accuracy: 9868/10000 (98.68%)\n",
            "Round 73/200\n"
          ]
        },
        {
          "output_type": "stream",
          "name": "stderr",
          "text": [
            "100%|██████████| 100/100 [00:52<00:00,  1.92it/s]\n"
          ]
        },
        {
          "output_type": "stream",
          "name": "stdout",
          "text": [
            "Test set: Average loss: 0.0037, Accuracy: 9869/10000 (98.69%)\n",
            "Round 74/200\n"
          ]
        },
        {
          "output_type": "stream",
          "name": "stderr",
          "text": [
            "100%|██████████| 100/100 [00:51<00:00,  1.94it/s]\n"
          ]
        },
        {
          "output_type": "stream",
          "name": "stdout",
          "text": [
            "Test set: Average loss: 0.0036, Accuracy: 9871/10000 (98.71%)\n",
            "Round 75/200\n"
          ]
        },
        {
          "output_type": "stream",
          "name": "stderr",
          "text": [
            "100%|██████████| 100/100 [00:51<00:00,  1.93it/s]\n"
          ]
        },
        {
          "output_type": "stream",
          "name": "stdout",
          "text": [
            "Test set: Average loss: 0.0037, Accuracy: 9870/10000 (98.70%)\n",
            "Round 76/200\n"
          ]
        },
        {
          "output_type": "stream",
          "name": "stderr",
          "text": [
            "100%|██████████| 100/100 [00:53<00:00,  1.86it/s]\n"
          ]
        },
        {
          "output_type": "stream",
          "name": "stdout",
          "text": [
            "Test set: Average loss: 0.0036, Accuracy: 9871/10000 (98.71%)\n",
            "Round 77/200\n"
          ]
        },
        {
          "output_type": "stream",
          "name": "stderr",
          "text": [
            "100%|██████████| 100/100 [00:52<00:00,  1.90it/s]\n"
          ]
        },
        {
          "output_type": "stream",
          "name": "stdout",
          "text": [
            "Test set: Average loss: 0.0036, Accuracy: 9873/10000 (98.73%)\n",
            "Round 78/200\n"
          ]
        },
        {
          "output_type": "stream",
          "name": "stderr",
          "text": [
            "100%|██████████| 100/100 [00:53<00:00,  1.86it/s]\n"
          ]
        },
        {
          "output_type": "stream",
          "name": "stdout",
          "text": [
            "Test set: Average loss: 0.0035, Accuracy: 9875/10000 (98.75%)\n",
            "Round 79/200\n"
          ]
        },
        {
          "output_type": "stream",
          "name": "stderr",
          "text": [
            "100%|██████████| 100/100 [00:54<00:00,  1.84it/s]\n"
          ]
        },
        {
          "output_type": "stream",
          "name": "stdout",
          "text": [
            "Test set: Average loss: 0.0036, Accuracy: 9873/10000 (98.73%)\n",
            "Round 80/200\n"
          ]
        },
        {
          "output_type": "stream",
          "name": "stderr",
          "text": [
            "100%|██████████| 100/100 [00:54<00:00,  1.84it/s]\n"
          ]
        },
        {
          "output_type": "stream",
          "name": "stdout",
          "text": [
            "Test set: Average loss: 0.0036, Accuracy: 9872/10000 (98.72%)\n",
            "Round 81/200\n"
          ]
        },
        {
          "output_type": "stream",
          "name": "stderr",
          "text": [
            "100%|██████████| 100/100 [00:53<00:00,  1.88it/s]\n"
          ]
        },
        {
          "output_type": "stream",
          "name": "stdout",
          "text": [
            "Test set: Average loss: 0.0035, Accuracy: 9876/10000 (98.76%)\n",
            "Round 82/200\n"
          ]
        },
        {
          "output_type": "stream",
          "name": "stderr",
          "text": [
            "100%|██████████| 100/100 [00:52<00:00,  1.89it/s]\n"
          ]
        },
        {
          "output_type": "stream",
          "name": "stdout",
          "text": [
            "Test set: Average loss: 0.0035, Accuracy: 9876/10000 (98.76%)\n",
            "Round 83/200\n"
          ]
        },
        {
          "output_type": "stream",
          "name": "stderr",
          "text": [
            "100%|██████████| 100/100 [00:53<00:00,  1.88it/s]\n"
          ]
        },
        {
          "output_type": "stream",
          "name": "stdout",
          "text": [
            "Test set: Average loss: 0.0035, Accuracy: 9881/10000 (98.81%)\n",
            "Round 84/200\n"
          ]
        },
        {
          "output_type": "stream",
          "name": "stderr",
          "text": [
            "100%|██████████| 100/100 [00:52<00:00,  1.89it/s]\n"
          ]
        },
        {
          "output_type": "stream",
          "name": "stdout",
          "text": [
            "Test set: Average loss: 0.0034, Accuracy: 9881/10000 (98.81%)\n",
            "Round 85/200\n"
          ]
        },
        {
          "output_type": "stream",
          "name": "stderr",
          "text": [
            "100%|██████████| 100/100 [00:53<00:00,  1.89it/s]\n"
          ]
        },
        {
          "output_type": "stream",
          "name": "stdout",
          "text": [
            "Test set: Average loss: 0.0034, Accuracy: 9880/10000 (98.80%)\n",
            "Round 86/200\n"
          ]
        },
        {
          "output_type": "stream",
          "name": "stderr",
          "text": [
            "100%|██████████| 100/100 [00:53<00:00,  1.88it/s]\n"
          ]
        },
        {
          "output_type": "stream",
          "name": "stdout",
          "text": [
            "Test set: Average loss: 0.0034, Accuracy: 9880/10000 (98.80%)\n",
            "Round 87/200\n"
          ]
        },
        {
          "output_type": "stream",
          "name": "stderr",
          "text": [
            "100%|██████████| 100/100 [00:52<00:00,  1.90it/s]\n"
          ]
        },
        {
          "output_type": "stream",
          "name": "stdout",
          "text": [
            "Test set: Average loss: 0.0034, Accuracy: 9882/10000 (98.82%)\n",
            "Round 88/200\n"
          ]
        },
        {
          "output_type": "stream",
          "name": "stderr",
          "text": [
            "100%|██████████| 100/100 [00:52<00:00,  1.90it/s]\n"
          ]
        },
        {
          "output_type": "stream",
          "name": "stdout",
          "text": [
            "Test set: Average loss: 0.0034, Accuracy: 9883/10000 (98.83%)\n",
            "Round 89/200\n"
          ]
        },
        {
          "output_type": "stream",
          "name": "stderr",
          "text": [
            "100%|██████████| 100/100 [00:52<00:00,  1.90it/s]\n"
          ]
        },
        {
          "output_type": "stream",
          "name": "stdout",
          "text": [
            "Test set: Average loss: 0.0034, Accuracy: 9880/10000 (98.80%)\n",
            "Round 90/200\n"
          ]
        },
        {
          "output_type": "stream",
          "name": "stderr",
          "text": [
            "100%|██████████| 100/100 [00:52<00:00,  1.90it/s]\n"
          ]
        },
        {
          "output_type": "stream",
          "name": "stdout",
          "text": [
            "Test set: Average loss: 0.0034, Accuracy: 9884/10000 (98.84%)\n",
            "Round 91/200\n"
          ]
        },
        {
          "output_type": "stream",
          "name": "stderr",
          "text": [
            "100%|██████████| 100/100 [00:52<00:00,  1.89it/s]\n"
          ]
        },
        {
          "output_type": "stream",
          "name": "stdout",
          "text": [
            "Test set: Average loss: 0.0034, Accuracy: 9882/10000 (98.82%)\n",
            "Round 92/200\n"
          ]
        },
        {
          "output_type": "stream",
          "name": "stderr",
          "text": [
            "100%|██████████| 100/100 [00:52<00:00,  1.90it/s]\n"
          ]
        },
        {
          "output_type": "stream",
          "name": "stdout",
          "text": [
            "Test set: Average loss: 0.0034, Accuracy: 9881/10000 (98.81%)\n",
            "Round 93/200\n"
          ]
        },
        {
          "output_type": "stream",
          "name": "stderr",
          "text": [
            "100%|██████████| 100/100 [00:52<00:00,  1.90it/s]\n"
          ]
        },
        {
          "output_type": "stream",
          "name": "stdout",
          "text": [
            "Test set: Average loss: 0.0034, Accuracy: 9876/10000 (98.76%)\n",
            "Round 94/200\n"
          ]
        },
        {
          "output_type": "stream",
          "name": "stderr",
          "text": [
            "100%|██████████| 100/100 [00:52<00:00,  1.91it/s]\n"
          ]
        },
        {
          "output_type": "stream",
          "name": "stdout",
          "text": [
            "Test set: Average loss: 0.0034, Accuracy: 9878/10000 (98.78%)\n",
            "Round 95/200\n"
          ]
        },
        {
          "output_type": "stream",
          "name": "stderr",
          "text": [
            "100%|██████████| 100/100 [00:52<00:00,  1.90it/s]\n"
          ]
        },
        {
          "output_type": "stream",
          "name": "stdout",
          "text": [
            "Test set: Average loss: 0.0033, Accuracy: 9886/10000 (98.86%)\n",
            "Round 96/200\n"
          ]
        },
        {
          "output_type": "stream",
          "name": "stderr",
          "text": [
            "100%|██████████| 100/100 [00:52<00:00,  1.89it/s]\n"
          ]
        },
        {
          "output_type": "stream",
          "name": "stdout",
          "text": [
            "Test set: Average loss: 0.0035, Accuracy: 9876/10000 (98.76%)\n",
            "Round 97/200\n"
          ]
        },
        {
          "output_type": "stream",
          "name": "stderr",
          "text": [
            "100%|██████████| 100/100 [00:52<00:00,  1.91it/s]\n"
          ]
        },
        {
          "output_type": "stream",
          "name": "stdout",
          "text": [
            "Test set: Average loss: 0.0034, Accuracy: 9879/10000 (98.79%)\n",
            "Round 98/200\n"
          ]
        },
        {
          "output_type": "stream",
          "name": "stderr",
          "text": [
            "100%|██████████| 100/100 [00:52<00:00,  1.89it/s]\n"
          ]
        },
        {
          "output_type": "stream",
          "name": "stdout",
          "text": [
            "Test set: Average loss: 0.0033, Accuracy: 9884/10000 (98.84%)\n",
            "Round 99/200\n"
          ]
        },
        {
          "output_type": "stream",
          "name": "stderr",
          "text": [
            "100%|██████████| 100/100 [00:52<00:00,  1.91it/s]\n"
          ]
        },
        {
          "output_type": "stream",
          "name": "stdout",
          "text": [
            "Test set: Average loss: 0.0033, Accuracy: 9882/10000 (98.82%)\n",
            "Round 100/200\n"
          ]
        },
        {
          "output_type": "stream",
          "name": "stderr",
          "text": [
            "100%|██████████| 100/100 [00:52<00:00,  1.90it/s]\n"
          ]
        },
        {
          "output_type": "stream",
          "name": "stdout",
          "text": [
            "Test set: Average loss: 0.0033, Accuracy: 9885/10000 (98.85%)\n",
            "Round 101/200\n"
          ]
        },
        {
          "output_type": "stream",
          "name": "stderr",
          "text": [
            "100%|██████████| 100/100 [00:52<00:00,  1.89it/s]\n"
          ]
        },
        {
          "output_type": "stream",
          "name": "stdout",
          "text": [
            "Test set: Average loss: 0.0032, Accuracy: 9883/10000 (98.83%)\n",
            "Round 102/200\n"
          ]
        },
        {
          "output_type": "stream",
          "name": "stderr",
          "text": [
            "100%|██████████| 100/100 [00:52<00:00,  1.91it/s]\n"
          ]
        },
        {
          "output_type": "stream",
          "name": "stdout",
          "text": [
            "Test set: Average loss: 0.0033, Accuracy: 9883/10000 (98.83%)\n",
            "Round 103/200\n"
          ]
        },
        {
          "output_type": "stream",
          "name": "stderr",
          "text": [
            "100%|██████████| 100/100 [00:52<00:00,  1.90it/s]\n"
          ]
        },
        {
          "output_type": "stream",
          "name": "stdout",
          "text": [
            "Test set: Average loss: 0.0033, Accuracy: 9880/10000 (98.80%)\n",
            "Round 104/200\n"
          ]
        },
        {
          "output_type": "stream",
          "name": "stderr",
          "text": [
            "100%|██████████| 100/100 [00:52<00:00,  1.91it/s]\n"
          ]
        },
        {
          "output_type": "stream",
          "name": "stdout",
          "text": [
            "Test set: Average loss: 0.0033, Accuracy: 9882/10000 (98.82%)\n",
            "Round 105/200\n"
          ]
        },
        {
          "output_type": "stream",
          "name": "stderr",
          "text": [
            "100%|██████████| 100/100 [00:53<00:00,  1.88it/s]\n"
          ]
        },
        {
          "output_type": "stream",
          "name": "stdout",
          "text": [
            "Test set: Average loss: 0.0033, Accuracy: 9881/10000 (98.81%)\n",
            "Round 106/200\n"
          ]
        },
        {
          "output_type": "stream",
          "name": "stderr",
          "text": [
            "100%|██████████| 100/100 [00:52<00:00,  1.90it/s]\n"
          ]
        },
        {
          "output_type": "stream",
          "name": "stdout",
          "text": [
            "Test set: Average loss: 0.0033, Accuracy: 9882/10000 (98.82%)\n",
            "Round 107/200\n"
          ]
        },
        {
          "output_type": "stream",
          "name": "stderr",
          "text": [
            "100%|██████████| 100/100 [00:52<00:00,  1.90it/s]\n"
          ]
        },
        {
          "output_type": "stream",
          "name": "stdout",
          "text": [
            "Test set: Average loss: 0.0032, Accuracy: 9885/10000 (98.85%)\n",
            "Round 108/200\n"
          ]
        },
        {
          "output_type": "stream",
          "name": "stderr",
          "text": [
            "100%|██████████| 100/100 [00:52<00:00,  1.89it/s]\n"
          ]
        },
        {
          "output_type": "stream",
          "name": "stdout",
          "text": [
            "Test set: Average loss: 0.0033, Accuracy: 9882/10000 (98.82%)\n",
            "Round 109/200\n"
          ]
        },
        {
          "output_type": "stream",
          "name": "stderr",
          "text": [
            "100%|██████████| 100/100 [00:52<00:00,  1.91it/s]\n"
          ]
        },
        {
          "output_type": "stream",
          "name": "stdout",
          "text": [
            "Test set: Average loss: 0.0032, Accuracy: 9886/10000 (98.86%)\n",
            "Round 110/200\n"
          ]
        },
        {
          "output_type": "stream",
          "name": "stderr",
          "text": [
            "100%|██████████| 100/100 [00:53<00:00,  1.88it/s]\n"
          ]
        },
        {
          "output_type": "stream",
          "name": "stdout",
          "text": [
            "Test set: Average loss: 0.0032, Accuracy: 9889/10000 (98.89%)\n",
            "Round 111/200\n"
          ]
        },
        {
          "output_type": "stream",
          "name": "stderr",
          "text": [
            "100%|██████████| 100/100 [00:52<00:00,  1.90it/s]\n"
          ]
        },
        {
          "output_type": "stream",
          "name": "stdout",
          "text": [
            "Test set: Average loss: 0.0032, Accuracy: 9886/10000 (98.86%)\n",
            "Round 112/200\n"
          ]
        },
        {
          "output_type": "stream",
          "name": "stderr",
          "text": [
            "100%|██████████| 100/100 [00:52<00:00,  1.89it/s]\n"
          ]
        },
        {
          "output_type": "stream",
          "name": "stdout",
          "text": [
            "Test set: Average loss: 0.0032, Accuracy: 9886/10000 (98.86%)\n",
            "Round 113/200\n"
          ]
        },
        {
          "output_type": "stream",
          "name": "stderr",
          "text": [
            "100%|██████████| 100/100 [00:52<00:00,  1.90it/s]\n"
          ]
        },
        {
          "output_type": "stream",
          "name": "stdout",
          "text": [
            "Test set: Average loss: 0.0032, Accuracy: 9884/10000 (98.84%)\n",
            "Round 114/200\n"
          ]
        },
        {
          "output_type": "stream",
          "name": "stderr",
          "text": [
            "100%|██████████| 100/100 [00:52<00:00,  1.92it/s]\n"
          ]
        },
        {
          "output_type": "stream",
          "name": "stdout",
          "text": [
            "Test set: Average loss: 0.0032, Accuracy: 9885/10000 (98.85%)\n",
            "Round 115/200\n"
          ]
        },
        {
          "output_type": "stream",
          "name": "stderr",
          "text": [
            "100%|██████████| 100/100 [00:54<00:00,  1.84it/s]\n"
          ]
        },
        {
          "output_type": "stream",
          "name": "stdout",
          "text": [
            "Test set: Average loss: 0.0032, Accuracy: 9885/10000 (98.85%)\n",
            "Round 116/200\n"
          ]
        },
        {
          "output_type": "stream",
          "name": "stderr",
          "text": [
            "100%|██████████| 100/100 [00:52<00:00,  1.90it/s]\n"
          ]
        },
        {
          "output_type": "stream",
          "name": "stdout",
          "text": [
            "Test set: Average loss: 0.0032, Accuracy: 9887/10000 (98.87%)\n",
            "Round 117/200\n"
          ]
        },
        {
          "output_type": "stream",
          "name": "stderr",
          "text": [
            "100%|██████████| 100/100 [00:52<00:00,  1.91it/s]\n"
          ]
        },
        {
          "output_type": "stream",
          "name": "stdout",
          "text": [
            "Test set: Average loss: 0.0031, Accuracy: 9885/10000 (98.85%)\n",
            "Round 118/200\n"
          ]
        },
        {
          "output_type": "stream",
          "name": "stderr",
          "text": [
            "100%|██████████| 100/100 [00:53<00:00,  1.88it/s]\n"
          ]
        },
        {
          "output_type": "stream",
          "name": "stdout",
          "text": [
            "Test set: Average loss: 0.0031, Accuracy: 9884/10000 (98.84%)\n",
            "Round 119/200\n"
          ]
        },
        {
          "output_type": "stream",
          "name": "stderr",
          "text": [
            "100%|██████████| 100/100 [00:52<00:00,  1.91it/s]\n"
          ]
        },
        {
          "output_type": "stream",
          "name": "stdout",
          "text": [
            "Test set: Average loss: 0.0031, Accuracy: 9882/10000 (98.82%)\n",
            "Round 120/200\n"
          ]
        },
        {
          "output_type": "stream",
          "name": "stderr",
          "text": [
            "100%|██████████| 100/100 [00:53<00:00,  1.89it/s]\n"
          ]
        },
        {
          "output_type": "stream",
          "name": "stdout",
          "text": [
            "Test set: Average loss: 0.0031, Accuracy: 9885/10000 (98.85%)\n",
            "Round 121/200\n"
          ]
        },
        {
          "output_type": "stream",
          "name": "stderr",
          "text": [
            "100%|██████████| 100/100 [00:52<00:00,  1.90it/s]\n"
          ]
        },
        {
          "output_type": "stream",
          "name": "stdout",
          "text": [
            "Test set: Average loss: 0.0031, Accuracy: 9885/10000 (98.85%)\n",
            "Round 122/200\n"
          ]
        },
        {
          "output_type": "stream",
          "name": "stderr",
          "text": [
            "100%|██████████| 100/100 [00:52<00:00,  1.89it/s]\n"
          ]
        },
        {
          "output_type": "stream",
          "name": "stdout",
          "text": [
            "Test set: Average loss: 0.0031, Accuracy: 9882/10000 (98.82%)\n",
            "Round 123/200\n"
          ]
        },
        {
          "output_type": "stream",
          "name": "stderr",
          "text": [
            "100%|██████████| 100/100 [00:52<00:00,  1.89it/s]\n"
          ]
        },
        {
          "output_type": "stream",
          "name": "stdout",
          "text": [
            "Test set: Average loss: 0.0031, Accuracy: 9885/10000 (98.85%)\n",
            "Round 124/200\n"
          ]
        },
        {
          "output_type": "stream",
          "name": "stderr",
          "text": [
            "100%|██████████| 100/100 [00:52<00:00,  1.89it/s]\n"
          ]
        },
        {
          "output_type": "stream",
          "name": "stdout",
          "text": [
            "Test set: Average loss: 0.0031, Accuracy: 9890/10000 (98.90%)\n",
            "Round 125/200\n"
          ]
        },
        {
          "output_type": "stream",
          "name": "stderr",
          "text": [
            "100%|██████████| 100/100 [00:53<00:00,  1.87it/s]\n"
          ]
        },
        {
          "output_type": "stream",
          "name": "stdout",
          "text": [
            "Test set: Average loss: 0.0031, Accuracy: 9888/10000 (98.88%)\n",
            "Round 126/200\n"
          ]
        },
        {
          "output_type": "stream",
          "name": "stderr",
          "text": [
            "100%|██████████| 100/100 [00:53<00:00,  1.88it/s]\n"
          ]
        },
        {
          "output_type": "stream",
          "name": "stdout",
          "text": [
            "Test set: Average loss: 0.0031, Accuracy: 9882/10000 (98.82%)\n",
            "Round 127/200\n"
          ]
        },
        {
          "output_type": "stream",
          "name": "stderr",
          "text": [
            "100%|██████████| 100/100 [00:52<00:00,  1.91it/s]\n"
          ]
        },
        {
          "output_type": "stream",
          "name": "stdout",
          "text": [
            "Test set: Average loss: 0.0031, Accuracy: 9884/10000 (98.84%)\n",
            "Round 128/200\n"
          ]
        },
        {
          "output_type": "stream",
          "name": "stderr",
          "text": [
            "100%|██████████| 100/100 [00:52<00:00,  1.91it/s]\n"
          ]
        },
        {
          "output_type": "stream",
          "name": "stdout",
          "text": [
            "Test set: Average loss: 0.0031, Accuracy: 9884/10000 (98.84%)\n",
            "Round 129/200\n"
          ]
        },
        {
          "output_type": "stream",
          "name": "stderr",
          "text": [
            "100%|██████████| 100/100 [00:52<00:00,  1.91it/s]\n"
          ]
        },
        {
          "output_type": "stream",
          "name": "stdout",
          "text": [
            "Test set: Average loss: 0.0031, Accuracy: 9886/10000 (98.86%)\n",
            "Round 130/200\n"
          ]
        },
        {
          "output_type": "stream",
          "name": "stderr",
          "text": [
            "100%|██████████| 100/100 [00:52<00:00,  1.89it/s]\n"
          ]
        },
        {
          "output_type": "stream",
          "name": "stdout",
          "text": [
            "Test set: Average loss: 0.0031, Accuracy: 9885/10000 (98.85%)\n",
            "Round 131/200\n"
          ]
        },
        {
          "output_type": "stream",
          "name": "stderr",
          "text": [
            "100%|██████████| 100/100 [00:52<00:00,  1.90it/s]\n"
          ]
        },
        {
          "output_type": "stream",
          "name": "stdout",
          "text": [
            "Test set: Average loss: 0.0031, Accuracy: 9887/10000 (98.87%)\n",
            "Round 132/200\n"
          ]
        },
        {
          "output_type": "stream",
          "name": "stderr",
          "text": [
            "100%|██████████| 100/100 [00:52<00:00,  1.90it/s]\n"
          ]
        },
        {
          "output_type": "stream",
          "name": "stdout",
          "text": [
            "Test set: Average loss: 0.0031, Accuracy: 9884/10000 (98.84%)\n",
            "Round 133/200\n"
          ]
        },
        {
          "output_type": "stream",
          "name": "stderr",
          "text": [
            "100%|██████████| 100/100 [00:52<00:00,  1.92it/s]\n"
          ]
        },
        {
          "output_type": "stream",
          "name": "stdout",
          "text": [
            "Test set: Average loss: 0.0031, Accuracy: 9885/10000 (98.85%)\n",
            "Round 134/200\n"
          ]
        },
        {
          "output_type": "stream",
          "name": "stderr",
          "text": [
            "100%|██████████| 100/100 [00:52<00:00,  1.91it/s]\n"
          ]
        },
        {
          "output_type": "stream",
          "name": "stdout",
          "text": [
            "Test set: Average loss: 0.0031, Accuracy: 9887/10000 (98.87%)\n",
            "Round 135/200\n"
          ]
        },
        {
          "output_type": "stream",
          "name": "stderr",
          "text": [
            "100%|██████████| 100/100 [00:52<00:00,  1.90it/s]\n"
          ]
        },
        {
          "output_type": "stream",
          "name": "stdout",
          "text": [
            "Test set: Average loss: 0.0030, Accuracy: 9888/10000 (98.88%)\n",
            "Round 136/200\n"
          ]
        },
        {
          "output_type": "stream",
          "name": "stderr",
          "text": [
            "100%|██████████| 100/100 [00:52<00:00,  1.92it/s]\n"
          ]
        },
        {
          "output_type": "stream",
          "name": "stdout",
          "text": [
            "Test set: Average loss: 0.0030, Accuracy: 9890/10000 (98.90%)\n",
            "Round 137/200\n"
          ]
        },
        {
          "output_type": "stream",
          "name": "stderr",
          "text": [
            "100%|██████████| 100/100 [00:52<00:00,  1.92it/s]\n"
          ]
        },
        {
          "output_type": "stream",
          "name": "stdout",
          "text": [
            "Test set: Average loss: 0.0030, Accuracy: 9892/10000 (98.92%)\n",
            "Round 138/200\n"
          ]
        },
        {
          "output_type": "stream",
          "name": "stderr",
          "text": [
            "100%|██████████| 100/100 [00:52<00:00,  1.89it/s]\n"
          ]
        },
        {
          "output_type": "stream",
          "name": "stdout",
          "text": [
            "Test set: Average loss: 0.0030, Accuracy: 9891/10000 (98.91%)\n",
            "Round 139/200\n"
          ]
        },
        {
          "output_type": "stream",
          "name": "stderr",
          "text": [
            "100%|██████████| 100/100 [00:52<00:00,  1.90it/s]\n"
          ]
        },
        {
          "output_type": "stream",
          "name": "stdout",
          "text": [
            "Test set: Average loss: 0.0030, Accuracy: 9892/10000 (98.92%)\n",
            "Round 140/200\n"
          ]
        },
        {
          "output_type": "stream",
          "name": "stderr",
          "text": [
            "100%|██████████| 100/100 [00:53<00:00,  1.88it/s]\n"
          ]
        },
        {
          "output_type": "stream",
          "name": "stdout",
          "text": [
            "Test set: Average loss: 0.0031, Accuracy: 9892/10000 (98.92%)\n",
            "Round 141/200\n"
          ]
        },
        {
          "output_type": "stream",
          "name": "stderr",
          "text": [
            "100%|██████████| 100/100 [00:52<00:00,  1.91it/s]\n"
          ]
        },
        {
          "output_type": "stream",
          "name": "stdout",
          "text": [
            "Test set: Average loss: 0.0030, Accuracy: 9895/10000 (98.95%)\n",
            "Round 142/200\n"
          ]
        },
        {
          "output_type": "stream",
          "name": "stderr",
          "text": [
            "100%|██████████| 100/100 [00:52<00:00,  1.91it/s]\n"
          ]
        },
        {
          "output_type": "stream",
          "name": "stdout",
          "text": [
            "Test set: Average loss: 0.0030, Accuracy: 9893/10000 (98.93%)\n",
            "Round 143/200\n"
          ]
        },
        {
          "output_type": "stream",
          "name": "stderr",
          "text": [
            "100%|██████████| 100/100 [00:51<00:00,  1.93it/s]\n"
          ]
        },
        {
          "output_type": "stream",
          "name": "stdout",
          "text": [
            "Test set: Average loss: 0.0030, Accuracy: 9894/10000 (98.94%)\n",
            "Round 144/200\n"
          ]
        },
        {
          "output_type": "stream",
          "name": "stderr",
          "text": [
            "100%|██████████| 100/100 [00:53<00:00,  1.88it/s]\n"
          ]
        },
        {
          "output_type": "stream",
          "name": "stdout",
          "text": [
            "Test set: Average loss: 0.0030, Accuracy: 9893/10000 (98.93%)\n",
            "Round 145/200\n"
          ]
        },
        {
          "output_type": "stream",
          "name": "stderr",
          "text": [
            "100%|██████████| 100/100 [00:52<00:00,  1.91it/s]\n"
          ]
        },
        {
          "output_type": "stream",
          "name": "stdout",
          "text": [
            "Test set: Average loss: 0.0030, Accuracy: 9891/10000 (98.91%)\n",
            "Round 146/200\n"
          ]
        },
        {
          "output_type": "stream",
          "name": "stderr",
          "text": [
            "100%|██████████| 100/100 [00:53<00:00,  1.88it/s]\n"
          ]
        },
        {
          "output_type": "stream",
          "name": "stdout",
          "text": [
            "Test set: Average loss: 0.0030, Accuracy: 9896/10000 (98.96%)\n",
            "Round 147/200\n"
          ]
        },
        {
          "output_type": "stream",
          "name": "stderr",
          "text": [
            "100%|██████████| 100/100 [00:52<00:00,  1.90it/s]\n"
          ]
        },
        {
          "output_type": "stream",
          "name": "stdout",
          "text": [
            "Test set: Average loss: 0.0030, Accuracy: 9890/10000 (98.90%)\n",
            "Round 148/200\n"
          ]
        },
        {
          "output_type": "stream",
          "name": "stderr",
          "text": [
            "100%|██████████| 100/100 [00:53<00:00,  1.88it/s]\n"
          ]
        },
        {
          "output_type": "stream",
          "name": "stdout",
          "text": [
            "Test set: Average loss: 0.0030, Accuracy: 9894/10000 (98.94%)\n",
            "Round 149/200\n"
          ]
        },
        {
          "output_type": "stream",
          "name": "stderr",
          "text": [
            "100%|██████████| 100/100 [00:53<00:00,  1.87it/s]\n"
          ]
        },
        {
          "output_type": "stream",
          "name": "stdout",
          "text": [
            "Test set: Average loss: 0.0030, Accuracy: 9891/10000 (98.91%)\n",
            "Round 150/200\n"
          ]
        },
        {
          "output_type": "stream",
          "name": "stderr",
          "text": [
            "100%|██████████| 100/100 [00:52<00:00,  1.89it/s]\n"
          ]
        },
        {
          "output_type": "stream",
          "name": "stdout",
          "text": [
            "Test set: Average loss: 0.0030, Accuracy: 9892/10000 (98.92%)\n",
            "Round 151/200\n"
          ]
        },
        {
          "output_type": "stream",
          "name": "stderr",
          "text": [
            "100%|██████████| 100/100 [00:53<00:00,  1.86it/s]\n"
          ]
        },
        {
          "output_type": "stream",
          "name": "stdout",
          "text": [
            "Test set: Average loss: 0.0029, Accuracy: 9898/10000 (98.98%)\n",
            "Round 152/200\n"
          ]
        },
        {
          "output_type": "stream",
          "name": "stderr",
          "text": [
            "100%|██████████| 100/100 [00:53<00:00,  1.87it/s]\n"
          ]
        },
        {
          "output_type": "stream",
          "name": "stdout",
          "text": [
            "Test set: Average loss: 0.0030, Accuracy: 9896/10000 (98.96%)\n",
            "Round 153/200\n"
          ]
        },
        {
          "output_type": "stream",
          "name": "stderr",
          "text": [
            "100%|██████████| 100/100 [00:52<00:00,  1.91it/s]\n"
          ]
        },
        {
          "output_type": "stream",
          "name": "stdout",
          "text": [
            "Test set: Average loss: 0.0030, Accuracy: 9896/10000 (98.96%)\n",
            "Round 154/200\n"
          ]
        },
        {
          "output_type": "stream",
          "name": "stderr",
          "text": [
            "100%|██████████| 100/100 [00:52<00:00,  1.91it/s]\n"
          ]
        },
        {
          "output_type": "stream",
          "name": "stdout",
          "text": [
            "Test set: Average loss: 0.0030, Accuracy: 9896/10000 (98.96%)\n",
            "Round 155/200\n"
          ]
        },
        {
          "output_type": "stream",
          "name": "stderr",
          "text": [
            "100%|██████████| 100/100 [00:52<00:00,  1.91it/s]\n"
          ]
        },
        {
          "output_type": "stream",
          "name": "stdout",
          "text": [
            "Test set: Average loss: 0.0030, Accuracy: 9898/10000 (98.98%)\n",
            "Round 156/200\n"
          ]
        },
        {
          "output_type": "stream",
          "name": "stderr",
          "text": [
            "100%|██████████| 100/100 [00:52<00:00,  1.90it/s]\n"
          ]
        },
        {
          "output_type": "stream",
          "name": "stdout",
          "text": [
            "Test set: Average loss: 0.0030, Accuracy: 9899/10000 (98.99%)\n",
            "Round 157/200\n"
          ]
        },
        {
          "output_type": "stream",
          "name": "stderr",
          "text": [
            "100%|██████████| 100/100 [00:52<00:00,  1.89it/s]\n"
          ]
        },
        {
          "output_type": "stream",
          "name": "stdout",
          "text": [
            "Test set: Average loss: 0.0029, Accuracy: 9901/10000 (99.01%)\n",
            "Round 158/200\n"
          ]
        },
        {
          "output_type": "stream",
          "name": "stderr",
          "text": [
            "100%|██████████| 100/100 [00:52<00:00,  1.90it/s]\n"
          ]
        },
        {
          "output_type": "stream",
          "name": "stdout",
          "text": [
            "Test set: Average loss: 0.0030, Accuracy: 9896/10000 (98.96%)\n",
            "Round 159/200\n"
          ]
        },
        {
          "output_type": "stream",
          "name": "stderr",
          "text": [
            "100%|██████████| 100/100 [00:52<00:00,  1.91it/s]\n"
          ]
        },
        {
          "output_type": "stream",
          "name": "stdout",
          "text": [
            "Test set: Average loss: 0.0029, Accuracy: 9903/10000 (99.03%)\n",
            "Round 160/200\n"
          ]
        },
        {
          "output_type": "stream",
          "name": "stderr",
          "text": [
            "100%|██████████| 100/100 [00:51<00:00,  1.95it/s]\n"
          ]
        },
        {
          "output_type": "stream",
          "name": "stdout",
          "text": [
            "Test set: Average loss: 0.0029, Accuracy: 9899/10000 (98.99%)\n",
            "Round 161/200\n"
          ]
        },
        {
          "output_type": "stream",
          "name": "stderr",
          "text": [
            "100%|██████████| 100/100 [00:51<00:00,  1.96it/s]\n"
          ]
        },
        {
          "output_type": "stream",
          "name": "stdout",
          "text": [
            "Test set: Average loss: 0.0030, Accuracy: 9901/10000 (99.01%)\n",
            "Round 162/200\n"
          ]
        },
        {
          "output_type": "stream",
          "name": "stderr",
          "text": [
            "100%|██████████| 100/100 [00:50<00:00,  1.96it/s]\n"
          ]
        },
        {
          "output_type": "stream",
          "name": "stdout",
          "text": [
            "Test set: Average loss: 0.0030, Accuracy: 9899/10000 (98.99%)\n",
            "Round 163/200\n"
          ]
        },
        {
          "output_type": "stream",
          "name": "stderr",
          "text": [
            "100%|██████████| 100/100 [00:51<00:00,  1.96it/s]\n"
          ]
        },
        {
          "output_type": "stream",
          "name": "stdout",
          "text": [
            "Test set: Average loss: 0.0030, Accuracy: 9902/10000 (99.02%)\n",
            "Round 164/200\n"
          ]
        },
        {
          "output_type": "stream",
          "name": "stderr",
          "text": [
            "100%|██████████| 100/100 [00:50<00:00,  1.96it/s]\n"
          ]
        },
        {
          "output_type": "stream",
          "name": "stdout",
          "text": [
            "Test set: Average loss: 0.0030, Accuracy: 9901/10000 (99.01%)\n",
            "Round 165/200\n"
          ]
        },
        {
          "output_type": "stream",
          "name": "stderr",
          "text": [
            "100%|██████████| 100/100 [00:50<00:00,  1.97it/s]\n"
          ]
        },
        {
          "output_type": "stream",
          "name": "stdout",
          "text": [
            "Test set: Average loss: 0.0030, Accuracy: 9901/10000 (99.01%)\n",
            "Round 166/200\n"
          ]
        },
        {
          "output_type": "stream",
          "name": "stderr",
          "text": [
            "100%|██████████| 100/100 [00:50<00:00,  1.97it/s]\n"
          ]
        },
        {
          "output_type": "stream",
          "name": "stdout",
          "text": [
            "Test set: Average loss: 0.0029, Accuracy: 9902/10000 (99.02%)\n",
            "Round 167/200\n"
          ]
        },
        {
          "output_type": "stream",
          "name": "stderr",
          "text": [
            "100%|██████████| 100/100 [00:50<00:00,  1.97it/s]\n"
          ]
        },
        {
          "output_type": "stream",
          "name": "stdout",
          "text": [
            "Test set: Average loss: 0.0029, Accuracy: 9904/10000 (99.04%)\n",
            "Round 168/200\n"
          ]
        },
        {
          "output_type": "stream",
          "name": "stderr",
          "text": [
            "100%|██████████| 100/100 [00:51<00:00,  1.95it/s]\n"
          ]
        },
        {
          "output_type": "stream",
          "name": "stdout",
          "text": [
            "Test set: Average loss: 0.0029, Accuracy: 9901/10000 (99.01%)\n",
            "Round 169/200\n"
          ]
        },
        {
          "output_type": "stream",
          "name": "stderr",
          "text": [
            "100%|██████████| 100/100 [00:51<00:00,  1.96it/s]\n"
          ]
        },
        {
          "output_type": "stream",
          "name": "stdout",
          "text": [
            "Test set: Average loss: 0.0030, Accuracy: 9900/10000 (99.00%)\n",
            "Round 170/200\n"
          ]
        },
        {
          "output_type": "stream",
          "name": "stderr",
          "text": [
            "100%|██████████| 100/100 [00:51<00:00,  1.95it/s]\n"
          ]
        },
        {
          "output_type": "stream",
          "name": "stdout",
          "text": [
            "Test set: Average loss: 0.0030, Accuracy: 9902/10000 (99.02%)\n",
            "Round 171/200\n"
          ]
        },
        {
          "output_type": "stream",
          "name": "stderr",
          "text": [
            "100%|██████████| 100/100 [00:51<00:00,  1.96it/s]\n"
          ]
        },
        {
          "output_type": "stream",
          "name": "stdout",
          "text": [
            "Test set: Average loss: 0.0029, Accuracy: 9903/10000 (99.03%)\n",
            "Round 172/200\n"
          ]
        },
        {
          "output_type": "stream",
          "name": "stderr",
          "text": [
            "100%|██████████| 100/100 [00:51<00:00,  1.95it/s]\n"
          ]
        },
        {
          "output_type": "stream",
          "name": "stdout",
          "text": [
            "Test set: Average loss: 0.0029, Accuracy: 9907/10000 (99.07%)\n",
            "Round 173/200\n"
          ]
        },
        {
          "output_type": "stream",
          "name": "stderr",
          "text": [
            "100%|██████████| 100/100 [00:51<00:00,  1.94it/s]\n"
          ]
        },
        {
          "output_type": "stream",
          "name": "stdout",
          "text": [
            "Test set: Average loss: 0.0029, Accuracy: 9905/10000 (99.05%)\n",
            "Round 174/200\n"
          ]
        },
        {
          "output_type": "stream",
          "name": "stderr",
          "text": [
            "100%|██████████| 100/100 [00:52<00:00,  1.92it/s]\n"
          ]
        },
        {
          "output_type": "stream",
          "name": "stdout",
          "text": [
            "Test set: Average loss: 0.0029, Accuracy: 9904/10000 (99.04%)\n",
            "Round 175/200\n"
          ]
        },
        {
          "output_type": "stream",
          "name": "stderr",
          "text": [
            "100%|██████████| 100/100 [00:50<00:00,  1.96it/s]\n"
          ]
        },
        {
          "output_type": "stream",
          "name": "stdout",
          "text": [
            "Test set: Average loss: 0.0029, Accuracy: 9902/10000 (99.02%)\n",
            "Round 176/200\n"
          ]
        },
        {
          "output_type": "stream",
          "name": "stderr",
          "text": [
            "100%|██████████| 100/100 [00:50<00:00,  1.97it/s]\n"
          ]
        },
        {
          "output_type": "stream",
          "name": "stdout",
          "text": [
            "Test set: Average loss: 0.0030, Accuracy: 9898/10000 (98.98%)\n",
            "Round 177/200\n"
          ]
        },
        {
          "output_type": "stream",
          "name": "stderr",
          "text": [
            "100%|██████████| 100/100 [00:51<00:00,  1.95it/s]\n"
          ]
        },
        {
          "output_type": "stream",
          "name": "stdout",
          "text": [
            "Test set: Average loss: 0.0030, Accuracy: 9898/10000 (98.98%)\n",
            "Round 178/200\n"
          ]
        },
        {
          "output_type": "stream",
          "name": "stderr",
          "text": [
            "100%|██████████| 100/100 [00:51<00:00,  1.95it/s]\n"
          ]
        },
        {
          "output_type": "stream",
          "name": "stdout",
          "text": [
            "Test set: Average loss: 0.0029, Accuracy: 9896/10000 (98.96%)\n",
            "Round 179/200\n"
          ]
        },
        {
          "output_type": "stream",
          "name": "stderr",
          "text": [
            "100%|██████████| 100/100 [00:51<00:00,  1.94it/s]\n"
          ]
        },
        {
          "output_type": "stream",
          "name": "stdout",
          "text": [
            "Test set: Average loss: 0.0029, Accuracy: 9898/10000 (98.98%)\n",
            "Round 180/200\n"
          ]
        },
        {
          "output_type": "stream",
          "name": "stderr",
          "text": [
            "100%|██████████| 100/100 [00:51<00:00,  1.92it/s]\n"
          ]
        },
        {
          "output_type": "stream",
          "name": "stdout",
          "text": [
            "Test set: Average loss: 0.0029, Accuracy: 9896/10000 (98.96%)\n",
            "Round 181/200\n"
          ]
        },
        {
          "output_type": "stream",
          "name": "stderr",
          "text": [
            "100%|██████████| 100/100 [00:51<00:00,  1.94it/s]\n"
          ]
        },
        {
          "output_type": "stream",
          "name": "stdout",
          "text": [
            "Test set: Average loss: 0.0029, Accuracy: 9897/10000 (98.97%)\n",
            "Round 182/200\n"
          ]
        },
        {
          "output_type": "stream",
          "name": "stderr",
          "text": [
            "100%|██████████| 100/100 [00:52<00:00,  1.91it/s]\n"
          ]
        },
        {
          "output_type": "stream",
          "name": "stdout",
          "text": [
            "Test set: Average loss: 0.0029, Accuracy: 9898/10000 (98.98%)\n",
            "Round 183/200\n"
          ]
        },
        {
          "output_type": "stream",
          "name": "stderr",
          "text": [
            "100%|██████████| 100/100 [00:52<00:00,  1.92it/s]\n"
          ]
        },
        {
          "output_type": "stream",
          "name": "stdout",
          "text": [
            "Test set: Average loss: 0.0029, Accuracy: 9900/10000 (99.00%)\n",
            "Round 184/200\n"
          ]
        },
        {
          "output_type": "stream",
          "name": "stderr",
          "text": [
            "100%|██████████| 100/100 [00:51<00:00,  1.93it/s]\n"
          ]
        },
        {
          "output_type": "stream",
          "name": "stdout",
          "text": [
            "Test set: Average loss: 0.0029, Accuracy: 9904/10000 (99.04%)\n",
            "Round 185/200\n"
          ]
        },
        {
          "output_type": "stream",
          "name": "stderr",
          "text": [
            "100%|██████████| 100/100 [00:52<00:00,  1.90it/s]\n"
          ]
        },
        {
          "output_type": "stream",
          "name": "stdout",
          "text": [
            "Test set: Average loss: 0.0029, Accuracy: 9901/10000 (99.01%)\n",
            "Round 186/200\n"
          ]
        },
        {
          "output_type": "stream",
          "name": "stderr",
          "text": [
            "100%|██████████| 100/100 [00:51<00:00,  1.93it/s]\n"
          ]
        },
        {
          "output_type": "stream",
          "name": "stdout",
          "text": [
            "Test set: Average loss: 0.0029, Accuracy: 9902/10000 (99.02%)\n",
            "Round 187/200\n"
          ]
        },
        {
          "output_type": "stream",
          "name": "stderr",
          "text": [
            "100%|██████████| 100/100 [00:52<00:00,  1.91it/s]\n"
          ]
        },
        {
          "output_type": "stream",
          "name": "stdout",
          "text": [
            "Test set: Average loss: 0.0030, Accuracy: 9904/10000 (99.04%)\n",
            "Round 188/200\n"
          ]
        },
        {
          "output_type": "stream",
          "name": "stderr",
          "text": [
            "100%|██████████| 100/100 [00:51<00:00,  1.93it/s]\n"
          ]
        },
        {
          "output_type": "stream",
          "name": "stdout",
          "text": [
            "Test set: Average loss: 0.0030, Accuracy: 9904/10000 (99.04%)\n",
            "Round 189/200\n"
          ]
        },
        {
          "output_type": "stream",
          "name": "stderr",
          "text": [
            "100%|██████████| 100/100 [00:52<00:00,  1.92it/s]\n"
          ]
        },
        {
          "output_type": "stream",
          "name": "stdout",
          "text": [
            "Test set: Average loss: 0.0030, Accuracy: 9901/10000 (99.01%)\n",
            "Round 190/200\n"
          ]
        },
        {
          "output_type": "stream",
          "name": "stderr",
          "text": [
            "100%|██████████| 100/100 [00:51<00:00,  1.93it/s]\n"
          ]
        },
        {
          "output_type": "stream",
          "name": "stdout",
          "text": [
            "Test set: Average loss: 0.0030, Accuracy: 9907/10000 (99.07%)\n",
            "Round 191/200\n"
          ]
        },
        {
          "output_type": "stream",
          "name": "stderr",
          "text": [
            "100%|██████████| 100/100 [00:52<00:00,  1.91it/s]\n"
          ]
        },
        {
          "output_type": "stream",
          "name": "stdout",
          "text": [
            "Test set: Average loss: 0.0030, Accuracy: 9905/10000 (99.05%)\n",
            "Round 192/200\n"
          ]
        },
        {
          "output_type": "stream",
          "name": "stderr",
          "text": [
            "100%|██████████| 100/100 [00:51<00:00,  1.93it/s]\n"
          ]
        },
        {
          "output_type": "stream",
          "name": "stdout",
          "text": [
            "Test set: Average loss: 0.0029, Accuracy: 9905/10000 (99.05%)\n",
            "Round 193/200\n"
          ]
        },
        {
          "output_type": "stream",
          "name": "stderr",
          "text": [
            "100%|██████████| 100/100 [00:52<00:00,  1.92it/s]\n"
          ]
        },
        {
          "output_type": "stream",
          "name": "stdout",
          "text": [
            "Test set: Average loss: 0.0029, Accuracy: 9906/10000 (99.06%)\n",
            "Round 194/200\n"
          ]
        },
        {
          "output_type": "stream",
          "name": "stderr",
          "text": [
            "100%|██████████| 100/100 [00:52<00:00,  1.92it/s]\n"
          ]
        },
        {
          "output_type": "stream",
          "name": "stdout",
          "text": [
            "Test set: Average loss: 0.0029, Accuracy: 9901/10000 (99.01%)\n",
            "Round 195/200\n"
          ]
        },
        {
          "output_type": "stream",
          "name": "stderr",
          "text": [
            "100%|██████████| 100/100 [00:52<00:00,  1.91it/s]\n"
          ]
        },
        {
          "output_type": "stream",
          "name": "stdout",
          "text": [
            "Test set: Average loss: 0.0029, Accuracy: 9904/10000 (99.04%)\n",
            "Round 196/200\n"
          ]
        },
        {
          "output_type": "stream",
          "name": "stderr",
          "text": [
            "100%|██████████| 100/100 [00:53<00:00,  1.89it/s]\n"
          ]
        },
        {
          "output_type": "stream",
          "name": "stdout",
          "text": [
            "Test set: Average loss: 0.0029, Accuracy: 9903/10000 (99.03%)\n",
            "Round 197/200\n"
          ]
        },
        {
          "output_type": "stream",
          "name": "stderr",
          "text": [
            "100%|██████████| 100/100 [00:52<00:00,  1.92it/s]\n"
          ]
        },
        {
          "output_type": "stream",
          "name": "stdout",
          "text": [
            "Test set: Average loss: 0.0029, Accuracy: 9904/10000 (99.04%)\n",
            "Round 198/200\n"
          ]
        },
        {
          "output_type": "stream",
          "name": "stderr",
          "text": [
            "100%|██████████| 100/100 [00:52<00:00,  1.92it/s]\n"
          ]
        },
        {
          "output_type": "stream",
          "name": "stdout",
          "text": [
            "Test set: Average loss: 0.0029, Accuracy: 9901/10000 (99.01%)\n",
            "Round 199/200\n"
          ]
        },
        {
          "output_type": "stream",
          "name": "stderr",
          "text": [
            "100%|██████████| 100/100 [00:51<00:00,  1.93it/s]\n"
          ]
        },
        {
          "output_type": "stream",
          "name": "stdout",
          "text": [
            "Test set: Average loss: 0.0029, Accuracy: 9905/10000 (99.05%)\n",
            "Round 200/200\n"
          ]
        },
        {
          "output_type": "stream",
          "name": "stderr",
          "text": [
            "100%|██████████| 100/100 [00:51<00:00,  1.94it/s]\n"
          ]
        },
        {
          "output_type": "stream",
          "name": "stdout",
          "text": [
            "Test set: Average loss: 0.0029, Accuracy: 9906/10000 (99.06%)\n",
            "Target accuracy reached at round: 157\n",
            "Best round: 190, accuracy: 0.9907\n"
          ]
        }
      ],
      "source": [
        "# rounds and target accuracy\n",
        "T = 200\n",
        "target_accuracy = 0.99\n",
        "\n",
        "state_dict, accuracies, losses = await execute(server, T, target_accuracy)\n",
        "\n",
        "# save model to file\n",
        "torch.save(state_dict, \"cnn_state_dict.pth\")"
      ]
    },
    {
      "cell_type": "markdown",
      "metadata": {
        "id": "VIENpKmy65fT"
      },
      "source": [
        "## Statistics"
      ]
    },
    {
      "cell_type": "code",
      "execution_count": 14,
      "metadata": {
        "id": "Um5mHx2E65fT",
        "colab": {
          "base_uri": "https://localhost:8080/"
        },
        "outputId": "cdb69303-3ba7-42b6-b5d4-be578c786e92"
      },
      "outputs": [
        {
          "output_type": "stream",
          "name": "stdout",
          "text": [
            "[0.1077, 0.5143, 0.7548, 0.8683, 0.8999, 0.9249, 0.9312, 0.9384, 0.9463, 0.9489, 0.9544, 0.9587, 0.9598, 0.9623, 0.9658, 0.9661, 0.9689, 0.9706, 0.9714, 0.9725, 0.973, 0.9747, 0.9754, 0.9778, 0.9767, 0.979, 0.9785, 0.9788, 0.9789, 0.9796, 0.9793, 0.98, 0.9805, 0.9813, 0.9823, 0.9823, 0.9824, 0.9819, 0.9825, 0.9821, 0.9829, 0.9839, 0.9835, 0.984, 0.9843, 0.9839, 0.9841, 0.9848, 0.9848, 0.9852, 0.9853, 0.9851, 0.9852, 0.9859, 0.9856, 0.9856, 0.9858, 0.9861, 0.986, 0.986, 0.9857, 0.9859, 0.9863, 0.9861, 0.9865, 0.9864, 0.9866, 0.9864, 0.9869, 0.9862, 0.9864, 0.9868, 0.9869, 0.9871, 0.987, 0.9871, 0.9873, 0.9875, 0.9873, 0.9872, 0.9876, 0.9876, 0.9881, 0.9881, 0.988, 0.988, 0.9882, 0.9883, 0.988, 0.9884, 0.9882, 0.9881, 0.9876, 0.9878, 0.9886, 0.9876, 0.9879, 0.9884, 0.9882, 0.9885, 0.9883, 0.9883, 0.988, 0.9882, 0.9881, 0.9882, 0.9885, 0.9882, 0.9886, 0.9889, 0.9886, 0.9886, 0.9884, 0.9885, 0.9885, 0.9887, 0.9885, 0.9884, 0.9882, 0.9885, 0.9885, 0.9882, 0.9885, 0.989, 0.9888, 0.9882, 0.9884, 0.9884, 0.9886, 0.9885, 0.9887, 0.9884, 0.9885, 0.9887, 0.9888, 0.989, 0.9892, 0.9891, 0.9892, 0.9892, 0.9895, 0.9893, 0.9894, 0.9893, 0.9891, 0.9896, 0.989, 0.9894, 0.9891, 0.9892, 0.9898, 0.9896, 0.9896, 0.9896, 0.9898, 0.9899, 0.9901, 0.9896, 0.9903, 0.9899, 0.9901, 0.9899, 0.9902, 0.9901, 0.9901, 0.9902, 0.9904, 0.9901, 0.99, 0.9902, 0.9903, 0.9907, 0.9905, 0.9904, 0.9902, 0.9898, 0.9898, 0.9896, 0.9898, 0.9896, 0.9897, 0.9898, 0.99, 0.9904, 0.9901, 0.9902, 0.9904, 0.9904, 0.9901, 0.9907, 0.9905, 0.9905, 0.9906, 0.9901, 0.9904, 0.9903, 0.9904, 0.9901, 0.9905, 0.9906]\n"
          ]
        }
      ],
      "source": [
        "# manual save to shared drive for reproducible graph\n",
        "print(accuracies)"
      ]
    },
    {
      "cell_type": "code",
      "execution_count": 15,
      "metadata": {
        "id": "WfI_uBW-65fU",
        "colab": {
          "base_uri": "https://localhost:8080/"
        },
        "outputId": "b57a443d-2913-4e4b-e32f-20e803e1f3d1"
      },
      "outputs": [
        {
          "output_type": "stream",
          "name": "stdout",
          "text": [
            "[0.23017122921943664, 0.2155325095653534, 0.15708864187002183, 0.09487750492990017, 0.06901242952942849, 0.04316591393202543, 0.03681816676519811, 0.028341783466935156, 0.023998282511904837, 0.02308591633811593, 0.019898789810109882, 0.015454994619684293, 0.014478937701042742, 0.014226354004512541, 0.012357039547688327, 0.011588658710231538, 0.010660349383507855, 0.0100075209732051, 0.010408545058430172, 0.009688279701571446, 0.00885934042018489, 0.008369203397710226, 0.008051938339063782, 0.007508972470588924, 0.007849870364466915, 0.007182200078267488, 0.0074130650610168235, 0.00688345309332799, 0.006898626483249245, 0.0065964039888815025, 0.006511756303624133, 0.006383769940298226, 0.005992697006826348, 0.00617910950036312, 0.005780713051548809, 0.005622933210023621, 0.005488675345772571, 0.005504143095912878, 0.005540980266776023, 0.00535519461449403, 0.005201835003005545, 0.005003183031027402, 0.00495281277733593, 0.00484695316223515, 0.004766806401481153, 0.004767181801633705, 0.004681739869527337, 0.004590848112687672, 0.004732320465205703, 0.004523086881951531, 0.004498985357157107, 0.004561597028209872, 0.004330225225132926, 0.004322441703598452, 0.004345690201160505, 0.004251083917335927, 0.0042232517971055135, 0.004168181286821254, 0.0041096163242221335, 0.004070640875360914, 0.0041096123681893006, 0.004024070936327553, 0.003974873218144967, 0.004003774403520765, 0.003877379499194558, 0.0039082697220033874, 0.003786797971840133, 0.0037810747771482964, 0.0038196393645709577, 0.003810665361645806, 0.0037882537470686657, 0.0037648657955283854, 0.0036989738898972973, 0.003637399200325808, 0.003681135235678721, 0.003627285491715247, 0.003604278663429477, 0.0035366768076139123, 0.003572693411205364, 0.0035914807039303014, 0.0035374114823467154, 0.0035429964835140253, 0.0034723890723002116, 0.0034389723365462485, 0.0034163109795897297, 0.0034284733417207463, 0.00342981437886865, 0.0034068734867170633, 0.003417970185902914, 0.0033960274004294433, 0.00340999828149113, 0.003368821242298418, 0.003420473842404681, 0.0033939765135500236, 0.0033343604479725854, 0.0034534170093691047, 0.003424776507607817, 0.003340816625514617, 0.0033166163806078886, 0.003252032652079083, 0.0032401641391892897, 0.003271679385547577, 0.003290909106280901, 0.003292725025831123, 0.003277636614610083, 0.0032667649235096634, 0.0032143739388359903, 0.0032975411138781055, 0.003219017092082913, 0.00323050016382881, 0.0032084732147196517, 0.003184155218843898, 0.0032089203097384143, 0.0031944542830645104, 0.0031543188683795732, 0.0031674266208864994, 0.0031463551166192472, 0.0031187897715358533, 0.0031423721749620883, 0.00314368934896155, 0.0030861057476452517, 0.003082029138535529, 0.003073154742300437, 0.0030720675751227645, 0.003050546017330953, 0.003110158167174245, 0.003076643680817051, 0.0031272469415538355, 0.0030842829504181962, 0.0030789712548397576, 0.0031054527894984517, 0.0030880555942199807, 0.0030894878445306404, 0.003101117300877553, 0.0030288430599845696, 0.003023493334615523, 0.003005501761063357, 0.002997739338557898, 0.0029896762062741116, 0.0030705396222450816, 0.003005824353080737, 0.0029741952643704936, 0.0029909072809187792, 0.0030069123551031396, 0.0030077121520570528, 0.003002483126192061, 0.003010098641870485, 0.002971593541508378, 0.00297442899253426, 0.00295369754174572, 0.002949652061764411, 0.002964192667908867, 0.0030266109678317404, 0.002964618566972928, 0.0029522599898929116, 0.0029874420169661675, 0.002920331848869836, 0.0029510800381240274, 0.002893997929354774, 0.002948495916087258, 0.002978568300250893, 0.002978782276749308, 0.002977196184514155, 0.002961233755681048, 0.002951182813473468, 0.002934443222781075, 0.0029127214932635503, 0.0029305434503298336, 0.002965177721037021, 0.0029692984870692144, 0.002943406622931188, 0.0029019281165924456, 0.0029156184816491945, 0.0028745690772227456, 0.0028735585469829793, 0.0029612346784853648, 0.002982445780087295, 0.002938316386160446, 0.002913668734831466, 0.00293317894335647, 0.002930650685249411, 0.0029428538898831035, 0.0029464090296946175, 0.00290409338515277, 0.0029030332682884797, 0.0029112912188226565, 0.0029573656957410585, 0.002985634090644189, 0.002975985909041821, 0.002974772808583792, 0.002963412143269203, 0.002935083272070883, 0.0029336541183099312, 0.0029420901639779272, 0.0029478324360198032, 0.0029393524574151263, 0.002915445840769295, 0.002916820790150637, 0.0028713300670033548, 0.0029180593131053287]\n"
          ]
        }
      ],
      "source": [
        "# manual save to shared drive for reproducible graph\n",
        "print(losses)"
      ]
    },
    {
      "cell_type": "code",
      "execution_count": 16,
      "metadata": {
        "id": "mTQI9WGZ65fU",
        "colab": {
          "base_uri": "https://localhost:8080/",
          "height": 472
        },
        "outputId": "ecd41e7c-a1ee-45cc-c440-bb6fda2cad33"
      },
      "outputs": [
        {
          "output_type": "display_data",
          "data": {
            "text/plain": [
              "<Figure size 640x480 with 1 Axes>"
            ],
            "image/png": "[encoded data removed]"
          },
          "metadata": {}
        }
      ],
      "source": [
        "plt.plot(accuracies)\n",
        "plt.title('Test Accuracy')\n",
        "plt.xlabel('Rounds')\n",
        "plt.ylabel('Accuracy')\n",
        "plt.ylim(0, 1)\n",
        "plt.grid(True)\n",
        "plt.show()"
      ]
    }
  ],
  "metadata": {
    "accelerator": "GPU",
    "colab": {
      "provenance": [],
      "gpuType": "T4"
    },
    "gpuClass": "standard",
    "kernelspec": {
      "display_name": "python38",
      "language": "python",
      "name": "python3"
    },
    "language_info": {
      "codemirror_mode": {
        "name": "ipython",
        "version": 3
      },
      "file_extension": ".py",
      "mimetype": "text/x-python",
      "name": "python",
      "nbconvert_exporter": "python",
      "pygments_lexer": "ipython3",
      "version": "3.10.7"
    },
    "vscode": {
      "interpreter": {
        "hash": "a5e36ac6a21e329c2cec267b08e4f28884519c7e5682f29504bd17199cc3d203"
      }
    }
  },
  "nbformat": 4,
  "nbformat_minor": 0
}