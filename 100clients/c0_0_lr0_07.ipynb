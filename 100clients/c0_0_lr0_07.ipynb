{
  "cells": [
    {
      "cell_type": "markdown",
      "metadata": {
        "id": "NsvvFSId2xB6"
      },
      "source": [
        "## Library"
      ]
    },
    {
      "cell_type": "code",
      "execution_count": 1,
      "metadata": {
        "colab": {
          "base_uri": "https://localhost:8080/"
        },
        "id": "vDaWQfJ022KB",
        "outputId": "c7c14b9a-ab68-4dc6-d78b-a8b7521375ae"
      },
      "outputs": [
        {
          "output_type": "stream",
          "name": "stdout",
          "text": [
            "cuda:0\n"
          ]
        }
      ],
      "source": [
        "import torch\n",
        "import torch.nn as nn\n",
        "import torch.nn.functional as F\n",
        "from torchvision import datasets, transforms\n",
        "import torch.optim as optim\n",
        "import numpy as np\n",
        "import random\n",
        "from collections import OrderedDict, ChainMap, Counter\n",
        "from tqdm.asyncio import tqdm\n",
        "import math\n",
        "import matplotlib.pyplot as plt\n",
        "\n",
        "# for reproducible results\n",
        "seed = 42\n",
        "torch.manual_seed(seed)\n",
        "np.random.seed(seed)\n",
        "\n",
        "device = torch.device('cpu')\n",
        "# gpu\n",
        "if torch.backends.mps.is_available():\n",
        "    device = torch.device('mps')\n",
        "elif torch.cuda.is_available():\n",
        "    device = torch.device('cuda:0')\n",
        "print(device)"
      ]
    },
    {
      "cell_type": "markdown",
      "metadata": {
        "id": "t_RCPBAVzB9L"
      },
      "source": [
        "## Data processing"
      ]
    },
    {
      "cell_type": "code",
      "execution_count": 2,
      "metadata": {
        "id": "GrvHYZ_swCAM",
        "colab": {
          "base_uri": "https://localhost:8080/"
        },
        "outputId": "74a0c2b5-61e4-414e-b0f9-08d16fe002e4"
      },
      "outputs": [
        {
          "output_type": "stream",
          "name": "stdout",
          "text": [
            "Downloading http://yann.lecun.com/exdb/mnist/train-images-idx3-ubyte.gz\n",
            "Downloading http://yann.lecun.com/exdb/mnist/train-images-idx3-ubyte.gz to ./data/mnist/MNIST/raw/train-images-idx3-ubyte.gz\n"
          ]
        },
        {
          "output_type": "stream",
          "name": "stderr",
          "text": [
            "100%|██████████| 9912422/9912422 [00:00<00:00, 263235709.82it/s]"
          ]
        },
        {
          "output_type": "stream",
          "name": "stdout",
          "text": [
            "Extracting ./data/mnist/MNIST/raw/train-images-idx3-ubyte.gz to ./data/mnist/MNIST/raw\n"
          ]
        },
        {
          "output_type": "stream",
          "name": "stderr",
          "text": [
            "\n"
          ]
        },
        {
          "output_type": "stream",
          "name": "stdout",
          "text": [
            "\n",
            "Downloading http://yann.lecun.com/exdb/mnist/train-labels-idx1-ubyte.gz\n",
            "Downloading http://yann.lecun.com/exdb/mnist/train-labels-idx1-ubyte.gz to ./data/mnist/MNIST/raw/train-labels-idx1-ubyte.gz\n"
          ]
        },
        {
          "output_type": "stream",
          "name": "stderr",
          "text": [
            "100%|██████████| 28881/28881 [00:00<00:00, 82573751.75it/s]"
          ]
        },
        {
          "output_type": "stream",
          "name": "stdout",
          "text": [
            "Extracting ./data/mnist/MNIST/raw/train-labels-idx1-ubyte.gz to ./data/mnist/MNIST/raw\n",
            "\n",
            "Downloading http://yann.lecun.com/exdb/mnist/t10k-images-idx3-ubyte.gz\n",
            "Downloading http://yann.lecun.com/exdb/mnist/t10k-images-idx3-ubyte.gz to ./data/mnist/MNIST/raw/t10k-images-idx3-ubyte.gz\n"
          ]
        },
        {
          "output_type": "stream",
          "name": "stderr",
          "text": [
            "\n",
            "100%|██████████| 1648877/1648877 [00:00<00:00, 173919059.39it/s]\n"
          ]
        },
        {
          "output_type": "stream",
          "name": "stdout",
          "text": [
            "Extracting ./data/mnist/MNIST/raw/t10k-images-idx3-ubyte.gz to ./data/mnist/MNIST/raw\n",
            "\n",
            "Downloading http://yann.lecun.com/exdb/mnist/t10k-labels-idx1-ubyte.gz\n",
            "Downloading http://yann.lecun.com/exdb/mnist/t10k-labels-idx1-ubyte.gz to ./data/mnist/MNIST/raw/t10k-labels-idx1-ubyte.gz\n"
          ]
        },
        {
          "output_type": "stream",
          "name": "stderr",
          "text": [
            "100%|██████████| 4542/4542 [00:00<00:00, 3791904.61it/s]\n"
          ]
        },
        {
          "output_type": "stream",
          "name": "stdout",
          "text": [
            "Extracting ./data/mnist/MNIST/raw/t10k-labels-idx1-ubyte.gz to ./data/mnist/MNIST/raw\n",
            "\n"
          ]
        }
      ],
      "source": [
        "transform = transforms.Compose([\n",
        "            transforms.ToTensor(),\n",
        "            transforms.Normalize((0.1307,), (0.3081,))]) # scale from [0,255] to [0,1] and make mean and std to 0.0 and 1.0 respectively\n",
        "training_dataset = datasets.MNIST('./data/mnist/', train=True, download=True, transform=transform)\n",
        "test_dataset = datasets.MNIST('./data/mnist/', train=False, download=True, transform=transform)"
      ]
    },
    {
      "cell_type": "code",
      "execution_count": 3,
      "metadata": {
        "id": "ZohHDK7o65fH"
      },
      "outputs": [],
      "source": [
        "# sort by labels\n",
        "sorted_indices = torch.argsort(torch.Tensor(training_dataset.targets))\n",
        "sorted_training_dataset = torch.utils.data.Subset(training_dataset, sorted_indices)\n",
        "\n",
        "# partition data into shards\n",
        "def prepare_datashards(num_clients, num_shards, strict=False):\n",
        "    training_datashards = []\n",
        "\n",
        "    shards = []\n",
        "    # partition by class\n",
        "    if strict:\n",
        "        number_of_classes = len(sorted_training_dataset.dataset.classes)\n",
        "        shards_per_class = num_shards // number_of_classes\n",
        "\n",
        "        ptr = 0\n",
        "        # for each class\n",
        "        for label, size in sorted(Counter(sorted_training_dataset.dataset.targets.tolist()).items()):\n",
        "            shard_size = math.ceil(size / shards_per_class)\n",
        "\n",
        "            # for each shard\n",
        "            for i in range(shards_per_class):\n",
        "                shard = []\n",
        "                # fill shard of shard_size\n",
        "                for j in range(shard_size):\n",
        "                    shard.append(sorted_training_dataset[ptr])\n",
        "                    ptr += 1\n",
        "                    # break for next class\n",
        "                    if ptr >= len(sorted_training_dataset) or sorted_training_dataset[ptr][1] != label:\n",
        "                        break\n",
        "                shards.append(shard)\n",
        "\n",
        "    # partition by size\n",
        "    else:\n",
        "        shard_size = len(sorted_training_dataset) // num_shards\n",
        "\n",
        "        # for each shard\n",
        "        for i in range(num_shards):\n",
        "            shard = []\n",
        "            # fill shard of shard_size\n",
        "            for j in range(shard_size):\n",
        "                shard.append(sorted_training_dataset[i * shard_size + j])\n",
        "            shards.append(shard)\n",
        "    \n",
        "    # shuffled shard ids\n",
        "    random.seed(seed)\n",
        "    shard_ids = random.sample(list(range(num_shards)), num_shards)\n",
        "    print(\"Shards order - {}\".format(shard_ids))\n",
        "\n",
        "    # for each client\n",
        "    for k in range(num_clients):\n",
        "        client_shards = []\n",
        "        # number of shards per client\n",
        "        shards_per_client = num_shards // num_clients\n",
        "        for s in range(shards_per_client):\n",
        "            id = shard_ids[k * shards_per_client + s]\n",
        "            client_shards.append(shards[id])\n",
        "        training_datashards.append(client_shards)\n",
        "\n",
        "    return training_datashards"
      ]
    },
    {
      "cell_type": "markdown",
      "metadata": {
        "id": "mamL4quE65fI"
      },
      "source": [
        "## Global"
      ]
    },
    {
      "cell_type": "code",
      "execution_count": 4,
      "metadata": {
        "colab": {
          "base_uri": "https://localhost:8080/"
        },
        "id": "tPNbLHz865fI",
        "outputId": "e4185cd8-b144-4828-a70e-8a452a94596a"
      },
      "outputs": [
        {
          "output_type": "stream",
          "name": "stdout",
          "text": [
            "Shards order - [163, 28, 6, 189, 70, 62, 57, 35, 188, 26, 173, 139, 22, 151, 108, 8, 7, 23, 55, 59, 129, 154, 197, 143, 50, 166, 191, 107, 56, 114, 150, 71, 1, 40, 185, 87, 168, 39, 181, 86, 190, 182, 97, 24, 91, 88, 67, 11, 117, 137, 31, 96, 20, 141, 75, 92, 49, 17, 152, 58, 74, 147, 180, 25, 157, 199, 116, 93, 41, 94, 90, 53, 68, 89, 119, 164, 82, 9, 77, 81, 21, 127, 132, 149, 138, 169, 48, 34, 120, 178, 134, 198, 124, 131, 98, 99, 183, 29, 4, 174, 51, 112, 184, 27, 72, 155, 100, 148, 83, 63, 175, 123, 140, 18, 33, 142, 133, 109, 118, 85, 196, 54, 79, 104, 46, 165, 84, 65, 179, 146, 177, 14, 19, 115, 78, 135, 176, 156, 38, 102, 80, 16, 192, 161, 0, 43, 145, 103, 95, 105, 113, 73, 106, 125, 52, 160, 144, 10, 60, 171, 172, 32, 195, 61, 69, 153, 36, 12, 122, 37, 194, 5, 110, 47, 162, 186, 126, 42, 15, 159, 3, 30, 130, 45, 167, 158, 76, 128, 170, 136, 44, 64, 2, 13, 121, 111, 193, 101, 187, 66]\n"
          ]
        }
      ],
      "source": [
        "# clients training mode\n",
        "PARALLEL_TRAINING = True\n",
        "\n",
        "# clients and shards\n",
        "num_clients = 100\n",
        "num_shards = 200\n",
        "\n",
        "# prepare training data\n",
        "training_datashards = prepare_datashards(num_clients, num_shards)"
      ]
    },
    {
      "cell_type": "markdown",
      "metadata": {
        "id": "e6vzuzLL1cP8"
      },
      "source": [
        "## Model"
      ]
    },
    {
      "cell_type": "code",
      "execution_count": 5,
      "metadata": {
        "id": "4KIxpXNR1dWg"
      },
      "outputs": [],
      "source": [
        "class CNN(nn.Module):\n",
        "    # https://pytorch.org/tutorials/recipes/recipes/defining_a_neural_network.html#specify-how-data-will-pass-through-your-model\n",
        "    def __init__(self):\n",
        "        super(CNN, self).__init__()\n",
        "        # 5x5 convolution layer with 32 channels\n",
        "        self.conv1 = nn.Conv2d(in_channels=1, out_channels=32, kernel_size=5, padding='same')\n",
        "        # 5x5 convolution layer with 64 channels\n",
        "        self.conv2 = nn.Conv2d(in_channels=32, out_channels=64, kernel_size=5, padding='same')\n",
        "        # fully connected layer with 512 units, in_features = channels * height * width from conv2\n",
        "        self.fc1 = nn.Linear(in_features=64*7*7, out_features=512)\n",
        "        self.fc2 = nn.Linear(in_features=512, out_features=10)\n",
        "\n",
        "    # x represents our data\n",
        "    def forward(self, x):\n",
        "        # Pass data through conv1\n",
        "        x = self.conv1(x)\n",
        "        # Use the rectified-linear activation function over x\n",
        "        x = F.relu(x)\n",
        "        # Run max pooling over x\n",
        "        x = F.max_pool2d(x, kernel_size=2)\n",
        "        \n",
        "        x = self.conv2(x)\n",
        "        x = F.relu(x)\n",
        "        x = F.max_pool2d(x, kernel_size=2)\n",
        "\n",
        "        # Flatten x with start_dim=1\n",
        "        x = torch.flatten(x, start_dim=1)\n",
        "        # Pass data through fc1\n",
        "        x = self.fc1(x)\n",
        "        x = F.relu(x)\n",
        "        x = self.fc2(x)\n",
        "\n",
        "        # Apply softmax to x\n",
        "        output = F.log_softmax(x, dim=1)\n",
        "        return output"
      ]
    },
    {
      "cell_type": "code",
      "execution_count": 6,
      "metadata": {
        "colab": {
          "base_uri": "https://localhost:8080/"
        },
        "id": "gLzdTLYt65fJ",
        "outputId": "35697981-87b9-4e25-880d-d3bcc018facf"
      },
      "outputs": [
        {
          "output_type": "stream",
          "name": "stdout",
          "text": [
            "Total number of parameters: 1663370\n"
          ]
        }
      ],
      "source": [
        "num_params = sum(p.numel() for p in CNN().parameters())\n",
        "print(\"Total number of parameters:\", num_params)"
      ]
    },
    {
      "cell_type": "code",
      "execution_count": 7,
      "metadata": {
        "colab": {
          "base_uri": "https://localhost:8080/"
        },
        "id": "qY3Pl12PP4rP",
        "outputId": "270f1949-6976-4949-ea89-c0568dd69f19"
      },
      "outputs": [
        {
          "output_type": "stream",
          "name": "stdout",
          "text": [
            "torch.Size([32, 1, 5, 5])\n",
            "torch.Size([32])\n",
            "torch.Size([64, 32, 5, 5])\n",
            "torch.Size([64])\n",
            "torch.Size([512, 3136])\n",
            "torch.Size([512])\n",
            "torch.Size([10, 512])\n",
            "torch.Size([10])\n"
          ]
        }
      ],
      "source": [
        "for p in CNN().parameters():\n",
        "    print(p.shape)"
      ]
    },
    {
      "cell_type": "markdown",
      "metadata": {
        "id": "RtdxFdsz1h0m"
      },
      "source": [
        "## Client\n"
      ]
    },
    {
      "cell_type": "code",
      "execution_count": 8,
      "metadata": {
        "id": "bzCVn4hfAOhX"
      },
      "outputs": [],
      "source": [
        "class Client():\n",
        "    def __init__(self, k, model, args):\n",
        "        # inititalize client\n",
        "        self.id = k\n",
        "        self.model = model\n",
        "        self.args = args\n",
        "\n",
        "        # load dataset\n",
        "        self.dataset = []\n",
        "        self._load_dataset(k)\n",
        "        self.training_loader = torch.utils.data.DataLoader(self.dataset, batch_size=self.args['B'], shuffle=True)\n",
        "\n",
        "        # state_dict\n",
        "        self.state_dict = self.model.state_dict()\n",
        "\n",
        "    def _load_dataset(self, k):\n",
        "        # load dataset\n",
        "        for shard in training_datashards[k]:\n",
        "            self.dataset += shard\n",
        "        return\n",
        "\n",
        "    def labels(self):\n",
        "        return dict(Counter(data[1] for data in self.dataset))\n",
        "\n",
        "    def size(self):\n",
        "        return len(self.dataset)\n",
        "\n",
        "    async def update(self):\n",
        "        # load state_dict\n",
        "        self.model.load_state_dict(self.state_dict)\n",
        "\n",
        "        # Sets the module in training mode\n",
        "        self.model.train(True)\n",
        "\n",
        "        optimizer = optim.SGD(self.model.parameters(), lr=self.args['lr'])\n",
        "        loss_fn = nn.CrossEntropyLoss()\n",
        "\n",
        "        # https://pytorch.org/tutorials/beginner/introyt/trainingyt.html\n",
        "        for epoch in range(self.args['E']):\n",
        "            for inputs, labels in self.training_loader:\n",
        "                # Every data instance is an input + label pair\n",
        "                inputs, labels = inputs.to(device), labels.to(device)\n",
        "\n",
        "                # Zero your gradients for every batch!\n",
        "                optimizer.zero_grad()\n",
        "\n",
        "                # Make predictions for this batch\n",
        "                outputs = self.model(inputs)\n",
        "\n",
        "                # Compute the loss and its gradients\n",
        "                loss = loss_fn(outputs, labels)\n",
        "                loss.backward()\n",
        "\n",
        "                # Adjust learning weights\n",
        "                optimizer.step()\n",
        "        \n",
        "        # save state_dict\n",
        "        self.state_dict = self.model.state_dict()\n",
        "\n",
        "        return { self.id: self.state_dict }\n",
        "\n",
        "    def model_sync(self, state_dict):\n",
        "        self.state_dict = state_dict"
      ]
    },
    {
      "cell_type": "markdown",
      "metadata": {
        "id": "unKQT-qEPnKL"
      },
      "source": [
        "## Server"
      ]
    },
    {
      "cell_type": "code",
      "execution_count": 9,
      "metadata": {
        "id": "rjIkYahr1jVG"
      },
      "outputs": [],
      "source": [
        "class Server():\n",
        "    def __init__(self, args):\n",
        "        self.model = CNN().to(device)\n",
        "        # number of rounds of communication\n",
        "        self.rounds = 0\n",
        "        # client fraction C\n",
        "        self.c = args['C']\n",
        "        # client list\n",
        "        self.clients = []\n",
        "        # inititalize clients according to num_clients\n",
        "        if PARALLEL_TRAINING:\n",
        "            for k in range(num_clients):\n",
        "                torch.manual_seed(seed)\n",
        "                client_model = CNN().to(device)\n",
        "                client = Client(k, client_model, args)\n",
        "                self.clients.append(client)\n",
        "        else:\n",
        "            torch.manual_seed(seed)\n",
        "            client_model = CNN().to(device)\n",
        "            for k in range(num_clients):\n",
        "                client = Client(k, client_model, args)\n",
        "                self.clients.append(client)\n",
        "\n",
        "    def _fed_avg(self, state_dicts):\n",
        "        # total number of data\n",
        "        len_total = 0\n",
        "        for k in ChainMap(*state_dicts).keys():\n",
        "            len_total += self.clients[k].size()\n",
        "\n",
        "        dict = OrderedDict()\n",
        "        # for each client's state_dict\n",
        "        for k, state_dict in ChainMap(*state_dicts).items():\n",
        "            # for each tensor param\n",
        "            for param_tensor in self.model.state_dict().keys():\n",
        "                # param = w0 * wf0 + w1 * wf1 + ... wk * wfk\n",
        "                if param_tensor in dict:\n",
        "                    dict[param_tensor] += state_dict[param_tensor] * (self.clients[k].size() / len_total)\n",
        "                else:\n",
        "                    dict[param_tensor] = state_dict[param_tensor] * (self.clients[k].size() / len_total)\n",
        "\n",
        "        return dict\n",
        "\n",
        "    def clients_info(self):\n",
        "        for i, client in enumerate(self.clients):\n",
        "            print(\"Client {} - {}\".format(i, client.labels()))\n",
        "\n",
        "    async def model_sync(self):\n",
        "        selected_clients = self.clients\n",
        "\n",
        "        # clients random selection\n",
        "        if self.c < 1.0:\n",
        "            # clients per round\n",
        "            k = max(int(self.c * num_clients), 1)\n",
        "            # client selection\n",
        "            random.seed(self.rounds)\n",
        "            selected_clients = random.sample(self.clients, k=k)\n",
        "            client_ids = []\n",
        "            for client in selected_clients:\n",
        "                client_ids.append(client.id)\n",
        "            print(\"Selected clients - {}\".format(client_ids))\n",
        "\n",
        "        state_dicts = []\n",
        "        # for each selected client do client update\n",
        "        if PARALLEL_TRAINING:\n",
        "            state_dicts = await tqdm.gather(*[client.update() for client in selected_clients])\n",
        "        else:\n",
        "            for client in tqdm(selected_clients):\n",
        "                state_dict = await client.update()\n",
        "                state_dicts.append(state_dict)\n",
        "        \n",
        "        # update server weights\n",
        "        avg_state_dict = self._fed_avg(state_dicts)\n",
        "        self.model.load_state_dict(avg_state_dict)\n",
        "\n",
        "        # sync with all clients\n",
        "        for client in self.clients:\n",
        "            client.model_sync(avg_state_dict)\n",
        "\n",
        "        # increase rounds count\n",
        "        self.rounds += 1"
      ]
    },
    {
      "cell_type": "code",
      "execution_count": 10,
      "metadata": {
        "id": "v-JVTN0sCHlk"
      },
      "outputs": [],
      "source": [
        "def test_model(model):\n",
        "    # https://learn.microsoft.com/en-us/windows/ai/windows-ml/tutorials/pytorch-analysis-train-model#test-the-model-on-the-test-data\n",
        "    test_loader = torch.utils.data.DataLoader(test_dataset, batch_size=10, shuffle=False)\n",
        "    loss_fn = nn.CrossEntropyLoss()\n",
        "\n",
        "    # Sets the module in evaluate mode\n",
        "    model.eval()\n",
        "    model.to(device)\n",
        "    \n",
        "    correct = 0\n",
        "    loss = 0\n",
        "    total = 0\n",
        "\n",
        "    with torch.no_grad():\n",
        "        for inputs, labels in test_loader:\n",
        "            # Every data instance is an input + label pair\n",
        "            inputs, labels = inputs.to(device), labels.to(device)\n",
        "            \n",
        "            # Make predictions for this batch\n",
        "            outputs = model(inputs)\n",
        "            _, pred = torch.max(outputs, dim=1)\n",
        "            total += labels.size(0)\n",
        "\n",
        "            # Compute the loss and accuracy\n",
        "            loss += loss_fn(outputs, labels).item()\n",
        "            correct += (pred == labels).sum().item()\n",
        "\n",
        "    loss /= total\n",
        "    accuracy = correct / total\n",
        "\n",
        "    print('Test set: Average loss: {:.4f}, Accuracy: {}/{} ({:.2f}%)'.format(\n",
        "        loss, correct, total, accuracy * 100))\n",
        "    return accuracy, loss"
      ]
    },
    {
      "cell_type": "code",
      "execution_count": 11,
      "metadata": {
        "id": "BQ7wc8Q_FAkU"
      },
      "outputs": [],
      "source": [
        "async def execute(server, T, target_accuracy, es=None, min_delta=0.0, patience=0):\n",
        "    _patience = patience\n",
        "\n",
        "    # initial values\n",
        "    record_round = 0\n",
        "    best_round = 0\n",
        "    best_accuracy = 0.0\n",
        "    last_loss = None\n",
        "    state_dict, accuracies, losses = [], [], []\n",
        "\n",
        "    # loop until rounds\n",
        "    while server.rounds < T:\n",
        "        print(\"Round {}/{}\".format(server.rounds + 1, T))\n",
        "\n",
        "        # model sync\n",
        "        await server.model_sync()\n",
        "        \n",
        "        # test accuracy\n",
        "        accuracy, loss = test_model(server.model)\n",
        "\n",
        "        if accuracy >= best_accuracy:\n",
        "            # save best record\n",
        "            best_accuracy = accuracy\n",
        "            best_round = server.rounds\n",
        "\n",
        "            if best_accuracy >= target_accuracy or server.rounds > T - 10:\n",
        "                # save state_dict\n",
        "                state_dict = server.model.state_dict()\n",
        "\n",
        "        # statistics\n",
        "        accuracies.append(accuracy)\n",
        "        losses.append(loss)\n",
        "\n",
        "        # early stopping\n",
        "        if es == 'loss':\n",
        "            if last_loss is None:\n",
        "                last_loss = loss\n",
        "                continue\n",
        "\n",
        "            if last_loss - loss < min_delta:\n",
        "                # break if patience equal to 0\n",
        "                if patience == 0:\n",
        "                    break\n",
        "                else:\n",
        "                    patience -= 1\n",
        "            else:\n",
        "                # reset patience and update last loss\n",
        "                patience = _patience\n",
        "                last_loss = loss\n",
        "\n",
        "        # target accuracy reached\n",
        "        if accuracy >= target_accuracy and record_round == 0:\n",
        "            record_round = server.rounds\n",
        "\n",
        "    if record_round > 0:\n",
        "        print(\"Target accuracy reached at round: {}\".format(record_round))\n",
        "    print(\"Best round: {}, accuracy: {}\".format(best_round, best_accuracy))\n",
        "\n",
        "    return state_dict, accuracies, losses"
      ]
    },
    {
      "cell_type": "markdown",
      "metadata": {
        "id": "OE0VQHt_65fS"
      },
      "source": [
        "## Execute"
      ]
    },
    {
      "cell_type": "code",
      "execution_count": 22,
      "metadata": {
        "colab": {
          "base_uri": "https://localhost:8080/"
        },
        "id": "4Gas3rs865fT",
        "outputId": "4788c3df-0cfd-454d-9a19-f497f8c64e12"
      },
      "outputs": [
        {
          "output_type": "stream",
          "name": "stdout",
          "text": [
            "Training dataset - {0: 5923, 1: 6742, 2: 5958, 3: 6131, 4: 5842, 5: 5421, 6: 5918, 7: 6265, 8: 5851, 9: 5949}\n",
            "Client 0 - {8: 300, 1: 300}\n",
            "Client 1 - {0: 300, 9: 300}\n",
            "Client 2 - {3: 577, 2: 23}\n",
            "Client 3 - {2: 300, 1: 300}\n",
            "Client 4 - {9: 300, 1: 300}\n",
            "Client 5 - {8: 300, 6: 235, 7: 65}\n",
            "Client 6 - {1: 300, 7: 300}\n",
            "Client 7 - {5: 300, 0: 300}\n",
            "Client 8 - {0: 300, 1: 300}\n",
            "Client 9 - {2: 600}\n",
            "Client 10 - {6: 300, 7: 300}\n",
            "Client 11 - {9: 300, 7: 300}\n",
            "Client 12 - {2: 300, 8: 300}\n",
            "Client 13 - {9: 300, 5: 300}\n",
            "Client 14 - {2: 300, 5: 300}\n",
            "Client 15 - {7: 300, 3: 300}\n",
            "Client 16 - {0: 300, 1: 300}\n",
            "Client 17 - {9: 300, 4: 300}\n",
            "Client 18 - {8: 300, 1: 300}\n",
            "Client 19 - {9: 300, 4: 300}\n",
            "Client 20 - {9: 600}\n",
            "Client 21 - {4: 300, 1: 300}\n",
            "Client 22 - {4: 600}\n",
            "Client 23 - {3: 300, 0: 300}\n",
            "Client 24 - {5: 300, 6: 300}\n",
            "Client 25 - {1: 300, 4: 300}\n",
            "Client 26 - {1: 300, 7: 300}\n",
            "Client 27 - {3: 300, 4: 300}\n",
            "Client 28 - {2: 300, 0: 300}\n",
            "Client 29 - {7: 300, 2: 300}\n",
            "Client 30 - {3: 300, 7: 300}\n",
            "Client 31 - {8: 51, 9: 249, 1: 300}\n",
            "Client 32 - {7: 300, 9: 300}\n",
            "Client 33 - {5: 300, 4: 300}\n",
            "Client 34 - {1: 300, 4: 300}\n",
            "Client 35 - {4: 300, 2: 300}\n",
            "Client 36 - {3: 300, 4: 300}\n",
            "Client 37 - {5: 300, 8: 300}\n",
            "Client 38 - {3: 154, 4: 146, 0: 300}\n",
            "Client 39 - {3: 600}\n",
            "Client 40 - {1: 300, 6: 300}\n",
            "Client 41 - {6: 300, 7: 300}\n",
            "Client 42 - {6: 300, 8: 300}\n",
            "Client 43 - {2: 300, 1: 300}\n",
            "Client 44 - {5: 17, 6: 283, 8: 300}\n",
            "Client 45 - {6: 300, 9: 300}\n",
            "Client 46 - {6: 600}\n",
            "Client 47 - {4: 600}\n",
            "Client 48 - {9: 300, 1: 300}\n",
            "Client 49 - {0: 300, 8: 300}\n",
            "Client 50 - {2: 300, 5: 300}\n",
            "Client 51 - {9: 300, 1: 300}\n",
            "Client 52 - {3: 300, 7: 300}\n",
            "Client 53 - {4: 300, 7: 300}\n",
            "Client 54 - {4: 300, 3: 300}\n",
            "Client 55 - {8: 300, 6: 300}\n",
            "Client 56 - {7: 300, 0: 300}\n",
            "Client 57 - {1: 300, 7: 300}\n",
            "Client 58 - {6: 300, 5: 300}\n",
            "Client 59 - {5: 300, 4: 300}\n",
            "Client 60 - {9: 300, 2: 300}\n",
            "Client 61 - {3: 300, 5: 300}\n",
            "Client 62 - {2: 300, 8: 300}\n",
            "Client 63 - {4: 300, 3: 300}\n",
            "Client 64 - {8: 300, 7: 300}\n",
            "Client 65 - {8: 300, 0: 300}\n",
            "Client 66 - {0: 223, 1: 77, 5: 300}\n",
            "Client 67 - {3: 300, 6: 300}\n",
            "Client 68 - {8: 300, 7: 300}\n",
            "Client 69 - {1: 300, 5: 300}\n",
            "Client 70 - {3: 300, 0: 300}\n",
            "Client 71 - {9: 300, 8: 300}\n",
            "Client 72 - {0: 300, 2: 300}\n",
            "Client 73 - {7: 300, 5: 300}\n",
            "Client 74 - {4: 300, 5: 300}\n",
            "Client 75 - {5: 300, 3: 300}\n",
            "Client 76 - {5: 300, 6: 300}\n",
            "Client 77 - {2: 300, 7: 200, 8: 100}\n",
            "Client 78 - {7: 300, 0: 300}\n",
            "Client 79 - {2: 300, 8: 300}\n",
            "Client 80 - {8: 300, 1: 300}\n",
            "Client 81 - {9: 300, 2: 300}\n",
            "Client 82 - {3: 300, 7: 300}\n",
            "Client 83 - {1: 300, 0: 300}\n",
            "Client 84 - {6: 300, 1: 300}\n",
            "Client 85 - {9: 300, 0: 300}\n",
            "Client 86 - {5: 300, 2: 300}\n",
            "Client 87 - {8: 300, 9: 300}\n",
            "Client 88 - {6: 300, 1: 65, 2: 235}\n",
            "Client 89 - {0: 300, 7: 300}\n",
            "Client 90 - {0: 300, 1: 300}\n",
            "Client 91 - {6: 300, 2: 300}\n",
            "Client 92 - {8: 300, 7: 300}\n",
            "Client 93 - {3: 300, 6: 300}\n",
            "Client 94 - {8: 300, 6: 300}\n",
            "Client 95 - {2: 300, 3: 300}\n",
            "Client 96 - {0: 600}\n",
            "Client 97 - {6: 300, 5: 300}\n",
            "Client 98 - {9: 300, 4: 296, 5: 4}\n",
            "Client 99 - {9: 300, 3: 300}\n"
          ]
        }
      ],
      "source": [
        "# model params\n",
        "args = { 'C': 0, 'E': 5, 'B': 10 , 'lr': 0.07 }\n",
        "\n",
        "# server\n",
        "server = Server(args)\n",
        "\n",
        "# data distribution\n",
        "print(\"Training dataset - {}\".format(dict(sorted(Counter(training_dataset.targets.tolist()).items()))))\n",
        "server.clients_info()"
      ]
    },
    {
      "cell_type": "code",
      "execution_count": 23,
      "metadata": {
        "colab": {
          "base_uri": "https://localhost:8080/"
        },
        "id": "wjbFmiTb65fT",
        "outputId": "bf61e20d-cac9-4562-8e91-d69efdcb21ef"
      },
      "outputs": [
        {
          "output_type": "stream",
          "name": "stdout",
          "text": [
            "Round 1/200\n",
            "Selected clients - [49]\n"
          ]
        },
        {
          "output_type": "stream",
          "name": "stderr",
          "text": [
            "100%|██████████| 1/1 [00:00<00:00,  1.72it/s]\n"
          ]
        },
        {
          "output_type": "stream",
          "name": "stdout",
          "text": [
            "Test set: Average loss: 0.7436, Accuracy: 1940/10000 (19.40%)\n",
            "Round 2/200\n",
            "Selected clients - [17]\n"
          ]
        },
        {
          "output_type": "stream",
          "name": "stderr",
          "text": [
            "100%|██████████| 1/1 [00:00<00:00,  1.80it/s]\n"
          ]
        },
        {
          "output_type": "stream",
          "name": "stdout",
          "text": [
            "Test set: Average loss: 0.8416, Accuracy: 1960/10000 (19.60%)\n",
            "Round 3/200\n",
            "Selected clients - [7]\n"
          ]
        },
        {
          "output_type": "stream",
          "name": "stderr",
          "text": [
            "100%|██████████| 1/1 [00:00<00:00,  1.46it/s]\n"
          ]
        },
        {
          "output_type": "stream",
          "name": "stdout",
          "text": [
            "Test set: Average loss: 0.9038, Accuracy: 1867/10000 (18.67%)\n",
            "Round 4/200\n",
            "Selected clients - [30]\n"
          ]
        },
        {
          "output_type": "stream",
          "name": "stderr",
          "text": [
            "100%|██████████| 1/1 [00:00<00:00,  1.76it/s]\n"
          ]
        },
        {
          "output_type": "stream",
          "name": "stdout",
          "text": [
            "Test set: Average loss: 0.7747, Accuracy: 2005/10000 (20.05%)\n",
            "Round 5/200\n",
            "Selected clients - [30]\n"
          ]
        },
        {
          "output_type": "stream",
          "name": "stderr",
          "text": [
            "100%|██████████| 1/1 [00:00<00:00,  1.75it/s]\n"
          ]
        },
        {
          "output_type": "stream",
          "name": "stdout",
          "text": [
            "Test set: Average loss: 0.9476, Accuracy: 2006/10000 (20.06%)\n",
            "Round 6/200\n",
            "Selected clients - [79]\n"
          ]
        },
        {
          "output_type": "stream",
          "name": "stderr",
          "text": [
            "100%|██████████| 1/1 [00:00<00:00,  1.47it/s]\n"
          ]
        },
        {
          "output_type": "stream",
          "name": "stdout",
          "text": [
            "Test set: Average loss: 0.7794, Accuracy: 1968/10000 (19.68%)\n",
            "Round 7/200\n",
            "Selected clients - [73]\n"
          ]
        },
        {
          "output_type": "stream",
          "name": "stderr",
          "text": [
            "100%|██████████| 1/1 [00:00<00:00,  1.76it/s]\n"
          ]
        },
        {
          "output_type": "stream",
          "name": "stdout",
          "text": [
            "Test set: Average loss: 1.0846, Accuracy: 1908/10000 (19.08%)\n",
            "Round 8/200\n",
            "Selected clients - [41]\n"
          ]
        },
        {
          "output_type": "stream",
          "name": "stderr",
          "text": [
            "100%|██████████| 1/1 [00:00<00:00,  1.77it/s]\n"
          ]
        },
        {
          "output_type": "stream",
          "name": "stdout",
          "text": [
            "Test set: Average loss: 0.9246, Accuracy: 1977/10000 (19.77%)\n",
            "Round 9/200\n",
            "Selected clients - [29]\n"
          ]
        },
        {
          "output_type": "stream",
          "name": "stderr",
          "text": [
            "100%|██████████| 1/1 [00:00<00:00,  1.41it/s]\n"
          ]
        },
        {
          "output_type": "stream",
          "name": "stdout",
          "text": [
            "Test set: Average loss: 0.6707, Accuracy: 2035/10000 (20.35%)\n",
            "Round 10/200\n",
            "Selected clients - [59]\n"
          ]
        },
        {
          "output_type": "stream",
          "name": "stderr",
          "text": [
            "100%|██████████| 1/1 [00:00<00:00,  1.77it/s]\n"
          ]
        },
        {
          "output_type": "stream",
          "name": "stdout",
          "text": [
            "Test set: Average loss: 1.0270, Accuracy: 1856/10000 (18.56%)\n",
            "Round 11/200\n",
            "Selected clients - [73]\n"
          ]
        },
        {
          "output_type": "stream",
          "name": "stderr",
          "text": [
            "100%|██████████| 1/1 [00:00<00:00,  1.17it/s]\n"
          ]
        },
        {
          "output_type": "stream",
          "name": "stdout",
          "text": [
            "Test set: Average loss: 0.7902, Accuracy: 1913/10000 (19.13%)\n",
            "Round 12/200\n",
            "Selected clients - [57]\n"
          ]
        },
        {
          "output_type": "stream",
          "name": "stderr",
          "text": [
            "100%|██████████| 1/1 [00:00<00:00,  1.81it/s]\n"
          ]
        },
        {
          "output_type": "stream",
          "name": "stdout",
          "text": [
            "Test set: Average loss: 0.7093, Accuracy: 2502/10000 (25.02%)\n",
            "Round 13/200\n",
            "Selected clients - [60]\n"
          ]
        },
        {
          "output_type": "stream",
          "name": "stderr",
          "text": [
            "100%|██████████| 1/1 [00:00<00:00,  1.81it/s]\n"
          ]
        },
        {
          "output_type": "stream",
          "name": "stdout",
          "text": [
            "Test set: Average loss: 0.8452, Accuracy: 2026/10000 (20.26%)\n",
            "Round 14/200\n",
            "Selected clients - [33]\n"
          ]
        },
        {
          "output_type": "stream",
          "name": "stderr",
          "text": [
            "100%|██████████| 1/1 [00:00<00:00,  1.80it/s]\n"
          ]
        },
        {
          "output_type": "stream",
          "name": "stdout",
          "text": [
            "Test set: Average loss: 0.8562, Accuracy: 1876/10000 (18.76%)\n",
            "Round 15/200\n",
            "Selected clients - [13]\n"
          ]
        },
        {
          "output_type": "stream",
          "name": "stderr",
          "text": [
            "100%|██████████| 1/1 [00:00<00:00,  1.78it/s]\n"
          ]
        },
        {
          "output_type": "stream",
          "name": "stdout",
          "text": [
            "Test set: Average loss: 0.7832, Accuracy: 1894/10000 (18.94%)\n",
            "Round 16/200\n",
            "Selected clients - [26]\n"
          ]
        },
        {
          "output_type": "stream",
          "name": "stderr",
          "text": [
            "100%|██████████| 1/1 [00:00<00:00,  1.78it/s]\n"
          ]
        },
        {
          "output_type": "stream",
          "name": "stdout",
          "text": [
            "Test set: Average loss: 0.5287, Accuracy: 3032/10000 (30.32%)\n",
            "Round 17/200\n",
            "Selected clients - [46]\n"
          ]
        },
        {
          "output_type": "stream",
          "name": "stderr",
          "text": [
            "100%|██████████| 1/1 [00:00<00:00,  1.78it/s]\n"
          ]
        },
        {
          "output_type": "stream",
          "name": "stdout",
          "text": [
            "Test set: Average loss: 0.8350, Accuracy: 1883/10000 (18.83%)\n",
            "Round 18/200\n",
            "Selected clients - [66]\n"
          ]
        },
        {
          "output_type": "stream",
          "name": "stderr",
          "text": [
            "100%|██████████| 1/1 [00:00<00:00,  1.76it/s]\n"
          ]
        },
        {
          "output_type": "stream",
          "name": "stdout",
          "text": [
            "Test set: Average loss: 0.4907, Accuracy: 3663/10000 (36.63%)\n",
            "Round 19/200\n",
            "Selected clients - [23]\n"
          ]
        },
        {
          "output_type": "stream",
          "name": "stderr",
          "text": [
            "100%|██████████| 1/1 [00:00<00:00,  1.79it/s]\n"
          ]
        },
        {
          "output_type": "stream",
          "name": "stdout",
          "text": [
            "Test set: Average loss: 0.6578, Accuracy: 3080/10000 (30.80%)\n",
            "Round 20/200\n",
            "Selected clients - [86]\n"
          ]
        },
        {
          "output_type": "stream",
          "name": "stderr",
          "text": [
            "100%|██████████| 1/1 [00:00<00:00,  1.79it/s]\n"
          ]
        },
        {
          "output_type": "stream",
          "name": "stdout",
          "text": [
            "Test set: Average loss: 0.7414, Accuracy: 2033/10000 (20.33%)\n",
            "Round 21/200\n",
            "Selected clients - [92]\n"
          ]
        },
        {
          "output_type": "stream",
          "name": "stderr",
          "text": [
            "100%|██████████| 1/1 [00:00<00:00,  1.77it/s]\n"
          ]
        },
        {
          "output_type": "stream",
          "name": "stdout",
          "text": [
            "Test set: Average loss: 0.8781, Accuracy: 1975/10000 (19.75%)\n",
            "Round 22/200\n",
            "Selected clients - [21]\n"
          ]
        },
        {
          "output_type": "stream",
          "name": "stderr",
          "text": [
            "100%|██████████| 1/1 [00:00<00:00,  1.79it/s]\n"
          ]
        },
        {
          "output_type": "stream",
          "name": "stdout",
          "text": [
            "Test set: Average loss: 0.6806, Accuracy: 2126/10000 (21.26%)\n",
            "Round 23/200\n",
            "Selected clients - [17]\n"
          ]
        },
        {
          "output_type": "stream",
          "name": "stderr",
          "text": [
            "100%|██████████| 1/1 [00:00<00:00,  1.76it/s]\n"
          ]
        },
        {
          "output_type": "stream",
          "name": "stdout",
          "text": [
            "Test set: Average loss: 0.5194, Accuracy: 3020/10000 (30.20%)\n",
            "Round 24/200\n",
            "Selected clients - [99]\n"
          ]
        },
        {
          "output_type": "stream",
          "name": "stderr",
          "text": [
            "100%|██████████| 1/1 [00:00<00:00,  1.76it/s]\n"
          ]
        },
        {
          "output_type": "stream",
          "name": "stdout",
          "text": [
            "Test set: Average loss: 0.4919, Accuracy: 3106/10000 (31.06%)\n",
            "Round 25/200\n",
            "Selected clients - [91]\n"
          ]
        },
        {
          "output_type": "stream",
          "name": "stderr",
          "text": [
            "100%|██████████| 1/1 [00:00<00:00,  1.81it/s]\n"
          ]
        },
        {
          "output_type": "stream",
          "name": "stdout",
          "text": [
            "Test set: Average loss: 0.4139, Accuracy: 2687/10000 (26.87%)\n",
            "Round 26/200\n",
            "Selected clients - [48]\n"
          ]
        },
        {
          "output_type": "stream",
          "name": "stderr",
          "text": [
            "100%|██████████| 1/1 [00:00<00:00,  1.78it/s]\n"
          ]
        },
        {
          "output_type": "stream",
          "name": "stdout",
          "text": [
            "Test set: Average loss: 0.3807, Accuracy: 3974/10000 (39.74%)\n",
            "Round 27/200\n",
            "Selected clients - [95]\n"
          ]
        },
        {
          "output_type": "stream",
          "name": "stderr",
          "text": [
            "100%|██████████| 1/1 [00:00<00:00,  1.77it/s]\n"
          ]
        },
        {
          "output_type": "stream",
          "name": "stdout",
          "text": [
            "Test set: Average loss: 0.3798, Accuracy: 3162/10000 (31.62%)\n",
            "Round 28/200\n",
            "Selected clients - [83]\n"
          ]
        },
        {
          "output_type": "stream",
          "name": "stderr",
          "text": [
            "100%|██████████| 1/1 [00:00<00:00,  1.76it/s]\n"
          ]
        },
        {
          "output_type": "stream",
          "name": "stdout",
          "text": [
            "Test set: Average loss: 0.2915, Accuracy: 4290/10000 (42.90%)\n",
            "Round 29/200\n",
            "Selected clients - [14]\n"
          ]
        },
        {
          "output_type": "stream",
          "name": "stderr",
          "text": [
            "100%|██████████| 1/1 [00:00<00:00,  1.66it/s]\n"
          ]
        },
        {
          "output_type": "stream",
          "name": "stdout",
          "text": [
            "Test set: Average loss: 0.2818, Accuracy: 2785/10000 (27.85%)\n",
            "Round 30/200\n",
            "Selected clients - [70]\n"
          ]
        },
        {
          "output_type": "stream",
          "name": "stderr",
          "text": [
            "100%|██████████| 1/1 [00:00<00:00,  1.81it/s]\n"
          ]
        },
        {
          "output_type": "stream",
          "name": "stdout",
          "text": [
            "Test set: Average loss: 0.3932, Accuracy: 2898/10000 (28.98%)\n",
            "Round 31/200\n",
            "Selected clients - [69]\n"
          ]
        },
        {
          "output_type": "stream",
          "name": "stderr",
          "text": [
            "100%|██████████| 1/1 [00:00<00:00,  1.78it/s]\n"
          ]
        },
        {
          "output_type": "stream",
          "name": "stdout",
          "text": [
            "Test set: Average loss: 0.3235, Accuracy: 3909/10000 (39.09%)\n",
            "Round 32/200\n",
            "Selected clients - [1]\n"
          ]
        },
        {
          "output_type": "stream",
          "name": "stderr",
          "text": [
            "100%|██████████| 1/1 [00:00<00:00,  1.57it/s]\n"
          ]
        },
        {
          "output_type": "stream",
          "name": "stdout",
          "text": [
            "Test set: Average loss: 0.5338, Accuracy: 4131/10000 (41.31%)\n",
            "Round 33/200\n",
            "Selected clients - [9]\n"
          ]
        },
        {
          "output_type": "stream",
          "name": "stderr",
          "text": [
            "100%|██████████| 1/1 [00:00<00:00,  1.74it/s]\n"
          ]
        },
        {
          "output_type": "stream",
          "name": "stdout",
          "text": [
            "Test set: Average loss: 0.2851, Accuracy: 4405/10000 (44.05%)\n",
            "Round 34/200\n",
            "Selected clients - [73]\n"
          ]
        },
        {
          "output_type": "stream",
          "name": "stderr",
          "text": [
            "100%|██████████| 1/1 [00:00<00:00,  1.75it/s]\n"
          ]
        },
        {
          "output_type": "stream",
          "name": "stdout",
          "text": [
            "Test set: Average loss: 0.2905, Accuracy: 4159/10000 (41.59%)\n",
            "Round 35/200\n",
            "Selected clients - [67]\n"
          ]
        },
        {
          "output_type": "stream",
          "name": "stderr",
          "text": [
            "100%|██████████| 1/1 [00:00<00:00,  1.49it/s]\n"
          ]
        },
        {
          "output_type": "stream",
          "name": "stdout",
          "text": [
            "Test set: Average loss: 0.2749, Accuracy: 3701/10000 (37.01%)\n",
            "Round 36/200\n",
            "Selected clients - [70]\n"
          ]
        },
        {
          "output_type": "stream",
          "name": "stderr",
          "text": [
            "100%|██████████| 1/1 [00:00<00:00,  1.76it/s]\n"
          ]
        },
        {
          "output_type": "stream",
          "name": "stdout",
          "text": [
            "Test set: Average loss: 0.2631, Accuracy: 4971/10000 (49.71%)\n",
            "Round 37/200\n",
            "Selected clients - [42]\n"
          ]
        },
        {
          "output_type": "stream",
          "name": "stderr",
          "text": [
            "100%|██████████| 1/1 [00:00<00:00,  1.76it/s]\n"
          ]
        },
        {
          "output_type": "stream",
          "name": "stdout",
          "text": [
            "Test set: Average loss: 0.2581, Accuracy: 4114/10000 (41.14%)\n",
            "Round 38/200\n",
            "Selected clients - [87]\n"
          ]
        },
        {
          "output_type": "stream",
          "name": "stderr",
          "text": [
            "100%|██████████| 1/1 [00:00<00:00,  1.44it/s]\n"
          ]
        },
        {
          "output_type": "stream",
          "name": "stdout",
          "text": [
            "Test set: Average loss: 0.3445, Accuracy: 4093/10000 (40.93%)\n",
            "Round 39/200\n",
            "Selected clients - [81]\n"
          ]
        },
        {
          "output_type": "stream",
          "name": "stderr",
          "text": [
            "100%|██████████| 1/1 [00:00<00:00,  1.78it/s]\n"
          ]
        },
        {
          "output_type": "stream",
          "name": "stdout",
          "text": [
            "Test set: Average loss: 0.3111, Accuracy: 4125/10000 (41.25%)\n",
            "Round 40/200\n",
            "Selected clients - [26]\n"
          ]
        },
        {
          "output_type": "stream",
          "name": "stderr",
          "text": [
            "100%|██████████| 1/1 [00:00<00:00,  1.77it/s]\n"
          ]
        },
        {
          "output_type": "stream",
          "name": "stdout",
          "text": [
            "Test set: Average loss: 0.2045, Accuracy: 5827/10000 (58.27%)\n",
            "Round 41/200\n",
            "Selected clients - [58]\n"
          ]
        },
        {
          "output_type": "stream",
          "name": "stderr",
          "text": [
            "100%|██████████| 1/1 [00:00<00:00,  1.47it/s]\n"
          ]
        },
        {
          "output_type": "stream",
          "name": "stdout",
          "text": [
            "Test set: Average loss: 0.1405, Accuracy: 5756/10000 (57.56%)\n",
            "Round 42/200\n",
            "Selected clients - [48]\n"
          ]
        },
        {
          "output_type": "stream",
          "name": "stderr",
          "text": [
            "100%|██████████| 1/1 [00:00<00:00,  1.80it/s]\n"
          ]
        },
        {
          "output_type": "stream",
          "name": "stdout",
          "text": [
            "Test set: Average loss: 0.2389, Accuracy: 4997/10000 (49.97%)\n",
            "Round 43/200\n",
            "Selected clients - [81]\n"
          ]
        },
        {
          "output_type": "stream",
          "name": "stderr",
          "text": [
            "100%|██████████| 1/1 [00:00<00:00,  1.75it/s]\n"
          ]
        },
        {
          "output_type": "stream",
          "name": "stdout",
          "text": [
            "Test set: Average loss: 0.2465, Accuracy: 5179/10000 (51.79%)\n",
            "Round 44/200\n",
            "Selected clients - [4]\n"
          ]
        },
        {
          "output_type": "stream",
          "name": "stderr",
          "text": [
            "100%|██████████| 1/1 [00:00<00:00,  1.43it/s]\n"
          ]
        },
        {
          "output_type": "stream",
          "name": "stdout",
          "text": [
            "Test set: Average loss: 0.4847, Accuracy: 3838/10000 (38.38%)\n",
            "Round 45/200\n",
            "Selected clients - [52]\n"
          ]
        },
        {
          "output_type": "stream",
          "name": "stderr",
          "text": [
            "100%|██████████| 1/1 [00:00<00:00,  1.77it/s]\n"
          ]
        },
        {
          "output_type": "stream",
          "name": "stdout",
          "text": [
            "Test set: Average loss: 0.1817, Accuracy: 5628/10000 (56.28%)\n",
            "Round 46/200\n",
            "Selected clients - [34]\n"
          ]
        },
        {
          "output_type": "stream",
          "name": "stderr",
          "text": [
            "100%|██████████| 1/1 [00:00<00:00,  1.80it/s]\n"
          ]
        },
        {
          "output_type": "stream",
          "name": "stdout",
          "text": [
            "Test set: Average loss: 0.1772, Accuracy: 5980/10000 (59.80%)\n",
            "Round 47/200\n",
            "Selected clients - [9]\n"
          ]
        },
        {
          "output_type": "stream",
          "name": "stderr",
          "text": [
            "100%|██████████| 1/1 [00:00<00:00,  1.43it/s]\n"
          ]
        },
        {
          "output_type": "stream",
          "name": "stdout",
          "text": [
            "Test set: Average loss: 0.5440, Accuracy: 2934/10000 (29.34%)\n",
            "Round 48/200\n",
            "Selected clients - [45]\n"
          ]
        },
        {
          "output_type": "stream",
          "name": "stderr",
          "text": [
            "100%|██████████| 1/1 [00:00<00:00,  1.80it/s]\n"
          ]
        },
        {
          "output_type": "stream",
          "name": "stdout",
          "text": [
            "Test set: Average loss: 0.3176, Accuracy: 4860/10000 (48.60%)\n",
            "Round 49/200\n",
            "Selected clients - [70]\n"
          ]
        },
        {
          "output_type": "stream",
          "name": "stderr",
          "text": [
            "100%|██████████| 1/1 [00:00<00:00,  1.76it/s]\n"
          ]
        },
        {
          "output_type": "stream",
          "name": "stdout",
          "text": [
            "Test set: Average loss: 0.2291, Accuracy: 4582/10000 (45.82%)\n",
            "Round 50/200\n",
            "Selected clients - [8]\n"
          ]
        },
        {
          "output_type": "stream",
          "name": "stderr",
          "text": [
            "100%|██████████| 1/1 [00:00<00:00,  1.39it/s]\n"
          ]
        },
        {
          "output_type": "stream",
          "name": "stdout",
          "text": [
            "Test set: Average loss: 0.3270, Accuracy: 5369/10000 (53.69%)\n",
            "Round 51/200\n",
            "Selected clients - [63]\n"
          ]
        },
        {
          "output_type": "stream",
          "name": "stderr",
          "text": [
            "100%|██████████| 1/1 [00:00<00:00,  1.78it/s]\n"
          ]
        },
        {
          "output_type": "stream",
          "name": "stdout",
          "text": [
            "Test set: Average loss: 0.3251, Accuracy: 4526/10000 (45.26%)\n",
            "Round 52/200\n",
            "Selected clients - [31]\n"
          ]
        },
        {
          "output_type": "stream",
          "name": "stderr",
          "text": [
            "100%|██████████| 1/1 [00:00<00:00,  1.75it/s]\n"
          ]
        },
        {
          "output_type": "stream",
          "name": "stdout",
          "text": [
            "Test set: Average loss: 0.1887, Accuracy: 5633/10000 (56.33%)\n",
            "Round 53/200\n",
            "Selected clients - [34]\n"
          ]
        },
        {
          "output_type": "stream",
          "name": "stderr",
          "text": [
            "100%|██████████| 1/1 [00:00<00:00,  1.43it/s]\n"
          ]
        },
        {
          "output_type": "stream",
          "name": "stdout",
          "text": [
            "Test set: Average loss: 0.1577, Accuracy: 6058/10000 (60.58%)\n",
            "Round 54/200\n",
            "Selected clients - [78]\n"
          ]
        },
        {
          "output_type": "stream",
          "name": "stderr",
          "text": [
            "100%|██████████| 1/1 [00:00<00:00,  1.78it/s]\n"
          ]
        },
        {
          "output_type": "stream",
          "name": "stdout",
          "text": [
            "Test set: Average loss: 0.1432, Accuracy: 6589/10000 (65.89%)\n",
            "Round 55/200\n",
            "Selected clients - [17]\n"
          ]
        },
        {
          "output_type": "stream",
          "name": "stderr",
          "text": [
            "100%|██████████| 1/1 [00:00<00:00,  1.83it/s]\n"
          ]
        },
        {
          "output_type": "stream",
          "name": "stdout",
          "text": [
            "Test set: Average loss: 0.0974, Accuracy: 7269/10000 (72.69%)\n",
            "Round 56/200\n",
            "Selected clients - [11]\n"
          ]
        },
        {
          "output_type": "stream",
          "name": "stderr",
          "text": [
            "100%|██████████| 1/1 [00:00<00:00,  1.52it/s]\n"
          ]
        },
        {
          "output_type": "stream",
          "name": "stdout",
          "text": [
            "Test set: Average loss: 0.1605, Accuracy: 6416/10000 (64.16%)\n",
            "Round 57/200\n",
            "Selected clients - [71]\n"
          ]
        },
        {
          "output_type": "stream",
          "name": "stderr",
          "text": [
            "100%|██████████| 1/1 [00:00<00:00,  1.85it/s]\n"
          ]
        },
        {
          "output_type": "stream",
          "name": "stdout",
          "text": [
            "Test set: Average loss: 0.2745, Accuracy: 4963/10000 (49.63%)\n",
            "Round 58/200\n",
            "Selected clients - [5]\n"
          ]
        },
        {
          "output_type": "stream",
          "name": "stderr",
          "text": [
            "100%|██████████| 1/1 [00:00<00:00,  1.80it/s]\n"
          ]
        },
        {
          "output_type": "stream",
          "name": "stdout",
          "text": [
            "Test set: Average loss: 0.2368, Accuracy: 5315/10000 (53.15%)\n",
            "Round 59/200\n",
            "Selected clients - [74]\n"
          ]
        },
        {
          "output_type": "stream",
          "name": "stderr",
          "text": [
            "100%|██████████| 1/1 [00:00<00:00,  1.54it/s]\n"
          ]
        },
        {
          "output_type": "stream",
          "name": "stdout",
          "text": [
            "Test set: Average loss: 0.1139, Accuracy: 6819/10000 (68.19%)\n",
            "Round 60/200\n",
            "Selected clients - [28]\n"
          ]
        },
        {
          "output_type": "stream",
          "name": "stderr",
          "text": [
            "100%|██████████| 1/1 [00:00<00:00,  1.75it/s]\n"
          ]
        },
        {
          "output_type": "stream",
          "name": "stdout",
          "text": [
            "Test set: Average loss: 0.1412, Accuracy: 6678/10000 (66.78%)\n",
            "Round 61/200\n",
            "Selected clients - [39]\n"
          ]
        },
        {
          "output_type": "stream",
          "name": "stderr",
          "text": [
            "100%|██████████| 1/1 [00:00<00:00,  1.78it/s]\n"
          ]
        },
        {
          "output_type": "stream",
          "name": "stdout",
          "text": [
            "Test set: Average loss: 0.3262, Accuracy: 4833/10000 (48.33%)\n",
            "Round 62/200\n",
            "Selected clients - [63]\n"
          ]
        },
        {
          "output_type": "stream",
          "name": "stderr",
          "text": [
            "100%|██████████| 1/1 [00:00<00:00,  1.73it/s]\n"
          ]
        },
        {
          "output_type": "stream",
          "name": "stdout",
          "text": [
            "Test set: Average loss: 0.1434, Accuracy: 6862/10000 (68.62%)\n",
            "Round 63/200\n",
            "Selected clients - [73]\n"
          ]
        },
        {
          "output_type": "stream",
          "name": "stderr",
          "text": [
            "100%|██████████| 1/1 [00:00<00:00,  1.79it/s]\n"
          ]
        },
        {
          "output_type": "stream",
          "name": "stdout",
          "text": [
            "Test set: Average loss: 0.0974, Accuracy: 7626/10000 (76.26%)\n",
            "Round 64/200\n",
            "Selected clients - [56]\n"
          ]
        },
        {
          "output_type": "stream",
          "name": "stderr",
          "text": [
            "100%|██████████| 1/1 [00:00<00:00,  1.77it/s]\n"
          ]
        },
        {
          "output_type": "stream",
          "name": "stdout",
          "text": [
            "Test set: Average loss: 0.1254, Accuracy: 7151/10000 (71.51%)\n",
            "Round 65/200\n",
            "Selected clients - [60]\n"
          ]
        },
        {
          "output_type": "stream",
          "name": "stderr",
          "text": [
            "100%|██████████| 1/1 [00:00<00:00,  1.79it/s]\n"
          ]
        },
        {
          "output_type": "stream",
          "name": "stdout",
          "text": [
            "Test set: Average loss: 0.0981, Accuracy: 7371/10000 (73.71%)\n",
            "Round 66/200\n",
            "Selected clients - [53]\n"
          ]
        },
        {
          "output_type": "stream",
          "name": "stderr",
          "text": [
            "100%|██████████| 1/1 [00:00<00:00,  1.76it/s]\n"
          ]
        },
        {
          "output_type": "stream",
          "name": "stdout",
          "text": [
            "Test set: Average loss: 0.1350, Accuracy: 5904/10000 (59.04%)\n",
            "Round 67/200\n",
            "Selected clients - [9]\n"
          ]
        },
        {
          "output_type": "stream",
          "name": "stderr",
          "text": [
            "100%|██████████| 1/1 [00:00<00:00,  1.73it/s]\n"
          ]
        },
        {
          "output_type": "stream",
          "name": "stdout",
          "text": [
            "Test set: Average loss: 0.2587, Accuracy: 4529/10000 (45.29%)\n",
            "Round 68/200\n",
            "Selected clients - [9]\n"
          ]
        },
        {
          "output_type": "stream",
          "name": "stderr",
          "text": [
            "100%|██████████| 1/1 [00:00<00:00,  1.75it/s]\n"
          ]
        },
        {
          "output_type": "stream",
          "name": "stdout",
          "text": [
            "Test set: Average loss: 0.2798, Accuracy: 4373/10000 (43.73%)\n",
            "Round 69/200\n",
            "Selected clients - [94]\n"
          ]
        },
        {
          "output_type": "stream",
          "name": "stderr",
          "text": [
            "100%|██████████| 1/1 [00:00<00:00,  1.79it/s]\n"
          ]
        },
        {
          "output_type": "stream",
          "name": "stdout",
          "text": [
            "Test set: Average loss: 0.1683, Accuracy: 5795/10000 (57.95%)\n",
            "Round 70/200\n",
            "Selected clients - [87]\n"
          ]
        },
        {
          "output_type": "stream",
          "name": "stderr",
          "text": [
            "100%|██████████| 1/1 [00:00<00:00,  1.82it/s]\n"
          ]
        },
        {
          "output_type": "stream",
          "name": "stdout",
          "text": [
            "Test set: Average loss: 0.2072, Accuracy: 5188/10000 (51.88%)\n",
            "Round 71/200\n",
            "Selected clients - [15]\n"
          ]
        },
        {
          "output_type": "stream",
          "name": "stderr",
          "text": [
            "100%|██████████| 1/1 [00:00<00:00,  1.73it/s]\n"
          ]
        },
        {
          "output_type": "stream",
          "name": "stdout",
          "text": [
            "Test set: Average loss: 0.1492, Accuracy: 6134/10000 (61.34%)\n",
            "Round 72/200\n",
            "Selected clients - [41]\n"
          ]
        },
        {
          "output_type": "stream",
          "name": "stderr",
          "text": [
            "100%|██████████| 1/1 [00:00<00:00,  1.78it/s]\n"
          ]
        },
        {
          "output_type": "stream",
          "name": "stdout",
          "text": [
            "Test set: Average loss: 0.1027, Accuracy: 7239/10000 (72.39%)\n",
            "Round 73/200\n",
            "Selected clients - [9]\n"
          ]
        },
        {
          "output_type": "stream",
          "name": "stderr",
          "text": [
            "100%|██████████| 1/1 [00:00<00:00,  1.78it/s]\n"
          ]
        },
        {
          "output_type": "stream",
          "name": "stdout",
          "text": [
            "Test set: Average loss: 0.2262, Accuracy: 5942/10000 (59.42%)\n",
            "Round 74/200\n",
            "Selected clients - [35]\n"
          ]
        },
        {
          "output_type": "stream",
          "name": "stderr",
          "text": [
            "100%|██████████| 1/1 [00:00<00:00,  1.76it/s]\n"
          ]
        },
        {
          "output_type": "stream",
          "name": "stdout",
          "text": [
            "Test set: Average loss: 0.0635, Accuracy: 8115/10000 (81.15%)\n",
            "Round 75/200\n",
            "Selected clients - [78]\n"
          ]
        },
        {
          "output_type": "stream",
          "name": "stderr",
          "text": [
            "100%|██████████| 1/1 [00:00<00:00,  1.82it/s]\n"
          ]
        },
        {
          "output_type": "stream",
          "name": "stdout",
          "text": [
            "Test set: Average loss: 0.0978, Accuracy: 7730/10000 (77.30%)\n",
            "Round 76/200\n",
            "Selected clients - [57]\n"
          ]
        },
        {
          "output_type": "stream",
          "name": "stderr",
          "text": [
            "100%|██████████| 1/1 [00:00<00:00,  1.80it/s]\n"
          ]
        },
        {
          "output_type": "stream",
          "name": "stdout",
          "text": [
            "Test set: Average loss: 0.0592, Accuracy: 8514/10000 (85.14%)\n",
            "Round 77/200\n",
            "Selected clients - [47]\n"
          ]
        },
        {
          "output_type": "stream",
          "name": "stderr",
          "text": [
            "100%|██████████| 1/1 [00:00<00:00,  1.79it/s]\n"
          ]
        },
        {
          "output_type": "stream",
          "name": "stdout",
          "text": [
            "Test set: Average loss: 0.0717, Accuracy: 8401/10000 (84.01%)\n",
            "Round 78/200\n",
            "Selected clients - [32]\n"
          ]
        },
        {
          "output_type": "stream",
          "name": "stderr",
          "text": [
            "100%|██████████| 1/1 [00:00<00:00,  1.78it/s]\n"
          ]
        },
        {
          "output_type": "stream",
          "name": "stdout",
          "text": [
            "Test set: Average loss: 0.0905, Accuracy: 8032/10000 (80.32%)\n",
            "Round 79/200\n",
            "Selected clients - [24]\n"
          ]
        },
        {
          "output_type": "stream",
          "name": "stderr",
          "text": [
            "100%|██████████| 1/1 [00:00<00:00,  1.79it/s]\n"
          ]
        },
        {
          "output_type": "stream",
          "name": "stdout",
          "text": [
            "Test set: Average loss: 0.0742, Accuracy: 7979/10000 (79.79%)\n",
            "Round 80/200\n",
            "Selected clients - [18]\n"
          ]
        },
        {
          "output_type": "stream",
          "name": "stderr",
          "text": [
            "100%|██████████| 1/1 [00:00<00:00,  1.70it/s]\n"
          ]
        },
        {
          "output_type": "stream",
          "name": "stdout",
          "text": [
            "Test set: Average loss: 0.1223, Accuracy: 6978/10000 (69.78%)\n",
            "Round 81/200\n",
            "Selected clients - [34]\n"
          ]
        },
        {
          "output_type": "stream",
          "name": "stderr",
          "text": [
            "100%|██████████| 1/1 [00:00<00:00,  1.78it/s]\n"
          ]
        },
        {
          "output_type": "stream",
          "name": "stdout",
          "text": [
            "Test set: Average loss: 0.0709, Accuracy: 7923/10000 (79.23%)\n",
            "Round 82/200\n",
            "Selected clients - [64]\n"
          ]
        },
        {
          "output_type": "stream",
          "name": "stderr",
          "text": [
            "100%|██████████| 1/1 [00:00<00:00,  1.54it/s]\n"
          ]
        },
        {
          "output_type": "stream",
          "name": "stdout",
          "text": [
            "Test set: Average loss: 0.1713, Accuracy: 6560/10000 (65.60%)\n",
            "Round 83/200\n",
            "Selected clients - [18]\n"
          ]
        },
        {
          "output_type": "stream",
          "name": "stderr",
          "text": [
            "100%|██████████| 1/1 [00:00<00:00,  1.77it/s]\n"
          ]
        },
        {
          "output_type": "stream",
          "name": "stdout",
          "text": [
            "Test set: Average loss: 0.1715, Accuracy: 6518/10000 (65.18%)\n",
            "Round 84/200\n",
            "Selected clients - [63]\n"
          ]
        },
        {
          "output_type": "stream",
          "name": "stderr",
          "text": [
            "100%|██████████| 1/1 [00:00<00:00,  1.83it/s]\n"
          ]
        },
        {
          "output_type": "stream",
          "name": "stdout",
          "text": [
            "Test set: Average loss: 0.1954, Accuracy: 6290/10000 (62.90%)\n",
            "Round 85/200\n",
            "Selected clients - [93]\n"
          ]
        },
        {
          "output_type": "stream",
          "name": "stderr",
          "text": [
            "100%|██████████| 1/1 [00:00<00:00,  1.54it/s]\n"
          ]
        },
        {
          "output_type": "stream",
          "name": "stdout",
          "text": [
            "Test set: Average loss: 0.1489, Accuracy: 7107/10000 (71.07%)\n",
            "Round 86/200\n",
            "Selected clients - [25]\n"
          ]
        },
        {
          "output_type": "stream",
          "name": "stderr",
          "text": [
            "100%|██████████| 1/1 [00:00<00:00,  1.75it/s]\n"
          ]
        },
        {
          "output_type": "stream",
          "name": "stdout",
          "text": [
            "Test set: Average loss: 0.1099, Accuracy: 7402/10000 (74.02%)\n",
            "Round 87/200\n",
            "Selected clients - [99]\n"
          ]
        },
        {
          "output_type": "stream",
          "name": "stderr",
          "text": [
            "100%|██████████| 1/1 [00:00<00:00,  1.78it/s]\n"
          ]
        },
        {
          "output_type": "stream",
          "name": "stdout",
          "text": [
            "Test set: Average loss: 0.0987, Accuracy: 7542/10000 (75.42%)\n",
            "Round 88/200\n",
            "Selected clients - [18]\n"
          ]
        },
        {
          "output_type": "stream",
          "name": "stderr",
          "text": [
            "100%|██████████| 1/1 [00:00<00:00,  1.45it/s]\n"
          ]
        },
        {
          "output_type": "stream",
          "name": "stdout",
          "text": [
            "Test set: Average loss: 0.1854, Accuracy: 6252/10000 (62.52%)\n",
            "Round 89/200\n",
            "Selected clients - [50]\n"
          ]
        },
        {
          "output_type": "stream",
          "name": "stderr",
          "text": [
            "100%|██████████| 1/1 [00:00<00:00,  1.75it/s]\n"
          ]
        },
        {
          "output_type": "stream",
          "name": "stdout",
          "text": [
            "Test set: Average loss: 0.2106, Accuracy: 4919/10000 (49.19%)\n",
            "Round 90/200\n",
            "Selected clients - [10]\n"
          ]
        },
        {
          "output_type": "stream",
          "name": "stderr",
          "text": [
            "100%|██████████| 1/1 [00:00<00:00,  1.78it/s]\n"
          ]
        },
        {
          "output_type": "stream",
          "name": "stdout",
          "text": [
            "Test set: Average loss: 0.0980, Accuracy: 7425/10000 (74.25%)\n",
            "Round 91/200\n",
            "Selected clients - [26]\n"
          ]
        },
        {
          "output_type": "stream",
          "name": "stderr",
          "text": [
            "100%|██████████| 1/1 [00:00<00:00,  1.45it/s]\n"
          ]
        },
        {
          "output_type": "stream",
          "name": "stdout",
          "text": [
            "Test set: Average loss: 0.1072, Accuracy: 7176/10000 (71.76%)\n",
            "Round 92/200\n",
            "Selected clients - [10]\n"
          ]
        },
        {
          "output_type": "stream",
          "name": "stderr",
          "text": [
            "100%|██████████| 1/1 [00:00<00:00,  1.78it/s]\n"
          ]
        },
        {
          "output_type": "stream",
          "name": "stdout",
          "text": [
            "Test set: Average loss: 0.1328, Accuracy: 6681/10000 (66.81%)\n",
            "Round 93/200\n",
            "Selected clients - [53]\n"
          ]
        },
        {
          "output_type": "stream",
          "name": "stderr",
          "text": [
            "100%|██████████| 1/1 [00:00<00:00,  1.79it/s]\n"
          ]
        },
        {
          "output_type": "stream",
          "name": "stdout",
          "text": [
            "Test set: Average loss: 0.0987, Accuracy: 6813/10000 (68.13%)\n",
            "Round 94/200\n",
            "Selected clients - [63]\n"
          ]
        },
        {
          "output_type": "stream",
          "name": "stderr",
          "text": [
            "100%|██████████| 1/1 [00:00<00:00,  1.51it/s]\n"
          ]
        },
        {
          "output_type": "stream",
          "name": "stdout",
          "text": [
            "Test set: Average loss: 0.1522, Accuracy: 6070/10000 (60.70%)\n",
            "Round 95/200\n",
            "Selected clients - [69]\n"
          ]
        },
        {
          "output_type": "stream",
          "name": "stderr",
          "text": [
            "100%|██████████| 1/1 [00:00<00:00,  1.76it/s]\n"
          ]
        },
        {
          "output_type": "stream",
          "name": "stdout",
          "text": [
            "Test set: Average loss: 0.0762, Accuracy: 8064/10000 (80.64%)\n",
            "Round 96/200\n",
            "Selected clients - [97]\n"
          ]
        },
        {
          "output_type": "stream",
          "name": "stderr",
          "text": [
            "100%|██████████| 1/1 [00:00<00:00,  1.82it/s]\n"
          ]
        },
        {
          "output_type": "stream",
          "name": "stdout",
          "text": [
            "Test set: Average loss: 0.0838, Accuracy: 7986/10000 (79.86%)\n",
            "Round 97/200\n",
            "Selected clients - [47]\n"
          ]
        },
        {
          "output_type": "stream",
          "name": "stderr",
          "text": [
            "100%|██████████| 1/1 [00:00<00:00,  1.46it/s]\n"
          ]
        },
        {
          "output_type": "stream",
          "name": "stdout",
          "text": [
            "Test set: Average loss: 0.0834, Accuracy: 7744/10000 (77.44%)\n",
            "Round 98/200\n",
            "Selected clients - [24]\n"
          ]
        },
        {
          "output_type": "stream",
          "name": "stderr",
          "text": [
            "100%|██████████| 1/1 [00:00<00:00,  1.80it/s]\n"
          ]
        },
        {
          "output_type": "stream",
          "name": "stdout",
          "text": [
            "Test set: Average loss: 0.0796, Accuracy: 8100/10000 (81.00%)\n",
            "Round 99/200\n",
            "Selected clients - [45]\n"
          ]
        },
        {
          "output_type": "stream",
          "name": "stderr",
          "text": [
            "100%|██████████| 1/1 [00:00<00:00,  1.79it/s]\n"
          ]
        },
        {
          "output_type": "stream",
          "name": "stdout",
          "text": [
            "Test set: Average loss: 0.0598, Accuracy: 8277/10000 (82.77%)\n",
            "Round 100/200\n",
            "Selected clients - [51]\n"
          ]
        },
        {
          "output_type": "stream",
          "name": "stderr",
          "text": [
            "100%|██████████| 1/1 [00:00<00:00,  1.46it/s]\n"
          ]
        },
        {
          "output_type": "stream",
          "name": "stdout",
          "text": [
            "Test set: Average loss: 0.0788, Accuracy: 7878/10000 (78.78%)\n",
            "Round 101/200\n",
            "Selected clients - [18]\n"
          ]
        },
        {
          "output_type": "stream",
          "name": "stderr",
          "text": [
            "100%|██████████| 1/1 [00:00<00:00,  1.83it/s]\n"
          ]
        },
        {
          "output_type": "stream",
          "name": "stdout",
          "text": [
            "Test set: Average loss: 0.1013, Accuracy: 7477/10000 (74.77%)\n",
            "Round 102/200\n",
            "Selected clients - [74]\n"
          ]
        },
        {
          "output_type": "stream",
          "name": "stderr",
          "text": [
            "100%|██████████| 1/1 [00:00<00:00,  1.80it/s]\n"
          ]
        },
        {
          "output_type": "stream",
          "name": "stdout",
          "text": [
            "Test set: Average loss: 0.0594, Accuracy: 8331/10000 (83.31%)\n",
            "Round 103/200\n",
            "Selected clients - [18]\n"
          ]
        },
        {
          "output_type": "stream",
          "name": "stderr",
          "text": [
            "100%|██████████| 1/1 [00:00<00:00,  1.49it/s]\n"
          ]
        },
        {
          "output_type": "stream",
          "name": "stdout",
          "text": [
            "Test set: Average loss: 0.1290, Accuracy: 7213/10000 (72.13%)\n",
            "Round 104/200\n",
            "Selected clients - [91]\n"
          ]
        },
        {
          "output_type": "stream",
          "name": "stderr",
          "text": [
            "100%|██████████| 1/1 [00:00<00:00,  1.81it/s]\n"
          ]
        },
        {
          "output_type": "stream",
          "name": "stdout",
          "text": [
            "Test set: Average loss: 0.0609, Accuracy: 8400/10000 (84.00%)\n",
            "Round 105/200\n",
            "Selected clients - [2]\n"
          ]
        },
        {
          "output_type": "stream",
          "name": "stderr",
          "text": [
            "100%|██████████| 1/1 [00:00<00:00,  1.84it/s]\n"
          ]
        },
        {
          "output_type": "stream",
          "name": "stdout",
          "text": [
            "Test set: Average loss: 0.1260, Accuracy: 7004/10000 (70.04%)\n",
            "Round 106/200\n",
            "Selected clients - [75]\n"
          ]
        },
        {
          "output_type": "stream",
          "name": "stderr",
          "text": [
            "100%|██████████| 1/1 [00:00<00:00,  1.52it/s]\n"
          ]
        },
        {
          "output_type": "stream",
          "name": "stdout",
          "text": [
            "Test set: Average loss: 0.0753, Accuracy: 8101/10000 (81.01%)\n",
            "Round 107/200\n",
            "Selected clients - [90]\n"
          ]
        },
        {
          "output_type": "stream",
          "name": "stderr",
          "text": [
            "100%|██████████| 1/1 [00:00<00:00,  1.79it/s]\n"
          ]
        },
        {
          "output_type": "stream",
          "name": "stdout",
          "text": [
            "Test set: Average loss: 0.0760, Accuracy: 8240/10000 (82.40%)\n",
            "Round 108/200\n",
            "Selected clients - [31]\n"
          ]
        },
        {
          "output_type": "stream",
          "name": "stderr",
          "text": [
            "100%|██████████| 1/1 [00:00<00:00,  1.82it/s]\n"
          ]
        },
        {
          "output_type": "stream",
          "name": "stdout",
          "text": [
            "Test set: Average loss: 0.0568, Accuracy: 8271/10000 (82.71%)\n",
            "Round 109/200\n",
            "Selected clients - [16]\n"
          ]
        },
        {
          "output_type": "stream",
          "name": "stderr",
          "text": [
            "100%|██████████| 1/1 [00:00<00:00,  1.42it/s]\n"
          ]
        },
        {
          "output_type": "stream",
          "name": "stdout",
          "text": [
            "Test set: Average loss: 0.0685, Accuracy: 8120/10000 (81.20%)\n",
            "Round 110/200\n",
            "Selected clients - [35]\n"
          ]
        },
        {
          "output_type": "stream",
          "name": "stderr",
          "text": [
            "100%|██████████| 1/1 [00:00<00:00,  1.76it/s]\n"
          ]
        },
        {
          "output_type": "stream",
          "name": "stdout",
          "text": [
            "Test set: Average loss: 0.0431, Accuracy: 8648/10000 (86.48%)\n",
            "Round 111/200\n",
            "Selected clients - [49]\n"
          ]
        },
        {
          "output_type": "stream",
          "name": "stderr",
          "text": [
            "100%|██████████| 1/1 [00:00<00:00,  1.76it/s]\n"
          ]
        },
        {
          "output_type": "stream",
          "name": "stdout",
          "text": [
            "Test set: Average loss: 0.0733, Accuracy: 8041/10000 (80.41%)\n",
            "Round 112/200\n",
            "Selected clients - [27]\n"
          ]
        },
        {
          "output_type": "stream",
          "name": "stderr",
          "text": [
            "100%|██████████| 1/1 [00:00<00:00,  1.49it/s]\n"
          ]
        },
        {
          "output_type": "stream",
          "name": "stdout",
          "text": [
            "Test set: Average loss: 0.2026, Accuracy: 5902/10000 (59.02%)\n",
            "Round 113/200\n",
            "Selected clients - [61]\n"
          ]
        },
        {
          "output_type": "stream",
          "name": "stderr",
          "text": [
            "100%|██████████| 1/1 [00:00<00:00,  1.85it/s]\n"
          ]
        },
        {
          "output_type": "stream",
          "name": "stdout",
          "text": [
            "Test set: Average loss: 0.1144, Accuracy: 7406/10000 (74.06%)\n",
            "Round 114/200\n",
            "Selected clients - [3]\n"
          ]
        },
        {
          "output_type": "stream",
          "name": "stderr",
          "text": [
            "100%|██████████| 1/1 [00:00<00:00,  1.74it/s]\n"
          ]
        },
        {
          "output_type": "stream",
          "name": "stdout",
          "text": [
            "Test set: Average loss: 0.0502, Accuracy: 8641/10000 (86.41%)\n",
            "Round 115/200\n",
            "Selected clients - [30]\n"
          ]
        },
        {
          "output_type": "stream",
          "name": "stderr",
          "text": [
            "100%|██████████| 1/1 [00:00<00:00,  1.46it/s]\n"
          ]
        },
        {
          "output_type": "stream",
          "name": "stdout",
          "text": [
            "Test set: Average loss: 0.0497, Accuracy: 8617/10000 (86.17%)\n",
            "Round 116/200\n",
            "Selected clients - [36]\n"
          ]
        },
        {
          "output_type": "stream",
          "name": "stderr",
          "text": [
            "100%|██████████| 1/1 [00:00<00:00,  1.77it/s]\n"
          ]
        },
        {
          "output_type": "stream",
          "name": "stdout",
          "text": [
            "Test set: Average loss: 0.1001, Accuracy: 7392/10000 (73.92%)\n",
            "Round 117/200\n",
            "Selected clients - [95]\n"
          ]
        },
        {
          "output_type": "stream",
          "name": "stderr",
          "text": [
            "100%|██████████| 1/1 [00:00<00:00,  1.80it/s]\n"
          ]
        },
        {
          "output_type": "stream",
          "name": "stdout",
          "text": [
            "Test set: Average loss: 0.0633, Accuracy: 8031/10000 (80.31%)\n",
            "Round 118/200\n",
            "Selected clients - [30]\n"
          ]
        },
        {
          "output_type": "stream",
          "name": "stderr",
          "text": [
            "100%|██████████| 1/1 [00:00<00:00,  1.41it/s]\n"
          ]
        },
        {
          "output_type": "stream",
          "name": "stdout",
          "text": [
            "Test set: Average loss: 0.0478, Accuracy: 8577/10000 (85.77%)\n",
            "Round 119/200\n",
            "Selected clients - [91]\n"
          ]
        },
        {
          "output_type": "stream",
          "name": "stderr",
          "text": [
            "100%|██████████| 1/1 [00:00<00:00,  1.80it/s]\n"
          ]
        },
        {
          "output_type": "stream",
          "name": "stdout",
          "text": [
            "Test set: Average loss: 0.0434, Accuracy: 8631/10000 (86.31%)\n",
            "Round 120/200\n",
            "Selected clients - [36]\n"
          ]
        },
        {
          "output_type": "stream",
          "name": "stderr",
          "text": [
            "100%|██████████| 1/1 [00:00<00:00,  1.79it/s]\n"
          ]
        },
        {
          "output_type": "stream",
          "name": "stdout",
          "text": [
            "Test set: Average loss: 0.0733, Accuracy: 8091/10000 (80.91%)\n",
            "Round 121/200\n",
            "Selected clients - [65]\n"
          ]
        },
        {
          "output_type": "stream",
          "name": "stderr",
          "text": [
            "100%|██████████| 1/1 [00:00<00:00,  1.43it/s]\n"
          ]
        },
        {
          "output_type": "stream",
          "name": "stdout",
          "text": [
            "Test set: Average loss: 0.0642, Accuracy: 8173/10000 (81.73%)\n",
            "Round 122/200\n",
            "Selected clients - [11]\n"
          ]
        },
        {
          "output_type": "stream",
          "name": "stderr",
          "text": [
            "100%|██████████| 1/1 [00:00<00:00,  1.78it/s]\n"
          ]
        },
        {
          "output_type": "stream",
          "name": "stdout",
          "text": [
            "Test set: Average loss: 0.0334, Accuracy: 9003/10000 (90.03%)\n",
            "Round 123/200\n",
            "Selected clients - [65]\n"
          ]
        },
        {
          "output_type": "stream",
          "name": "stderr",
          "text": [
            "100%|██████████| 1/1 [00:00<00:00,  1.72it/s]\n"
          ]
        },
        {
          "output_type": "stream",
          "name": "stdout",
          "text": [
            "Test set: Average loss: 0.0587, Accuracy: 8570/10000 (85.70%)\n",
            "Round 124/200\n",
            "Selected clients - [6]\n"
          ]
        },
        {
          "output_type": "stream",
          "name": "stderr",
          "text": [
            "100%|██████████| 1/1 [00:00<00:00,  1.41it/s]\n"
          ]
        },
        {
          "output_type": "stream",
          "name": "stdout",
          "text": [
            "Test set: Average loss: 0.0585, Accuracy: 8495/10000 (84.95%)\n",
            "Round 125/200\n",
            "Selected clients - [35]\n"
          ]
        },
        {
          "output_type": "stream",
          "name": "stderr",
          "text": [
            "100%|██████████| 1/1 [00:00<00:00,  1.79it/s]\n"
          ]
        },
        {
          "output_type": "stream",
          "name": "stdout",
          "text": [
            "Test set: Average loss: 0.0285, Accuracy: 9164/10000 (91.64%)\n",
            "Round 126/200\n",
            "Selected clients - [31]\n"
          ]
        },
        {
          "output_type": "stream",
          "name": "stderr",
          "text": [
            "100%|██████████| 1/1 [00:00<00:00,  1.79it/s]\n"
          ]
        },
        {
          "output_type": "stream",
          "name": "stdout",
          "text": [
            "Test set: Average loss: 0.0368, Accuracy: 8926/10000 (89.26%)\n",
            "Round 127/200\n",
            "Selected clients - [73]\n"
          ]
        },
        {
          "output_type": "stream",
          "name": "stderr",
          "text": [
            "100%|██████████| 1/1 [00:00<00:00,  1.51it/s]\n"
          ]
        },
        {
          "output_type": "stream",
          "name": "stdout",
          "text": [
            "Test set: Average loss: 0.0502, Accuracy: 8805/10000 (88.05%)\n",
            "Round 128/200\n",
            "Selected clients - [5]\n"
          ]
        },
        {
          "output_type": "stream",
          "name": "stderr",
          "text": [
            "100%|██████████| 1/1 [00:00<00:00,  1.75it/s]\n"
          ]
        },
        {
          "output_type": "stream",
          "name": "stdout",
          "text": [
            "Test set: Average loss: 0.0625, Accuracy: 8258/10000 (82.58%)\n",
            "Round 129/200\n",
            "Selected clients - [30]\n"
          ]
        },
        {
          "output_type": "stream",
          "name": "stderr",
          "text": [
            "100%|██████████| 1/1 [00:00<00:00,  1.80it/s]\n"
          ]
        },
        {
          "output_type": "stream",
          "name": "stdout",
          "text": [
            "Test set: Average loss: 0.0479, Accuracy: 8576/10000 (85.76%)\n",
            "Round 130/200\n",
            "Selected clients - [75]\n"
          ]
        },
        {
          "output_type": "stream",
          "name": "stderr",
          "text": [
            "100%|██████████| 1/1 [00:00<00:00,  1.67it/s]\n"
          ]
        },
        {
          "output_type": "stream",
          "name": "stdout",
          "text": [
            "Test set: Average loss: 0.0505, Accuracy: 8594/10000 (85.94%)\n",
            "Round 131/200\n",
            "Selected clients - [66]\n"
          ]
        },
        {
          "output_type": "stream",
          "name": "stderr",
          "text": [
            "100%|██████████| 1/1 [00:00<00:00,  1.75it/s]\n"
          ]
        },
        {
          "output_type": "stream",
          "name": "stdout",
          "text": [
            "Test set: Average loss: 0.0332, Accuracy: 9112/10000 (91.12%)\n",
            "Round 132/200\n",
            "Selected clients - [40]\n"
          ]
        },
        {
          "output_type": "stream",
          "name": "stderr",
          "text": [
            "100%|██████████| 1/1 [00:00<00:00,  1.79it/s]\n"
          ]
        },
        {
          "output_type": "stream",
          "name": "stdout",
          "text": [
            "Test set: Average loss: 0.0237, Accuracy: 9351/10000 (93.51%)\n",
            "Round 133/200\n",
            "Selected clients - [52]\n"
          ]
        },
        {
          "output_type": "stream",
          "name": "stderr",
          "text": [
            "100%|██████████| 1/1 [00:00<00:00,  1.78it/s]\n"
          ]
        },
        {
          "output_type": "stream",
          "name": "stdout",
          "text": [
            "Test set: Average loss: 0.0312, Accuracy: 9173/10000 (91.73%)\n",
            "Round 134/200\n",
            "Selected clients - [63]\n"
          ]
        },
        {
          "output_type": "stream",
          "name": "stderr",
          "text": [
            "100%|██████████| 1/1 [00:00<00:00,  1.81it/s]\n"
          ]
        },
        {
          "output_type": "stream",
          "name": "stdout",
          "text": [
            "Test set: Average loss: 0.0557, Accuracy: 8843/10000 (88.43%)\n",
            "Round 135/200\n",
            "Selected clients - [61]\n"
          ]
        },
        {
          "output_type": "stream",
          "name": "stderr",
          "text": [
            "100%|██████████| 1/1 [00:00<00:00,  1.80it/s]\n"
          ]
        },
        {
          "output_type": "stream",
          "name": "stdout",
          "text": [
            "Test set: Average loss: 0.0548, Accuracy: 8681/10000 (86.81%)\n",
            "Round 136/200\n",
            "Selected clients - [85]\n"
          ]
        },
        {
          "output_type": "stream",
          "name": "stderr",
          "text": [
            "100%|██████████| 1/1 [00:00<00:00,  1.76it/s]\n"
          ]
        },
        {
          "output_type": "stream",
          "name": "stdout",
          "text": [
            "Test set: Average loss: 0.0344, Accuracy: 9025/10000 (90.25%)\n",
            "Round 137/200\n",
            "Selected clients - [73]\n"
          ]
        },
        {
          "output_type": "stream",
          "name": "stderr",
          "text": [
            "100%|██████████| 1/1 [00:00<00:00,  1.80it/s]\n"
          ]
        },
        {
          "output_type": "stream",
          "name": "stdout",
          "text": [
            "Test set: Average loss: 0.0500, Accuracy: 8802/10000 (88.02%)\n",
            "Round 138/200\n",
            "Selected clients - [9]\n"
          ]
        },
        {
          "output_type": "stream",
          "name": "stderr",
          "text": [
            "100%|██████████| 1/1 [00:00<00:00,  1.79it/s]\n"
          ]
        },
        {
          "output_type": "stream",
          "name": "stdout",
          "text": [
            "Test set: Average loss: 0.0474, Accuracy: 8813/10000 (88.13%)\n",
            "Round 139/200\n",
            "Selected clients - [24]\n"
          ]
        },
        {
          "output_type": "stream",
          "name": "stderr",
          "text": [
            "100%|██████████| 1/1 [00:00<00:00,  1.78it/s]\n"
          ]
        },
        {
          "output_type": "stream",
          "name": "stdout",
          "text": [
            "Test set: Average loss: 0.0260, Accuracy: 9309/10000 (93.09%)\n",
            "Round 140/200\n",
            "Selected clients - [0]\n"
          ]
        },
        {
          "output_type": "stream",
          "name": "stderr",
          "text": [
            "100%|██████████| 1/1 [00:00<00:00,  1.69it/s]\n"
          ]
        },
        {
          "output_type": "stream",
          "name": "stdout",
          "text": [
            "Test set: Average loss: 0.0253, Accuracy: 9298/10000 (92.98%)\n",
            "Round 141/200\n",
            "Selected clients - [98]\n"
          ]
        },
        {
          "output_type": "stream",
          "name": "stderr",
          "text": [
            "100%|██████████| 1/1 [00:00<00:00,  1.78it/s]\n"
          ]
        },
        {
          "output_type": "stream",
          "name": "stdout",
          "text": [
            "Test set: Average loss: 0.0175, Accuracy: 9489/10000 (94.89%)\n",
            "Round 142/200\n",
            "Selected clients - [66]\n"
          ]
        },
        {
          "output_type": "stream",
          "name": "stderr",
          "text": [
            "100%|██████████| 1/1 [00:00<00:00,  1.72it/s]\n"
          ]
        },
        {
          "output_type": "stream",
          "name": "stdout",
          "text": [
            "Test set: Average loss: 0.0237, Accuracy: 9380/10000 (93.80%)\n",
            "Round 143/200\n",
            "Selected clients - [74]\n"
          ]
        },
        {
          "output_type": "stream",
          "name": "stderr",
          "text": [
            "100%|██████████| 1/1 [00:00<00:00,  1.76it/s]\n"
          ]
        },
        {
          "output_type": "stream",
          "name": "stdout",
          "text": [
            "Test set: Average loss: 0.0327, Accuracy: 9157/10000 (91.57%)\n",
            "Round 144/200\n",
            "Selected clients - [23]\n"
          ]
        },
        {
          "output_type": "stream",
          "name": "stderr",
          "text": [
            "100%|██████████| 1/1 [00:00<00:00,  1.76it/s]\n"
          ]
        },
        {
          "output_type": "stream",
          "name": "stdout",
          "text": [
            "Test set: Average loss: 0.0491, Accuracy: 8729/10000 (87.29%)\n",
            "Round 145/200\n",
            "Selected clients - [57]\n"
          ]
        },
        {
          "output_type": "stream",
          "name": "stderr",
          "text": [
            "100%|██████████| 1/1 [00:00<00:00,  1.76it/s]\n"
          ]
        },
        {
          "output_type": "stream",
          "name": "stdout",
          "text": [
            "Test set: Average loss: 0.0662, Accuracy: 8323/10000 (83.23%)\n",
            "Round 146/200\n",
            "Selected clients - [96]\n"
          ]
        },
        {
          "output_type": "stream",
          "name": "stderr",
          "text": [
            "100%|██████████| 1/1 [00:00<00:00,  1.78it/s]\n"
          ]
        },
        {
          "output_type": "stream",
          "name": "stdout",
          "text": [
            "Test set: Average loss: 0.0700, Accuracy: 8400/10000 (84.00%)\n",
            "Round 147/200\n",
            "Selected clients - [17]\n"
          ]
        },
        {
          "output_type": "stream",
          "name": "stderr",
          "text": [
            "100%|██████████| 1/1 [00:00<00:00,  1.77it/s]\n"
          ]
        },
        {
          "output_type": "stream",
          "name": "stdout",
          "text": [
            "Test set: Average loss: 0.0241, Accuracy: 9305/10000 (93.05%)\n",
            "Round 148/200\n",
            "Selected clients - [77]\n"
          ]
        },
        {
          "output_type": "stream",
          "name": "stderr",
          "text": [
            "100%|██████████| 1/1 [00:00<00:00,  1.79it/s]\n"
          ]
        },
        {
          "output_type": "stream",
          "name": "stdout",
          "text": [
            "Test set: Average loss: 0.0258, Accuracy: 9277/10000 (92.77%)\n",
            "Round 149/200\n",
            "Selected clients - [51]\n"
          ]
        },
        {
          "output_type": "stream",
          "name": "stderr",
          "text": [
            "100%|██████████| 1/1 [00:00<00:00,  1.78it/s]\n"
          ]
        },
        {
          "output_type": "stream",
          "name": "stdout",
          "text": [
            "Test set: Average loss: 0.0201, Accuracy: 9399/10000 (93.99%)\n",
            "Round 150/200\n",
            "Selected clients - [9]\n"
          ]
        },
        {
          "output_type": "stream",
          "name": "stderr",
          "text": [
            "100%|██████████| 1/1 [00:00<00:00,  1.77it/s]\n"
          ]
        },
        {
          "output_type": "stream",
          "name": "stdout",
          "text": [
            "Test set: Average loss: 0.0738, Accuracy: 8365/10000 (83.65%)\n",
            "Round 151/200\n",
            "Selected clients - [41]\n"
          ]
        },
        {
          "output_type": "stream",
          "name": "stderr",
          "text": [
            "100%|██████████| 1/1 [00:00<00:00,  1.75it/s]\n"
          ]
        },
        {
          "output_type": "stream",
          "name": "stdout",
          "text": [
            "Test set: Average loss: 0.0223, Accuracy: 9367/10000 (93.67%)\n",
            "Round 152/200\n",
            "Selected clients - [90]\n"
          ]
        },
        {
          "output_type": "stream",
          "name": "stderr",
          "text": [
            "100%|██████████| 1/1 [00:00<00:00,  1.76it/s]\n"
          ]
        },
        {
          "output_type": "stream",
          "name": "stdout",
          "text": [
            "Test set: Average loss: 0.0528, Accuracy: 8711/10000 (87.11%)\n",
            "Round 153/200\n",
            "Selected clients - [96]\n"
          ]
        },
        {
          "output_type": "stream",
          "name": "stderr",
          "text": [
            "100%|██████████| 1/1 [00:00<00:00,  1.61it/s]\n"
          ]
        },
        {
          "output_type": "stream",
          "name": "stdout",
          "text": [
            "Test set: Average loss: 0.0948, Accuracy: 8213/10000 (82.13%)\n",
            "Round 154/200\n",
            "Selected clients - [62]\n"
          ]
        },
        {
          "output_type": "stream",
          "name": "stderr",
          "text": [
            "100%|██████████| 1/1 [00:00<00:00,  1.81it/s]\n"
          ]
        },
        {
          "output_type": "stream",
          "name": "stdout",
          "text": [
            "Test set: Average loss: 0.0460, Accuracy: 8663/10000 (86.63%)\n",
            "Round 155/200\n",
            "Selected clients - [26]\n"
          ]
        },
        {
          "output_type": "stream",
          "name": "stderr",
          "text": [
            "100%|██████████| 1/1 [00:00<00:00,  1.74it/s]\n"
          ]
        },
        {
          "output_type": "stream",
          "name": "stdout",
          "text": [
            "Test set: Average loss: 0.0389, Accuracy: 8840/10000 (88.40%)\n",
            "Round 156/200\n",
            "Selected clients - [74]\n"
          ]
        },
        {
          "output_type": "stream",
          "name": "stderr",
          "text": [
            "100%|██████████| 1/1 [00:00<00:00,  1.58it/s]\n"
          ]
        },
        {
          "output_type": "stream",
          "name": "stdout",
          "text": [
            "Test set: Average loss: 0.0368, Accuracy: 9072/10000 (90.72%)\n",
            "Round 157/200\n",
            "Selected clients - [62]\n"
          ]
        },
        {
          "output_type": "stream",
          "name": "stderr",
          "text": [
            "100%|██████████| 1/1 [00:00<00:00,  1.80it/s]\n"
          ]
        },
        {
          "output_type": "stream",
          "name": "stdout",
          "text": [
            "Test set: Average loss: 0.0878, Accuracy: 7942/10000 (79.42%)\n",
            "Round 158/200\n",
            "Selected clients - [78]\n"
          ]
        },
        {
          "output_type": "stream",
          "name": "stderr",
          "text": [
            "100%|██████████| 1/1 [00:00<00:00,  1.80it/s]\n"
          ]
        },
        {
          "output_type": "stream",
          "name": "stdout",
          "text": [
            "Test set: Average loss: 0.0519, Accuracy: 8884/10000 (88.84%)\n",
            "Round 159/200\n",
            "Selected clients - [87]\n"
          ]
        },
        {
          "output_type": "stream",
          "name": "stderr",
          "text": [
            "100%|██████████| 1/1 [00:00<00:00,  1.48it/s]\n"
          ]
        },
        {
          "output_type": "stream",
          "name": "stdout",
          "text": [
            "Test set: Average loss: 0.0396, Accuracy: 8902/10000 (89.02%)\n",
            "Round 160/200\n",
            "Selected clients - [50]\n"
          ]
        },
        {
          "output_type": "stream",
          "name": "stderr",
          "text": [
            "100%|██████████| 1/1 [00:00<00:00,  1.70it/s]\n"
          ]
        },
        {
          "output_type": "stream",
          "name": "stdout",
          "text": [
            "Test set: Average loss: 0.0848, Accuracy: 8152/10000 (81.52%)\n",
            "Round 161/200\n",
            "Selected clients - [15]\n"
          ]
        },
        {
          "output_type": "stream",
          "name": "stderr",
          "text": [
            "100%|██████████| 1/1 [00:00<00:00,  1.79it/s]\n"
          ]
        },
        {
          "output_type": "stream",
          "name": "stdout",
          "text": [
            "Test set: Average loss: 0.0466, Accuracy: 8704/10000 (87.04%)\n",
            "Round 162/200\n",
            "Selected clients - [66]\n"
          ]
        },
        {
          "output_type": "stream",
          "name": "stderr",
          "text": [
            "100%|██████████| 1/1 [00:00<00:00,  1.46it/s]\n"
          ]
        },
        {
          "output_type": "stream",
          "name": "stdout",
          "text": [
            "Test set: Average loss: 0.0263, Accuracy: 9205/10000 (92.05%)\n",
            "Round 163/200\n",
            "Selected clients - [6]\n"
          ]
        },
        {
          "output_type": "stream",
          "name": "stderr",
          "text": [
            "100%|██████████| 1/1 [00:00<00:00,  1.76it/s]\n"
          ]
        },
        {
          "output_type": "stream",
          "name": "stdout",
          "text": [
            "Test set: Average loss: 0.0392, Accuracy: 8942/10000 (89.42%)\n",
            "Round 164/200\n",
            "Selected clients - [69]\n"
          ]
        },
        {
          "output_type": "stream",
          "name": "stderr",
          "text": [
            "100%|██████████| 1/1 [00:00<00:00,  1.77it/s]\n"
          ]
        },
        {
          "output_type": "stream",
          "name": "stdout",
          "text": [
            "Test set: Average loss: 0.0461, Accuracy: 8827/10000 (88.27%)\n",
            "Round 165/200\n",
            "Selected clients - [12]\n"
          ]
        },
        {
          "output_type": "stream",
          "name": "stderr",
          "text": [
            "100%|██████████| 1/1 [00:00<00:00,  1.41it/s]\n"
          ]
        },
        {
          "output_type": "stream",
          "name": "stdout",
          "text": [
            "Test set: Average loss: 0.0357, Accuracy: 8961/10000 (89.61%)\n",
            "Round 166/200\n",
            "Selected clients - [2]\n"
          ]
        },
        {
          "output_type": "stream",
          "name": "stderr",
          "text": [
            "100%|██████████| 1/1 [00:00<00:00,  1.80it/s]\n"
          ]
        },
        {
          "output_type": "stream",
          "name": "stdout",
          "text": [
            "Test set: Average loss: 0.0749, Accuracy: 7973/10000 (79.73%)\n",
            "Round 167/200\n",
            "Selected clients - [22]\n"
          ]
        },
        {
          "output_type": "stream",
          "name": "stderr",
          "text": [
            "100%|██████████| 1/1 [00:00<00:00,  1.84it/s]\n"
          ]
        },
        {
          "output_type": "stream",
          "name": "stdout",
          "text": [
            "Test set: Average loss: 0.0719, Accuracy: 7995/10000 (79.95%)\n",
            "Round 168/200\n",
            "Selected clients - [29]\n"
          ]
        },
        {
          "output_type": "stream",
          "name": "stderr",
          "text": [
            "100%|██████████| 1/1 [00:00<00:00,  1.41it/s]\n"
          ]
        },
        {
          "output_type": "stream",
          "name": "stdout",
          "text": [
            "Test set: Average loss: 0.0242, Accuracy: 9348/10000 (93.48%)\n",
            "Round 169/200\n",
            "Selected clients - [95]\n"
          ]
        },
        {
          "output_type": "stream",
          "name": "stderr",
          "text": [
            "100%|██████████| 1/1 [00:00<00:00,  1.82it/s]\n"
          ]
        },
        {
          "output_type": "stream",
          "name": "stdout",
          "text": [
            "Test set: Average loss: 0.0299, Accuracy: 9061/10000 (90.61%)\n",
            "Round 170/200\n",
            "Selected clients - [32]\n"
          ]
        },
        {
          "output_type": "stream",
          "name": "stderr",
          "text": [
            "100%|██████████| 1/1 [00:00<00:00,  1.79it/s]\n"
          ]
        },
        {
          "output_type": "stream",
          "name": "stdout",
          "text": [
            "Test set: Average loss: 0.0252, Accuracy: 9236/10000 (92.36%)\n",
            "Round 171/200\n",
            "Selected clients - [44]\n"
          ]
        },
        {
          "output_type": "stream",
          "name": "stderr",
          "text": [
            "100%|██████████| 1/1 [00:00<00:00,  1.50it/s]\n"
          ]
        },
        {
          "output_type": "stream",
          "name": "stdout",
          "text": [
            "Test set: Average loss: 0.0421, Accuracy: 8764/10000 (87.64%)\n",
            "Round 172/200\n",
            "Selected clients - [71]\n"
          ]
        },
        {
          "output_type": "stream",
          "name": "stderr",
          "text": [
            "100%|██████████| 1/1 [00:00<00:00,  1.77it/s]\n"
          ]
        },
        {
          "output_type": "stream",
          "name": "stdout",
          "text": [
            "Test set: Average loss: 0.0789, Accuracy: 7978/10000 (79.78%)\n",
            "Round 173/200\n",
            "Selected clients - [45]\n"
          ]
        },
        {
          "output_type": "stream",
          "name": "stderr",
          "text": [
            "100%|██████████| 1/1 [00:00<00:00,  1.76it/s]\n"
          ]
        },
        {
          "output_type": "stream",
          "name": "stdout",
          "text": [
            "Test set: Average loss: 0.0363, Accuracy: 8950/10000 (89.50%)\n",
            "Round 174/200\n",
            "Selected clients - [41]\n"
          ]
        },
        {
          "output_type": "stream",
          "name": "stderr",
          "text": [
            "100%|██████████| 1/1 [00:00<00:00,  1.49it/s]\n"
          ]
        },
        {
          "output_type": "stream",
          "name": "stdout",
          "text": [
            "Test set: Average loss: 0.0220, Accuracy: 9337/10000 (93.37%)\n",
            "Round 175/200\n",
            "Selected clients - [0]\n"
          ]
        },
        {
          "output_type": "stream",
          "name": "stderr",
          "text": [
            "100%|██████████| 1/1 [00:00<00:00,  1.79it/s]\n"
          ]
        },
        {
          "output_type": "stream",
          "name": "stdout",
          "text": [
            "Test set: Average loss: 0.0163, Accuracy: 9529/10000 (95.29%)\n",
            "Round 176/200\n",
            "Selected clients - [56]\n"
          ]
        },
        {
          "output_type": "stream",
          "name": "stderr",
          "text": [
            "100%|██████████| 1/1 [00:00<00:00,  1.79it/s]\n"
          ]
        },
        {
          "output_type": "stream",
          "name": "stdout",
          "text": [
            "Test set: Average loss: 0.0242, Accuracy: 9315/10000 (93.15%)\n",
            "Round 177/200\n",
            "Selected clients - [3]\n"
          ]
        },
        {
          "output_type": "stream",
          "name": "stderr",
          "text": [
            "100%|██████████| 1/1 [00:00<00:00,  1.46it/s]\n"
          ]
        },
        {
          "output_type": "stream",
          "name": "stdout",
          "text": [
            "Test set: Average loss: 0.0203, Accuracy: 9458/10000 (94.58%)\n",
            "Round 178/200\n",
            "Selected clients - [27]\n"
          ]
        },
        {
          "output_type": "stream",
          "name": "stderr",
          "text": [
            "100%|██████████| 1/1 [00:00<00:00,  1.74it/s]\n"
          ]
        },
        {
          "output_type": "stream",
          "name": "stdout",
          "text": [
            "Test set: Average loss: 0.1228, Accuracy: 7859/10000 (78.59%)\n",
            "Round 179/200\n",
            "Selected clients - [14]\n"
          ]
        },
        {
          "output_type": "stream",
          "name": "stderr",
          "text": [
            "100%|██████████| 1/1 [00:00<00:00,  1.76it/s]\n"
          ]
        },
        {
          "output_type": "stream",
          "name": "stdout",
          "text": [
            "Test set: Average loss: 0.1618, Accuracy: 7367/10000 (73.67%)\n",
            "Round 180/200\n",
            "Selected clients - [25]\n"
          ]
        },
        {
          "output_type": "stream",
          "name": "stderr",
          "text": [
            "100%|██████████| 1/1 [00:00<00:00,  1.47it/s]\n"
          ]
        },
        {
          "output_type": "stream",
          "name": "stdout",
          "text": [
            "Test set: Average loss: 0.1539, Accuracy: 7696/10000 (76.96%)\n",
            "Round 181/200\n",
            "Selected clients - [18]\n"
          ]
        },
        {
          "output_type": "stream",
          "name": "stderr",
          "text": [
            "100%|██████████| 1/1 [00:00<00:00,  1.77it/s]\n"
          ]
        },
        {
          "output_type": "stream",
          "name": "stdout",
          "text": [
            "Test set: Average loss: 0.1424, Accuracy: 7447/10000 (74.47%)\n",
            "Round 182/200\n",
            "Selected clients - [74]\n"
          ]
        },
        {
          "output_type": "stream",
          "name": "stderr",
          "text": [
            "100%|██████████| 1/1 [00:00<00:00,  1.78it/s]\n"
          ]
        },
        {
          "output_type": "stream",
          "name": "stdout",
          "text": [
            "Test set: Average loss: 0.0892, Accuracy: 8268/10000 (82.68%)\n",
            "Round 183/200\n",
            "Selected clients - [57]\n"
          ]
        },
        {
          "output_type": "stream",
          "name": "stderr",
          "text": [
            "100%|██████████| 1/1 [00:00<00:00,  1.47it/s]\n"
          ]
        },
        {
          "output_type": "stream",
          "name": "stdout",
          "text": [
            "Test set: Average loss: 0.0739, Accuracy: 8340/10000 (83.40%)\n",
            "Round 184/200\n",
            "Selected clients - [13]\n"
          ]
        },
        {
          "output_type": "stream",
          "name": "stderr",
          "text": [
            "100%|██████████| 1/1 [00:00<00:00,  1.73it/s]\n"
          ]
        },
        {
          "output_type": "stream",
          "name": "stdout",
          "text": [
            "Test set: Average loss: 0.0841, Accuracy: 8284/10000 (82.84%)\n",
            "Round 185/200\n",
            "Selected clients - [35]\n"
          ]
        },
        {
          "output_type": "stream",
          "name": "stderr",
          "text": [
            "100%|██████████| 1/1 [00:00<00:00,  1.79it/s]\n"
          ]
        },
        {
          "output_type": "stream",
          "name": "stdout",
          "text": [
            "Test set: Average loss: 0.0810, Accuracy: 8236/10000 (82.36%)\n",
            "Round 186/200\n",
            "Selected clients - [14]\n"
          ]
        },
        {
          "output_type": "stream",
          "name": "stderr",
          "text": [
            "100%|██████████| 1/1 [00:00<00:00,  1.50it/s]\n"
          ]
        },
        {
          "output_type": "stream",
          "name": "stdout",
          "text": [
            "Test set: Average loss: 0.1134, Accuracy: 7747/10000 (77.47%)\n",
            "Round 187/200\n",
            "Selected clients - [43]\n"
          ]
        },
        {
          "output_type": "stream",
          "name": "stderr",
          "text": [
            "100%|██████████| 1/1 [00:00<00:00,  1.79it/s]\n"
          ]
        },
        {
          "output_type": "stream",
          "name": "stdout",
          "text": [
            "Test set: Average loss: 0.1031, Accuracy: 8030/10000 (80.30%)\n",
            "Round 188/200\n",
            "Selected clients - [44]\n"
          ]
        },
        {
          "output_type": "stream",
          "name": "stderr",
          "text": [
            "100%|██████████| 1/1 [00:00<00:00,  1.76it/s]\n"
          ]
        },
        {
          "output_type": "stream",
          "name": "stdout",
          "text": [
            "Test set: Average loss: 0.0692, Accuracy: 8574/10000 (85.74%)\n",
            "Round 189/200\n",
            "Selected clients - [90]\n"
          ]
        },
        {
          "output_type": "stream",
          "name": "stderr",
          "text": [
            "100%|██████████| 1/1 [00:00<00:00,  1.50it/s]\n"
          ]
        },
        {
          "output_type": "stream",
          "name": "stdout",
          "text": [
            "Test set: Average loss: 0.0699, Accuracy: 8388/10000 (83.88%)\n",
            "Round 190/200\n",
            "Selected clients - [61]\n"
          ]
        },
        {
          "output_type": "stream",
          "name": "stderr",
          "text": [
            "100%|██████████| 1/1 [00:00<00:00,  1.80it/s]\n"
          ]
        },
        {
          "output_type": "stream",
          "name": "stdout",
          "text": [
            "Test set: Average loss: 0.0284, Accuracy: 9156/10000 (91.56%)\n",
            "Round 191/200\n",
            "Selected clients - [9]\n"
          ]
        },
        {
          "output_type": "stream",
          "name": "stderr",
          "text": [
            "100%|██████████| 1/1 [00:00<00:00,  1.81it/s]\n"
          ]
        },
        {
          "output_type": "stream",
          "name": "stdout",
          "text": [
            "Test set: Average loss: 0.0581, Accuracy: 8468/10000 (84.68%)\n",
            "Round 192/200\n",
            "Selected clients - [97]\n"
          ]
        },
        {
          "output_type": "stream",
          "name": "stderr",
          "text": [
            "100%|██████████| 1/1 [00:00<00:00,  1.46it/s]\n"
          ]
        },
        {
          "output_type": "stream",
          "name": "stdout",
          "text": [
            "Test set: Average loss: 0.0256, Accuracy: 9298/10000 (92.98%)\n",
            "Round 193/200\n",
            "Selected clients - [47]\n"
          ]
        },
        {
          "output_type": "stream",
          "name": "stderr",
          "text": [
            "100%|██████████| 1/1 [00:00<00:00,  1.79it/s]\n"
          ]
        },
        {
          "output_type": "stream",
          "name": "stdout",
          "text": [
            "Test set: Average loss: 0.0569, Accuracy: 8650/10000 (86.50%)\n",
            "Round 194/200\n",
            "Selected clients - [71]\n"
          ]
        },
        {
          "output_type": "stream",
          "name": "stderr",
          "text": [
            "100%|██████████| 1/1 [00:00<00:00,  1.79it/s]\n"
          ]
        },
        {
          "output_type": "stream",
          "name": "stdout",
          "text": [
            "Test set: Average loss: 0.0667, Accuracy: 8210/10000 (82.10%)\n",
            "Round 195/200\n",
            "Selected clients - [77]\n"
          ]
        },
        {
          "output_type": "stream",
          "name": "stderr",
          "text": [
            "100%|██████████| 1/1 [00:00<00:00,  1.36it/s]\n"
          ]
        },
        {
          "output_type": "stream",
          "name": "stdout",
          "text": [
            "Test set: Average loss: 0.0273, Accuracy: 9197/10000 (91.97%)\n",
            "Round 196/200\n",
            "Selected clients - [76]\n"
          ]
        },
        {
          "output_type": "stream",
          "name": "stderr",
          "text": [
            "100%|██████████| 1/1 [00:00<00:00,  1.83it/s]\n"
          ]
        },
        {
          "output_type": "stream",
          "name": "stdout",
          "text": [
            "Test set: Average loss: 0.0327, Accuracy: 9084/10000 (90.84%)\n",
            "Round 197/200\n",
            "Selected clients - [83]\n"
          ]
        },
        {
          "output_type": "stream",
          "name": "stderr",
          "text": [
            "100%|██████████| 1/1 [00:00<00:00,  1.80it/s]\n"
          ]
        },
        {
          "output_type": "stream",
          "name": "stdout",
          "text": [
            "Test set: Average loss: 0.0351, Accuracy: 9076/10000 (90.76%)\n",
            "Round 198/200\n",
            "Selected clients - [69]\n"
          ]
        },
        {
          "output_type": "stream",
          "name": "stderr",
          "text": [
            "100%|██████████| 1/1 [00:00<00:00,  1.51it/s]\n"
          ]
        },
        {
          "output_type": "stream",
          "name": "stdout",
          "text": [
            "Test set: Average loss: 0.0505, Accuracy: 8675/10000 (86.75%)\n",
            "Round 199/200\n",
            "Selected clients - [6]\n"
          ]
        },
        {
          "output_type": "stream",
          "name": "stderr",
          "text": [
            "100%|██████████| 1/1 [00:00<00:00,  1.79it/s]\n"
          ]
        },
        {
          "output_type": "stream",
          "name": "stdout",
          "text": [
            "Test set: Average loss: 0.0614, Accuracy: 8557/10000 (85.57%)\n",
            "Round 200/200\n",
            "Selected clients - [44]\n"
          ]
        },
        {
          "output_type": "stream",
          "name": "stderr",
          "text": [
            "100%|██████████| 1/1 [00:00<00:00,  1.75it/s]\n"
          ]
        },
        {
          "output_type": "stream",
          "name": "stdout",
          "text": [
            "Test set: Average loss: 0.0268, Accuracy: 9236/10000 (92.36%)\n",
            "Best round: 175, accuracy: 0.9529\n"
          ]
        }
      ],
      "source": [
        "# rounds and target accuracy\n",
        "T = 200\n",
        "target_accuracy = 0.99\n",
        "\n",
        "state_dict, accuracies, losses = await execute(server, T, target_accuracy)\n",
        "\n",
        "# save model to file\n",
        "torch.save(state_dict, \"cnn_state_dict.pth\")"
      ]
    },
    {
      "cell_type": "markdown",
      "metadata": {
        "id": "VIENpKmy65fT"
      },
      "source": [
        "## Statistics"
      ]
    },
    {
      "cell_type": "code",
      "execution_count": 24,
      "metadata": {
        "colab": {
          "base_uri": "https://localhost:8080/"
        },
        "id": "Um5mHx2E65fT",
        "outputId": "958b7175-3039-4d4d-adc7-ec47f7df2ae6"
      },
      "outputs": [
        {
          "output_type": "stream",
          "name": "stdout",
          "text": [
            "[0.194, 0.196, 0.1867, 0.2005, 0.2006, 0.1968, 0.1908, 0.1977, 0.2035, 0.1856, 0.1913, 0.2502, 0.2026, 0.1876, 0.1894, 0.3032, 0.1883, 0.3663, 0.308, 0.2033, 0.1975, 0.2126, 0.302, 0.3106, 0.2687, 0.3974, 0.3162, 0.429, 0.2785, 0.2898, 0.3909, 0.4131, 0.4405, 0.4159, 0.3701, 0.4971, 0.4114, 0.4093, 0.4125, 0.5827, 0.5756, 0.4997, 0.5179, 0.3838, 0.5628, 0.598, 0.2934, 0.486, 0.4582, 0.5369, 0.4526, 0.5633, 0.6058, 0.6589, 0.7269, 0.6416, 0.4963, 0.5315, 0.6819, 0.6678, 0.4833, 0.6862, 0.7626, 0.7151, 0.7371, 0.5904, 0.4529, 0.4373, 0.5795, 0.5188, 0.6134, 0.7239, 0.5942, 0.8115, 0.773, 0.8514, 0.8401, 0.8032, 0.7979, 0.6978, 0.7923, 0.656, 0.6518, 0.629, 0.7107, 0.7402, 0.7542, 0.6252, 0.4919, 0.7425, 0.7176, 0.6681, 0.6813, 0.607, 0.8064, 0.7986, 0.7744, 0.81, 0.8277, 0.7878, 0.7477, 0.8331, 0.7213, 0.84, 0.7004, 0.8101, 0.824, 0.8271, 0.812, 0.8648, 0.8041, 0.5902, 0.7406, 0.8641, 0.8617, 0.7392, 0.8031, 0.8577, 0.8631, 0.8091, 0.8173, 0.9003, 0.857, 0.8495, 0.9164, 0.8926, 0.8805, 0.8258, 0.8576, 0.8594, 0.9112, 0.9351, 0.9173, 0.8843, 0.8681, 0.9025, 0.8802, 0.8813, 0.9309, 0.9298, 0.9489, 0.938, 0.9157, 0.8729, 0.8323, 0.84, 0.9305, 0.9277, 0.9399, 0.8365, 0.9367, 0.8711, 0.8213, 0.8663, 0.884, 0.9072, 0.7942, 0.8884, 0.8902, 0.8152, 0.8704, 0.9205, 0.8942, 0.8827, 0.8961, 0.7973, 0.7995, 0.9348, 0.9061, 0.9236, 0.8764, 0.7978, 0.895, 0.9337, 0.9529, 0.9315, 0.9458, 0.7859, 0.7367, 0.7696, 0.7447, 0.8268, 0.834, 0.8284, 0.8236, 0.7747, 0.803, 0.8574, 0.8388, 0.9156, 0.8468, 0.9298, 0.865, 0.821, 0.9197, 0.9084, 0.9076, 0.8675, 0.8557, 0.9236]\n"
          ]
        }
      ],
      "source": [
        "# manual save to shared drive for reproducible graph\n",
        "print(accuracies)"
      ]
    },
    {
      "cell_type": "code",
      "execution_count": 25,
      "metadata": {
        "colab": {
          "base_uri": "https://localhost:8080/"
        },
        "id": "WfI_uBW-65fU",
        "outputId": "8ca40ab4-93a4-4465-86ab-a8f76f68b960"
      },
      "outputs": [
        {
          "output_type": "stream",
          "name": "stdout",
          "text": [
            "[0.7435792919874191, 0.8416470944166183, 0.9038192241668701, 0.7747461356401444, 0.9476408020496369, 0.7794187344789505, 1.0845749731063843, 0.9245523321390152, 0.670651162314415, 1.0270031071424484, 0.7901907196521759, 0.7092669693589211, 0.845228677201271, 0.8561515776157379, 0.7831549367189408, 0.5286986728072166, 0.834977334856987, 0.49065667257905005, 0.6577719814538956, 0.7413536275386811, 0.8781114928483963, 0.6806414909124374, 0.5194414032459259, 0.4919224925637245, 0.413940350818634, 0.380726340636611, 0.379802017852664, 0.29153839807510373, 0.28181226074695587, 0.39317797068953514, 0.3235291311442852, 0.5337992052674293, 0.2851275322198868, 0.29049294221252203, 0.27487760292887686, 0.2630851476088166, 0.25813288391530514, 0.3444590553561691, 0.31112776365578176, 0.20454569636806846, 0.14045717148706316, 0.238872855271399, 0.24647798168361187, 0.4847241847842932, 0.1816701084256172, 0.17718462931788526, 0.5440020455300808, 0.3176195605278015, 0.22905341245532035, 0.32704330798834563, 0.3250625514358282, 0.1886990874812007, 0.1577451409380883, 0.14317403726194752, 0.09739657799492124, 0.1605158931016922, 0.2744623978048563, 0.2368288153477013, 0.1138968142554164, 0.1412274826820474, 0.32620221592038867, 0.14344730146424844, 0.0973784437213104, 0.12538462860295768, 0.09810975585752167, 0.13496109084174968, 0.258656296248734, 0.2797562885269523, 0.1682804108792916, 0.20720103598115966, 0.14915394933633505, 0.10272440236129332, 0.22620550448899157, 0.06346541027443892, 0.09776061828943966, 0.05924093187077965, 0.07170528887084783, 0.09052221679133363, 0.07416725233297329, 0.1222775104356464, 0.07089521111222948, 0.17127655786600882, 0.17149816149479594, 0.1953647115206346, 0.14894690262537916, 0.10991773072809738, 0.09873257554527082, 0.18541865103524177, 0.21059499127417802, 0.09800192601005547, 0.10717361224843189, 0.1327999154861085, 0.09869635126430075, 0.15215759277008473, 0.07619357481905026, 0.08378284228612902, 0.08341174575465848, 0.07957231101854705, 0.05975716455141082, 0.07878339576621074, 0.10131471700501861, 0.05939568189503625, 0.12897730530999543, 0.06092463814582443, 0.1259646244743839, 0.075323754108313, 0.07600799317897945, 0.05675159534961058, 0.06849796624849551, 0.043076098978343365, 0.0732963375114894, 0.2026388125171885, 0.1144067757795332, 0.05024346301824917, 0.04970571520856974, 0.10009703958090395, 0.06331291993588675, 0.047798892955227344, 0.04344484581445213, 0.07328515514349529, 0.06423385537669019, 0.033441037482898534, 0.058729025567668576, 0.05846310531490017, 0.028463938320672674, 0.036831539697164496, 0.05019018848755513, 0.0625118086215225, 0.04792105331452331, 0.05053281481945305, 0.03317966225967084, 0.023669890256139, 0.03121053712434734, 0.05567922844344887, 0.05479358039023866, 0.03437050870270832, 0.05004488903552956, 0.04739927445058274, 0.025951509149776394, 0.02527109413392209, 0.01751748023932778, 0.023653198688528984, 0.03271458156991939, 0.04914554617364629, 0.0661683291472745, 0.07001252866282939, 0.024066008842870655, 0.025847799140240317, 0.020056248714557297, 0.0738468860956793, 0.0222537150648036, 0.05283054337476133, 0.09483710666460538, 0.045969812848021686, 0.038876072330293394, 0.036781386640087, 0.08780651296819088, 0.05192456211434994, 0.03961063547061385, 0.08480739109860733, 0.046557366667327, 0.026291058275458728, 0.039206077741981836, 0.04614962633388234, 0.03570441435938701, 0.0748706819426734, 0.07194427418348269, 0.024188392535628156, 0.029864715886996056, 0.025237237729900518, 0.04213147474234647, 0.07893249967651672, 0.03625063085696229, 0.02204898763459305, 0.016325184686391186, 0.02419249036895908, 0.020254412072942842, 0.12277332459426615, 0.16181165478955956, 0.15394195568385186, 0.14241021735062476, 0.0892035365873975, 0.07386901914827904, 0.08414348451287951, 0.08099899640285875, 0.11341385186337866, 0.10314338007445986, 0.06921884896348493, 0.06992667387272529, 0.028351816343886456, 0.058126095710950905, 0.025613387100755062, 0.05691050062084978, 0.06674550016261868, 0.027262062436224005, 0.03271442299854316, 0.03510313144755003, 0.05052494902345861, 0.06137282588273083, 0.02682113362593409]\n"
          ]
        }
      ],
      "source": [
        "# manual save to shared drive for reproducible graph\n",
        "print(losses)"
      ]
    },
    {
      "cell_type": "code",
      "execution_count": 26,
      "metadata": {
        "colab": {
          "base_uri": "https://localhost:8080/",
          "height": 472
        },
        "id": "mTQI9WGZ65fU",
        "outputId": "4c3b7dcd-8040-4e34-f2f1-822b4956603e"
      },
      "outputs": [
        {
          "output_type": "display_data",
          "data": {
            "text/plain": [
              "<Figure size 640x480 with 1 Axes>"
            ],
            "image/png": "[encoded data removed]"
          },
          "metadata": {}
        }
      ],
      "source": [
        "plt.plot(accuracies)\n",
        "plt.title('Test Accuracy')\n",
        "plt.xlabel('Rounds')\n",
        "plt.ylabel('Accuracy')\n",
        "plt.ylim(0, 1)\n",
        "plt.grid(True)\n",
        "plt.show()"
      ]
    }
  ],
  "metadata": {
    "accelerator": "GPU",
    "colab": {
      "provenance": []
    },
    "gpuClass": "standard",
    "kernelspec": {
      "display_name": "python38",
      "language": "python",
      "name": "python3"
    },
    "language_info": {
      "codemirror_mode": {
        "name": "ipython",
        "version": 3
      },
      "file_extension": ".py",
      "mimetype": "text/x-python",
      "name": "python",
      "nbconvert_exporter": "python",
      "pygments_lexer": "ipython3",
      "version": "3.10.7"
    },
    "vscode": {
      "interpreter": {
        "hash": "a5e36ac6a21e329c2cec267b08e4f28884519c7e5682f29504bd17199cc3d203"
      }
    }
  },
  "nbformat": 4,
  "nbformat_minor": 0
}