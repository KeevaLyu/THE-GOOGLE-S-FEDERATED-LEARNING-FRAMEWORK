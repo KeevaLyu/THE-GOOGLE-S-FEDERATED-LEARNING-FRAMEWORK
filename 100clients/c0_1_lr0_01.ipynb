{
  "cells": [
    {
      "cell_type": "markdown",
      "metadata": {
        "id": "NsvvFSId2xB6"
      },
      "source": [
        "## Library"
      ]
    },
    {
      "cell_type": "code",
      "execution_count": 33,
      "metadata": {
        "id": "vDaWQfJ022KB",
        "colab": {
          "base_uri": "https://localhost:8080/"
        },
        "outputId": "12b67526-6ea9-4939-c88f-16e01143f2fd"
      },
      "outputs": [
        {
          "output_type": "stream",
          "name": "stdout",
          "text": [
            "cuda:0\n"
          ]
        }
      ],
      "source": [
        "import torch\n",
        "import torch.nn as nn\n",
        "import torch.nn.functional as F\n",
        "from torchvision import datasets, transforms\n",
        "import torch.optim as optim\n",
        "import numpy as np\n",
        "import random\n",
        "from collections import OrderedDict, ChainMap, Counter\n",
        "from tqdm.asyncio import tqdm\n",
        "import math\n",
        "import matplotlib.pyplot as plt\n",
        "\n",
        "# for reproducible results\n",
        "seed = 42\n",
        "torch.manual_seed(seed)\n",
        "np.random.seed(seed)\n",
        "\n",
        "device = torch.device('cpu')\n",
        "# gpu\n",
        "if torch.backends.mps.is_available():\n",
        "    device = torch.device('mps')\n",
        "elif torch.cuda.is_available():\n",
        "    device = torch.device('cuda:0')\n",
        "print(device)"
      ]
    },
    {
      "cell_type": "markdown",
      "metadata": {
        "id": "t_RCPBAVzB9L"
      },
      "source": [
        "## Data processing"
      ]
    },
    {
      "cell_type": "code",
      "execution_count": 34,
      "metadata": {
        "id": "GrvHYZ_swCAM"
      },
      "outputs": [],
      "source": [
        "transform = transforms.Compose([\n",
        "            transforms.ToTensor(),\n",
        "            transforms.Normalize((0.1307,), (0.3081,))]) # scale from [0,255] to [0,1] and make mean and std to 0.0 and 1.0 respectively\n",
        "training_dataset = datasets.MNIST('./data/mnist/', train=True, download=True, transform=transform)\n",
        "test_dataset = datasets.MNIST('./data/mnist/', train=False, download=True, transform=transform)"
      ]
    },
    {
      "cell_type": "code",
      "execution_count": 35,
      "metadata": {
        "id": "ZohHDK7o65fH"
      },
      "outputs": [],
      "source": [
        "# sort by labels\n",
        "sorted_indices = torch.argsort(torch.Tensor(training_dataset.targets))\n",
        "sorted_training_dataset = torch.utils.data.Subset(training_dataset, sorted_indices)\n",
        "\n",
        "# partition data into shards\n",
        "def prepare_datashards(num_clients, num_shards, strict=False):\n",
        "    training_datashards = []\n",
        "\n",
        "    shards = []\n",
        "    # partition by class\n",
        "    if strict:\n",
        "        number_of_classes = len(sorted_training_dataset.dataset.classes)\n",
        "        shards_per_class = num_shards // number_of_classes\n",
        "\n",
        "        ptr = 0\n",
        "        # for each class\n",
        "        for label, size in sorted(Counter(sorted_training_dataset.dataset.targets.tolist()).items()):\n",
        "            shard_size = math.ceil(size / shards_per_class)\n",
        "\n",
        "            # for each shard\n",
        "            for i in range(shards_per_class):\n",
        "                shard = []\n",
        "                # fill shard of shard_size\n",
        "                for j in range(shard_size):\n",
        "                    shard.append(sorted_training_dataset[ptr])\n",
        "                    ptr += 1\n",
        "                    # break for next class\n",
        "                    if ptr >= len(sorted_training_dataset) or sorted_training_dataset[ptr][1] != label:\n",
        "                        break\n",
        "                shards.append(shard)\n",
        "\n",
        "    # partition by size\n",
        "    else:\n",
        "        shard_size = len(sorted_training_dataset) // num_shards\n",
        "\n",
        "        # for each shard\n",
        "        for i in range(num_shards):\n",
        "            shard = []\n",
        "            # fill shard of shard_size\n",
        "            for j in range(shard_size):\n",
        "                shard.append(sorted_training_dataset[i * shard_size + j])\n",
        "            shards.append(shard)\n",
        "    \n",
        "    # shuffled shard ids\n",
        "    random.seed(seed)\n",
        "    shard_ids = random.sample(list(range(num_shards)), num_shards)\n",
        "    print(\"Shards order - {}\".format(shard_ids))\n",
        "\n",
        "    # for each client\n",
        "    for k in range(num_clients):\n",
        "        client_shards = []\n",
        "        # number of shards per client\n",
        "        shards_per_client = num_shards // num_clients\n",
        "        for s in range(shards_per_client):\n",
        "            id = shard_ids[k * shards_per_client + s]\n",
        "            client_shards.append(shards[id])\n",
        "        training_datashards.append(client_shards)\n",
        "\n",
        "    return training_datashards"
      ]
    },
    {
      "cell_type": "markdown",
      "metadata": {
        "id": "mamL4quE65fI"
      },
      "source": [
        "## Global"
      ]
    },
    {
      "cell_type": "code",
      "execution_count": 36,
      "metadata": {
        "id": "tPNbLHz865fI",
        "colab": {
          "base_uri": "https://localhost:8080/"
        },
        "outputId": "871ac23d-c006-475d-fbdb-945a9dbff1b0"
      },
      "outputs": [
        {
          "output_type": "stream",
          "name": "stdout",
          "text": [
            "Shards order - [163, 28, 6, 189, 70, 62, 57, 35, 188, 26, 173, 139, 22, 151, 108, 8, 7, 23, 55, 59, 129, 154, 197, 143, 50, 166, 191, 107, 56, 114, 150, 71, 1, 40, 185, 87, 168, 39, 181, 86, 190, 182, 97, 24, 91, 88, 67, 11, 117, 137, 31, 96, 20, 141, 75, 92, 49, 17, 152, 58, 74, 147, 180, 25, 157, 199, 116, 93, 41, 94, 90, 53, 68, 89, 119, 164, 82, 9, 77, 81, 21, 127, 132, 149, 138, 169, 48, 34, 120, 178, 134, 198, 124, 131, 98, 99, 183, 29, 4, 174, 51, 112, 184, 27, 72, 155, 100, 148, 83, 63, 175, 123, 140, 18, 33, 142, 133, 109, 118, 85, 196, 54, 79, 104, 46, 165, 84, 65, 179, 146, 177, 14, 19, 115, 78, 135, 176, 156, 38, 102, 80, 16, 192, 161, 0, 43, 145, 103, 95, 105, 113, 73, 106, 125, 52, 160, 144, 10, 60, 171, 172, 32, 195, 61, 69, 153, 36, 12, 122, 37, 194, 5, 110, 47, 162, 186, 126, 42, 15, 159, 3, 30, 130, 45, 167, 158, 76, 128, 170, 136, 44, 64, 2, 13, 121, 111, 193, 101, 187, 66]\n"
          ]
        }
      ],
      "source": [
        "# clients training mode\n",
        "PARALLEL_TRAINING = True\n",
        "\n",
        "# clients and shards\n",
        "num_clients = 100\n",
        "num_shards = 200\n",
        "\n",
        "# prepare training data\n",
        "training_datashards = prepare_datashards(num_clients, num_shards)"
      ]
    },
    {
      "cell_type": "markdown",
      "metadata": {
        "id": "e6vzuzLL1cP8"
      },
      "source": [
        "## Model"
      ]
    },
    {
      "cell_type": "code",
      "execution_count": 37,
      "metadata": {
        "id": "4KIxpXNR1dWg"
      },
      "outputs": [],
      "source": [
        "class CNN(nn.Module):\n",
        "    # https://pytorch.org/tutorials/recipes/recipes/defining_a_neural_network.html#specify-how-data-will-pass-through-your-model\n",
        "    def __init__(self):\n",
        "        super(CNN, self).__init__()\n",
        "        # 5x5 convolution layer with 32 channels\n",
        "        self.conv1 = nn.Conv2d(in_channels=1, out_channels=32, kernel_size=5, padding='same')\n",
        "        # 5x5 convolution layer with 64 channels\n",
        "        self.conv2 = nn.Conv2d(in_channels=32, out_channels=64, kernel_size=5, padding='same')\n",
        "        # fully connected layer with 512 units, in_features = channels * height * width from conv2\n",
        "        self.fc1 = nn.Linear(in_features=64*7*7, out_features=512)\n",
        "        self.fc2 = nn.Linear(in_features=512, out_features=10)\n",
        "\n",
        "    # x represents our data\n",
        "    def forward(self, x):\n",
        "        # Pass data through conv1\n",
        "        x = self.conv1(x)\n",
        "        # Use the rectified-linear activation function over x\n",
        "        x = F.relu(x)\n",
        "        # Run max pooling over x\n",
        "        x = F.max_pool2d(x, kernel_size=2)\n",
        "        \n",
        "        x = self.conv2(x)\n",
        "        x = F.relu(x)\n",
        "        x = F.max_pool2d(x, kernel_size=2)\n",
        "\n",
        "        # Flatten x with start_dim=1\n",
        "        x = torch.flatten(x, start_dim=1)\n",
        "        # Pass data through fc1\n",
        "        x = self.fc1(x)\n",
        "        x = F.relu(x)\n",
        "        x = self.fc2(x)\n",
        "\n",
        "        # Apply softmax to x\n",
        "        output = F.log_softmax(x, dim=1)\n",
        "        return output"
      ]
    },
    {
      "cell_type": "code",
      "execution_count": 38,
      "metadata": {
        "id": "gLzdTLYt65fJ",
        "colab": {
          "base_uri": "https://localhost:8080/"
        },
        "outputId": "9295940b-32b8-4c1d-ea06-00d9d4277c4a"
      },
      "outputs": [
        {
          "output_type": "stream",
          "name": "stdout",
          "text": [
            "Total number of parameters: 1663370\n"
          ]
        }
      ],
      "source": [
        "num_params = sum(p.numel() for p in CNN().parameters())\n",
        "print(\"Total number of parameters:\", num_params)"
      ]
    },
    {
      "cell_type": "code",
      "execution_count": 39,
      "metadata": {
        "id": "qY3Pl12PP4rP",
        "colab": {
          "base_uri": "https://localhost:8080/"
        },
        "outputId": "f9f54828-3483-4104-a156-3933bc1312ba"
      },
      "outputs": [
        {
          "output_type": "stream",
          "name": "stdout",
          "text": [
            "torch.Size([32, 1, 5, 5])\n",
            "torch.Size([32])\n",
            "torch.Size([64, 32, 5, 5])\n",
            "torch.Size([64])\n",
            "torch.Size([512, 3136])\n",
            "torch.Size([512])\n",
            "torch.Size([10, 512])\n",
            "torch.Size([10])\n"
          ]
        }
      ],
      "source": [
        "for p in CNN().parameters():\n",
        "    print(p.shape)"
      ]
    },
    {
      "cell_type": "markdown",
      "metadata": {
        "id": "RtdxFdsz1h0m"
      },
      "source": [
        "## Client\n"
      ]
    },
    {
      "cell_type": "code",
      "execution_count": 40,
      "metadata": {
        "id": "bzCVn4hfAOhX"
      },
      "outputs": [],
      "source": [
        "class Client():\n",
        "    def __init__(self, k, model, args):\n",
        "        # inititalize client\n",
        "        self.id = k\n",
        "        self.model = model\n",
        "        self.args = args\n",
        "\n",
        "        # load dataset\n",
        "        self.dataset = []\n",
        "        self._load_dataset(k)\n",
        "        self.training_loader = torch.utils.data.DataLoader(self.dataset, batch_size=self.args['B'], shuffle=True)\n",
        "\n",
        "        # state_dict\n",
        "        self.state_dict = self.model.state_dict()\n",
        "\n",
        "    def _load_dataset(self, k):\n",
        "        # load dataset\n",
        "        for shard in training_datashards[k]:\n",
        "            self.dataset += shard\n",
        "        return\n",
        "\n",
        "    def labels(self):\n",
        "        return dict(Counter(data[1] for data in self.dataset))\n",
        "\n",
        "    def size(self):\n",
        "        return len(self.dataset)\n",
        "\n",
        "    async def update(self):\n",
        "        # load state_dict\n",
        "        self.model.load_state_dict(self.state_dict)\n",
        "\n",
        "        # Sets the module in training mode\n",
        "        self.model.train(True)\n",
        "\n",
        "        optimizer = optim.SGD(self.model.parameters(), lr=self.args['lr'])\n",
        "        loss_fn = nn.CrossEntropyLoss()\n",
        "\n",
        "        # https://pytorch.org/tutorials/beginner/introyt/trainingyt.html\n",
        "        for epoch in range(self.args['E']):\n",
        "            for inputs, labels in self.training_loader:\n",
        "                # Every data instance is an input + label pair\n",
        "                inputs, labels = inputs.to(device), labels.to(device)\n",
        "\n",
        "                # Zero your gradients for every batch!\n",
        "                optimizer.zero_grad()\n",
        "\n",
        "                # Make predictions for this batch\n",
        "                outputs = self.model(inputs)\n",
        "\n",
        "                # Compute the loss and its gradients\n",
        "                loss = loss_fn(outputs, labels)\n",
        "                loss.backward()\n",
        "\n",
        "                # Adjust learning weights\n",
        "                optimizer.step()\n",
        "        \n",
        "        # save state_dict\n",
        "        self.state_dict = self.model.state_dict()\n",
        "\n",
        "        return { self.id: self.state_dict }\n",
        "\n",
        "    def model_sync(self, state_dict):\n",
        "        self.state_dict = state_dict"
      ]
    },
    {
      "cell_type": "markdown",
      "metadata": {
        "id": "unKQT-qEPnKL"
      },
      "source": [
        "## Server"
      ]
    },
    {
      "cell_type": "code",
      "execution_count": 41,
      "metadata": {
        "id": "rjIkYahr1jVG"
      },
      "outputs": [],
      "source": [
        "class Server():\n",
        "    def __init__(self, args):\n",
        "        self.model = CNN().to(device)\n",
        "        # number of rounds of communication\n",
        "        self.rounds = 0\n",
        "        # client fraction C\n",
        "        self.c = args['C']\n",
        "        # client list\n",
        "        self.clients = []\n",
        "        # inititalize clients according to num_clients\n",
        "        if PARALLEL_TRAINING:\n",
        "            for k in range(num_clients):\n",
        "                torch.manual_seed(seed)\n",
        "                client_model = CNN().to(device)\n",
        "                client = Client(k, client_model, args)\n",
        "                self.clients.append(client)\n",
        "        else:\n",
        "            torch.manual_seed(seed)\n",
        "            client_model = CNN().to(device)\n",
        "            for k in range(num_clients):\n",
        "                client = Client(k, client_model, args)\n",
        "                self.clients.append(client)\n",
        "\n",
        "    def _fed_avg(self, state_dicts):\n",
        "        # total number of data\n",
        "        len_total = 0\n",
        "        for k in ChainMap(*state_dicts).keys():\n",
        "            len_total += self.clients[k].size()\n",
        "\n",
        "        dict = OrderedDict()\n",
        "        # for each client's state_dict\n",
        "        for k, state_dict in ChainMap(*state_dicts).items():\n",
        "            # for each tensor param\n",
        "            for param_tensor in self.model.state_dict().keys():\n",
        "                # param = w0 * wf0 + w1 * wf1 + ... wk * wfk\n",
        "                if param_tensor in dict:\n",
        "                    dict[param_tensor] += state_dict[param_tensor] * (self.clients[k].size() / len_total)\n",
        "                else:\n",
        "                    dict[param_tensor] = state_dict[param_tensor] * (self.clients[k].size() / len_total)\n",
        "\n",
        "        return dict\n",
        "\n",
        "    def clients_info(self):\n",
        "        for i, client in enumerate(self.clients):\n",
        "            print(\"Client {} - {}\".format(i, client.labels()))\n",
        "\n",
        "    async def model_sync(self):\n",
        "        selected_clients = self.clients\n",
        "\n",
        "        # clients random selection\n",
        "        if self.c < 1.0:\n",
        "            # clients per round\n",
        "            k = max(int(self.c * num_clients), 1)\n",
        "            # client selection\n",
        "            random.seed(self.rounds)\n",
        "            selected_clients = random.sample(self.clients, k=k)\n",
        "            client_ids = []\n",
        "            for client in selected_clients:\n",
        "                client_ids.append(client.id)\n",
        "            print(\"Selected clients - {}\".format(client_ids))\n",
        "\n",
        "        state_dicts = []\n",
        "        # for each selected client do client update\n",
        "        if PARALLEL_TRAINING:\n",
        "            state_dicts = await tqdm.gather(*[client.update() for client in selected_clients])\n",
        "        else:\n",
        "            for client in tqdm(selected_clients):\n",
        "                state_dict = await client.update()\n",
        "                state_dicts.append(state_dict)\n",
        "        \n",
        "        # update server weights\n",
        "        avg_state_dict = self._fed_avg(state_dicts)\n",
        "        self.model.load_state_dict(avg_state_dict)\n",
        "\n",
        "        # sync with all clients\n",
        "        for client in self.clients:\n",
        "            client.model_sync(avg_state_dict)\n",
        "\n",
        "        # increase rounds count\n",
        "        self.rounds += 1"
      ]
    },
    {
      "cell_type": "code",
      "execution_count": 42,
      "metadata": {
        "id": "v-JVTN0sCHlk"
      },
      "outputs": [],
      "source": [
        "def test_model(model):\n",
        "    # https://learn.microsoft.com/en-us/windows/ai/windows-ml/tutorials/pytorch-analysis-train-model#test-the-model-on-the-test-data\n",
        "    test_loader = torch.utils.data.DataLoader(test_dataset, batch_size=10, shuffle=False)\n",
        "    loss_fn = nn.CrossEntropyLoss()\n",
        "\n",
        "    # Sets the module in evaluate mode\n",
        "    model.eval()\n",
        "    model.to(device)\n",
        "    \n",
        "    correct = 0\n",
        "    loss = 0\n",
        "    total = 0\n",
        "\n",
        "    with torch.no_grad():\n",
        "        for inputs, labels in test_loader:\n",
        "            # Every data instance is an input + label pair\n",
        "            inputs, labels = inputs.to(device), labels.to(device)\n",
        "            \n",
        "            # Make predictions for this batch\n",
        "            outputs = model(inputs)\n",
        "            _, pred = torch.max(outputs, dim=1)\n",
        "            total += labels.size(0)\n",
        "\n",
        "            # Compute the loss and accuracy\n",
        "            loss += loss_fn(outputs, labels).item()\n",
        "            correct += (pred == labels).sum().item()\n",
        "\n",
        "    loss /= total\n",
        "    accuracy = correct / total\n",
        "\n",
        "    print('Test set: Average loss: {:.4f}, Accuracy: {}/{} ({:.2f}%)'.format(\n",
        "        loss, correct, total, accuracy * 100))\n",
        "    return accuracy, loss"
      ]
    },
    {
      "cell_type": "code",
      "execution_count": 43,
      "metadata": {
        "id": "BQ7wc8Q_FAkU"
      },
      "outputs": [],
      "source": [
        "async def execute(server, T, target_accuracy, es=None, min_delta=0.0, patience=0):\n",
        "    _patience = patience\n",
        "\n",
        "    # initial values\n",
        "    record_round = 0\n",
        "    best_round = 0\n",
        "    best_accuracy = 0.0\n",
        "    last_loss = None\n",
        "    state_dict, accuracies, losses = [], [], []\n",
        "\n",
        "    # loop until rounds\n",
        "    while server.rounds < T:\n",
        "        print(\"Round {}/{}\".format(server.rounds + 1, T))\n",
        "\n",
        "        # model sync\n",
        "        await server.model_sync()\n",
        "        \n",
        "        # test accuracy\n",
        "        accuracy, loss = test_model(server.model)\n",
        "\n",
        "        if accuracy >= best_accuracy:\n",
        "            # save best record\n",
        "            best_accuracy = accuracy\n",
        "            best_round = server.rounds\n",
        "\n",
        "            if best_accuracy >= target_accuracy or server.rounds > T - 10:\n",
        "                # save state_dict\n",
        "                state_dict = server.model.state_dict()\n",
        "\n",
        "        # statistics\n",
        "        accuracies.append(accuracy)\n",
        "        losses.append(loss)\n",
        "\n",
        "        # early stopping\n",
        "        if es == 'loss':\n",
        "            if last_loss is None:\n",
        "                last_loss = loss\n",
        "                continue\n",
        "\n",
        "            if last_loss - loss < min_delta:\n",
        "                # break if patience equal to 0\n",
        "                if patience == 0:\n",
        "                    break\n",
        "                else:\n",
        "                    patience -= 1\n",
        "            else:\n",
        "                # reset patience and update last loss\n",
        "                patience = _patience\n",
        "                last_loss = loss\n",
        "\n",
        "        # target accuracy reached\n",
        "        if accuracy >= target_accuracy and record_round == 0:\n",
        "            record_round = server.rounds\n",
        "\n",
        "    if record_round > 0:\n",
        "        print(\"Target accuracy reached at round: {}\".format(record_round))\n",
        "    print(\"Best round: {}, accuracy: {}\".format(best_round, best_accuracy))\n",
        "\n",
        "    return state_dict, accuracies, losses"
      ]
    },
    {
      "cell_type": "markdown",
      "metadata": {
        "id": "OE0VQHt_65fS"
      },
      "source": [
        "## Execute"
      ]
    },
    {
      "cell_type": "code",
      "execution_count": 44,
      "metadata": {
        "id": "4Gas3rs865fT",
        "colab": {
          "base_uri": "https://localhost:8080/"
        },
        "outputId": "d305e965-d670-4abe-a602-c0231b014ecb"
      },
      "outputs": [
        {
          "output_type": "stream",
          "name": "stdout",
          "text": [
            "Training dataset - {0: 5923, 1: 6742, 2: 5958, 3: 6131, 4: 5842, 5: 5421, 6: 5918, 7: 6265, 8: 5851, 9: 5949}\n",
            "Client 0 - {8: 300, 1: 300}\n",
            "Client 1 - {0: 300, 9: 300}\n",
            "Client 2 - {3: 577, 2: 23}\n",
            "Client 3 - {2: 300, 1: 300}\n",
            "Client 4 - {9: 300, 1: 300}\n",
            "Client 5 - {8: 300, 6: 235, 7: 65}\n",
            "Client 6 - {1: 300, 7: 300}\n",
            "Client 7 - {5: 300, 0: 300}\n",
            "Client 8 - {0: 300, 1: 300}\n",
            "Client 9 - {2: 600}\n",
            "Client 10 - {6: 300, 7: 300}\n",
            "Client 11 - {9: 300, 7: 300}\n",
            "Client 12 - {2: 300, 8: 300}\n",
            "Client 13 - {9: 300, 5: 300}\n",
            "Client 14 - {2: 300, 5: 300}\n",
            "Client 15 - {7: 300, 3: 300}\n",
            "Client 16 - {0: 300, 1: 300}\n",
            "Client 17 - {9: 300, 4: 300}\n",
            "Client 18 - {8: 300, 1: 300}\n",
            "Client 19 - {9: 300, 4: 300}\n",
            "Client 20 - {9: 600}\n",
            "Client 21 - {4: 300, 1: 300}\n",
            "Client 22 - {4: 600}\n",
            "Client 23 - {3: 300, 0: 300}\n",
            "Client 24 - {5: 300, 6: 300}\n",
            "Client 25 - {1: 300, 4: 300}\n",
            "Client 26 - {1: 300, 7: 300}\n",
            "Client 27 - {3: 300, 4: 300}\n",
            "Client 28 - {2: 300, 0: 300}\n",
            "Client 29 - {7: 300, 2: 300}\n",
            "Client 30 - {3: 300, 7: 300}\n",
            "Client 31 - {8: 51, 9: 249, 1: 300}\n",
            "Client 32 - {7: 300, 9: 300}\n",
            "Client 33 - {5: 300, 4: 300}\n",
            "Client 34 - {1: 300, 4: 300}\n",
            "Client 35 - {4: 300, 2: 300}\n",
            "Client 36 - {3: 300, 4: 300}\n",
            "Client 37 - {5: 300, 8: 300}\n",
            "Client 38 - {3: 154, 4: 146, 0: 300}\n",
            "Client 39 - {3: 600}\n",
            "Client 40 - {1: 300, 6: 300}\n",
            "Client 41 - {6: 300, 7: 300}\n",
            "Client 42 - {6: 300, 8: 300}\n",
            "Client 43 - {2: 300, 1: 300}\n",
            "Client 44 - {5: 17, 6: 283, 8: 300}\n",
            "Client 45 - {6: 300, 9: 300}\n",
            "Client 46 - {6: 600}\n",
            "Client 47 - {4: 600}\n",
            "Client 48 - {9: 300, 1: 300}\n",
            "Client 49 - {0: 300, 8: 300}\n",
            "Client 50 - {2: 300, 5: 300}\n",
            "Client 51 - {9: 300, 1: 300}\n",
            "Client 52 - {3: 300, 7: 300}\n",
            "Client 53 - {4: 300, 7: 300}\n",
            "Client 54 - {4: 300, 3: 300}\n",
            "Client 55 - {8: 300, 6: 300}\n",
            "Client 56 - {7: 300, 0: 300}\n",
            "Client 57 - {1: 300, 7: 300}\n",
            "Client 58 - {6: 300, 5: 300}\n",
            "Client 59 - {5: 300, 4: 300}\n",
            "Client 60 - {9: 300, 2: 300}\n",
            "Client 61 - {3: 300, 5: 300}\n",
            "Client 62 - {2: 300, 8: 300}\n",
            "Client 63 - {4: 300, 3: 300}\n",
            "Client 64 - {8: 300, 7: 300}\n",
            "Client 65 - {8: 300, 0: 300}\n",
            "Client 66 - {0: 223, 1: 77, 5: 300}\n",
            "Client 67 - {3: 300, 6: 300}\n",
            "Client 68 - {8: 300, 7: 300}\n",
            "Client 69 - {1: 300, 5: 300}\n",
            "Client 70 - {3: 300, 0: 300}\n",
            "Client 71 - {9: 300, 8: 300}\n",
            "Client 72 - {0: 300, 2: 300}\n",
            "Client 73 - {7: 300, 5: 300}\n",
            "Client 74 - {4: 300, 5: 300}\n",
            "Client 75 - {5: 300, 3: 300}\n",
            "Client 76 - {5: 300, 6: 300}\n",
            "Client 77 - {2: 300, 7: 200, 8: 100}\n",
            "Client 78 - {7: 300, 0: 300}\n",
            "Client 79 - {2: 300, 8: 300}\n",
            "Client 80 - {8: 300, 1: 300}\n",
            "Client 81 - {9: 300, 2: 300}\n",
            "Client 82 - {3: 300, 7: 300}\n",
            "Client 83 - {1: 300, 0: 300}\n",
            "Client 84 - {6: 300, 1: 300}\n",
            "Client 85 - {9: 300, 0: 300}\n",
            "Client 86 - {5: 300, 2: 300}\n",
            "Client 87 - {8: 300, 9: 300}\n",
            "Client 88 - {6: 300, 1: 65, 2: 235}\n",
            "Client 89 - {0: 300, 7: 300}\n",
            "Client 90 - {0: 300, 1: 300}\n",
            "Client 91 - {6: 300, 2: 300}\n",
            "Client 92 - {8: 300, 7: 300}\n",
            "Client 93 - {3: 300, 6: 300}\n",
            "Client 94 - {8: 300, 6: 300}\n",
            "Client 95 - {2: 300, 3: 300}\n",
            "Client 96 - {0: 600}\n",
            "Client 97 - {6: 300, 5: 300}\n",
            "Client 98 - {9: 300, 4: 296, 5: 4}\n",
            "Client 99 - {9: 300, 3: 300}\n"
          ]
        }
      ],
      "source": [
        "# model params\n",
        "args = { 'C': 0.1, 'E': 5, 'B': 10 , 'lr': 0.01 }\n",
        "\n",
        "# server\n",
        "server = Server(args)\n",
        "\n",
        "# data distribution\n",
        "print(\"Training dataset - {}\".format(dict(sorted(Counter(training_dataset.targets.tolist()).items()))))\n",
        "server.clients_info()"
      ]
    },
    {
      "cell_type": "code",
      "execution_count": 45,
      "metadata": {
        "id": "wjbFmiTb65fT",
        "colab": {
          "base_uri": "https://localhost:8080/"
        },
        "outputId": "db74a476-996e-42fa-d6da-f288e6e22f3c"
      },
      "outputs": [
        {
          "output_type": "stream",
          "name": "stdout",
          "text": [
            "Round 1/200\n",
            "Selected clients - [49, 97, 53, 5, 33, 65, 62, 51, 38, 61]\n"
          ]
        },
        {
          "output_type": "stream",
          "name": "stderr",
          "text": [
            "100%|██████████| 10/10 [00:05<00:00,  1.85it/s]\n"
          ]
        },
        {
          "output_type": "stream",
          "name": "stdout",
          "text": [
            "Test set: Average loss: 0.2206, Accuracy: 1516/10000 (15.16%)\n",
            "Round 2/200\n",
            "Selected clients - [17, 72, 97, 8, 32, 15, 63, 57, 60, 83]\n"
          ]
        },
        {
          "output_type": "stream",
          "name": "stderr",
          "text": [
            "100%|██████████| 10/10 [00:05<00:00,  1.92it/s]\n"
          ]
        },
        {
          "output_type": "stream",
          "name": "stdout",
          "text": [
            "Test set: Average loss: 0.1635, Accuracy: 5525/10000 (55.25%)\n",
            "Round 3/200\n",
            "Selected clients - [7, 11, 10, 46, 21, 94, 85, 39, 32, 77]\n"
          ]
        },
        {
          "output_type": "stream",
          "name": "stderr",
          "text": [
            "100%|██████████| 10/10 [00:05<00:00,  1.77it/s]\n"
          ]
        },
        {
          "output_type": "stream",
          "name": "stdout",
          "text": [
            "Test set: Average loss: 0.1403, Accuracy: 4607/10000 (46.07%)\n",
            "Round 4/200\n",
            "Selected clients - [30, 75, 69, 16, 47, 77, 60, 80, 74, 8]\n"
          ]
        },
        {
          "output_type": "stream",
          "name": "stderr",
          "text": [
            "100%|██████████| 10/10 [00:05<00:00,  1.80it/s]\n"
          ]
        },
        {
          "output_type": "stream",
          "name": "stdout",
          "text": [
            "Test set: Average loss: 0.1026, Accuracy: 6056/10000 (60.56%)\n",
            "Round 5/200\n",
            "Selected clients - [30, 38, 13, 92, 50, 61, 19, 11, 8, 2]\n"
          ]
        },
        {
          "output_type": "stream",
          "name": "stderr",
          "text": [
            "100%|██████████| 10/10 [00:05<00:00,  1.91it/s]\n"
          ]
        },
        {
          "output_type": "stream",
          "name": "stdout",
          "text": [
            "Test set: Average loss: 0.1025, Accuracy: 6601/10000 (66.01%)\n",
            "Round 6/200\n",
            "Selected clients - [79, 32, 94, 45, 88, 83, 67, 3, 59, 99]\n"
          ]
        },
        {
          "output_type": "stream",
          "name": "stderr",
          "text": [
            "100%|██████████| 10/10 [00:05<00:00,  1.92it/s]\n"
          ]
        },
        {
          "output_type": "stream",
          "name": "stdout",
          "text": [
            "Test set: Average loss: 0.0610, Accuracy: 8049/10000 (80.49%)\n",
            "Round 7/200\n",
            "Selected clients - [73, 10, 62, 97, 33, 4, 0, 18, 84, 75]\n"
          ]
        },
        {
          "output_type": "stream",
          "name": "stderr",
          "text": [
            "100%|██████████| 10/10 [00:05<00:00,  1.74it/s]\n"
          ]
        },
        {
          "output_type": "stream",
          "name": "stdout",
          "text": [
            "Test set: Average loss: 0.0666, Accuracy: 7550/10000 (75.50%)\n",
            "Round 8/200\n",
            "Selected clients - [41, 19, 50, 83, 6, 9, 68, 12, 46, 74]\n"
          ]
        },
        {
          "output_type": "stream",
          "name": "stderr",
          "text": [
            "100%|██████████| 10/10 [00:06<00:00,  1.53it/s]\n"
          ]
        },
        {
          "output_type": "stream",
          "name": "stdout",
          "text": [
            "Test set: Average loss: 0.0532, Accuracy: 8293/10000 (82.93%)\n",
            "Round 9/200\n",
            "Selected clients - [29, 47, 48, 16, 24, 90, 5, 10, 17, 31]\n"
          ]
        },
        {
          "output_type": "stream",
          "name": "stderr",
          "text": [
            "100%|██████████| 10/10 [00:05<00:00,  1.90it/s]\n"
          ]
        },
        {
          "output_type": "stream",
          "name": "stdout",
          "text": [
            "Test set: Average loss: 0.0488, Accuracy: 8418/10000 (84.18%)\n",
            "Round 10/200\n",
            "Selected clients - [59, 78, 47, 34, 17, 23, 86, 0, 43, 64]\n"
          ]
        },
        {
          "output_type": "stream",
          "name": "stderr",
          "text": [
            "100%|██████████| 10/10 [00:05<00:00,  1.93it/s]\n"
          ]
        },
        {
          "output_type": "stream",
          "name": "stdout",
          "text": [
            "Test set: Average loss: 0.0451, Accuracy: 8445/10000 (84.45%)\n",
            "Round 11/200\n",
            "Selected clients - [73, 4, 54, 61, 1, 26, 59, 62, 35, 83]\n"
          ]
        },
        {
          "output_type": "stream",
          "name": "stderr",
          "text": [
            "100%|██████████| 10/10 [00:05<00:00,  1.77it/s]\n"
          ]
        },
        {
          "output_type": "stream",
          "name": "stdout",
          "text": [
            "Test set: Average loss: 0.0425, Accuracy: 8554/10000 (85.54%)\n",
            "Round 12/200\n",
            "Selected clients - [57, 71, 99, 59, 65, 75, 24, 23, 60, 80]\n"
          ]
        },
        {
          "output_type": "stream",
          "name": "stderr",
          "text": [
            "100%|██████████| 10/10 [00:05<00:00,  1.83it/s]\n"
          ]
        },
        {
          "output_type": "stream",
          "name": "stdout",
          "text": [
            "Test set: Average loss: 0.0318, Accuracy: 9019/10000 (90.19%)\n",
            "Round 13/200\n",
            "Selected clients - [60, 34, 84, 67, 85, 44, 18, 48, 1, 47]\n"
          ]
        },
        {
          "output_type": "stream",
          "name": "stderr",
          "text": [
            "100%|██████████| 10/10 [00:05<00:00,  1.92it/s]\n"
          ]
        },
        {
          "output_type": "stream",
          "name": "stdout",
          "text": [
            "Test set: Average loss: 0.0384, Accuracy: 8647/10000 (86.47%)\n",
            "Round 14/200\n",
            "Selected clients - [33, 37, 87, 23, 83, 29, 85, 18, 28, 82]\n"
          ]
        },
        {
          "output_type": "stream",
          "name": "stderr",
          "text": [
            "100%|██████████| 10/10 [00:05<00:00,  1.88it/s]\n"
          ]
        },
        {
          "output_type": "stream",
          "name": "stdout",
          "text": [
            "Test set: Average loss: 0.0277, Accuracy: 9182/10000 (91.82%)\n",
            "Round 15/200\n",
            "Selected clients - [13, 78, 89, 96, 83, 67, 31, 34, 94, 32]\n"
          ]
        },
        {
          "output_type": "stream",
          "name": "stderr",
          "text": [
            "100%|██████████| 10/10 [00:05<00:00,  1.77it/s]\n"
          ]
        },
        {
          "output_type": "stream",
          "name": "stdout",
          "text": [
            "Test set: Average loss: 0.0305, Accuracy: 8997/10000 (89.97%)\n",
            "Round 16/200\n",
            "Selected clients - [26, 1, 66, 94, 4, 20, 30, 2, 7, 87]\n"
          ]
        },
        {
          "output_type": "stream",
          "name": "stderr",
          "text": [
            "100%|██████████| 10/10 [00:05<00:00,  1.87it/s]\n"
          ]
        },
        {
          "output_type": "stream",
          "name": "stdout",
          "text": [
            "Test set: Average loss: 0.0398, Accuracy: 8488/10000 (84.88%)\n",
            "Round 17/200\n",
            "Selected clients - [46, 60, 61, 36, 53, 29, 57, 0, 52, 84]\n"
          ]
        },
        {
          "output_type": "stream",
          "name": "stderr",
          "text": [
            "100%|██████████| 10/10 [00:05<00:00,  1.88it/s]\n"
          ]
        },
        {
          "output_type": "stream",
          "name": "stdout",
          "text": [
            "Test set: Average loss: 0.0221, Accuracy: 9327/10000 (93.27%)\n",
            "Round 18/200\n",
            "Selected clients - [66, 53, 38, 46, 37, 22, 98, 90, 69, 84]\n"
          ]
        },
        {
          "output_type": "stream",
          "name": "stderr",
          "text": [
            "100%|██████████| 10/10 [00:05<00:00,  1.80it/s]\n"
          ]
        },
        {
          "output_type": "stream",
          "name": "stdout",
          "text": [
            "Test set: Average loss: 0.0284, Accuracy: 9024/10000 (90.24%)\n",
            "Round 19/200\n",
            "Selected clients - [23, 15, 84, 57, 42, 30, 25, 62, 80, 63]\n"
          ]
        },
        {
          "output_type": "stream",
          "name": "stderr",
          "text": [
            "100%|██████████| 10/10 [00:05<00:00,  1.77it/s]\n"
          ]
        },
        {
          "output_type": "stream",
          "name": "stdout",
          "text": [
            "Test set: Average loss: 0.0293, Accuracy: 8983/10000 (89.83%)\n",
            "Round 20/200\n",
            "Selected clients - [86, 5, 66, 15, 65, 25, 50, 44, 67, 37]\n"
          ]
        },
        {
          "output_type": "stream",
          "name": "stderr",
          "text": [
            "100%|██████████| 10/10 [00:05<00:00,  1.89it/s]\n"
          ]
        },
        {
          "output_type": "stream",
          "name": "stdout",
          "text": [
            "Test set: Average loss: 0.0258, Accuracy: 9155/10000 (91.55%)\n",
            "Round 21/200\n",
            "Selected clients - [92, 87, 98, 19, 33, 86, 81, 12, 41, 73]\n"
          ]
        },
        {
          "output_type": "stream",
          "name": "stderr",
          "text": [
            "100%|██████████| 10/10 [00:05<00:00,  1.93it/s]\n"
          ]
        },
        {
          "output_type": "stream",
          "name": "stdout",
          "text": [
            "Test set: Average loss: 0.0218, Accuracy: 9296/10000 (92.96%)\n",
            "Round 22/200\n",
            "Selected clients - [21, 53, 88, 81, 36, 61, 27, 60, 65, 23]\n"
          ]
        },
        {
          "output_type": "stream",
          "name": "stderr",
          "text": [
            "100%|██████████| 10/10 [00:05<00:00,  1.77it/s]\n"
          ]
        },
        {
          "output_type": "stream",
          "name": "stdout",
          "text": [
            "Test set: Average loss: 0.0201, Accuracy: 9360/10000 (93.60%)\n",
            "Round 23/200\n",
            "Selected clients - [17, 31, 3, 78, 57, 23, 89, 15, 94, 83]\n"
          ]
        },
        {
          "output_type": "stream",
          "name": "stderr",
          "text": [
            "100%|██████████| 10/10 [00:05<00:00,  1.76it/s]\n"
          ]
        },
        {
          "output_type": "stream",
          "name": "stdout",
          "text": [
            "Test set: Average loss: 0.0182, Accuracy: 9434/10000 (94.34%)\n",
            "Round 24/200\n",
            "Selected clients - [99, 37, 10, 2, 75, 39, 54, 48, 67, 45]\n"
          ]
        },
        {
          "output_type": "stream",
          "name": "stderr",
          "text": [
            "100%|██████████| 10/10 [00:05<00:00,  1.89it/s]\n"
          ]
        },
        {
          "output_type": "stream",
          "name": "stdout",
          "text": [
            "Test set: Average loss: 0.0383, Accuracy: 8543/10000 (85.43%)\n",
            "Round 25/200\n",
            "Selected clients - [91, 49, 74, 23, 27, 21, 24, 85, 87, 11]\n"
          ]
        },
        {
          "output_type": "stream",
          "name": "stderr",
          "text": [
            "100%|██████████| 10/10 [00:05<00:00,  1.91it/s]\n"
          ]
        },
        {
          "output_type": "stream",
          "name": "stdout",
          "text": [
            "Test set: Average loss: 0.0162, Accuracy: 9490/10000 (94.90%)\n",
            "Round 26/200\n",
            "Selected clients - [48, 98, 1, 27, 39, 81, 60, 5, 96, 32]\n"
          ]
        },
        {
          "output_type": "stream",
          "name": "stderr",
          "text": [
            "100%|██████████| 10/10 [00:05<00:00,  1.78it/s]\n"
          ]
        },
        {
          "output_type": "stream",
          "name": "stdout",
          "text": [
            "Test set: Average loss: 0.0231, Accuracy: 9196/10000 (91.96%)\n",
            "Round 27/200\n",
            "Selected clients - [95, 25, 84, 26, 55, 76, 69, 7, 16, 99]\n"
          ]
        },
        {
          "output_type": "stream",
          "name": "stderr",
          "text": [
            "100%|██████████| 10/10 [00:05<00:00,  1.80it/s]\n"
          ]
        },
        {
          "output_type": "stream",
          "name": "stdout",
          "text": [
            "Test set: Average loss: 0.0156, Accuracy: 9471/10000 (94.71%)\n",
            "Round 28/200\n",
            "Selected clients - [83, 61, 89, 35, 36, 25, 9, 8, 32, 69]\n"
          ]
        },
        {
          "output_type": "stream",
          "name": "stderr",
          "text": [
            "100%|██████████| 10/10 [00:05<00:00,  1.90it/s]\n"
          ]
        },
        {
          "output_type": "stream",
          "name": "stdout",
          "text": [
            "Test set: Average loss: 0.0181, Accuracy: 9428/10000 (94.28%)\n",
            "Round 29/200\n",
            "Selected clients - [14, 95, 16, 69, 76, 91, 22, 28, 81, 59]\n"
          ]
        },
        {
          "output_type": "stream",
          "name": "stderr",
          "text": [
            "100%|██████████| 10/10 [00:05<00:00,  1.90it/s]\n"
          ]
        },
        {
          "output_type": "stream",
          "name": "stdout",
          "text": [
            "Test set: Average loss: 0.0212, Accuracy: 9324/10000 (93.24%)\n",
            "Round 30/200\n",
            "Selected clients - [70, 9, 44, 76, 77, 36, 11, 65, 50, 53]\n"
          ]
        },
        {
          "output_type": "stream",
          "name": "stderr",
          "text": [
            "100%|██████████| 10/10 [00:05<00:00,  1.74it/s]\n"
          ]
        },
        {
          "output_type": "stream",
          "name": "stdout",
          "text": [
            "Test set: Average loss: 0.0128, Accuracy: 9609/10000 (96.09%)\n",
            "Round 31/200\n",
            "Selected clients - [69, 37, 78, 3, 79, 83, 26, 32, 6, 50]\n"
          ]
        },
        {
          "output_type": "stream",
          "name": "stderr",
          "text": [
            "100%|██████████| 10/10 [00:05<00:00,  1.82it/s]\n"
          ]
        },
        {
          "output_type": "stream",
          "name": "stdout",
          "text": [
            "Test set: Average loss: 0.0171, Accuracy: 9433/10000 (94.33%)\n",
            "Round 32/200\n",
            "Selected clients - [1, 60, 14, 97, 50, 18, 87, 5, 17, 68]\n"
          ]
        },
        {
          "output_type": "stream",
          "name": "stderr",
          "text": [
            "100%|██████████| 10/10 [00:05<00:00,  1.90it/s]\n"
          ]
        },
        {
          "output_type": "stream",
          "name": "stdout",
          "text": [
            "Test set: Average loss: 0.0195, Accuracy: 9347/10000 (93.47%)\n",
            "Round 33/200\n",
            "Selected clients - [9, 27, 18, 38, 89, 30, 63, 3, 92, 4]\n"
          ]
        },
        {
          "output_type": "stream",
          "name": "stderr",
          "text": [
            "100%|██████████| 10/10 [00:05<00:00,  1.86it/s]\n"
          ]
        },
        {
          "output_type": "stream",
          "name": "stdout",
          "text": [
            "Test set: Average loss: 0.0122, Accuracy: 9619/10000 (96.19%)\n",
            "Round 34/200\n",
            "Selected clients - [73, 21, 80, 29, 35, 61, 83, 68, 67, 23]\n"
          ]
        },
        {
          "output_type": "stream",
          "name": "stderr",
          "text": [
            "100%|██████████| 10/10 [00:05<00:00,  1.75it/s]\n"
          ]
        },
        {
          "output_type": "stream",
          "name": "stdout",
          "text": [
            "Test set: Average loss: 0.0127, Accuracy: 9613/10000 (96.13%)\n",
            "Round 35/200\n",
            "Selected clients - [67, 45, 74, 3, 29, 49, 46, 8, 54, 39]\n"
          ]
        },
        {
          "output_type": "stream",
          "name": "stderr",
          "text": [
            "100%|██████████| 10/10 [00:05<00:00,  1.90it/s]\n"
          ]
        },
        {
          "output_type": "stream",
          "name": "stdout",
          "text": [
            "Test set: Average loss: 0.0133, Accuracy: 9597/10000 (95.97%)\n",
            "Round 36/200\n",
            "Selected clients - [70, 42, 96, 16, 95, 43, 19, 36, 55, 32]\n"
          ]
        },
        {
          "output_type": "stream",
          "name": "stderr",
          "text": [
            "100%|██████████| 10/10 [00:05<00:00,  1.89it/s]\n"
          ]
        },
        {
          "output_type": "stream",
          "name": "stdout",
          "text": [
            "Test set: Average loss: 0.0112, Accuracy: 9643/10000 (96.43%)\n",
            "Round 37/200\n",
            "Selected clients - [42, 7, 2, 36, 10, 0, 64, 80, 22, 31]\n"
          ]
        },
        {
          "output_type": "stream",
          "name": "stderr",
          "text": [
            "100%|██████████| 10/10 [00:05<00:00,  1.80it/s]\n"
          ]
        },
        {
          "output_type": "stream",
          "name": "stdout",
          "text": [
            "Test set: Average loss: 0.0143, Accuracy: 9529/10000 (95.29%)\n",
            "Round 38/200\n",
            "Selected clients - [87, 77, 11, 79, 85, 95, 81, 65, 4, 80]\n"
          ]
        },
        {
          "output_type": "stream",
          "name": "stderr",
          "text": [
            "100%|██████████| 10/10 [00:05<00:00,  1.76it/s]\n"
          ]
        },
        {
          "output_type": "stream",
          "name": "stdout",
          "text": [
            "Test set: Average loss: 0.0191, Accuracy: 9329/10000 (93.29%)\n",
            "Round 39/200\n",
            "Selected clients - [81, 53, 54, 96, 92, 13, 8, 46, 89, 59]\n"
          ]
        },
        {
          "output_type": "stream",
          "name": "stderr",
          "text": [
            "100%|██████████| 10/10 [00:05<00:00,  1.89it/s]\n"
          ]
        },
        {
          "output_type": "stream",
          "name": "stdout",
          "text": [
            "Test set: Average loss: 0.0098, Accuracy: 9696/10000 (96.96%)\n",
            "Round 40/200\n",
            "Selected clients - [26, 33, 49, 3, 24, 28, 50, 93, 72, 0]\n"
          ]
        },
        {
          "output_type": "stream",
          "name": "stderr",
          "text": [
            "100%|██████████| 10/10 [00:05<00:00,  1.91it/s]\n"
          ]
        },
        {
          "output_type": "stream",
          "name": "stdout",
          "text": [
            "Test set: Average loss: 0.0105, Accuracy: 9668/10000 (96.68%)\n",
            "Round 41/200\n",
            "Selected clients - [58, 74, 67, 4, 31, 36, 85, 81, 26, 16]\n"
          ]
        },
        {
          "output_type": "stream",
          "name": "stderr",
          "text": [
            "100%|██████████| 10/10 [00:05<00:00,  1.77it/s]\n"
          ]
        },
        {
          "output_type": "stream",
          "name": "stdout",
          "text": [
            "Test set: Average loss: 0.0112, Accuracy: 9632/10000 (96.32%)\n",
            "Round 42/200\n",
            "Selected clients - [48, 42, 29, 21, 49, 73, 88, 36, 70, 35]\n"
          ]
        },
        {
          "output_type": "stream",
          "name": "stderr",
          "text": [
            "100%|██████████| 10/10 [00:05<00:00,  1.76it/s]\n"
          ]
        },
        {
          "output_type": "stream",
          "name": "stdout",
          "text": [
            "Test set: Average loss: 0.0089, Accuracy: 9709/10000 (97.09%)\n",
            "Round 43/200\n",
            "Selected clients - [81, 14, 3, 94, 35, 31, 28, 17, 13, 86]\n"
          ]
        },
        {
          "output_type": "stream",
          "name": "stderr",
          "text": [
            "100%|██████████| 10/10 [00:05<00:00,  1.90it/s]\n"
          ]
        },
        {
          "output_type": "stream",
          "name": "stdout",
          "text": [
            "Test set: Average loss: 0.0172, Accuracy: 9408/10000 (94.08%)\n",
            "Round 44/200\n",
            "Selected clients - [4, 36, 89, 97, 18, 59, 47, 85, 12, 58]\n"
          ]
        },
        {
          "output_type": "stream",
          "name": "stderr",
          "text": [
            "100%|██████████| 10/10 [00:05<00:00,  1.91it/s]\n"
          ]
        },
        {
          "output_type": "stream",
          "name": "stdout",
          "text": [
            "Test set: Average loss: 0.0111, Accuracy: 9620/10000 (96.20%)\n",
            "Round 45/200\n",
            "Selected clients - [52, 66, 69, 89, 14, 22, 48, 28, 37, 3]\n"
          ]
        },
        {
          "output_type": "stream",
          "name": "stderr",
          "text": [
            "100%|██████████| 10/10 [00:05<00:00,  1.77it/s]\n"
          ]
        },
        {
          "output_type": "stream",
          "name": "stdout",
          "text": [
            "Test set: Average loss: 0.0126, Accuracy: 9577/10000 (95.77%)\n",
            "Round 46/200\n",
            "Selected clients - [34, 53, 62, 32, 10, 38, 43, 2, 9, 61]\n"
          ]
        },
        {
          "output_type": "stream",
          "name": "stderr",
          "text": [
            "100%|██████████| 10/10 [00:05<00:00,  1.77it/s]\n"
          ]
        },
        {
          "output_type": "stream",
          "name": "stdout",
          "text": [
            "Test set: Average loss: 0.0104, Accuracy: 9670/10000 (96.70%)\n",
            "Round 47/200\n",
            "Selected clients - [9, 51, 5, 75, 29, 81, 66, 19, 74, 68]\n"
          ]
        },
        {
          "output_type": "stream",
          "name": "stderr",
          "text": [
            "100%|██████████| 10/10 [00:05<00:00,  1.90it/s]\n"
          ]
        },
        {
          "output_type": "stream",
          "name": "stdout",
          "text": [
            "Test set: Average loss: 0.0087, Accuracy: 9723/10000 (97.23%)\n",
            "Round 48/200\n",
            "Selected clients - [45, 8, 55, 70, 58, 73, 43, 32, 65, 49]\n"
          ]
        },
        {
          "output_type": "stream",
          "name": "stderr",
          "text": [
            "100%|██████████| 10/10 [00:05<00:00,  1.90it/s]\n"
          ]
        },
        {
          "output_type": "stream",
          "name": "stdout",
          "text": [
            "Test set: Average loss: 0.0099, Accuracy: 9665/10000 (96.65%)\n",
            "Round 49/200\n",
            "Selected clients - [70, 40, 16, 71, 91, 68, 38, 64, 24, 97]\n"
          ]
        },
        {
          "output_type": "stream",
          "name": "stderr",
          "text": [
            "100%|██████████| 10/10 [00:05<00:00,  1.76it/s]\n"
          ]
        },
        {
          "output_type": "stream",
          "name": "stdout",
          "text": [
            "Test set: Average loss: 0.0110, Accuracy: 9641/10000 (96.41%)\n",
            "Round 50/200\n",
            "Selected clients - [8, 44, 52, 14, 41, 96, 70, 65, 6, 87]\n"
          ]
        },
        {
          "output_type": "stream",
          "name": "stderr",
          "text": [
            "100%|██████████| 10/10 [00:05<00:00,  1.83it/s]\n"
          ]
        },
        {
          "output_type": "stream",
          "name": "stdout",
          "text": [
            "Test set: Average loss: 0.0105, Accuracy: 9662/10000 (96.62%)\n",
            "Round 51/200\n",
            "Selected clients - [63, 34, 46, 81, 31, 88, 60, 98, 42, 10]\n"
          ]
        },
        {
          "output_type": "stream",
          "name": "stderr",
          "text": [
            "100%|██████████| 10/10 [00:05<00:00,  1.93it/s]\n"
          ]
        },
        {
          "output_type": "stream",
          "name": "stdout",
          "text": [
            "Test set: Average loss: 0.0094, Accuracy: 9674/10000 (96.74%)\n",
            "Round 52/200\n",
            "Selected clients - [31, 64, 70, 20, 29, 32, 50, 59, 93, 89]\n"
          ]
        },
        {
          "output_type": "stream",
          "name": "stderr",
          "text": [
            "100%|██████████| 10/10 [00:05<00:00,  1.85it/s]\n"
          ]
        },
        {
          "output_type": "stream",
          "name": "stdout",
          "text": [
            "Test set: Average loss: 0.0078, Accuracy: 9729/10000 (97.29%)\n",
            "Round 53/200\n",
            "Selected clients - [34, 6, 92, 65, 61, 47, 52, 4, 17, 20]\n"
          ]
        },
        {
          "output_type": "stream",
          "name": "stderr",
          "text": [
            "100%|██████████| 10/10 [00:05<00:00,  1.77it/s]\n"
          ]
        },
        {
          "output_type": "stream",
          "name": "stdout",
          "text": [
            "Test set: Average loss: 0.0091, Accuracy: 9691/10000 (96.91%)\n",
            "Round 54/200\n",
            "Selected clients - [78, 27, 58, 64, 91, 61, 66, 46, 93, 3]\n"
          ]
        },
        {
          "output_type": "stream",
          "name": "stderr",
          "text": [
            "100%|██████████| 10/10 [00:05<00:00,  1.90it/s]\n"
          ]
        },
        {
          "output_type": "stream",
          "name": "stdout",
          "text": [
            "Test set: Average loss: 0.0089, Accuracy: 9700/10000 (97.00%)\n",
            "Round 55/200\n",
            "Selected clients - [17, 56, 71, 38, 61, 62, 48, 28, 57, 42]\n"
          ]
        },
        {
          "output_type": "stream",
          "name": "stderr",
          "text": [
            "100%|██████████| 10/10 [00:05<00:00,  1.93it/s]\n"
          ]
        },
        {
          "output_type": "stream",
          "name": "stdout",
          "text": [
            "Test set: Average loss: 0.0075, Accuracy: 9751/10000 (97.51%)\n",
            "Round 56/200\n",
            "Selected clients - [11, 25, 19, 94, 38, 10, 95, 23, 45, 92]\n"
          ]
        },
        {
          "output_type": "stream",
          "name": "stderr",
          "text": [
            "100%|██████████| 10/10 [00:05<00:00,  1.80it/s]\n"
          ]
        },
        {
          "output_type": "stream",
          "name": "stdout",
          "text": [
            "Test set: Average loss: 0.0081, Accuracy: 9735/10000 (97.35%)\n",
            "Round 57/200\n",
            "Selected clients - [71, 1, 60, 83, 66, 38, 98, 69, 53, 90]\n"
          ]
        },
        {
          "output_type": "stream",
          "name": "stderr",
          "text": [
            "100%|██████████| 10/10 [00:05<00:00,  1.78it/s]\n"
          ]
        },
        {
          "output_type": "stream",
          "name": "stdout",
          "text": [
            "Test set: Average loss: 0.0112, Accuracy: 9646/10000 (96.46%)\n",
            "Round 58/200\n",
            "Selected clients - [5, 47, 75, 77, 2, 28, 65, 41, 61, 37]\n"
          ]
        },
        {
          "output_type": "stream",
          "name": "stderr",
          "text": [
            "100%|██████████| 10/10 [00:05<00:00,  1.93it/s]\n"
          ]
        },
        {
          "output_type": "stream",
          "name": "stdout",
          "text": [
            "Test set: Average loss: 0.0078, Accuracy: 9746/10000 (97.46%)\n",
            "Round 59/200\n",
            "Selected clients - [74, 25, 26, 94, 82, 5, 24, 57, 51, 45]\n"
          ]
        },
        {
          "output_type": "stream",
          "name": "stderr",
          "text": [
            "100%|██████████| 10/10 [00:05<00:00,  1.93it/s]\n"
          ]
        },
        {
          "output_type": "stream",
          "name": "stdout",
          "text": [
            "Test set: Average loss: 0.0090, Accuracy: 9690/10000 (96.90%)\n",
            "Round 60/200\n",
            "Selected clients - [28, 10, 83, 58, 2, 17, 38, 91, 87, 79]\n"
          ]
        },
        {
          "output_type": "stream",
          "name": "stderr",
          "text": [
            "100%|██████████| 10/10 [00:05<00:00,  1.78it/s]\n"
          ]
        },
        {
          "output_type": "stream",
          "name": "stdout",
          "text": [
            "Test set: Average loss: 0.0068, Accuracy: 9778/10000 (97.78%)\n",
            "Round 61/200\n",
            "Selected clients - [39, 36, 73, 19, 33, 29, 61, 59, 42, 5]\n"
          ]
        },
        {
          "output_type": "stream",
          "name": "stderr",
          "text": [
            "100%|██████████| 10/10 [00:05<00:00,  1.79it/s]\n"
          ]
        },
        {
          "output_type": "stream",
          "name": "stdout",
          "text": [
            "Test set: Average loss: 0.0091, Accuracy: 9692/10000 (96.92%)\n",
            "Round 62/200\n",
            "Selected clients - [63, 23, 71, 27, 41, 37, 88, 3, 62, 45]\n"
          ]
        },
        {
          "output_type": "stream",
          "name": "stderr",
          "text": [
            "100%|██████████| 10/10 [00:05<00:00,  1.91it/s]\n"
          ]
        },
        {
          "output_type": "stream",
          "name": "stdout",
          "text": [
            "Test set: Average loss: 0.0069, Accuracy: 9774/10000 (97.74%)\n",
            "Round 63/200\n",
            "Selected clients - [73, 22, 8, 30, 59, 39, 85, 45, 21, 65]\n"
          ]
        },
        {
          "output_type": "stream",
          "name": "stderr",
          "text": [
            "100%|██████████| 10/10 [00:05<00:00,  1.92it/s]\n"
          ]
        },
        {
          "output_type": "stream",
          "name": "stdout",
          "text": [
            "Test set: Average loss: 0.0073, Accuracy: 9752/10000 (97.52%)\n",
            "Round 64/200\n",
            "Selected clients - [56, 37, 32, 61, 84, 11, 49, 95, 10, 9]\n"
          ]
        },
        {
          "output_type": "stream",
          "name": "stderr",
          "text": [
            "100%|██████████| 10/10 [00:05<00:00,  1.76it/s]\n"
          ]
        },
        {
          "output_type": "stream",
          "name": "stdout",
          "text": [
            "Test set: Average loss: 0.0073, Accuracy: 9756/10000 (97.56%)\n",
            "Round 65/200\n",
            "Selected clients - [60, 15, 80, 78, 51, 68, 87, 2, 26, 34]\n"
          ]
        },
        {
          "output_type": "stream",
          "name": "stderr",
          "text": [
            "100%|██████████| 10/10 [00:05<00:00,  1.80it/s]\n"
          ]
        },
        {
          "output_type": "stream",
          "name": "stdout",
          "text": [
            "Test set: Average loss: 0.0081, Accuracy: 9716/10000 (97.16%)\n",
            "Round 66/200\n",
            "Selected clients - [53, 36, 65, 28, 56, 58, 67, 70, 43, 81]\n"
          ]
        },
        {
          "output_type": "stream",
          "name": "stderr",
          "text": [
            "100%|██████████| 10/10 [00:05<00:00,  1.92it/s]\n"
          ]
        },
        {
          "output_type": "stream",
          "name": "stdout",
          "text": [
            "Test set: Average loss: 0.0076, Accuracy: 9763/10000 (97.63%)\n",
            "Round 67/200\n",
            "Selected clients - [9, 39, 55, 31, 57, 37, 32, 71, 12, 95]\n"
          ]
        },
        {
          "output_type": "stream",
          "name": "stderr",
          "text": [
            "100%|██████████| 10/10 [00:05<00:00,  1.91it/s]\n"
          ]
        },
        {
          "output_type": "stream",
          "name": "stdout",
          "text": [
            "Test set: Average loss: 0.0093, Accuracy: 9672/10000 (96.72%)\n",
            "Round 68/200\n",
            "Selected clients - [9, 14, 98, 52, 59, 53, 34, 76, 54, 62]\n"
          ]
        },
        {
          "output_type": "stream",
          "name": "stderr",
          "text": [
            "100%|██████████| 10/10 [00:05<00:00,  1.77it/s]\n"
          ]
        },
        {
          "output_type": "stream",
          "name": "stdout",
          "text": [
            "Test set: Average loss: 0.0076, Accuracy: 9772/10000 (97.72%)\n",
            "Round 69/200\n",
            "Selected clients - [94, 59, 88, 95, 64, 14, 77, 74, 31, 55]\n"
          ]
        },
        {
          "output_type": "stream",
          "name": "stderr",
          "text": [
            "100%|██████████| 10/10 [00:05<00:00,  1.88it/s]\n"
          ]
        },
        {
          "output_type": "stream",
          "name": "stdout",
          "text": [
            "Test set: Average loss: 0.0103, Accuracy: 9658/10000 (96.58%)\n",
            "Round 70/200\n",
            "Selected clients - [87, 4, 12, 21, 8, 77, 44, 41, 70, 53]\n"
          ]
        },
        {
          "output_type": "stream",
          "name": "stderr",
          "text": [
            "100%|██████████| 10/10 [00:05<00:00,  1.91it/s]\n"
          ]
        },
        {
          "output_type": "stream",
          "name": "stdout",
          "text": [
            "Test set: Average loss: 0.0079, Accuracy: 9729/10000 (97.29%)\n",
            "Round 71/200\n",
            "Selected clients - [15, 37, 89, 58, 57, 17, 41, 13, 19, 86]\n"
          ]
        },
        {
          "output_type": "stream",
          "name": "stderr",
          "text": [
            "100%|██████████| 10/10 [00:05<00:00,  1.81it/s]\n"
          ]
        },
        {
          "output_type": "stream",
          "name": "stdout",
          "text": [
            "Test set: Average loss: 0.0075, Accuracy: 9754/10000 (97.54%)\n",
            "Round 72/200\n",
            "Selected clients - [41, 65, 79, 1, 33, 19, 96, 25, 11, 7]\n"
          ]
        },
        {
          "output_type": "stream",
          "name": "stderr",
          "text": [
            "100%|██████████| 10/10 [00:05<00:00,  1.75it/s]\n"
          ]
        },
        {
          "output_type": "stream",
          "name": "stdout",
          "text": [
            "Test set: Average loss: 0.0082, Accuracy: 9717/10000 (97.17%)\n",
            "Round 73/200\n",
            "Selected clients - [9, 76, 94, 23, 44, 89, 69, 79, 47, 39]\n"
          ]
        },
        {
          "output_type": "stream",
          "name": "stderr",
          "text": [
            "100%|██████████| 10/10 [00:05<00:00,  1.91it/s]\n"
          ]
        },
        {
          "output_type": "stream",
          "name": "stdout",
          "text": [
            "Test set: Average loss: 0.0064, Accuracy: 9789/10000 (97.89%)\n",
            "Round 74/200\n",
            "Selected clients - [35, 15, 64, 61, 72, 23, 59, 38, 75, 9]\n"
          ]
        },
        {
          "output_type": "stream",
          "name": "stderr",
          "text": [
            "100%|██████████| 10/10 [00:05<00:00,  1.91it/s]\n"
          ]
        },
        {
          "output_type": "stream",
          "name": "stdout",
          "text": [
            "Test set: Average loss: 0.0112, Accuracy: 9626/10000 (96.26%)\n",
            "Round 75/200\n",
            "Selected clients - [78, 65, 14, 40, 15, 39, 23, 27, 44, 56]\n"
          ]
        },
        {
          "output_type": "stream",
          "name": "stderr",
          "text": [
            "100%|██████████| 10/10 [00:05<00:00,  1.77it/s]\n"
          ]
        },
        {
          "output_type": "stream",
          "name": "stdout",
          "text": [
            "Test set: Average loss: 0.0117, Accuracy: 9616/10000 (96.16%)\n",
            "Round 76/200\n",
            "Selected clients - [57, 74, 55, 58, 5, 93, 98, 65, 86, 85]\n"
          ]
        },
        {
          "output_type": "stream",
          "name": "stderr",
          "text": [
            "100%|██████████| 10/10 [00:05<00:00,  1.77it/s]\n"
          ]
        },
        {
          "output_type": "stream",
          "name": "stdout",
          "text": [
            "Test set: Average loss: 0.0073, Accuracy: 9758/10000 (97.58%)\n",
            "Round 77/200\n",
            "Selected clients - [47, 59, 49, 25, 38, 6, 53, 30, 36, 96]\n"
          ]
        },
        {
          "output_type": "stream",
          "name": "stderr",
          "text": [
            "100%|██████████| 10/10 [00:05<00:00,  1.91it/s]\n"
          ]
        },
        {
          "output_type": "stream",
          "name": "stdout",
          "text": [
            "Test set: Average loss: 0.0145, Accuracy: 9498/10000 (94.98%)\n",
            "Round 78/200\n",
            "Selected clients - [32, 41, 25, 30, 24, 14, 37, 60, 71, 78]\n"
          ]
        },
        {
          "output_type": "stream",
          "name": "stderr",
          "text": [
            "100%|██████████| 10/10 [00:05<00:00,  1.89it/s]\n"
          ]
        },
        {
          "output_type": "stream",
          "name": "stdout",
          "text": [
            "Test set: Average loss: 0.0065, Accuracy: 9781/10000 (97.81%)\n",
            "Round 79/200\n",
            "Selected clients - [24, 12, 38, 85, 93, 32, 95, 54, 4, 83]\n"
          ]
        },
        {
          "output_type": "stream",
          "name": "stderr",
          "text": [
            "100%|██████████| 10/10 [00:05<00:00,  1.78it/s]\n"
          ]
        },
        {
          "output_type": "stream",
          "name": "stdout",
          "text": [
            "Test set: Average loss: 0.0071, Accuracy: 9745/10000 (97.45%)\n",
            "Round 80/200\n",
            "Selected clients - [18, 56, 44, 76, 20, 30, 31, 92, 88, 63]\n"
          ]
        },
        {
          "output_type": "stream",
          "name": "stderr",
          "text": [
            "100%|██████████| 10/10 [00:05<00:00,  1.80it/s]\n"
          ]
        },
        {
          "output_type": "stream",
          "name": "stdout",
          "text": [
            "Test set: Average loss: 0.0065, Accuracy: 9764/10000 (97.64%)\n",
            "Round 81/200\n",
            "Selected clients - [34, 50, 69, 90, 53, 47, 46, 68, 51, 3]\n"
          ]
        },
        {
          "output_type": "stream",
          "name": "stderr",
          "text": [
            "100%|██████████| 10/10 [00:05<00:00,  1.96it/s]\n"
          ]
        },
        {
          "output_type": "stream",
          "name": "stdout",
          "text": [
            "Test set: Average loss: 0.0063, Accuracy: 9791/10000 (97.91%)\n",
            "Round 82/200\n",
            "Selected clients - [64, 58, 43, 71, 68, 49, 61, 2, 20, 19]\n"
          ]
        },
        {
          "output_type": "stream",
          "name": "stderr",
          "text": [
            "100%|██████████| 10/10 [00:05<00:00,  1.92it/s]\n"
          ]
        },
        {
          "output_type": "stream",
          "name": "stdout",
          "text": [
            "Test set: Average loss: 0.0066, Accuracy: 9756/10000 (97.56%)\n",
            "Round 83/200\n",
            "Selected clients - [18, 98, 62, 64, 37, 22, 21, 87, 33, 20]\n"
          ]
        },
        {
          "output_type": "stream",
          "name": "stderr",
          "text": [
            "100%|██████████| 10/10 [00:05<00:00,  1.78it/s]\n"
          ]
        },
        {
          "output_type": "stream",
          "name": "stdout",
          "text": [
            "Test set: Average loss: 0.0120, Accuracy: 9596/10000 (95.96%)\n",
            "Round 84/200\n",
            "Selected clients - [63, 58, 11, 16, 48, 4, 6, 83, 27, 24]\n"
          ]
        },
        {
          "output_type": "stream",
          "name": "stderr",
          "text": [
            "100%|██████████| 10/10 [00:05<00:00,  1.88it/s]\n"
          ]
        },
        {
          "output_type": "stream",
          "name": "stdout",
          "text": [
            "Test set: Average loss: 0.0093, Accuracy: 9684/10000 (96.84%)\n",
            "Round 85/200\n",
            "Selected clients - [93, 36, 99, 4, 62, 0, 66, 84, 40, 25]\n"
          ]
        },
        {
          "output_type": "stream",
          "name": "stderr",
          "text": [
            "100%|██████████| 10/10 [00:05<00:00,  1.91it/s]\n"
          ]
        },
        {
          "output_type": "stream",
          "name": "stdout",
          "text": [
            "Test set: Average loss: 0.0073, Accuracy: 9746/10000 (97.46%)\n",
            "Round 86/200\n",
            "Selected clients - [25, 89, 78, 13, 41, 24, 28, 59, 99, 98]\n"
          ]
        },
        {
          "output_type": "stream",
          "name": "stderr",
          "text": [
            "100%|██████████| 10/10 [00:05<00:00,  1.85it/s]\n"
          ]
        },
        {
          "output_type": "stream",
          "name": "stdout",
          "text": [
            "Test set: Average loss: 0.0076, Accuracy: 9735/10000 (97.35%)\n",
            "Round 87/200\n",
            "Selected clients - [99, 3, 71, 40, 95, 1, 98, 8, 90, 64]\n"
          ]
        },
        {
          "output_type": "stream",
          "name": "stderr",
          "text": [
            "100%|██████████| 10/10 [00:05<00:00,  1.78it/s]\n"
          ]
        },
        {
          "output_type": "stream",
          "name": "stdout",
          "text": [
            "Test set: Average loss: 0.0070, Accuracy: 9760/10000 (97.60%)\n",
            "Round 88/200\n",
            "Selected clients - [18, 94, 24, 69, 13, 35, 96, 42, 82, 90]\n"
          ]
        },
        {
          "output_type": "stream",
          "name": "stderr",
          "text": [
            "100%|██████████| 10/10 [00:05<00:00,  1.94it/s]\n"
          ]
        },
        {
          "output_type": "stream",
          "name": "stdout",
          "text": [
            "Test set: Average loss: 0.0058, Accuracy: 9789/10000 (97.89%)\n",
            "Round 89/200\n",
            "Selected clients - [50, 24, 42, 23, 80, 1, 67, 98, 89, 43]\n"
          ]
        },
        {
          "output_type": "stream",
          "name": "stderr",
          "text": [
            "100%|██████████| 10/10 [00:05<00:00,  1.94it/s]\n"
          ]
        },
        {
          "output_type": "stream",
          "name": "stdout",
          "text": [
            "Test set: Average loss: 0.0064, Accuracy: 9772/10000 (97.72%)\n",
            "Round 90/200\n",
            "Selected clients - [10, 98, 77, 90, 33, 17, 44, 8, 19, 53]\n"
          ]
        },
        {
          "output_type": "stream",
          "name": "stderr",
          "text": [
            "100%|██████████| 10/10 [00:05<00:00,  1.80it/s]\n"
          ]
        },
        {
          "output_type": "stream",
          "name": "stdout",
          "text": [
            "Test set: Average loss: 0.0063, Accuracy: 9770/10000 (97.70%)\n",
            "Round 91/200\n",
            "Selected clients - [26, 91, 11, 61, 84, 73, 75, 39, 81, 45]\n"
          ]
        },
        {
          "output_type": "stream",
          "name": "stderr",
          "text": [
            "100%|██████████| 10/10 [00:05<00:00,  1.80it/s]\n"
          ]
        },
        {
          "output_type": "stream",
          "name": "stdout",
          "text": [
            "Test set: Average loss: 0.0067, Accuracy: 9753/10000 (97.53%)\n",
            "Round 92/200\n",
            "Selected clients - [10, 75, 22, 87, 86, 20, 51, 58, 95, 56]\n"
          ]
        },
        {
          "output_type": "stream",
          "name": "stderr",
          "text": [
            "100%|██████████| 10/10 [00:05<00:00,  1.91it/s]\n"
          ]
        },
        {
          "output_type": "stream",
          "name": "stdout",
          "text": [
            "Test set: Average loss: 0.0060, Accuracy: 9776/10000 (97.76%)\n",
            "Round 93/200\n",
            "Selected clients - [53, 66, 72, 70, 71, 75, 34, 86, 97, 12]\n"
          ]
        },
        {
          "output_type": "stream",
          "name": "stderr",
          "text": [
            "100%|██████████| 10/10 [00:05<00:00,  1.94it/s]\n"
          ]
        },
        {
          "output_type": "stream",
          "name": "stdout",
          "text": [
            "Test set: Average loss: 0.0059, Accuracy: 9790/10000 (97.90%)\n",
            "Round 94/200\n",
            "Selected clients - [63, 72, 92, 45, 14, 11, 18, 22, 50, 15]\n"
          ]
        },
        {
          "output_type": "stream",
          "name": "stderr",
          "text": [
            "100%|██████████| 10/10 [00:05<00:00,  1.78it/s]\n"
          ]
        },
        {
          "output_type": "stream",
          "name": "stdout",
          "text": [
            "Test set: Average loss: 0.0051, Accuracy: 9821/10000 (98.21%)\n",
            "Round 95/200\n",
            "Selected clients - [69, 23, 15, 35, 38, 55, 2, 87, 63, 47]\n"
          ]
        },
        {
          "output_type": "stream",
          "name": "stderr",
          "text": [
            "100%|██████████| 10/10 [00:05<00:00,  1.86it/s]\n"
          ]
        },
        {
          "output_type": "stream",
          "name": "stdout",
          "text": [
            "Test set: Average loss: 0.0078, Accuracy: 9740/10000 (97.40%)\n",
            "Round 96/200\n",
            "Selected clients - [97, 68, 65, 94, 69, 16, 63, 3, 17, 1]\n"
          ]
        },
        {
          "output_type": "stream",
          "name": "stderr",
          "text": [
            "100%|██████████| 10/10 [00:05<00:00,  1.94it/s]\n"
          ]
        },
        {
          "output_type": "stream",
          "name": "stdout",
          "text": [
            "Test set: Average loss: 0.0056, Accuracy: 9797/10000 (97.97%)\n",
            "Round 97/200\n",
            "Selected clients - [47, 40, 86, 50, 26, 12, 43, 97, 5, 89]\n"
          ]
        },
        {
          "output_type": "stream",
          "name": "stderr",
          "text": [
            "100%|██████████| 10/10 [00:05<00:00,  1.85it/s]\n"
          ]
        },
        {
          "output_type": "stream",
          "name": "stdout",
          "text": [
            "Test set: Average loss: 0.0072, Accuracy: 9755/10000 (97.55%)\n",
            "Round 98/200\n",
            "Selected clients - [24, 54, 47, 6, 73, 2, 71, 99, 5, 95]\n"
          ]
        },
        {
          "output_type": "stream",
          "name": "stderr",
          "text": [
            "100%|██████████| 10/10 [00:05<00:00,  1.77it/s]\n"
          ]
        },
        {
          "output_type": "stream",
          "name": "stdout",
          "text": [
            "Test set: Average loss: 0.0054, Accuracy: 9826/10000 (98.26%)\n",
            "Round 99/200\n",
            "Selected clients - [45, 73, 5, 53, 7, 60, 36, 93, 86, 71]\n"
          ]
        },
        {
          "output_type": "stream",
          "name": "stderr",
          "text": [
            "100%|██████████| 10/10 [00:05<00:00,  1.90it/s]\n"
          ]
        },
        {
          "output_type": "stream",
          "name": "stdout",
          "text": [
            "Test set: Average loss: 0.0050, Accuracy: 9825/10000 (98.25%)\n",
            "Round 100/200\n",
            "Selected clients - [51, 48, 25, 76, 22, 29, 31, 17, 97, 11]\n"
          ]
        },
        {
          "output_type": "stream",
          "name": "stderr",
          "text": [
            "100%|██████████| 10/10 [00:05<00:00,  1.91it/s]\n"
          ]
        },
        {
          "output_type": "stream",
          "name": "stdout",
          "text": [
            "Test set: Average loss: 0.0071, Accuracy: 9755/10000 (97.55%)\n",
            "Round 101/200\n",
            "Selected clients - [18, 58, 98, 22, 90, 50, 93, 44, 55, 64]\n"
          ]
        },
        {
          "output_type": "stream",
          "name": "stderr",
          "text": [
            "100%|██████████| 10/10 [00:05<00:00,  1.78it/s]\n"
          ]
        },
        {
          "output_type": "stream",
          "name": "stdout",
          "text": [
            "Test set: Average loss: 0.0064, Accuracy: 9775/10000 (97.75%)\n",
            "Round 102/200\n",
            "Selected clients - [74, 24, 69, 45, 59, 6, 84, 64, 27, 77]\n"
          ]
        },
        {
          "output_type": "stream",
          "name": "stderr",
          "text": [
            "100%|██████████| 10/10 [00:05<00:00,  1.80it/s]\n"
          ]
        },
        {
          "output_type": "stream",
          "name": "stdout",
          "text": [
            "Test set: Average loss: 0.0082, Accuracy: 9727/10000 (97.27%)\n",
            "Round 103/200\n",
            "Selected clients - [18, 86, 78, 45, 21, 70, 91, 84, 77, 23]\n"
          ]
        },
        {
          "output_type": "stream",
          "name": "stderr",
          "text": [
            "100%|██████████| 10/10 [00:05<00:00,  1.93it/s]\n"
          ]
        },
        {
          "output_type": "stream",
          "name": "stdout",
          "text": [
            "Test set: Average loss: 0.0057, Accuracy: 9805/10000 (98.05%)\n",
            "Round 104/200\n",
            "Selected clients - [91, 58, 92, 89, 94, 27, 88, 9, 77, 15]\n"
          ]
        },
        {
          "output_type": "stream",
          "name": "stderr",
          "text": [
            "100%|██████████| 10/10 [00:05<00:00,  1.95it/s]\n"
          ]
        },
        {
          "output_type": "stream",
          "name": "stdout",
          "text": [
            "Test set: Average loss: 0.0073, Accuracy: 9757/10000 (97.57%)\n",
            "Round 105/200\n",
            "Selected clients - [2, 25, 93, 98, 29, 50, 42, 0, 91, 16]\n"
          ]
        },
        {
          "output_type": "stream",
          "name": "stderr",
          "text": [
            "100%|██████████| 10/10 [00:05<00:00,  1.77it/s]\n"
          ]
        },
        {
          "output_type": "stream",
          "name": "stdout",
          "text": [
            "Test set: Average loss: 0.0057, Accuracy: 9808/10000 (98.08%)\n",
            "Round 106/200\n",
            "Selected clients - [75, 44, 74, 13, 0, 39, 67, 98, 73, 42]\n"
          ]
        },
        {
          "output_type": "stream",
          "name": "stderr",
          "text": [
            "100%|██████████| 10/10 [00:05<00:00,  1.84it/s]\n"
          ]
        },
        {
          "output_type": "stream",
          "name": "stdout",
          "text": [
            "Test set: Average loss: 0.0073, Accuracy: 9736/10000 (97.36%)\n",
            "Round 107/200\n",
            "Selected clients - [90, 61, 2, 71, 67, 60, 7, 33, 8, 24]\n"
          ]
        },
        {
          "output_type": "stream",
          "name": "stderr",
          "text": [
            "100%|██████████| 10/10 [00:05<00:00,  1.95it/s]\n"
          ]
        },
        {
          "output_type": "stream",
          "name": "stdout",
          "text": [
            "Test set: Average loss: 0.0060, Accuracy: 9784/10000 (97.84%)\n",
            "Round 108/200\n",
            "Selected clients - [31, 79, 74, 98, 93, 84, 54, 61, 97, 39]\n"
          ]
        },
        {
          "output_type": "stream",
          "name": "stderr",
          "text": [
            "100%|██████████| 10/10 [00:05<00:00,  1.86it/s]\n"
          ]
        },
        {
          "output_type": "stream",
          "name": "stdout",
          "text": [
            "Test set: Average loss: 0.0075, Accuracy: 9742/10000 (97.42%)\n",
            "Round 109/200\n",
            "Selected clients - [16, 91, 10, 84, 49, 93, 35, 48, 25, 38]\n"
          ]
        },
        {
          "output_type": "stream",
          "name": "stderr",
          "text": [
            "100%|██████████| 10/10 [00:05<00:00,  1.78it/s]\n"
          ]
        },
        {
          "output_type": "stream",
          "name": "stdout",
          "text": [
            "Test set: Average loss: 0.0059, Accuracy: 9805/10000 (98.05%)\n",
            "Round 110/200\n",
            "Selected clients - [35, 29, 58, 57, 70, 7, 12, 64, 63, 38]\n"
          ]
        },
        {
          "output_type": "stream",
          "name": "stderr",
          "text": [
            "100%|██████████| 10/10 [00:05<00:00,  1.94it/s]\n"
          ]
        },
        {
          "output_type": "stream",
          "name": "stdout",
          "text": [
            "Test set: Average loss: 0.0062, Accuracy: 9802/10000 (98.02%)\n",
            "Round 111/200\n",
            "Selected clients - [49, 76, 31, 52, 61, 91, 35, 81, 69, 88]\n"
          ]
        },
        {
          "output_type": "stream",
          "name": "stderr",
          "text": [
            "100%|██████████| 10/10 [00:05<00:00,  1.93it/s]\n"
          ]
        },
        {
          "output_type": "stream",
          "name": "stdout",
          "text": [
            "Test set: Average loss: 0.0052, Accuracy: 9821/10000 (98.21%)\n",
            "Round 112/200\n",
            "Selected clients - [27, 40, 63, 24, 50, 53, 78, 21, 80, 89]\n"
          ]
        },
        {
          "output_type": "stream",
          "name": "stderr",
          "text": [
            "100%|██████████| 10/10 [00:05<00:00,  1.79it/s]\n"
          ]
        },
        {
          "output_type": "stream",
          "name": "stdout",
          "text": [
            "Test set: Average loss: 0.0062, Accuracy: 9794/10000 (97.94%)\n",
            "Round 113/200\n",
            "Selected clients - [61, 85, 74, 79, 38, 89, 59, 53, 96, 84]\n"
          ]
        },
        {
          "output_type": "stream",
          "name": "stderr",
          "text": [
            "100%|██████████| 10/10 [00:05<00:00,  1.79it/s]\n"
          ]
        },
        {
          "output_type": "stream",
          "name": "stdout",
          "text": [
            "Test set: Average loss: 0.0071, Accuracy: 9756/10000 (97.56%)\n",
            "Round 114/200\n",
            "Selected clients - [3, 83, 92, 35, 2, 61, 70, 44, 30, 55]\n"
          ]
        },
        {
          "output_type": "stream",
          "name": "stderr",
          "text": [
            "100%|██████████| 10/10 [00:05<00:00,  1.96it/s]\n"
          ]
        },
        {
          "output_type": "stream",
          "name": "stdout",
          "text": [
            "Test set: Average loss: 0.0068, Accuracy: 9763/10000 (97.63%)\n",
            "Round 115/200\n",
            "Selected clients - [30, 72, 12, 43, 85, 31, 80, 79, 6, 19]\n"
          ]
        },
        {
          "output_type": "stream",
          "name": "stderr",
          "text": [
            "100%|██████████| 10/10 [00:05<00:00,  1.93it/s]\n"
          ]
        },
        {
          "output_type": "stream",
          "name": "stdout",
          "text": [
            "Test set: Average loss: 0.0053, Accuracy: 9821/10000 (98.21%)\n",
            "Round 116/200\n",
            "Selected clients - [36, 25, 99, 14, 68, 42, 96, 70, 37, 86]\n"
          ]
        },
        {
          "output_type": "stream",
          "name": "stderr",
          "text": [
            "100%|██████████| 10/10 [00:05<00:00,  1.79it/s]\n"
          ]
        },
        {
          "output_type": "stream",
          "name": "stdout",
          "text": [
            "Test set: Average loss: 0.0055, Accuracy: 9817/10000 (98.17%)\n",
            "Round 117/200\n",
            "Selected clients - [95, 76, 69, 92, 38, 1, 96, 82, 15, 94]\n"
          ]
        },
        {
          "output_type": "stream",
          "name": "stderr",
          "text": [
            "100%|██████████| 10/10 [00:05<00:00,  1.87it/s]\n"
          ]
        },
        {
          "output_type": "stream",
          "name": "stdout",
          "text": [
            "Test set: Average loss: 0.0056, Accuracy: 9810/10000 (98.10%)\n",
            "Round 118/200\n",
            "Selected clients - [30, 23, 21, 26, 51, 20, 71, 52, 89, 15]\n"
          ]
        },
        {
          "output_type": "stream",
          "name": "stderr",
          "text": [
            "100%|██████████| 10/10 [00:05<00:00,  1.94it/s]\n"
          ]
        },
        {
          "output_type": "stream",
          "name": "stdout",
          "text": [
            "Test set: Average loss: 0.0087, Accuracy: 9718/10000 (97.18%)\n",
            "Round 119/200\n",
            "Selected clients - [91, 80, 23, 39, 12, 89, 46, 37, 98, 2]\n"
          ]
        },
        {
          "output_type": "stream",
          "name": "stderr",
          "text": [
            "100%|██████████| 10/10 [00:05<00:00,  1.86it/s]\n"
          ]
        },
        {
          "output_type": "stream",
          "name": "stdout",
          "text": [
            "Test set: Average loss: 0.0051, Accuracy: 9816/10000 (98.16%)\n",
            "Round 120/200\n",
            "Selected clients - [36, 23, 94, 68, 85, 96, 70, 55, 13, 10]\n"
          ]
        },
        {
          "output_type": "stream",
          "name": "stderr",
          "text": [
            "100%|██████████| 10/10 [00:05<00:00,  1.79it/s]\n"
          ]
        },
        {
          "output_type": "stream",
          "name": "stdout",
          "text": [
            "Test set: Average loss: 0.0057, Accuracy: 9795/10000 (97.95%)\n",
            "Round 121/200\n",
            "Selected clients - [65, 31, 24, 81, 93, 75, 85, 59, 11, 40]\n"
          ]
        },
        {
          "output_type": "stream",
          "name": "stderr",
          "text": [
            "100%|██████████| 10/10 [00:05<00:00,  1.93it/s]\n"
          ]
        },
        {
          "output_type": "stream",
          "name": "stdout",
          "text": [
            "Test set: Average loss: 0.0058, Accuracy: 9794/10000 (97.94%)\n",
            "Round 122/200\n",
            "Selected clients - [11, 27, 74, 50, 80, 22, 78, 66, 42, 36]\n"
          ]
        },
        {
          "output_type": "stream",
          "name": "stderr",
          "text": [
            "100%|██████████| 10/10 [00:05<00:00,  1.94it/s]\n"
          ]
        },
        {
          "output_type": "stream",
          "name": "stdout",
          "text": [
            "Test set: Average loss: 0.0050, Accuracy: 9826/10000 (98.26%)\n",
            "Round 123/200\n",
            "Selected clients - [65, 27, 76, 38, 9, 93, 46, 97, 28, 58]\n"
          ]
        },
        {
          "output_type": "stream",
          "name": "stderr",
          "text": [
            "100%|██████████| 10/10 [00:05<00:00,  1.80it/s]\n"
          ]
        },
        {
          "output_type": "stream",
          "name": "stdout",
          "text": [
            "Test set: Average loss: 0.0054, Accuracy: 9820/10000 (98.20%)\n",
            "Round 124/200\n",
            "Selected clients - [6, 34, 11, 98, 52, 13, 4, 48, 68, 71]\n"
          ]
        },
        {
          "output_type": "stream",
          "name": "stderr",
          "text": [
            "100%|██████████| 10/10 [00:05<00:00,  1.79it/s]\n"
          ]
        },
        {
          "output_type": "stream",
          "name": "stdout",
          "text": [
            "Test set: Average loss: 0.0074, Accuracy: 9737/10000 (97.37%)\n",
            "Round 125/200\n",
            "Selected clients - [35, 70, 0, 22, 7, 53, 46, 4, 40, 21]\n"
          ]
        },
        {
          "output_type": "stream",
          "name": "stderr",
          "text": [
            "100%|██████████| 10/10 [00:05<00:00,  1.95it/s]\n"
          ]
        },
        {
          "output_type": "stream",
          "name": "stdout",
          "text": [
            "Test set: Average loss: 0.0061, Accuracy: 9794/10000 (97.94%)\n",
            "Round 126/200\n",
            "Selected clients - [31, 28, 76, 38, 72, 94, 23, 44, 19, 77]\n"
          ]
        },
        {
          "output_type": "stream",
          "name": "stderr",
          "text": [
            "100%|██████████| 10/10 [00:05<00:00,  1.96it/s]\n"
          ]
        },
        {
          "output_type": "stream",
          "name": "stdout",
          "text": [
            "Test set: Average loss: 0.0045, Accuracy: 9840/10000 (98.40%)\n",
            "Round 127/200\n",
            "Selected clients - [73, 7, 76, 58, 31, 82, 22, 60, 29, 20]\n"
          ]
        },
        {
          "output_type": "stream",
          "name": "stderr",
          "text": [
            "100%|██████████| 10/10 [00:05<00:00,  1.81it/s]\n"
          ]
        },
        {
          "output_type": "stream",
          "name": "stdout",
          "text": [
            "Test set: Average loss: 0.0053, Accuracy: 9809/10000 (98.09%)\n",
            "Round 128/200\n",
            "Selected clients - [5, 79, 74, 72, 12, 3, 34, 25, 52, 29]\n"
          ]
        },
        {
          "output_type": "stream",
          "name": "stderr",
          "text": [
            "100%|██████████| 10/10 [00:05<00:00,  1.93it/s]\n"
          ]
        },
        {
          "output_type": "stream",
          "name": "stdout",
          "text": [
            "Test set: Average loss: 0.0048, Accuracy: 9829/10000 (98.29%)\n",
            "Round 129/200\n",
            "Selected clients - [30, 51, 65, 46, 17, 61, 3, 19, 40, 81]\n"
          ]
        },
        {
          "output_type": "stream",
          "name": "stderr",
          "text": [
            "100%|██████████| 10/10 [00:05<00:00,  1.96it/s]\n"
          ]
        },
        {
          "output_type": "stream",
          "name": "stdout",
          "text": [
            "Test set: Average loss: 0.0053, Accuracy: 9821/10000 (98.21%)\n",
            "Round 130/200\n",
            "Selected clients - [75, 66, 34, 5, 88, 51, 80, 28, 42, 29]\n"
          ]
        },
        {
          "output_type": "stream",
          "name": "stderr",
          "text": [
            "100%|██████████| 10/10 [00:05<00:00,  1.82it/s]\n"
          ]
        },
        {
          "output_type": "stream",
          "name": "stdout",
          "text": [
            "Test set: Average loss: 0.0047, Accuracy: 9836/10000 (98.36%)\n",
            "Round 131/200\n",
            "Selected clients - [66, 54, 34, 94, 84, 56, 82, 58, 2, 45]\n"
          ]
        },
        {
          "output_type": "stream",
          "name": "stderr",
          "text": [
            "100%|██████████| 10/10 [00:05<00:00,  1.79it/s]\n"
          ]
        },
        {
          "output_type": "stream",
          "name": "stdout",
          "text": [
            "Test set: Average loss: 0.0055, Accuracy: 9802/10000 (98.02%)\n",
            "Round 132/200\n",
            "Selected clients - [40, 47, 98, 65, 11, 50, 36, 2, 49, 99]\n"
          ]
        },
        {
          "output_type": "stream",
          "name": "stderr",
          "text": [
            "100%|██████████| 10/10 [00:05<00:00,  1.92it/s]\n"
          ]
        },
        {
          "output_type": "stream",
          "name": "stdout",
          "text": [
            "Test set: Average loss: 0.0048, Accuracy: 9829/10000 (98.29%)\n",
            "Round 133/200\n",
            "Selected clients - [52, 19, 7, 21, 5, 39, 15, 99, 69, 3]\n"
          ]
        },
        {
          "output_type": "stream",
          "name": "stderr",
          "text": [
            "100%|██████████| 10/10 [00:05<00:00,  1.90it/s]\n"
          ]
        },
        {
          "output_type": "stream",
          "name": "stdout",
          "text": [
            "Test set: Average loss: 0.0070, Accuracy: 9746/10000 (97.46%)\n",
            "Round 134/200\n",
            "Selected clients - [63, 45, 61, 41, 98, 78, 43, 69, 88, 79]\n"
          ]
        },
        {
          "output_type": "stream",
          "name": "stderr",
          "text": [
            "100%|██████████| 10/10 [00:05<00:00,  1.73it/s]\n"
          ]
        },
        {
          "output_type": "stream",
          "name": "stdout",
          "text": [
            "Test set: Average loss: 0.0044, Accuracy: 9841/10000 (98.41%)\n",
            "Round 135/200\n",
            "Selected clients - [61, 66, 25, 92, 71, 95, 81, 16, 3, 83]\n"
          ]
        },
        {
          "output_type": "stream",
          "name": "stderr",
          "text": [
            "100%|██████████| 10/10 [00:05<00:00,  1.72it/s]\n"
          ]
        },
        {
          "output_type": "stream",
          "name": "stdout",
          "text": [
            "Test set: Average loss: 0.0050, Accuracy: 9831/10000 (98.31%)\n",
            "Round 136/200\n",
            "Selected clients - [85, 47, 80, 82, 74, 35, 62, 37, 90, 15]\n"
          ]
        },
        {
          "output_type": "stream",
          "name": "stderr",
          "text": [
            "100%|██████████| 10/10 [00:05<00:00,  1.95it/s]\n"
          ]
        },
        {
          "output_type": "stream",
          "name": "stdout",
          "text": [
            "Test set: Average loss: 0.0050, Accuracy: 9833/10000 (98.33%)\n",
            "Round 137/200\n",
            "Selected clients - [73, 54, 67, 7, 55, 63, 97, 25, 89, 17]\n"
          ]
        },
        {
          "output_type": "stream",
          "name": "stderr",
          "text": [
            "100%|██████████| 10/10 [00:05<00:00,  1.94it/s]\n"
          ]
        },
        {
          "output_type": "stream",
          "name": "stdout",
          "text": [
            "Test set: Average loss: 0.0059, Accuracy: 9790/10000 (97.90%)\n",
            "Round 138/200\n",
            "Selected clients - [9, 23, 52, 41, 24, 29, 62, 44, 1, 51]\n"
          ]
        },
        {
          "output_type": "stream",
          "name": "stderr",
          "text": [
            "100%|██████████| 10/10 [00:05<00:00,  1.79it/s]\n"
          ]
        },
        {
          "output_type": "stream",
          "name": "stdout",
          "text": [
            "Test set: Average loss: 0.0044, Accuracy: 9848/10000 (98.48%)\n",
            "Round 139/200\n",
            "Selected clients - [24, 48, 57, 89, 38, 26, 66, 34, 31, 23]\n"
          ]
        },
        {
          "output_type": "stream",
          "name": "stderr",
          "text": [
            "100%|██████████| 10/10 [00:05<00:00,  1.89it/s]\n"
          ]
        },
        {
          "output_type": "stream",
          "name": "stdout",
          "text": [
            "Test set: Average loss: 0.0066, Accuracy: 9777/10000 (97.77%)\n",
            "Round 140/200\n",
            "Selected clients - [0, 88, 78, 68, 77, 84, 38, 95, 70, 67]\n"
          ]
        },
        {
          "output_type": "stream",
          "name": "stderr",
          "text": [
            "100%|██████████| 10/10 [00:05<00:00,  1.95it/s]\n"
          ]
        },
        {
          "output_type": "stream",
          "name": "stdout",
          "text": [
            "Test set: Average loss: 0.0051, Accuracy: 9825/10000 (98.25%)\n",
            "Round 141/200\n",
            "Selected clients - [98, 12, 3, 34, 2, 68, 93, 6, 86, 92]\n"
          ]
        },
        {
          "output_type": "stream",
          "name": "stderr",
          "text": [
            "100%|██████████| 10/10 [00:05<00:00,  1.87it/s]\n"
          ]
        },
        {
          "output_type": "stream",
          "name": "stdout",
          "text": [
            "Test set: Average loss: 0.0050, Accuracy: 9827/10000 (98.27%)\n",
            "Round 142/200\n",
            "Selected clients - [66, 99, 3, 74, 60, 22, 73, 89, 59, 0]\n"
          ]
        },
        {
          "output_type": "stream",
          "name": "stderr",
          "text": [
            "100%|██████████| 10/10 [00:05<00:00,  1.79it/s]\n"
          ]
        },
        {
          "output_type": "stream",
          "name": "stdout",
          "text": [
            "Test set: Average loss: 0.0047, Accuracy: 9836/10000 (98.36%)\n",
            "Round 143/200\n",
            "Selected clients - [74, 88, 87, 81, 62, 21, 36, 44, 45, 33]\n"
          ]
        },
        {
          "output_type": "stream",
          "name": "stderr",
          "text": [
            "100%|██████████| 10/10 [00:05<00:00,  1.94it/s]\n"
          ]
        },
        {
          "output_type": "stream",
          "name": "stdout",
          "text": [
            "Test set: Average loss: 0.0045, Accuracy: 9834/10000 (98.34%)\n",
            "Round 144/200\n",
            "Selected clients - [23, 5, 2, 28, 18, 31, 10, 93, 52, 63]\n"
          ]
        },
        {
          "output_type": "stream",
          "name": "stderr",
          "text": [
            "100%|██████████| 10/10 [00:05<00:00,  1.91it/s]\n"
          ]
        },
        {
          "output_type": "stream",
          "name": "stdout",
          "text": [
            "Test set: Average loss: 0.0054, Accuracy: 9812/10000 (98.12%)\n",
            "Round 145/200\n",
            "Selected clients - [57, 4, 58, 10, 92, 21, 50, 11, 84, 52]\n"
          ]
        },
        {
          "output_type": "stream",
          "name": "stderr",
          "text": [
            "100%|██████████| 10/10 [00:05<00:00,  1.79it/s]\n"
          ]
        },
        {
          "output_type": "stream",
          "name": "stdout",
          "text": [
            "Test set: Average loss: 0.0057, Accuracy: 9811/10000 (98.11%)\n",
            "Round 146/200\n",
            "Selected clients - [96, 54, 66, 0, 56, 3, 84, 41, 93, 83]\n"
          ]
        },
        {
          "output_type": "stream",
          "name": "stderr",
          "text": [
            "100%|██████████| 10/10 [00:05<00:00,  1.80it/s]\n"
          ]
        },
        {
          "output_type": "stream",
          "name": "stdout",
          "text": [
            "Test set: Average loss: 0.0055, Accuracy: 9824/10000 (98.24%)\n",
            "Round 147/200\n",
            "Selected clients - [17, 79, 42, 98, 8, 20, 72, 36, 10, 44]\n"
          ]
        },
        {
          "output_type": "stream",
          "name": "stderr",
          "text": [
            "100%|██████████| 10/10 [00:05<00:00,  1.93it/s]\n"
          ]
        },
        {
          "output_type": "stream",
          "name": "stdout",
          "text": [
            "Test set: Average loss: 0.0042, Accuracy: 9843/10000 (98.43%)\n",
            "Round 148/200\n",
            "Selected clients - [77, 82, 19, 50, 56, 78, 57, 23, 80, 94]\n"
          ]
        },
        {
          "output_type": "stream",
          "name": "stderr",
          "text": [
            "100%|██████████| 10/10 [00:05<00:00,  1.95it/s]\n"
          ]
        },
        {
          "output_type": "stream",
          "name": "stdout",
          "text": [
            "Test set: Average loss: 0.0042, Accuracy: 9860/10000 (98.60%)\n",
            "Round 149/200\n",
            "Selected clients - [51, 89, 81, 4, 86, 44, 36, 34, 13, 24]\n"
          ]
        },
        {
          "output_type": "stream",
          "name": "stderr",
          "text": [
            "100%|██████████| 10/10 [00:05<00:00,  1.80it/s]\n"
          ]
        },
        {
          "output_type": "stream",
          "name": "stdout",
          "text": [
            "Test set: Average loss: 0.0048, Accuracy: 9819/10000 (98.19%)\n",
            "Round 150/200\n",
            "Selected clients - [9, 12, 32, 48, 17, 7, 2, 22, 73, 5]\n"
          ]
        },
        {
          "output_type": "stream",
          "name": "stderr",
          "text": [
            "100%|██████████| 10/10 [00:05<00:00,  1.91it/s]\n"
          ]
        },
        {
          "output_type": "stream",
          "name": "stdout",
          "text": [
            "Test set: Average loss: 0.0041, Accuracy: 9844/10000 (98.44%)\n",
            "Round 151/200\n",
            "Selected clients - [41, 51, 24, 29, 38, 61, 18, 20, 53, 11]\n"
          ]
        },
        {
          "output_type": "stream",
          "name": "stderr",
          "text": [
            "100%|██████████| 10/10 [00:05<00:00,  1.94it/s]\n"
          ]
        },
        {
          "output_type": "stream",
          "name": "stdout",
          "text": [
            "Test set: Average loss: 0.0044, Accuracy: 9849/10000 (98.49%)\n",
            "Round 152/200\n",
            "Selected clients - [90, 52, 91, 80, 92, 26, 45, 36, 47, 73]\n"
          ]
        },
        {
          "output_type": "stream",
          "name": "stderr",
          "text": [
            "100%|██████████| 10/10 [00:05<00:00,  1.84it/s]\n"
          ]
        },
        {
          "output_type": "stream",
          "name": "stdout",
          "text": [
            "Test set: Average loss: 0.0051, Accuracy: 9840/10000 (98.40%)\n",
            "Round 153/200\n",
            "Selected clients - [96, 50, 80, 18, 48, 25, 11, 79, 2, 15]\n"
          ]
        },
        {
          "output_type": "stream",
          "name": "stderr",
          "text": [
            "100%|██████████| 10/10 [00:05<00:00,  1.78it/s]\n"
          ]
        },
        {
          "output_type": "stream",
          "name": "stdout",
          "text": [
            "Test set: Average loss: 0.0042, Accuracy: 9857/10000 (98.57%)\n",
            "Round 154/200\n",
            "Selected clients - [62, 9, 4, 33, 90, 53, 74, 72, 76, 71]\n"
          ]
        },
        {
          "output_type": "stream",
          "name": "stderr",
          "text": [
            "100%|██████████| 10/10 [00:05<00:00,  1.93it/s]\n"
          ]
        },
        {
          "output_type": "stream",
          "name": "stdout",
          "text": [
            "Test set: Average loss: 0.0047, Accuracy: 9841/10000 (98.41%)\n",
            "Round 155/200\n",
            "Selected clients - [26, 48, 62, 56, 65, 0, 57, 33, 50, 54]\n"
          ]
        },
        {
          "output_type": "stream",
          "name": "stderr",
          "text": [
            "100%|██████████| 10/10 [00:05<00:00,  1.94it/s]\n"
          ]
        },
        {
          "output_type": "stream",
          "name": "stdout",
          "text": [
            "Test set: Average loss: 0.0051, Accuracy: 9823/10000 (98.23%)\n",
            "Round 156/200\n",
            "Selected clients - [74, 64, 69, 36, 87, 99, 53, 68, 35, 24]\n"
          ]
        },
        {
          "output_type": "stream",
          "name": "stderr",
          "text": [
            "100%|██████████| 10/10 [00:05<00:00,  1.79it/s]\n"
          ]
        },
        {
          "output_type": "stream",
          "name": "stdout",
          "text": [
            "Test set: Average loss: 0.0047, Accuracy: 9846/10000 (98.46%)\n",
            "Round 157/200\n",
            "Selected clients - [62, 53, 94, 31, 98, 45, 19, 28, 20, 17]\n"
          ]
        },
        {
          "output_type": "stream",
          "name": "stderr",
          "text": [
            "100%|██████████| 10/10 [00:05<00:00,  1.84it/s]\n"
          ]
        },
        {
          "output_type": "stream",
          "name": "stdout",
          "text": [
            "Test set: Average loss: 0.0060, Accuracy: 9784/10000 (97.84%)\n",
            "Round 158/200\n",
            "Selected clients - [78, 62, 28, 20, 2, 3, 44, 29, 40, 17]\n"
          ]
        },
        {
          "output_type": "stream",
          "name": "stderr",
          "text": [
            "100%|██████████| 10/10 [00:05<00:00,  1.91it/s]\n"
          ]
        },
        {
          "output_type": "stream",
          "name": "stdout",
          "text": [
            "Test set: Average loss: 0.0046, Accuracy: 9839/10000 (98.39%)\n",
            "Round 159/200\n",
            "Selected clients - [87, 28, 13, 7, 53, 72, 98, 42, 97, 81]\n"
          ]
        },
        {
          "output_type": "stream",
          "name": "stderr",
          "text": [
            "100%|██████████| 10/10 [00:05<00:00,  1.91it/s]\n"
          ]
        },
        {
          "output_type": "stream",
          "name": "stdout",
          "text": [
            "Test set: Average loss: 0.0052, Accuracy: 9821/10000 (98.21%)\n",
            "Round 160/200\n",
            "Selected clients - [50, 21, 86, 57, 31, 66, 25, 79, 24, 2]\n"
          ]
        },
        {
          "output_type": "stream",
          "name": "stderr",
          "text": [
            "100%|██████████| 10/10 [00:05<00:00,  1.80it/s]\n"
          ]
        },
        {
          "output_type": "stream",
          "name": "stdout",
          "text": [
            "Test set: Average loss: 0.0062, Accuracy: 9792/10000 (97.92%)\n",
            "Round 161/200\n",
            "Selected clients - [15, 64, 43, 51, 22, 75, 44, 91, 66, 63]\n"
          ]
        },
        {
          "output_type": "stream",
          "name": "stderr",
          "text": [
            "100%|██████████| 10/10 [00:05<00:00,  1.89it/s]\n"
          ]
        },
        {
          "output_type": "stream",
          "name": "stdout",
          "text": [
            "Test set: Average loss: 0.0043, Accuracy: 9849/10000 (98.49%)\n",
            "Round 162/200\n",
            "Selected clients - [66, 26, 70, 21, 29, 81, 75, 61, 4, 96]\n"
          ]
        },
        {
          "output_type": "stream",
          "name": "stderr",
          "text": [
            "100%|██████████| 10/10 [00:05<00:00,  1.91it/s]\n"
          ]
        },
        {
          "output_type": "stream",
          "name": "stdout",
          "text": [
            "Test set: Average loss: 0.0069, Accuracy: 9764/10000 (97.64%)\n",
            "Round 163/200\n",
            "Selected clients - [6, 88, 80, 26, 64, 25, 52, 63, 98, 78]\n"
          ]
        },
        {
          "output_type": "stream",
          "name": "stderr",
          "text": [
            "100%|██████████| 10/10 [00:05<00:00,  1.85it/s]\n"
          ]
        },
        {
          "output_type": "stream",
          "name": "stdout",
          "text": [
            "Test set: Average loss: 0.0057, Accuracy: 9818/10000 (98.18%)\n",
            "Round 164/200\n",
            "Selected clients - [69, 79, 58, 74, 22, 63, 36, 27, 45, 26]\n"
          ]
        },
        {
          "output_type": "stream",
          "name": "stderr",
          "text": [
            "100%|██████████| 10/10 [00:05<00:00,  1.79it/s]\n"
          ]
        },
        {
          "output_type": "stream",
          "name": "stdout",
          "text": [
            "Test set: Average loss: 0.0057, Accuracy: 9803/10000 (98.03%)\n",
            "Round 165/200\n",
            "Selected clients - [12, 94, 38, 32, 59, 62, 77, 49, 15, 10]\n"
          ]
        },
        {
          "output_type": "stream",
          "name": "stderr",
          "text": [
            "100%|██████████| 10/10 [00:05<00:00,  1.94it/s]\n"
          ]
        },
        {
          "output_type": "stream",
          "name": "stdout",
          "text": [
            "Test set: Average loss: 0.0048, Accuracy: 9829/10000 (98.29%)\n",
            "Round 166/200\n",
            "Selected clients - [2, 7, 91, 55, 9, 63, 29, 22, 54, 86]\n"
          ]
        },
        {
          "output_type": "stream",
          "name": "stderr",
          "text": [
            "100%|██████████| 10/10 [00:05<00:00,  1.92it/s]\n"
          ]
        },
        {
          "output_type": "stream",
          "name": "stdout",
          "text": [
            "Test set: Average loss: 0.0058, Accuracy: 9821/10000 (98.21%)\n",
            "Round 167/200\n",
            "Selected clients - [22, 80, 77, 52, 54, 1, 41, 4, 62, 95]\n"
          ]
        },
        {
          "output_type": "stream",
          "name": "stderr",
          "text": [
            "100%|██████████| 10/10 [00:05<00:00,  1.80it/s]\n"
          ]
        },
        {
          "output_type": "stream",
          "name": "stdout",
          "text": [
            "Test set: Average loss: 0.0040, Accuracy: 9865/10000 (98.65%)\n",
            "Round 168/200\n",
            "Selected clients - [29, 11, 42, 54, 41, 98, 94, 92, 10, 95]\n"
          ]
        },
        {
          "output_type": "stream",
          "name": "stderr",
          "text": [
            "100%|██████████| 10/10 [00:05<00:00,  1.84it/s]\n"
          ]
        },
        {
          "output_type": "stream",
          "name": "stdout",
          "text": [
            "Test set: Average loss: 0.0046, Accuracy: 9850/10000 (98.50%)\n",
            "Round 169/200\n",
            "Selected clients - [95, 14, 66, 47, 48, 23, 28, 68, 24, 25]\n"
          ]
        },
        {
          "output_type": "stream",
          "name": "stderr",
          "text": [
            "100%|██████████| 10/10 [00:05<00:00,  1.90it/s]\n"
          ]
        },
        {
          "output_type": "stream",
          "name": "stdout",
          "text": [
            "Test set: Average loss: 0.0041, Accuracy: 9855/10000 (98.55%)\n",
            "Round 170/200\n",
            "Selected clients - [32, 66, 79, 22, 71, 65, 15, 67, 44, 96]\n"
          ]
        },
        {
          "output_type": "stream",
          "name": "stderr",
          "text": [
            "100%|██████████| 10/10 [00:05<00:00,  1.90it/s]\n"
          ]
        },
        {
          "output_type": "stream",
          "name": "stdout",
          "text": [
            "Test set: Average loss: 0.0041, Accuracy: 9845/10000 (98.45%)\n",
            "Round 171/200\n",
            "Selected clients - [44, 75, 40, 11, 31, 41, 33, 74, 15, 27]\n"
          ]
        },
        {
          "output_type": "stream",
          "name": "stderr",
          "text": [
            "100%|██████████| 10/10 [00:05<00:00,  1.79it/s]\n"
          ]
        },
        {
          "output_type": "stream",
          "name": "stdout",
          "text": [
            "Test set: Average loss: 0.0049, Accuracy: 9829/10000 (98.29%)\n",
            "Round 172/200\n",
            "Selected clients - [71, 49, 52, 15, 75, 59, 86, 22, 48, 39]\n"
          ]
        },
        {
          "output_type": "stream",
          "name": "stderr",
          "text": [
            "100%|██████████| 10/10 [00:05<00:00,  1.95it/s]\n"
          ]
        },
        {
          "output_type": "stream",
          "name": "stdout",
          "text": [
            "Test set: Average loss: 0.0059, Accuracy: 9790/10000 (97.90%)\n",
            "Round 173/200\n",
            "Selected clients - [45, 24, 27, 38, 94, 6, 50, 59, 71, 56]\n"
          ]
        },
        {
          "output_type": "stream",
          "name": "stderr",
          "text": [
            "100%|██████████| 10/10 [00:05<00:00,  1.95it/s]\n"
          ]
        },
        {
          "output_type": "stream",
          "name": "stdout",
          "text": [
            "Test set: Average loss: 0.0043, Accuracy: 9851/10000 (98.51%)\n",
            "Round 174/200\n",
            "Selected clients - [41, 62, 85, 99, 92, 65, 76, 46, 31, 52]\n"
          ]
        },
        {
          "output_type": "stream",
          "name": "stderr",
          "text": [
            "100%|██████████| 10/10 [00:05<00:00,  1.83it/s]\n"
          ]
        },
        {
          "output_type": "stream",
          "name": "stdout",
          "text": [
            "Test set: Average loss: 0.0044, Accuracy: 9830/10000 (98.30%)\n",
            "Round 175/200\n",
            "Selected clients - [0, 56, 3, 63, 46, 8, 28, 30, 13, 95]\n"
          ]
        },
        {
          "output_type": "stream",
          "name": "stderr",
          "text": [
            "100%|██████████| 10/10 [00:05<00:00,  1.79it/s]\n"
          ]
        },
        {
          "output_type": "stream",
          "name": "stdout",
          "text": [
            "Test set: Average loss: 0.0043, Accuracy: 9839/10000 (98.39%)\n",
            "Round 176/200\n",
            "Selected clients - [56, 30, 6, 92, 73, 88, 64, 24, 32, 76]\n"
          ]
        },
        {
          "output_type": "stream",
          "name": "stderr",
          "text": [
            "100%|██████████| 10/10 [00:05<00:00,  1.96it/s]\n"
          ]
        },
        {
          "output_type": "stream",
          "name": "stdout",
          "text": [
            "Test set: Average loss: 0.0060, Accuracy: 9796/10000 (97.96%)\n",
            "Round 177/200\n",
            "Selected clients - [3, 7, 98, 28, 99, 14, 49, 81, 40, 80]\n"
          ]
        },
        {
          "output_type": "stream",
          "name": "stderr",
          "text": [
            "100%|██████████| 10/10 [00:05<00:00,  1.94it/s]\n"
          ]
        },
        {
          "output_type": "stream",
          "name": "stdout",
          "text": [
            "Test set: Average loss: 0.0043, Accuracy: 9834/10000 (98.34%)\n",
            "Round 178/200\n",
            "Selected clients - [27, 63, 53, 74, 24, 90, 51, 5, 54, 82]\n"
          ]
        },
        {
          "output_type": "stream",
          "name": "stderr",
          "text": [
            "100%|██████████| 10/10 [00:05<00:00,  1.80it/s]\n"
          ]
        },
        {
          "output_type": "stream",
          "name": "stdout",
          "text": [
            "Test set: Average loss: 0.0057, Accuracy: 9794/10000 (97.94%)\n",
            "Round 179/200\n",
            "Selected clients - [14, 71, 59, 82, 30, 96, 43, 93, 61, 36]\n"
          ]
        },
        {
          "output_type": "stream",
          "name": "stderr",
          "text": [
            "100%|██████████| 10/10 [00:05<00:00,  1.88it/s]\n"
          ]
        },
        {
          "output_type": "stream",
          "name": "stdout",
          "text": [
            "Test set: Average loss: 0.0072, Accuracy: 9739/10000 (97.39%)\n",
            "Round 180/200\n",
            "Selected clients - [25, 15, 8, 7, 66, 38, 56, 6, 74, 32]\n"
          ]
        },
        {
          "output_type": "stream",
          "name": "stderr",
          "text": [
            "100%|██████████| 10/10 [00:05<00:00,  1.94it/s]\n"
          ]
        },
        {
          "output_type": "stream",
          "name": "stdout",
          "text": [
            "Test set: Average loss: 0.0075, Accuracy: 9744/10000 (97.44%)\n",
            "Round 181/200\n",
            "Selected clients - [18, 10, 86, 1, 79, 33, 15, 75, 64, 57]\n"
          ]
        },
        {
          "output_type": "stream",
          "name": "stderr",
          "text": [
            "100%|██████████| 10/10 [00:05<00:00,  1.85it/s]\n"
          ]
        },
        {
          "output_type": "stream",
          "name": "stdout",
          "text": [
            "Test set: Average loss: 0.0057, Accuracy: 9810/10000 (98.10%)\n",
            "Round 182/200\n",
            "Selected clients - [74, 89, 13, 7, 42, 43, 24, 96, 39, 29]\n"
          ]
        },
        {
          "output_type": "stream",
          "name": "stderr",
          "text": [
            "100%|██████████| 10/10 [00:05<00:00,  1.78it/s]\n"
          ]
        },
        {
          "output_type": "stream",
          "name": "stdout",
          "text": [
            "Test set: Average loss: 0.0050, Accuracy: 9822/10000 (98.22%)\n",
            "Round 183/200\n",
            "Selected clients - [57, 45, 29, 40, 44, 36, 9, 91, 34, 4]\n"
          ]
        },
        {
          "output_type": "stream",
          "name": "stderr",
          "text": [
            "100%|██████████| 10/10 [00:05<00:00,  1.91it/s]\n"
          ]
        },
        {
          "output_type": "stream",
          "name": "stdout",
          "text": [
            "Test set: Average loss: 0.0039, Accuracy: 9865/10000 (98.65%)\n",
            "Round 184/200\n",
            "Selected clients - [13, 11, 95, 0, 45, 38, 28, 66, 1, 82]\n"
          ]
        },
        {
          "output_type": "stream",
          "name": "stderr",
          "text": [
            "100%|██████████| 10/10 [00:05<00:00,  1.91it/s]\n"
          ]
        },
        {
          "output_type": "stream",
          "name": "stdout",
          "text": [
            "Test set: Average loss: 0.0042, Accuracy: 9841/10000 (98.41%)\n",
            "Round 185/200\n",
            "Selected clients - [35, 0, 30, 88, 89, 41, 42, 43, 92, 79]\n"
          ]
        },
        {
          "output_type": "stream",
          "name": "stderr",
          "text": [
            "100%|██████████| 10/10 [00:05<00:00,  1.71it/s]\n"
          ]
        },
        {
          "output_type": "stream",
          "name": "stdout",
          "text": [
            "Test set: Average loss: 0.0040, Accuracy: 9851/10000 (98.51%)\n",
            "Round 186/200\n",
            "Selected clients - [14, 19, 38, 75, 62, 60, 95, 51, 22, 0]\n"
          ]
        },
        {
          "output_type": "stream",
          "name": "stderr",
          "text": [
            "100%|██████████| 10/10 [00:05<00:00,  1.71it/s]\n"
          ]
        },
        {
          "output_type": "stream",
          "name": "stdout",
          "text": [
            "Test set: Average loss: 0.0039, Accuracy: 9858/10000 (98.58%)\n",
            "Round 187/200\n",
            "Selected clients - [43, 84, 53, 70, 98, 57, 13, 60, 87, 15]\n"
          ]
        },
        {
          "output_type": "stream",
          "name": "stderr",
          "text": [
            "100%|██████████| 10/10 [00:05<00:00,  1.87it/s]\n"
          ]
        },
        {
          "output_type": "stream",
          "name": "stdout",
          "text": [
            "Test set: Average loss: 0.0038, Accuracy: 9866/10000 (98.66%)\n",
            "Round 188/200\n",
            "Selected clients - [44, 60, 75, 19, 74, 3, 70, 31, 63, 94]\n"
          ]
        },
        {
          "output_type": "stream",
          "name": "stderr",
          "text": [
            "100%|██████████| 10/10 [00:05<00:00,  1.85it/s]\n"
          ]
        },
        {
          "output_type": "stream",
          "name": "stdout",
          "text": [
            "Test set: Average loss: 0.0045, Accuracy: 9849/10000 (98.49%)\n",
            "Round 189/200\n",
            "Selected clients - [90, 28, 33, 0, 30, 9, 88, 34, 50, 44]\n"
          ]
        },
        {
          "output_type": "stream",
          "name": "stderr",
          "text": [
            "100%|██████████| 10/10 [00:05<00:00,  1.78it/s]\n"
          ]
        },
        {
          "output_type": "stream",
          "name": "stdout",
          "text": [
            "Test set: Average loss: 0.0044, Accuracy: 9855/10000 (98.55%)\n",
            "Round 190/200\n",
            "Selected clients - [61, 95, 35, 18, 73, 70, 14, 51, 94, 0]\n"
          ]
        },
        {
          "output_type": "stream",
          "name": "stderr",
          "text": [
            "100%|██████████| 10/10 [00:05<00:00,  1.76it/s]\n"
          ]
        },
        {
          "output_type": "stream",
          "name": "stdout",
          "text": [
            "Test set: Average loss: 0.0046, Accuracy: 9845/10000 (98.45%)\n",
            "Round 191/200\n",
            "Selected clients - [9, 21, 96, 42, 47, 26, 28, 60, 50, 19]\n"
          ]
        },
        {
          "output_type": "stream",
          "name": "stderr",
          "text": [
            "100%|██████████| 10/10 [00:05<00:00,  1.91it/s]\n"
          ]
        },
        {
          "output_type": "stream",
          "name": "stdout",
          "text": [
            "Test set: Average loss: 0.0057, Accuracy: 9803/10000 (98.03%)\n",
            "Round 192/200\n",
            "Selected clients - [97, 67, 70, 65, 64, 18, 98, 51, 81, 89]\n"
          ]
        },
        {
          "output_type": "stream",
          "name": "stderr",
          "text": [
            "100%|██████████| 10/10 [00:05<00:00,  1.89it/s]\n"
          ]
        },
        {
          "output_type": "stream",
          "name": "stdout",
          "text": [
            "Test set: Average loss: 0.0039, Accuracy: 9858/10000 (98.58%)\n",
            "Round 193/200\n",
            "Selected clients - [47, 38, 11, 59, 39, 54, 42, 35, 87, 29]\n"
          ]
        },
        {
          "output_type": "stream",
          "name": "stderr",
          "text": [
            "100%|██████████| 10/10 [00:05<00:00,  1.77it/s]\n"
          ]
        },
        {
          "output_type": "stream",
          "name": "stdout",
          "text": [
            "Test set: Average loss: 0.0047, Accuracy: 9841/10000 (98.41%)\n",
            "Round 194/200\n",
            "Selected clients - [71, 59, 97, 22, 38, 34, 67, 28, 3, 39]\n"
          ]
        },
        {
          "output_type": "stream",
          "name": "stderr",
          "text": [
            "100%|██████████| 10/10 [00:05<00:00,  1.75it/s]\n"
          ]
        },
        {
          "output_type": "stream",
          "name": "stdout",
          "text": [
            "Test set: Average loss: 0.0047, Accuracy: 9835/10000 (98.35%)\n",
            "Round 195/200\n",
            "Selected clients - [77, 8, 74, 19, 45, 49, 32, 94, 55, 56]\n"
          ]
        },
        {
          "output_type": "stream",
          "name": "stderr",
          "text": [
            "100%|██████████| 10/10 [00:05<00:00,  1.88it/s]\n"
          ]
        },
        {
          "output_type": "stream",
          "name": "stdout",
          "text": [
            "Test set: Average loss: 0.0040, Accuracy: 9858/10000 (98.58%)\n",
            "Round 196/200\n",
            "Selected clients - [76, 50, 5, 82, 25, 86, 26, 10, 38, 91]\n"
          ]
        },
        {
          "output_type": "stream",
          "name": "stderr",
          "text": [
            "100%|██████████| 10/10 [00:05<00:00,  1.88it/s]\n"
          ]
        },
        {
          "output_type": "stream",
          "name": "stdout",
          "text": [
            "Test set: Average loss: 0.0046, Accuracy: 9848/10000 (98.48%)\n",
            "Round 197/200\n",
            "Selected clients - [83, 64, 91, 3, 26, 98, 54, 84, 82, 40]\n"
          ]
        },
        {
          "output_type": "stream",
          "name": "stderr",
          "text": [
            "100%|██████████| 10/10 [00:05<00:00,  1.76it/s]\n"
          ]
        },
        {
          "output_type": "stream",
          "name": "stdout",
          "text": [
            "Test set: Average loss: 0.0051, Accuracy: 9837/10000 (98.37%)\n",
            "Round 198/200\n",
            "Selected clients - [69, 1, 16, 20, 2, 88, 24, 74, 15, 5]\n"
          ]
        },
        {
          "output_type": "stream",
          "name": "stderr",
          "text": [
            "100%|██████████| 10/10 [00:05<00:00,  1.77it/s]\n"
          ]
        },
        {
          "output_type": "stream",
          "name": "stdout",
          "text": [
            "Test set: Average loss: 0.0037, Accuracy: 9873/10000 (98.73%)\n",
            "Round 199/200\n",
            "Selected clients - [6, 73, 91, 61, 12, 85, 95, 58, 67, 37]\n"
          ]
        },
        {
          "output_type": "stream",
          "name": "stderr",
          "text": [
            "100%|██████████| 10/10 [00:05<00:00,  1.92it/s]\n"
          ]
        },
        {
          "output_type": "stream",
          "name": "stdout",
          "text": [
            "Test set: Average loss: 0.0039, Accuracy: 9858/10000 (98.58%)\n",
            "Round 200/200\n",
            "Selected clients - [44, 95, 50, 35, 85, 91, 39, 1, 61, 88]\n"
          ]
        },
        {
          "output_type": "stream",
          "name": "stderr",
          "text": [
            "100%|██████████| 10/10 [00:05<00:00,  1.95it/s]\n"
          ]
        },
        {
          "output_type": "stream",
          "name": "stdout",
          "text": [
            "Test set: Average loss: 0.0046, Accuracy: 9835/10000 (98.35%)\n",
            "Best round: 198, accuracy: 0.9873\n"
          ]
        }
      ],
      "source": [
        "# rounds and target accuracy\n",
        "T = 200\n",
        "target_accuracy = 0.99\n",
        "\n",
        "state_dict, accuracies, losses = await execute(server, T, target_accuracy)\n",
        "\n",
        "# save model to file\n",
        "torch.save(state_dict, \"cnn_state_dict.pth\")"
      ]
    },
    {
      "cell_type": "markdown",
      "metadata": {
        "id": "VIENpKmy65fT"
      },
      "source": [
        "## Statistics"
      ]
    },
    {
      "cell_type": "code",
      "execution_count": 46,
      "metadata": {
        "id": "Um5mHx2E65fT",
        "colab": {
          "base_uri": "https://localhost:8080/"
        },
        "outputId": "0f1a2d41-d60e-4ba9-e0ff-7f9f75a5169c"
      },
      "outputs": [
        {
          "output_type": "stream",
          "name": "stdout",
          "text": [
            "[0.1516, 0.5525, 0.4607, 0.6056, 0.6601, 0.8049, 0.755, 0.8293, 0.8418, 0.8445, 0.8554, 0.9019, 0.8647, 0.9182, 0.8997, 0.8488, 0.9327, 0.9024, 0.8983, 0.9155, 0.9296, 0.936, 0.9434, 0.8543, 0.949, 0.9196, 0.9471, 0.9428, 0.9324, 0.9609, 0.9433, 0.9347, 0.9619, 0.9613, 0.9597, 0.9643, 0.9529, 0.9329, 0.9696, 0.9668, 0.9632, 0.9709, 0.9408, 0.962, 0.9577, 0.967, 0.9723, 0.9665, 0.9641, 0.9662, 0.9674, 0.9729, 0.9691, 0.97, 0.9751, 0.9735, 0.9646, 0.9746, 0.969, 0.9778, 0.9692, 0.9774, 0.9752, 0.9756, 0.9716, 0.9763, 0.9672, 0.9772, 0.9658, 0.9729, 0.9754, 0.9717, 0.9789, 0.9626, 0.9616, 0.9758, 0.9498, 0.9781, 0.9745, 0.9764, 0.9791, 0.9756, 0.9596, 0.9684, 0.9746, 0.9735, 0.976, 0.9789, 0.9772, 0.977, 0.9753, 0.9776, 0.979, 0.9821, 0.974, 0.9797, 0.9755, 0.9826, 0.9825, 0.9755, 0.9775, 0.9727, 0.9805, 0.9757, 0.9808, 0.9736, 0.9784, 0.9742, 0.9805, 0.9802, 0.9821, 0.9794, 0.9756, 0.9763, 0.9821, 0.9817, 0.981, 0.9718, 0.9816, 0.9795, 0.9794, 0.9826, 0.982, 0.9737, 0.9794, 0.984, 0.9809, 0.9829, 0.9821, 0.9836, 0.9802, 0.9829, 0.9746, 0.9841, 0.9831, 0.9833, 0.979, 0.9848, 0.9777, 0.9825, 0.9827, 0.9836, 0.9834, 0.9812, 0.9811, 0.9824, 0.9843, 0.986, 0.9819, 0.9844, 0.9849, 0.984, 0.9857, 0.9841, 0.9823, 0.9846, 0.9784, 0.9839, 0.9821, 0.9792, 0.9849, 0.9764, 0.9818, 0.9803, 0.9829, 0.9821, 0.9865, 0.985, 0.9855, 0.9845, 0.9829, 0.979, 0.9851, 0.983, 0.9839, 0.9796, 0.9834, 0.9794, 0.9739, 0.9744, 0.981, 0.9822, 0.9865, 0.9841, 0.9851, 0.9858, 0.9866, 0.9849, 0.9855, 0.9845, 0.9803, 0.9858, 0.9841, 0.9835, 0.9858, 0.9848, 0.9837, 0.9873, 0.9858, 0.9835]\n"
          ]
        }
      ],
      "source": [
        "# manual save to shared drive for reproducible graph\n",
        "print(accuracies)"
      ]
    },
    {
      "cell_type": "code",
      "execution_count": 47,
      "metadata": {
        "id": "WfI_uBW-65fU",
        "colab": {
          "base_uri": "https://localhost:8080/"
        },
        "outputId": "bfa775b3-f082-47dc-9454-5cc56228aa13"
      },
      "outputs": [
        {
          "output_type": "stream",
          "name": "stdout",
          "text": [
            "[0.22062592012882232, 0.16347944175601006, 0.14034723190069198, 0.10256394521594048, 0.10248571194559336, 0.061028811511397364, 0.06660501605272293, 0.053236478838697074, 0.04883981870263815, 0.045115032102540135, 0.04251613995470106, 0.03183274688925594, 0.03840569945699535, 0.027651039260160177, 0.030497023344878107, 0.03979274096861481, 0.022083432796644046, 0.02842215441444423, 0.029319785982335454, 0.02582238207263872, 0.02175214298563078, 0.020054972941929008, 0.018180202180624473, 0.03826938396436162, 0.01618668723886367, 0.023142064405721613, 0.015631105480890254, 0.01809503558318829, 0.02115405530545395, 0.012776665739825693, 0.017125564140855566, 0.019495398656179896, 0.01218514607833058, 0.012668281333688355, 0.013267347717503436, 0.011225126664259006, 0.014292526977695525, 0.01913777643702924, 0.009818418527445465, 0.010547845410971786, 0.011152034470296349, 0.008884186087732088, 0.017200405738304836, 0.011097690227327985, 0.012575550295191352, 0.010421063599646004, 0.008693654736224563, 0.009892543470620876, 0.01095119664107624, 0.010478326854256738, 0.009422882886382286, 0.0077633274695646836, 0.009140170372506692, 0.008887837450187362, 0.007473170184117043, 0.008082172195361637, 0.01120551027636684, 0.007841925937599081, 0.00904562926301951, 0.006849184835217602, 0.009111711471410218, 0.0068769527328000546, 0.0073017194402442325, 0.007325072122187703, 0.008136527610921622, 0.007590504259774753, 0.00931135840091738, 0.007557478343538696, 0.01032343040923006, 0.007875139377643791, 0.007531055758256479, 0.008243339135897986, 0.006431219371728003, 0.011183179979626312, 0.011656717219938719, 0.0073396340710445655, 0.014526899424874552, 0.006496666271560389, 0.007149528137830203, 0.006517169207156257, 0.006254592040532953, 0.006561075099792652, 0.011953022461236106, 0.009314267431064581, 0.007301248144526107, 0.007631147053764744, 0.006962660645522555, 0.005818054143257359, 0.006387639106978713, 0.006306545976536108, 0.006683504864465067, 0.0059533706634232655, 0.005879760068919131, 0.005095366761859759, 0.007780897983363321, 0.0056342291352548275, 0.007206417272421458, 0.005368216917831591, 0.0049707948774933355, 0.007078719440825444, 0.006406446591582789, 0.008225425407449439, 0.0056677632528596405, 0.00729495773257222, 0.005683805968674824, 0.007258983249729317, 0.006034502974527277, 0.007455771343569359, 0.005935933792669493, 0.006165409854967357, 0.0052164749019755164, 0.006153015455091179, 0.0071187669266622264, 0.006795447903510558, 0.005291900606849959, 0.005484470641301323, 0.005583491201839843, 0.008683432543619255, 0.005119181131506048, 0.005689013551430889, 0.0057539572182718985, 0.005012561262787403, 0.005405069227616878, 0.00736930385072792, 0.00614637655804695, 0.004543452850739414, 0.005304374808330431, 0.004785002094521746, 0.005309363370842766, 0.004709873204267114, 0.005516886470647432, 0.004843372395580172, 0.007010518423250073, 0.004397469645652313, 0.004995652565782302, 0.004972876205898502, 0.005940049761370375, 0.004362404479717361, 0.006562899380761769, 0.005143768960434136, 0.005041333915057305, 0.004651606782628505, 0.004547799352497259, 0.005361041717570516, 0.005725818366709381, 0.005527584419938501, 0.004220037891541642, 0.0042129528513010425, 0.004800596621437126, 0.004120295554121139, 0.004398150694685341, 0.0050693812374983166, 0.004170388241884859, 0.004658756489460802, 0.005133311550323435, 0.004682425327035889, 0.006013198370686041, 0.004647263360862326, 0.005210583691612737, 0.006166551497049295, 0.004289957534633118, 0.006870228192785635, 0.005695304109811485, 0.005675063348744021, 0.004815782107253488, 0.0057977628884703, 0.004030195982506922, 0.004636052760849487, 0.004116397897286521, 0.004099688262383711, 0.004896035466141695, 0.005875212028265787, 0.0043113391603232, 0.004415277569375939, 0.00428255813220585, 0.005990814922608115, 0.004316386463380604, 0.0056937866740490225, 0.00723955604796277, 0.007541088510441523, 0.005718457049474966, 0.00498915402488658, 0.003898541504269542, 0.004239650611176239, 0.004029947071920287, 0.003852140915726386, 0.003833767594437427, 0.004516904105476852, 0.004401435678019743, 0.004634260558701316, 0.0057489835366713125, 0.0039119480505292814, 0.004735024648824947, 0.004748944965715873, 0.0040041533311211425, 0.004554657792385962, 0.005133565264601103, 0.0036837509911967345, 0.0038986508113367565, 0.004593718238322299]\n"
          ]
        }
      ],
      "source": [
        "# manual save to shared drive for reproducible graph\n",
        "print(losses)"
      ]
    },
    {
      "cell_type": "code",
      "execution_count": 48,
      "metadata": {
        "id": "mTQI9WGZ65fU",
        "colab": {
          "base_uri": "https://localhost:8080/",
          "height": 472
        },
        "outputId": "00d3ed96-0bb3-4391-f117-dde41a9472f2"
      },
      "outputs": [
        {
          "output_type": "display_data",
          "data": {
            "text/plain": [
              "<Figure size 640x480 with 1 Axes>"
            ],
            "image/png": "[encoded data removed]"
          },
          "metadata": {}
        }
      ],
      "source": [
        "plt.plot(accuracies)\n",
        "plt.title('Test Accuracy')\n",
        "plt.xlabel('Rounds')\n",
        "plt.ylabel('Accuracy')\n",
        "plt.ylim(0, 1)\n",
        "plt.grid(True)\n",
        "plt.show()"
      ]
    }
  ],
  "metadata": {
    "accelerator": "GPU",
    "colab": {
      "provenance": []
    },
    "gpuClass": "standard",
    "kernelspec": {
      "display_name": "python38",
      "language": "python",
      "name": "python3"
    },
    "language_info": {
      "codemirror_mode": {
        "name": "ipython",
        "version": 3
      },
      "file_extension": ".py",
      "mimetype": "text/x-python",
      "name": "python",
      "nbconvert_exporter": "python",
      "pygments_lexer": "ipython3",
      "version": "3.10.7"
    },
    "vscode": {
      "interpreter": {
        "hash": "a5e36ac6a21e329c2cec267b08e4f28884519c7e5682f29504bd17199cc3d203"
      }
    }
  },
  "nbformat": 4,
  "nbformat_minor": 0
}