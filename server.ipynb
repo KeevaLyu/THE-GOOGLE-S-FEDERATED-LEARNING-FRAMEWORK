{
  "cells": [
    {
      "attachments": {},
      "cell_type": "markdown",
      "metadata": {
        "id": "NsvvFSId2xB6"
      },
      "source": [
        "## Library"
      ]
    },
    {
      "cell_type": "code",
      "execution_count": 1,
      "metadata": {
        "id": "vDaWQfJ022KB",
        "outputId": "d0cd9446-9f8d-4ec7-e17f-001118bec9dc"
      },
      "outputs": [
        {
          "name": "stdout",
          "output_type": "stream",
          "text": [
            "mps\n"
          ]
        }
      ],
      "source": [
        "import torch\n",
        "import torch.nn as nn\n",
        "import torch.nn.functional as F\n",
        "from torchvision import datasets, transforms\n",
        "import numpy as np\n",
        "import random\n",
        "from collections import OrderedDict, ChainMap, Counter\n",
        "import asyncio\n",
        "from tqdm.asyncio import tqdm\n",
        "import socket, pickle\n",
        "import math\n",
        "import matplotlib.pyplot as plt\n",
        "\n",
        "# for reproducible results\n",
        "seed = 42\n",
        "torch.manual_seed(seed)\n",
        "np.random.seed(seed)\n",
        "\n",
        "device = torch.device('cpu')\n",
        "# gpu\n",
        "if torch.backends.mps.is_available():\n",
        "    device = torch.device('mps')\n",
        "elif torch.cuda.is_available():\n",
        "    device = torch.device('cuda:0')\n",
        "print(device)\n",
        "\n",
        "BUFF_SIZE = 4096"
      ]
    },
    {
      "attachments": {},
      "cell_type": "markdown",
      "metadata": {
        "id": "t_RCPBAVzB9L"
      },
      "source": [
        "## Data processing"
      ]
    },
    {
      "cell_type": "code",
      "execution_count": 2,
      "metadata": {
        "id": "GrvHYZ_swCAM"
      },
      "outputs": [],
      "source": [
        "transform = transforms.Compose([\n",
        "            transforms.ToTensor(),\n",
        "            transforms.Normalize((0.1307,), (0.3081,))]) # scale from [0,255] to [0,1] and make mean and std to 0.0 and 1.0 respectively\n",
        "training_dataset = datasets.MNIST('./data/mnist/', train=True, download=True, transform=transform)\n",
        "test_dataset = datasets.MNIST('./data/mnist/', train=False, download=True, transform=transform)"
      ]
    },
    {
      "cell_type": "code",
      "execution_count": 3,
      "metadata": {
        "id": "rF-4CQJaKn4n"
      },
      "outputs": [],
      "source": [
        "# sort by labels\n",
        "sorted_indices = torch.argsort(torch.Tensor(training_dataset.targets))\n",
        "sorted_training_dataset = torch.utils.data.Subset(training_dataset, sorted_indices)\n",
        "\n",
        "# partition data into shards\n",
        "def prepare_datashards(num_clients, num_shards, strict=False):\n",
        "    training_datashards = []\n",
        "\n",
        "    shards = []\n",
        "    # partition by class\n",
        "    if strict:\n",
        "        number_of_classes = len(sorted_training_dataset.dataset.classes)\n",
        "        shards_per_class = num_shards // number_of_classes\n",
        "\n",
        "        ptr = 0\n",
        "        # for each class\n",
        "        for label, size in sorted(Counter(sorted_training_dataset.dataset.targets.tolist()).items()):\n",
        "            shard_size = math.ceil(size / shards_per_class)\n",
        "\n",
        "            # for each shard\n",
        "            for i in range(shards_per_class):\n",
        "                shard = []\n",
        "                # fill shard of shard_size\n",
        "                for j in range(shard_size):\n",
        "                    shard.append(sorted_training_dataset[ptr])\n",
        "                    ptr += 1\n",
        "                    # break for next class\n",
        "                    if ptr >= len(sorted_training_dataset) or sorted_training_dataset[ptr][1] != label:\n",
        "                        break\n",
        "                shards.append(shard)\n",
        "\n",
        "    # partition by size\n",
        "    else:\n",
        "        shard_size = len(sorted_training_dataset) // num_shards\n",
        "\n",
        "        # for each shard\n",
        "        for i in range(num_shards):\n",
        "            shard = []\n",
        "            # fill shard of shard_size\n",
        "            for j in range(shard_size):\n",
        "                shard.append(sorted_training_dataset[i * shard_size + j])\n",
        "            shards.append(shard)\n",
        "    \n",
        "    # shuffled shard ids\n",
        "    random.seed(seed)\n",
        "    shard_ids = random.sample(list(range(num_shards)), num_shards)\n",
        "    print(\"Shards order - {}\".format(shard_ids))\n",
        "\n",
        "    # for each client\n",
        "    for k in range(num_clients):\n",
        "        client_shards = []\n",
        "        # number of shards per client\n",
        "        shards_per_client = num_shards // num_clients\n",
        "        for s in range(shards_per_client):\n",
        "            id = shard_ids[k * shards_per_client + s]\n",
        "            client_shards.append(shards[id])\n",
        "        training_datashards.append(client_shards)\n",
        "\n",
        "    return training_datashards"
      ]
    },
    {
      "attachments": {},
      "cell_type": "markdown",
      "metadata": {
        "id": "9D-VBrhPKn4o"
      },
      "source": [
        "## Global"
      ]
    },
    {
      "cell_type": "code",
      "execution_count": 4,
      "metadata": {
        "id": "S0Uvy9owKn4p",
        "outputId": "7c745b1e-72c0-4e17-8dbd-ffbd3b768528"
      },
      "outputs": [
        {
          "name": "stdout",
          "output_type": "stream",
          "text": [
            "Shards order - [3, 0, 8, 7, 16, 2, 11, 1, 10, 17, 12, 6, 18, 15, 13, 9, 4, 14, 5, 19]\n"
          ]
        }
      ],
      "source": [
        "# clients and shards\n",
        "num_clients = 10\n",
        "num_shards = 20\n",
        "\n",
        "# prepare training data\n",
        "training_datashards = prepare_datashards(num_clients, num_shards, strict=True)"
      ]
    },
    {
      "attachments": {},
      "cell_type": "markdown",
      "metadata": {
        "id": "e6vzuzLL1cP8"
      },
      "source": [
        "## Model"
      ]
    },
    {
      "cell_type": "code",
      "execution_count": 5,
      "metadata": {
        "id": "4KIxpXNR1dWg"
      },
      "outputs": [],
      "source": [
        "class CNN(nn.Module):\n",
        "    # https://pytorch.org/tutorials/recipes/recipes/defining_a_neural_network.html#specify-how-data-will-pass-through-your-model\n",
        "    def __init__(self):\n",
        "        super(CNN, self).__init__()\n",
        "        # 5x5 convolution layer with 32 channels\n",
        "        self.conv1 = nn.Conv2d(in_channels=1, out_channels=32, kernel_size=5, padding='same')\n",
        "        # 5x5 convolution layer with 64 channels\n",
        "        self.conv2 = nn.Conv2d(in_channels=32, out_channels=64, kernel_size=5, padding='same')\n",
        "        # fully connected layer with 512 units, in_features = channels * height * width from conv2\n",
        "        self.fc1 = nn.Linear(in_features=64*7*7, out_features=512)\n",
        "        self.fc2 = nn.Linear(in_features=512, out_features=10)\n",
        "\n",
        "    # x represents our data\n",
        "    def forward(self, x):\n",
        "        # Pass data through conv1\n",
        "        x = self.conv1(x)\n",
        "        # Use the rectified-linear activation function over x\n",
        "        x = F.relu(x)\n",
        "        # Run max pooling over x\n",
        "        x = F.max_pool2d(x, kernel_size=2)\n",
        "        \n",
        "        x = self.conv2(x)\n",
        "        x = F.relu(x)\n",
        "        x = F.max_pool2d(x, kernel_size=2)\n",
        "\n",
        "        # Flatten x with start_dim=1\n",
        "        x = torch.flatten(x, start_dim=1)\n",
        "        # Pass data through fc1\n",
        "        x = self.fc1(x)\n",
        "        x = F.relu(x)\n",
        "        x = self.fc2(x)\n",
        "\n",
        "        # Apply softmax to x\n",
        "        output = F.log_softmax(x, dim=1)\n",
        "        return output"
      ]
    },
    {
      "cell_type": "code",
      "execution_count": 6,
      "metadata": {
        "id": "UNovepVUKn4r",
        "outputId": "f21e1cd8-9c23-4e52-f381-9b7c1857081b"
      },
      "outputs": [
        {
          "name": "stdout",
          "output_type": "stream",
          "text": [
            "Total number of parameters: 1663370\n"
          ]
        }
      ],
      "source": [
        "num_params = sum(p.numel() for p in CNN().parameters())\n",
        "print(\"Total number of parameters:\", num_params)"
      ]
    },
    {
      "cell_type": "code",
      "execution_count": 7,
      "metadata": {
        "colab": {
          "base_uri": "https://localhost:8080/"
        },
        "id": "qY3Pl12PP4rP",
        "outputId": "65f342c5-38bd-4063-dcfc-708fa33d0ead"
      },
      "outputs": [
        {
          "name": "stdout",
          "output_type": "stream",
          "text": [
            "torch.Size([32, 1, 5, 5])\n",
            "torch.Size([32])\n",
            "torch.Size([64, 32, 5, 5])\n",
            "torch.Size([64])\n",
            "torch.Size([512, 3136])\n",
            "torch.Size([512])\n",
            "torch.Size([10, 512])\n",
            "torch.Size([10])\n"
          ]
        }
      ],
      "source": [
        "for p in CNN().parameters():\n",
        "    print(p.shape)"
      ]
    },
    {
      "attachments": {},
      "cell_type": "markdown",
      "metadata": {
        "id": "0ZBQBRkkKn4s"
      },
      "source": [
        "## Socket config"
      ]
    },
    {
      "cell_type": "code",
      "execution_count": 8,
      "metadata": {
        "id": "YX6YYQ4iKn4s"
      },
      "outputs": [],
      "source": [
        "# client address and port\n",
        "client_config = {\n",
        "    0: ['127.0.0.1', 60000],\n",
        "    1: ['127.0.0.1', 60001],\n",
        "    2: ['127.0.0.1', 60002],\n",
        "    3: ['127.0.0.1', 60003],\n",
        "    4: ['127.0.0.1', 60004],\n",
        "    5: ['127.0.0.1', 60005],\n",
        "    6: ['127.0.0.1', 60006],\n",
        "    7: ['127.0.0.1', 60007],\n",
        "    8: ['127.0.0.1', 60008],\n",
        "    9: ['127.0.0.1', 60009]\n",
        "}"
      ]
    },
    {
      "attachments": {},
      "cell_type": "markdown",
      "metadata": {
        "id": "RtdxFdsz1h0m"
      },
      "source": [
        "## Client\n"
      ]
    },
    {
      "cell_type": "code",
      "execution_count": 9,
      "metadata": {
        "id": "bzCVn4hfAOhX"
      },
      "outputs": [],
      "source": [
        "class Client():\n",
        "    def __init__(self, k, model, args):\n",
        "        # inititalize client\n",
        "        self.id = k\n",
        "        self.model = model\n",
        "        self.args = args\n",
        "\n",
        "        # load dataset\n",
        "        self.dataset = []\n",
        "        self._load_dataset(k)\n",
        "\n",
        "        # socket\n",
        "        self.socket = socket.socket()\n",
        "\n",
        "    # https://stackoverflow.com/questions/17667903/python-socket-receive-large-amount-of-data\n",
        "    async def _recvall(self, sock):\n",
        "        bytes = b''\n",
        "        while True:\n",
        "            part = sock.recv(BUFF_SIZE)\n",
        "            bytes += part\n",
        "            if len(part) < BUFF_SIZE:\n",
        "                # either 0 or end of bytes\n",
        "                try:\n",
        "                    data = pickle.loads(bytes)\n",
        "                except pickle.UnpicklingError:\n",
        "                    continue\n",
        "                return data\n",
        "\n",
        "    def _send_cmd(self, obj):\n",
        "        data = pickle.dumps(obj)\n",
        "        size = len(data)\n",
        "        cmd = next(iter(obj))\n",
        "        if cmd == 'model':\n",
        "            print(f\"Sending {cmd} of size {size} bytes to Client {self.id}\")\n",
        "        self.socket.sendall(data)\n",
        "        resp = self.socket.recv(64)\n",
        "        if resp != b'ack':\n",
        "            print(f\"Error: Response is {resp}\")\n",
        "        return size\n",
        "\n",
        "    def _load_dataset(self, k):\n",
        "        # load dataset\n",
        "        for shard in training_datashards[k]:\n",
        "            self.dataset += shard\n",
        "        return\n",
        "    \n",
        "    def labels(self):\n",
        "        return dict(Counter(data[1] for data in self.dataset))\n",
        "\n",
        "    def size(self):\n",
        "        return len(self.dataset)\n",
        "\n",
        "    def connect(self):\n",
        "        self.socket.connect(tuple(client_config[self.id]))\n",
        "\n",
        "    def remote_init(self):\n",
        "        self._send_cmd({'args': self.args})\n",
        "\n",
        "    def send_dataset(self):\n",
        "        self._send_cmd({'dataset': self.dataset})\n",
        "\n",
        "    def update(self):\n",
        "        self._send_cmd({'update': True})\n",
        "\n",
        "    async def get_update(self):\n",
        "        state_dict = await self._recvall(self.socket)\n",
        "        return { self.id: state_dict }\n",
        "\n",
        "    def model_sync(self, state_dict):\n",
        "        self._send_cmd({'state_dict': state_dict})\n",
        "\n",
        "    def disconnect(self):\n",
        "        self._send_cmd({'fin': True})\n",
        "        self.socket.close()"
      ]
    },
    {
      "attachments": {},
      "cell_type": "markdown",
      "metadata": {
        "id": "unKQT-qEPnKL"
      },
      "source": [
        "## Server"
      ]
    },
    {
      "cell_type": "code",
      "execution_count": 10,
      "metadata": {
        "id": "rjIkYahr1jVG"
      },
      "outputs": [],
      "source": [
        "class Server():\n",
        "    def __init__(self, args):\n",
        "        self.model = CNN().to(device)\n",
        "        # number of rounds of communication\n",
        "        self.rounds = 0\n",
        "        # client fraction C\n",
        "        self.c = args['C']\n",
        "        # client list\n",
        "        self.clients = []\n",
        "        # inititalize clients according to num_clients\n",
        "        for k in range(num_clients):\n",
        "            torch.manual_seed(seed)\n",
        "            client_model = CNN()\n",
        "            client = Client(k, client_model, args)\n",
        "            self.clients.append(client)\n",
        "\n",
        "    def _fed_avg(self, state_dicts):\n",
        "        # total number of data\n",
        "        len_total = 0\n",
        "        for k in ChainMap(*state_dicts).keys():\n",
        "            len_total += self.clients[k].size()\n",
        "\n",
        "        dict = OrderedDict()\n",
        "        # for each client's state_dict\n",
        "        for k, state_dict in ChainMap(*state_dicts).items():\n",
        "            # for each tensor param\n",
        "            for param_tensor in self.model.state_dict().keys():\n",
        "                # param = w0 * wf0 + w1 * wf1 + ... wk * wfk\n",
        "                if param_tensor in dict:\n",
        "                    dict[param_tensor] += state_dict[param_tensor] * (self.clients[k].size() / len_total)\n",
        "                else:\n",
        "                    dict[param_tensor] = state_dict[param_tensor] * (self.clients[k].size() / len_total)\n",
        "\n",
        "        return dict\n",
        "\n",
        "    def clients_info(self):\n",
        "        for i, client in enumerate(self.clients):\n",
        "            print(\"Client {} - {}\".format(i, client.labels()))\n",
        "\n",
        "    async def model_sync(self):\n",
        "        selected_clients = self.clients\n",
        "\n",
        "        # clients random selection\n",
        "        if self.c < 1.0:\n",
        "            # clients per round\n",
        "            k = max(int(self.c * num_clients), 1)\n",
        "            # client selection\n",
        "            random.seed(self.rounds)\n",
        "            selected_clients = random.sample(self.clients, k=k)\n",
        "            client_ids = []\n",
        "            for client in selected_clients:\n",
        "                client_ids.append(client.id)\n",
        "            print(\"Selected clients - {}\".format(client_ids))\n",
        "\n",
        "        # for each selected client do client update\n",
        "        for client in selected_clients:\n",
        "            client.update()\n",
        "\n",
        "        state_dicts = await tqdm.gather(*[client.get_update() for client in selected_clients])\n",
        "        \n",
        "        # update server weights\n",
        "        avg_state_dict = self._fed_avg(state_dicts)\n",
        "        self.model.load_state_dict(avg_state_dict)\n",
        "\n",
        "        # sync with all clients\n",
        "        for client in self.clients:\n",
        "            client.model_sync(avg_state_dict)\n",
        "\n",
        "        # increase rounds count\n",
        "        self.rounds += 1\n",
        "    \n",
        "    def clients_connect(self):\n",
        "        print(\"Connecting to clients\")\n",
        "        for client in tqdm(self.clients):\n",
        "            client.connect()\n",
        "        print(\"Clients connected\")\n",
        "    \n",
        "    def clients_remote_init(self):\n",
        "        for client in self.clients:\n",
        "            client.remote_init()\n",
        "\n",
        "        print(\"Distributing dataset to clients\")\n",
        "        for client in tqdm(self.clients):\n",
        "            client.send_dataset()\n",
        "        print(\"Dataset distributed\")\n",
        "    \n",
        "    def clients_disconnect(self):\n",
        "        for client in self.clients:\n",
        "            client.disconnect()"
      ]
    },
    {
      "cell_type": "code",
      "execution_count": 11,
      "metadata": {
        "id": "v-JVTN0sCHlk"
      },
      "outputs": [],
      "source": [
        "def test_model(model):\n",
        "    # https://learn.microsoft.com/en-us/windows/ai/windows-ml/tutorials/pytorch-analysis-train-model#test-the-model-on-the-test-data\n",
        "    test_loader = torch.utils.data.DataLoader(test_dataset, batch_size=10, shuffle=False)\n",
        "    loss_fn = nn.CrossEntropyLoss()\n",
        "\n",
        "    # Sets the module in evaluate mode\n",
        "    model.eval()\n",
        "    model.to(device)\n",
        "    \n",
        "    correct = 0\n",
        "    loss = 0\n",
        "    total = 0\n",
        "\n",
        "    with torch.no_grad():\n",
        "        for inputs, labels in test_loader:\n",
        "            # Every data instance is an input + label pair\n",
        "            inputs, labels = inputs.to(device), labels.to(device)\n",
        "            \n",
        "            # Make predictions for this batch\n",
        "            outputs = model(inputs)\n",
        "            _, pred = torch.max(outputs, dim=1)\n",
        "            total += labels.size(0)\n",
        "\n",
        "            # Compute the loss and accuracy\n",
        "            loss += loss_fn(outputs, labels).item()\n",
        "            correct += (pred == labels).sum().item()\n",
        "\n",
        "    loss /= total\n",
        "    accuracy = correct / total\n",
        "\n",
        "    print('Test set: Average loss: {:.4f}, Accuracy: {}/{} ({:.2f}%)'.format(\n",
        "        loss, correct, total, accuracy * 100))\n",
        "    return accuracy, loss"
      ]
    },
    {
      "cell_type": "code",
      "execution_count": 12,
      "metadata": {
        "id": "BQ7wc8Q_FAkU"
      },
      "outputs": [],
      "source": [
        "async def execute(server, T, target_accuracy, es=None, min_delta=0.0, patience=0):\n",
        "    _patience = patience\n",
        "\n",
        "    # initial values\n",
        "    best_round = 0\n",
        "    best_accuracy = 0.0\n",
        "    last_loss = None\n",
        "    state_dict, accuracies, losses = [], [], []\n",
        "\n",
        "    # clients remote inititalize\n",
        "    server.clients_connect()\n",
        "    server.clients_remote_init()\n",
        "\n",
        "    # loop until rounds\n",
        "    while server.rounds < T:\n",
        "        print(\"Round {}/{}\".format(server.rounds + 1, T))\n",
        "        \n",
        "        # model sync\n",
        "        await server.model_sync()\n",
        "        \n",
        "        # test accuracy\n",
        "        accuracy, loss = test_model(server.model)\n",
        "\n",
        "        if accuracy >= best_accuracy:\n",
        "            # save best record\n",
        "            best_accuracy = accuracy\n",
        "            best_round = server.rounds\n",
        "\n",
        "            if best_accuracy >= target_accuracy or server.rounds > T - 10:\n",
        "                # save state_dict\n",
        "                state_dict = server.model.state_dict()\n",
        "\n",
        "        # statistics\n",
        "        accuracies.append(accuracy)\n",
        "        losses.append(loss)\n",
        "\n",
        "        # early stopping\n",
        "        if es == 'loss':\n",
        "            if last_loss is None:\n",
        "                last_loss = loss\n",
        "                continue\n",
        "\n",
        "            if last_loss - loss < min_delta:\n",
        "                # break if patience equal to 0\n",
        "                if patience == 0:\n",
        "                    break\n",
        "                else:\n",
        "                    patience -= 1\n",
        "            else:\n",
        "                # reset patience and update last loss\n",
        "                patience = _patience\n",
        "                last_loss = loss\n",
        "\n",
        "        # target accuracy reached\n",
        "        if best_accuracy >= target_accuracy:\n",
        "            break\n",
        "\n",
        "    server.clients_disconnect()\n",
        "    print(\"Best round: {}, accuracy: {}\".format(best_round, best_accuracy))\n",
        "\n",
        "    return state_dict, accuracies, losses"
      ]
    },
    {
      "attachments": {},
      "cell_type": "markdown",
      "metadata": {
        "id": "zFrtIjT4Kn4v"
      },
      "source": [
        "## Execute"
      ]
    },
    {
      "cell_type": "code",
      "execution_count": 13,
      "metadata": {
        "id": "6V-c9KjWKn4v",
        "outputId": "367e1727-8130-44df-e2b3-26ff8a3deb32"
      },
      "outputs": [
        {
          "name": "stdout",
          "output_type": "stream",
          "text": [
            "Training dataset - {0: 5923, 1: 6742, 2: 5958, 3: 6131, 4: 5842, 5: 5421, 6: 5918, 7: 6265, 8: 5851, 9: 5949}\n",
            "Client 0 - {1: 3371, 0: 2962}\n",
            "Client 1 - {4: 2921, 3: 3065}\n",
            "Client 2 - {8: 2926, 1: 3371}\n",
            "Client 3 - {5: 2710, 0: 2961}\n",
            "Client 4 - {5: 2711, 8: 2925}\n",
            "Client 5 - {6: 2959, 3: 3066}\n",
            "Client 6 - {9: 2975, 7: 3132}\n",
            "Client 7 - {6: 2959, 4: 2921}\n",
            "Client 8 - {2: 2979, 7: 3133}\n",
            "Client 9 - {2: 2979, 9: 2974}\n"
          ]
        }
      ],
      "source": [
        "# model params\n",
        "args = { 'C': 1.0, 'E': 5, 'B': 10 , 'lr': 0.05 }\n",
        "\n",
        "# server\n",
        "server = Server(args)\n",
        "\n",
        "# data distribution\n",
        "print(\"Training dataset - {}\".format(dict(sorted(Counter(training_dataset.targets.tolist()).items()))))\n",
        "server.clients_info()"
      ]
    },
    {
      "cell_type": "code",
      "execution_count": 14,
      "metadata": {
        "id": "zIbNpUnWKn4v",
        "outputId": "b51d7a4c-b5b7-414a-9b9b-c16824acdd5b"
      },
      "outputs": [
        {
          "name": "stdout",
          "output_type": "stream",
          "text": [
            "Connecting to clients\n"
          ]
        },
        {
          "name": "stderr",
          "output_type": "stream",
          "text": [
            "100%|██████████| 10/10 [00:00<00:00, 5907.47it/s]\n"
          ]
        },
        {
          "name": "stdout",
          "output_type": "stream",
          "text": [
            "Clients connected\n",
            "Distributing dataset to clients\n"
          ]
        },
        {
          "name": "stderr",
          "output_type": "stream",
          "text": [
            "100%|██████████| 10/10 [00:50<00:00,  5.08s/it]\n"
          ]
        },
        {
          "name": "stdout",
          "output_type": "stream",
          "text": [
            "Dataset distributed\n",
            "Round 1/200\n"
          ]
        },
        {
          "name": "stderr",
          "output_type": "stream",
          "text": [
            "100%|██████████| 10/10 [01:07<00:00,  6.72s/it]\n"
          ]
        },
        {
          "name": "stdout",
          "output_type": "stream",
          "text": [
            "Test set: Average loss: 0.2016, Accuracy: 6911/10000 (69.11%)\n",
            "Round 2/200\n"
          ]
        },
        {
          "name": "stderr",
          "output_type": "stream",
          "text": [
            "100%|██████████| 10/10 [01:06<00:00,  6.70s/it]\n"
          ]
        },
        {
          "name": "stdout",
          "output_type": "stream",
          "text": [
            "Test set: Average loss: 0.1125, Accuracy: 8852/10000 (88.52%)\n",
            "Round 3/200\n"
          ]
        },
        {
          "name": "stderr",
          "output_type": "stream",
          "text": [
            "100%|██████████| 10/10 [01:07<00:00,  6.73s/it]\n"
          ]
        },
        {
          "name": "stdout",
          "output_type": "stream",
          "text": [
            "Test set: Average loss: 0.0707, Accuracy: 8688/10000 (86.88%)\n",
            "Round 4/200\n"
          ]
        },
        {
          "name": "stderr",
          "output_type": "stream",
          "text": [
            "100%|██████████| 10/10 [01:07<00:00,  6.78s/it]\n"
          ]
        },
        {
          "name": "stdout",
          "output_type": "stream",
          "text": [
            "Test set: Average loss: 0.0367, Accuracy: 9511/10000 (95.11%)\n",
            "Round 5/200\n"
          ]
        },
        {
          "name": "stderr",
          "output_type": "stream",
          "text": [
            "100%|██████████| 10/10 [01:07<00:00,  6.77s/it]\n"
          ]
        },
        {
          "name": "stdout",
          "output_type": "stream",
          "text": [
            "Test set: Average loss: 0.0254, Accuracy: 9527/10000 (95.27%)\n",
            "Round 6/200\n"
          ]
        },
        {
          "name": "stderr",
          "output_type": "stream",
          "text": [
            "100%|██████████| 10/10 [01:08<00:00,  6.87s/it]\n"
          ]
        },
        {
          "name": "stdout",
          "output_type": "stream",
          "text": [
            "Test set: Average loss: 0.0159, Accuracy: 9636/10000 (96.36%)\n",
            "Round 7/200\n"
          ]
        },
        {
          "name": "stderr",
          "output_type": "stream",
          "text": [
            "100%|██████████| 10/10 [01:08<00:00,  6.89s/it]\n"
          ]
        },
        {
          "name": "stdout",
          "output_type": "stream",
          "text": [
            "Test set: Average loss: 0.0140, Accuracy: 9661/10000 (96.61%)\n",
            "Round 8/200\n"
          ]
        },
        {
          "name": "stderr",
          "output_type": "stream",
          "text": [
            "100%|██████████| 10/10 [01:08<00:00,  6.90s/it]\n"
          ]
        },
        {
          "name": "stdout",
          "output_type": "stream",
          "text": [
            "Test set: Average loss: 0.0128, Accuracy: 9642/10000 (96.42%)\n",
            "Round 9/200\n"
          ]
        },
        {
          "name": "stderr",
          "output_type": "stream",
          "text": [
            "100%|██████████| 10/10 [01:08<00:00,  6.87s/it]\n"
          ]
        },
        {
          "name": "stdout",
          "output_type": "stream",
          "text": [
            "Test set: Average loss: 0.0149, Accuracy: 9612/10000 (96.12%)\n",
            "Round 10/200\n"
          ]
        },
        {
          "name": "stderr",
          "output_type": "stream",
          "text": [
            "100%|██████████| 10/10 [01:11<00:00,  7.13s/it]\n"
          ]
        },
        {
          "name": "stdout",
          "output_type": "stream",
          "text": [
            "Test set: Average loss: 0.0114, Accuracy: 9679/10000 (96.79%)\n",
            "Round 11/200\n"
          ]
        },
        {
          "name": "stderr",
          "output_type": "stream",
          "text": [
            "100%|██████████| 10/10 [01:13<00:00,  7.31s/it]\n"
          ]
        },
        {
          "name": "stdout",
          "output_type": "stream",
          "text": [
            "Test set: Average loss: 0.0088, Accuracy: 9737/10000 (97.37%)\n",
            "Round 12/200\n"
          ]
        },
        {
          "name": "stderr",
          "output_type": "stream",
          "text": [
            "100%|██████████| 10/10 [01:14<00:00,  7.48s/it]\n"
          ]
        },
        {
          "name": "stdout",
          "output_type": "stream",
          "text": [
            "Test set: Average loss: 0.0084, Accuracy: 9737/10000 (97.37%)\n",
            "Round 13/200\n"
          ]
        },
        {
          "name": "stderr",
          "output_type": "stream",
          "text": [
            "100%|██████████| 10/10 [01:15<00:00,  7.53s/it]\n"
          ]
        },
        {
          "name": "stdout",
          "output_type": "stream",
          "text": [
            "Test set: Average loss: 0.0079, Accuracy: 9749/10000 (97.49%)\n",
            "Round 14/200\n"
          ]
        },
        {
          "name": "stderr",
          "output_type": "stream",
          "text": [
            "100%|██████████| 10/10 [01:16<00:00,  7.62s/it]\n"
          ]
        },
        {
          "name": "stdout",
          "output_type": "stream",
          "text": [
            "Test set: Average loss: 0.0082, Accuracy: 9751/10000 (97.51%)\n",
            "Round 15/200\n"
          ]
        },
        {
          "name": "stderr",
          "output_type": "stream",
          "text": [
            "100%|██████████| 10/10 [01:15<00:00,  7.57s/it]\n"
          ]
        },
        {
          "name": "stdout",
          "output_type": "stream",
          "text": [
            "Test set: Average loss: 0.0068, Accuracy: 9774/10000 (97.74%)\n",
            "Round 16/200\n"
          ]
        },
        {
          "name": "stderr",
          "output_type": "stream",
          "text": [
            "100%|██████████| 10/10 [01:16<00:00,  7.63s/it]\n"
          ]
        },
        {
          "name": "stdout",
          "output_type": "stream",
          "text": [
            "Test set: Average loss: 0.0070, Accuracy: 9774/10000 (97.74%)\n",
            "Round 17/200\n"
          ]
        },
        {
          "name": "stderr",
          "output_type": "stream",
          "text": [
            "100%|██████████| 10/10 [01:16<00:00,  7.60s/it]\n"
          ]
        },
        {
          "name": "stdout",
          "output_type": "stream",
          "text": [
            "Test set: Average loss: 0.0063, Accuracy: 9788/10000 (97.88%)\n",
            "Round 18/200\n"
          ]
        },
        {
          "name": "stderr",
          "output_type": "stream",
          "text": [
            "100%|██████████| 10/10 [01:14<00:00,  7.42s/it]\n"
          ]
        },
        {
          "name": "stdout",
          "output_type": "stream",
          "text": [
            "Test set: Average loss: 0.0082, Accuracy: 9744/10000 (97.44%)\n",
            "Round 19/200\n"
          ]
        },
        {
          "name": "stderr",
          "output_type": "stream",
          "text": [
            "100%|██████████| 10/10 [01:13<00:00,  7.36s/it]\n"
          ]
        },
        {
          "name": "stdout",
          "output_type": "stream",
          "text": [
            "Test set: Average loss: 0.0059, Accuracy: 9821/10000 (98.21%)\n",
            "Round 20/200\n"
          ]
        },
        {
          "name": "stderr",
          "output_type": "stream",
          "text": [
            "100%|██████████| 10/10 [01:16<00:00,  7.61s/it]\n"
          ]
        },
        {
          "name": "stdout",
          "output_type": "stream",
          "text": [
            "Test set: Average loss: 0.0075, Accuracy: 9758/10000 (97.58%)\n",
            "Round 21/200\n"
          ]
        },
        {
          "name": "stderr",
          "output_type": "stream",
          "text": [
            "100%|██████████| 10/10 [01:18<00:00,  7.86s/it]\n"
          ]
        },
        {
          "name": "stdout",
          "output_type": "stream",
          "text": [
            "Test set: Average loss: 0.0062, Accuracy: 9805/10000 (98.05%)\n",
            "Round 22/200\n"
          ]
        },
        {
          "name": "stderr",
          "output_type": "stream",
          "text": [
            "100%|██████████| 10/10 [01:19<00:00,  7.91s/it]\n"
          ]
        },
        {
          "name": "stdout",
          "output_type": "stream",
          "text": [
            "Test set: Average loss: 0.0056, Accuracy: 9816/10000 (98.16%)\n",
            "Round 23/200\n"
          ]
        },
        {
          "name": "stderr",
          "output_type": "stream",
          "text": [
            "100%|██████████| 10/10 [01:19<00:00,  7.92s/it]\n"
          ]
        },
        {
          "name": "stdout",
          "output_type": "stream",
          "text": [
            "Test set: Average loss: 0.0054, Accuracy: 9825/10000 (98.25%)\n",
            "Round 24/200\n"
          ]
        },
        {
          "name": "stderr",
          "output_type": "stream",
          "text": [
            "100%|██████████| 10/10 [01:19<00:00,  7.94s/it]\n"
          ]
        },
        {
          "name": "stdout",
          "output_type": "stream",
          "text": [
            "Test set: Average loss: 0.0053, Accuracy: 9822/10000 (98.22%)\n",
            "Round 25/200\n"
          ]
        },
        {
          "name": "stderr",
          "output_type": "stream",
          "text": [
            "100%|██████████| 10/10 [01:19<00:00,  7.93s/it]\n"
          ]
        },
        {
          "name": "stdout",
          "output_type": "stream",
          "text": [
            "Test set: Average loss: 0.0050, Accuracy: 9834/10000 (98.34%)\n",
            "Round 26/200\n"
          ]
        },
        {
          "name": "stderr",
          "output_type": "stream",
          "text": [
            "100%|██████████| 10/10 [01:19<00:00,  7.92s/it]\n"
          ]
        },
        {
          "name": "stdout",
          "output_type": "stream",
          "text": [
            "Test set: Average loss: 0.0052, Accuracy: 9822/10000 (98.22%)\n",
            "Round 27/200\n"
          ]
        },
        {
          "name": "stderr",
          "output_type": "stream",
          "text": [
            "100%|██████████| 10/10 [01:18<00:00,  7.87s/it]\n"
          ]
        },
        {
          "name": "stdout",
          "output_type": "stream",
          "text": [
            "Test set: Average loss: 0.0063, Accuracy: 9795/10000 (97.95%)\n",
            "Round 28/200\n"
          ]
        },
        {
          "name": "stderr",
          "output_type": "stream",
          "text": [
            "100%|██████████| 10/10 [01:19<00:00,  7.94s/it]\n"
          ]
        },
        {
          "name": "stdout",
          "output_type": "stream",
          "text": [
            "Test set: Average loss: 0.0050, Accuracy: 9840/10000 (98.40%)\n",
            "Round 29/200\n"
          ]
        },
        {
          "name": "stderr",
          "output_type": "stream",
          "text": [
            "100%|██████████| 10/10 [01:19<00:00,  7.97s/it]\n"
          ]
        },
        {
          "name": "stdout",
          "output_type": "stream",
          "text": [
            "Test set: Average loss: 0.0068, Accuracy: 9770/10000 (97.70%)\n",
            "Round 30/200\n"
          ]
        },
        {
          "name": "stderr",
          "output_type": "stream",
          "text": [
            "100%|██████████| 10/10 [01:19<00:00,  7.91s/it]\n"
          ]
        },
        {
          "name": "stdout",
          "output_type": "stream",
          "text": [
            "Test set: Average loss: 0.0051, Accuracy: 9829/10000 (98.29%)\n",
            "Round 31/200\n"
          ]
        },
        {
          "name": "stderr",
          "output_type": "stream",
          "text": [
            "100%|██████████| 10/10 [01:18<00:00,  7.82s/it]\n"
          ]
        },
        {
          "name": "stdout",
          "output_type": "stream",
          "text": [
            "Test set: Average loss: 0.0049, Accuracy: 9835/10000 (98.35%)\n",
            "Round 32/200\n"
          ]
        },
        {
          "name": "stderr",
          "output_type": "stream",
          "text": [
            "100%|██████████| 10/10 [01:20<00:00,  8.03s/it]\n"
          ]
        },
        {
          "name": "stdout",
          "output_type": "stream",
          "text": [
            "Test set: Average loss: 0.0054, Accuracy: 9823/10000 (98.23%)\n",
            "Round 33/200\n"
          ]
        },
        {
          "name": "stderr",
          "output_type": "stream",
          "text": [
            "100%|██████████| 10/10 [01:19<00:00,  7.95s/it]\n"
          ]
        },
        {
          "name": "stdout",
          "output_type": "stream",
          "text": [
            "Test set: Average loss: 0.0045, Accuracy: 9844/10000 (98.44%)\n",
            "Round 34/200\n"
          ]
        },
        {
          "name": "stderr",
          "output_type": "stream",
          "text": [
            "100%|██████████| 10/10 [01:17<00:00,  7.80s/it]\n"
          ]
        },
        {
          "name": "stdout",
          "output_type": "stream",
          "text": [
            "Test set: Average loss: 0.0043, Accuracy: 9853/10000 (98.53%)\n",
            "Round 35/200\n"
          ]
        },
        {
          "name": "stderr",
          "output_type": "stream",
          "text": [
            "100%|██████████| 10/10 [01:20<00:00,  8.04s/it]\n"
          ]
        },
        {
          "name": "stdout",
          "output_type": "stream",
          "text": [
            "Test set: Average loss: 0.0046, Accuracy: 9840/10000 (98.40%)\n",
            "Round 36/200\n"
          ]
        },
        {
          "name": "stderr",
          "output_type": "stream",
          "text": [
            "100%|██████████| 10/10 [01:19<00:00,  7.92s/it]\n"
          ]
        },
        {
          "name": "stdout",
          "output_type": "stream",
          "text": [
            "Test set: Average loss: 0.0042, Accuracy: 9862/10000 (98.62%)\n",
            "Round 37/200\n"
          ]
        },
        {
          "name": "stderr",
          "output_type": "stream",
          "text": [
            "100%|██████████| 10/10 [01:19<00:00,  7.92s/it]\n"
          ]
        },
        {
          "name": "stdout",
          "output_type": "stream",
          "text": [
            "Test set: Average loss: 0.0045, Accuracy: 9857/10000 (98.57%)\n",
            "Round 38/200\n"
          ]
        },
        {
          "name": "stderr",
          "output_type": "stream",
          "text": [
            "100%|██████████| 10/10 [01:18<00:00,  7.88s/it]\n"
          ]
        },
        {
          "name": "stdout",
          "output_type": "stream",
          "text": [
            "Test set: Average loss: 0.0046, Accuracy: 9835/10000 (98.35%)\n",
            "Round 39/200\n"
          ]
        },
        {
          "name": "stderr",
          "output_type": "stream",
          "text": [
            "100%|██████████| 10/10 [01:20<00:00,  8.04s/it]\n"
          ]
        },
        {
          "name": "stdout",
          "output_type": "stream",
          "text": [
            "Test set: Average loss: 0.0050, Accuracy: 9840/10000 (98.40%)\n",
            "Round 40/200\n"
          ]
        },
        {
          "name": "stderr",
          "output_type": "stream",
          "text": [
            "100%|██████████| 10/10 [01:19<00:00,  7.94s/it]\n"
          ]
        },
        {
          "name": "stdout",
          "output_type": "stream",
          "text": [
            "Test set: Average loss: 0.0042, Accuracy: 9865/10000 (98.65%)\n",
            "Round 41/200\n"
          ]
        },
        {
          "name": "stderr",
          "output_type": "stream",
          "text": [
            "100%|██████████| 10/10 [01:19<00:00,  7.99s/it]\n"
          ]
        },
        {
          "name": "stdout",
          "output_type": "stream",
          "text": [
            "Test set: Average loss: 0.0044, Accuracy: 9869/10000 (98.69%)\n",
            "Round 42/200\n"
          ]
        },
        {
          "name": "stderr",
          "output_type": "stream",
          "text": [
            "100%|██████████| 10/10 [01:19<00:00,  7.96s/it]\n"
          ]
        },
        {
          "name": "stdout",
          "output_type": "stream",
          "text": [
            "Test set: Average loss: 0.0068, Accuracy: 9768/10000 (97.68%)\n",
            "Round 43/200\n"
          ]
        },
        {
          "name": "stderr",
          "output_type": "stream",
          "text": [
            "100%|██████████| 10/10 [01:19<00:00,  7.98s/it]\n"
          ]
        },
        {
          "name": "stdout",
          "output_type": "stream",
          "text": [
            "Test set: Average loss: 0.0047, Accuracy: 9853/10000 (98.53%)\n",
            "Round 44/200\n"
          ]
        },
        {
          "name": "stderr",
          "output_type": "stream",
          "text": [
            "100%|██████████| 10/10 [01:19<00:00,  7.95s/it]\n"
          ]
        },
        {
          "name": "stdout",
          "output_type": "stream",
          "text": [
            "Test set: Average loss: 0.0044, Accuracy: 9858/10000 (98.58%)\n",
            "Round 45/200\n"
          ]
        },
        {
          "name": "stderr",
          "output_type": "stream",
          "text": [
            "100%|██████████| 10/10 [01:19<00:00,  7.98s/it]\n"
          ]
        },
        {
          "name": "stdout",
          "output_type": "stream",
          "text": [
            "Test set: Average loss: 0.0055, Accuracy: 9809/10000 (98.09%)\n",
            "Round 46/200\n"
          ]
        },
        {
          "name": "stderr",
          "output_type": "stream",
          "text": [
            "100%|██████████| 10/10 [01:19<00:00,  7.98s/it]\n"
          ]
        },
        {
          "name": "stdout",
          "output_type": "stream",
          "text": [
            "Test set: Average loss: 0.0041, Accuracy: 9863/10000 (98.63%)\n",
            "Round 47/200\n"
          ]
        },
        {
          "name": "stderr",
          "output_type": "stream",
          "text": [
            "100%|██████████| 10/10 [01:18<00:00,  7.90s/it]\n"
          ]
        },
        {
          "name": "stdout",
          "output_type": "stream",
          "text": [
            "Test set: Average loss: 0.0043, Accuracy: 9861/10000 (98.61%)\n",
            "Round 48/200\n"
          ]
        },
        {
          "name": "stderr",
          "output_type": "stream",
          "text": [
            "100%|██████████| 10/10 [01:19<00:00,  7.94s/it]\n"
          ]
        },
        {
          "name": "stdout",
          "output_type": "stream",
          "text": [
            "Test set: Average loss: 0.0039, Accuracy: 9868/10000 (98.68%)\n",
            "Round 49/200\n"
          ]
        },
        {
          "name": "stderr",
          "output_type": "stream",
          "text": [
            "100%|██████████| 10/10 [01:18<00:00,  7.82s/it]\n"
          ]
        },
        {
          "name": "stdout",
          "output_type": "stream",
          "text": [
            "Test set: Average loss: 0.0041, Accuracy: 9871/10000 (98.71%)\n",
            "Round 50/200\n"
          ]
        },
        {
          "name": "stderr",
          "output_type": "stream",
          "text": [
            "100%|██████████| 10/10 [01:19<00:00,  7.93s/it]\n"
          ]
        },
        {
          "name": "stdout",
          "output_type": "stream",
          "text": [
            "Test set: Average loss: 0.0045, Accuracy: 9851/10000 (98.51%)\n",
            "Round 51/200\n"
          ]
        },
        {
          "name": "stderr",
          "output_type": "stream",
          "text": [
            "100%|██████████| 10/10 [01:19<00:00,  7.90s/it]\n"
          ]
        },
        {
          "name": "stdout",
          "output_type": "stream",
          "text": [
            "Test set: Average loss: 0.0041, Accuracy: 9868/10000 (98.68%)\n",
            "Round 52/200\n"
          ]
        },
        {
          "name": "stderr",
          "output_type": "stream",
          "text": [
            "100%|██████████| 10/10 [01:18<00:00,  7.80s/it]\n"
          ]
        },
        {
          "name": "stdout",
          "output_type": "stream",
          "text": [
            "Test set: Average loss: 0.0040, Accuracy: 9865/10000 (98.65%)\n",
            "Round 53/200\n"
          ]
        },
        {
          "name": "stderr",
          "output_type": "stream",
          "text": [
            "100%|██████████| 10/10 [01:18<00:00,  7.83s/it]\n"
          ]
        },
        {
          "name": "stdout",
          "output_type": "stream",
          "text": [
            "Test set: Average loss: 0.0042, Accuracy: 9858/10000 (98.58%)\n",
            "Round 54/200\n"
          ]
        },
        {
          "name": "stderr",
          "output_type": "stream",
          "text": [
            "100%|██████████| 10/10 [01:16<00:00,  7.68s/it]\n"
          ]
        },
        {
          "name": "stdout",
          "output_type": "stream",
          "text": [
            "Test set: Average loss: 0.0038, Accuracy: 9873/10000 (98.73%)\n",
            "Round 55/200\n"
          ]
        },
        {
          "name": "stderr",
          "output_type": "stream",
          "text": [
            "100%|██████████| 10/10 [01:17<00:00,  7.80s/it]\n"
          ]
        },
        {
          "name": "stdout",
          "output_type": "stream",
          "text": [
            "Test set: Average loss: 0.0054, Accuracy: 9810/10000 (98.10%)\n",
            "Round 56/200\n"
          ]
        },
        {
          "name": "stderr",
          "output_type": "stream",
          "text": [
            "100%|██████████| 10/10 [01:17<00:00,  7.71s/it]\n"
          ]
        },
        {
          "name": "stdout",
          "output_type": "stream",
          "text": [
            "Test set: Average loss: 0.0040, Accuracy: 9863/10000 (98.63%)\n",
            "Round 57/200\n"
          ]
        },
        {
          "name": "stderr",
          "output_type": "stream",
          "text": [
            "100%|██████████| 10/10 [01:16<00:00,  7.64s/it]\n"
          ]
        },
        {
          "name": "stdout",
          "output_type": "stream",
          "text": [
            "Test set: Average loss: 0.0041, Accuracy: 9870/10000 (98.70%)\n",
            "Round 58/200\n"
          ]
        },
        {
          "name": "stderr",
          "output_type": "stream",
          "text": [
            "100%|██████████| 10/10 [01:16<00:00,  7.69s/it]\n"
          ]
        },
        {
          "name": "stdout",
          "output_type": "stream",
          "text": [
            "Test set: Average loss: 0.0044, Accuracy: 9854/10000 (98.54%)\n",
            "Round 59/200\n"
          ]
        },
        {
          "name": "stderr",
          "output_type": "stream",
          "text": [
            "100%|██████████| 10/10 [01:16<00:00,  7.66s/it]\n"
          ]
        },
        {
          "name": "stdout",
          "output_type": "stream",
          "text": [
            "Test set: Average loss: 0.0042, Accuracy: 9863/10000 (98.63%)\n",
            "Round 60/200\n"
          ]
        },
        {
          "name": "stderr",
          "output_type": "stream",
          "text": [
            "100%|██████████| 10/10 [01:16<00:00,  7.67s/it]\n"
          ]
        },
        {
          "name": "stdout",
          "output_type": "stream",
          "text": [
            "Test set: Average loss: 0.0049, Accuracy: 9825/10000 (98.25%)\n",
            "Round 61/200\n"
          ]
        },
        {
          "name": "stderr",
          "output_type": "stream",
          "text": [
            "100%|██████████| 10/10 [01:16<00:00,  7.64s/it]\n"
          ]
        },
        {
          "name": "stdout",
          "output_type": "stream",
          "text": [
            "Test set: Average loss: 0.0037, Accuracy: 9874/10000 (98.74%)\n",
            "Round 62/200\n"
          ]
        },
        {
          "name": "stderr",
          "output_type": "stream",
          "text": [
            "100%|██████████| 10/10 [01:14<00:00,  7.50s/it]\n"
          ]
        },
        {
          "name": "stdout",
          "output_type": "stream",
          "text": [
            "Test set: Average loss: 0.0041, Accuracy: 9867/10000 (98.67%)\n",
            "Round 63/200\n"
          ]
        },
        {
          "name": "stderr",
          "output_type": "stream",
          "text": [
            "100%|██████████| 10/10 [01:15<00:00,  7.55s/it]\n"
          ]
        },
        {
          "name": "stdout",
          "output_type": "stream",
          "text": [
            "Test set: Average loss: 0.0055, Accuracy: 9803/10000 (98.03%)\n",
            "Round 64/200\n"
          ]
        },
        {
          "name": "stderr",
          "output_type": "stream",
          "text": [
            "100%|██████████| 10/10 [01:14<00:00,  7.47s/it]\n"
          ]
        },
        {
          "name": "stdout",
          "output_type": "stream",
          "text": [
            "Test set: Average loss: 0.0039, Accuracy: 9864/10000 (98.64%)\n",
            "Round 65/200\n"
          ]
        },
        {
          "name": "stderr",
          "output_type": "stream",
          "text": [
            "100%|██████████| 10/10 [01:14<00:00,  7.43s/it]\n"
          ]
        },
        {
          "name": "stdout",
          "output_type": "stream",
          "text": [
            "Test set: Average loss: 0.0037, Accuracy: 9882/10000 (98.82%)\n",
            "Round 66/200\n"
          ]
        },
        {
          "name": "stderr",
          "output_type": "stream",
          "text": [
            "100%|██████████| 10/10 [01:13<00:00,  7.40s/it]\n"
          ]
        },
        {
          "name": "stdout",
          "output_type": "stream",
          "text": [
            "Test set: Average loss: 0.0042, Accuracy: 9863/10000 (98.63%)\n",
            "Round 67/200\n"
          ]
        },
        {
          "name": "stderr",
          "output_type": "stream",
          "text": [
            "100%|██████████| 10/10 [01:12<00:00,  7.26s/it]\n"
          ]
        },
        {
          "name": "stdout",
          "output_type": "stream",
          "text": [
            "Test set: Average loss: 0.0045, Accuracy: 9848/10000 (98.48%)\n",
            "Round 68/200\n"
          ]
        },
        {
          "name": "stderr",
          "output_type": "stream",
          "text": [
            "100%|██████████| 10/10 [01:13<00:00,  7.32s/it]\n"
          ]
        },
        {
          "name": "stdout",
          "output_type": "stream",
          "text": [
            "Test set: Average loss: 0.0038, Accuracy: 9871/10000 (98.71%)\n",
            "Round 69/200\n"
          ]
        },
        {
          "name": "stderr",
          "output_type": "stream",
          "text": [
            "100%|██████████| 10/10 [01:11<00:00,  7.18s/it]\n"
          ]
        },
        {
          "name": "stdout",
          "output_type": "stream",
          "text": [
            "Test set: Average loss: 0.0039, Accuracy: 9878/10000 (98.78%)\n",
            "Round 70/200\n"
          ]
        },
        {
          "name": "stderr",
          "output_type": "stream",
          "text": [
            "100%|██████████| 10/10 [01:11<00:00,  7.17s/it]\n"
          ]
        },
        {
          "name": "stdout",
          "output_type": "stream",
          "text": [
            "Test set: Average loss: 0.0036, Accuracy: 9876/10000 (98.76%)\n",
            "Round 71/200\n"
          ]
        },
        {
          "name": "stderr",
          "output_type": "stream",
          "text": [
            "100%|██████████| 10/10 [01:12<00:00,  7.21s/it]\n"
          ]
        },
        {
          "name": "stdout",
          "output_type": "stream",
          "text": [
            "Test set: Average loss: 0.0035, Accuracy: 9882/10000 (98.82%)\n",
            "Round 72/200\n"
          ]
        },
        {
          "name": "stderr",
          "output_type": "stream",
          "text": [
            "100%|██████████| 10/10 [01:10<00:00,  7.09s/it]\n"
          ]
        },
        {
          "name": "stdout",
          "output_type": "stream",
          "text": [
            "Test set: Average loss: 0.0040, Accuracy: 9875/10000 (98.75%)\n",
            "Round 73/200\n"
          ]
        },
        {
          "name": "stderr",
          "output_type": "stream",
          "text": [
            "100%|██████████| 10/10 [01:14<00:00,  7.40s/it]\n"
          ]
        },
        {
          "name": "stdout",
          "output_type": "stream",
          "text": [
            "Test set: Average loss: 0.0040, Accuracy: 9868/10000 (98.68%)\n",
            "Round 74/200\n"
          ]
        },
        {
          "name": "stderr",
          "output_type": "stream",
          "text": [
            "100%|██████████| 10/10 [01:13<00:00,  7.36s/it]\n"
          ]
        },
        {
          "name": "stdout",
          "output_type": "stream",
          "text": [
            "Test set: Average loss: 0.0044, Accuracy: 9845/10000 (98.45%)\n",
            "Round 75/200\n"
          ]
        },
        {
          "name": "stderr",
          "output_type": "stream",
          "text": [
            "100%|██████████| 10/10 [01:13<00:00,  7.35s/it]\n"
          ]
        },
        {
          "name": "stdout",
          "output_type": "stream",
          "text": [
            "Test set: Average loss: 0.0036, Accuracy: 9887/10000 (98.87%)\n",
            "Round 76/200\n"
          ]
        },
        {
          "name": "stderr",
          "output_type": "stream",
          "text": [
            "100%|██████████| 10/10 [01:13<00:00,  7.35s/it]\n"
          ]
        },
        {
          "name": "stdout",
          "output_type": "stream",
          "text": [
            "Test set: Average loss: 0.0046, Accuracy: 9854/10000 (98.54%)\n",
            "Round 77/200\n"
          ]
        },
        {
          "name": "stderr",
          "output_type": "stream",
          "text": [
            "100%|██████████| 10/10 [01:17<00:00,  7.76s/it]\n"
          ]
        },
        {
          "name": "stdout",
          "output_type": "stream",
          "text": [
            "Test set: Average loss: 0.0035, Accuracy: 9881/10000 (98.81%)\n",
            "Round 78/200\n"
          ]
        },
        {
          "name": "stderr",
          "output_type": "stream",
          "text": [
            "100%|██████████| 10/10 [01:15<00:00,  7.57s/it]\n"
          ]
        },
        {
          "name": "stdout",
          "output_type": "stream",
          "text": [
            "Test set: Average loss: 0.0042, Accuracy: 9858/10000 (98.58%)\n",
            "Round 79/200\n"
          ]
        },
        {
          "name": "stderr",
          "output_type": "stream",
          "text": [
            "100%|██████████| 10/10 [01:16<00:00,  7.60s/it]\n"
          ]
        },
        {
          "name": "stdout",
          "output_type": "stream",
          "text": [
            "Test set: Average loss: 0.0080, Accuracy: 9732/10000 (97.32%)\n",
            "Round 80/200\n"
          ]
        },
        {
          "name": "stderr",
          "output_type": "stream",
          "text": [
            "100%|██████████| 10/10 [01:15<00:00,  7.58s/it]\n"
          ]
        },
        {
          "name": "stdout",
          "output_type": "stream",
          "text": [
            "Test set: Average loss: 0.0036, Accuracy: 9885/10000 (98.85%)\n",
            "Round 81/200\n"
          ]
        },
        {
          "name": "stderr",
          "output_type": "stream",
          "text": [
            "100%|██████████| 10/10 [01:14<00:00,  7.47s/it]\n"
          ]
        },
        {
          "name": "stdout",
          "output_type": "stream",
          "text": [
            "Test set: Average loss: 0.0035, Accuracy: 9884/10000 (98.84%)\n",
            "Round 82/200\n"
          ]
        },
        {
          "name": "stderr",
          "output_type": "stream",
          "text": [
            "100%|██████████| 10/10 [01:14<00:00,  7.50s/it]\n"
          ]
        },
        {
          "name": "stdout",
          "output_type": "stream",
          "text": [
            "Test set: Average loss: 0.0037, Accuracy: 9884/10000 (98.84%)\n",
            "Round 83/200\n"
          ]
        },
        {
          "name": "stderr",
          "output_type": "stream",
          "text": [
            "100%|██████████| 10/10 [01:13<00:00,  7.31s/it]\n"
          ]
        },
        {
          "name": "stdout",
          "output_type": "stream",
          "text": [
            "Test set: Average loss: 0.0035, Accuracy: 9882/10000 (98.82%)\n",
            "Round 84/200\n"
          ]
        },
        {
          "name": "stderr",
          "output_type": "stream",
          "text": [
            "100%|██████████| 10/10 [01:15<00:00,  7.52s/it]\n"
          ]
        },
        {
          "name": "stdout",
          "output_type": "stream",
          "text": [
            "Test set: Average loss: 0.0043, Accuracy: 9855/10000 (98.55%)\n",
            "Round 85/200\n"
          ]
        },
        {
          "name": "stderr",
          "output_type": "stream",
          "text": [
            "100%|██████████| 10/10 [01:14<00:00,  7.43s/it]\n"
          ]
        },
        {
          "name": "stdout",
          "output_type": "stream",
          "text": [
            "Test set: Average loss: 0.0042, Accuracy: 9861/10000 (98.61%)\n",
            "Round 86/200\n"
          ]
        },
        {
          "name": "stderr",
          "output_type": "stream",
          "text": [
            "100%|██████████| 10/10 [01:15<00:00,  7.55s/it]\n"
          ]
        },
        {
          "name": "stdout",
          "output_type": "stream",
          "text": [
            "Test set: Average loss: 0.0036, Accuracy: 9877/10000 (98.77%)\n",
            "Round 87/200\n"
          ]
        },
        {
          "name": "stderr",
          "output_type": "stream",
          "text": [
            "100%|██████████| 10/10 [01:14<00:00,  7.46s/it]\n"
          ]
        },
        {
          "name": "stdout",
          "output_type": "stream",
          "text": [
            "Test set: Average loss: 0.0036, Accuracy: 9881/10000 (98.81%)\n",
            "Round 88/200\n"
          ]
        },
        {
          "name": "stderr",
          "output_type": "stream",
          "text": [
            "100%|██████████| 10/10 [01:12<00:00,  7.29s/it]\n"
          ]
        },
        {
          "name": "stdout",
          "output_type": "stream",
          "text": [
            "Test set: Average loss: 0.0038, Accuracy: 9873/10000 (98.73%)\n",
            "Round 89/200\n"
          ]
        },
        {
          "name": "stderr",
          "output_type": "stream",
          "text": [
            "100%|██████████| 10/10 [01:15<00:00,  7.55s/it]\n"
          ]
        },
        {
          "name": "stdout",
          "output_type": "stream",
          "text": [
            "Test set: Average loss: 0.0043, Accuracy: 9856/10000 (98.56%)\n",
            "Round 90/200\n"
          ]
        },
        {
          "name": "stderr",
          "output_type": "stream",
          "text": [
            "100%|██████████| 10/10 [01:15<00:00,  7.55s/it]\n"
          ]
        },
        {
          "name": "stdout",
          "output_type": "stream",
          "text": [
            "Test set: Average loss: 0.0038, Accuracy: 9878/10000 (98.78%)\n",
            "Round 91/200\n"
          ]
        },
        {
          "name": "stderr",
          "output_type": "stream",
          "text": [
            "100%|██████████| 10/10 [01:15<00:00,  7.51s/it]\n"
          ]
        },
        {
          "name": "stdout",
          "output_type": "stream",
          "text": [
            "Test set: Average loss: 0.0033, Accuracy: 9894/10000 (98.94%)\n",
            "Round 92/200\n"
          ]
        },
        {
          "name": "stderr",
          "output_type": "stream",
          "text": [
            "100%|██████████| 10/10 [01:14<00:00,  7.46s/it]\n"
          ]
        },
        {
          "name": "stdout",
          "output_type": "stream",
          "text": [
            "Test set: Average loss: 0.0040, Accuracy: 9854/10000 (98.54%)\n",
            "Round 93/200\n"
          ]
        },
        {
          "name": "stderr",
          "output_type": "stream",
          "text": [
            "100%|██████████| 10/10 [01:15<00:00,  7.59s/it]\n"
          ]
        },
        {
          "name": "stdout",
          "output_type": "stream",
          "text": [
            "Test set: Average loss: 0.0036, Accuracy: 9878/10000 (98.78%)\n",
            "Round 94/200\n"
          ]
        },
        {
          "name": "stderr",
          "output_type": "stream",
          "text": [
            "100%|██████████| 10/10 [01:15<00:00,  7.50s/it]\n"
          ]
        },
        {
          "name": "stdout",
          "output_type": "stream",
          "text": [
            "Test set: Average loss: 0.0050, Accuracy: 9836/10000 (98.36%)\n",
            "Round 95/200\n"
          ]
        },
        {
          "name": "stderr",
          "output_type": "stream",
          "text": [
            "100%|██████████| 10/10 [01:13<00:00,  7.34s/it]\n"
          ]
        },
        {
          "name": "stdout",
          "output_type": "stream",
          "text": [
            "Test set: Average loss: 0.0034, Accuracy: 9888/10000 (98.88%)\n",
            "Round 96/200\n"
          ]
        },
        {
          "name": "stderr",
          "output_type": "stream",
          "text": [
            "100%|██████████| 10/10 [01:16<00:00,  7.63s/it]\n"
          ]
        },
        {
          "name": "stdout",
          "output_type": "stream",
          "text": [
            "Test set: Average loss: 0.0039, Accuracy: 9862/10000 (98.62%)\n",
            "Round 97/200\n"
          ]
        },
        {
          "name": "stderr",
          "output_type": "stream",
          "text": [
            "100%|██████████| 10/10 [01:15<00:00,  7.54s/it]\n"
          ]
        },
        {
          "name": "stdout",
          "output_type": "stream",
          "text": [
            "Test set: Average loss: 0.0043, Accuracy: 9873/10000 (98.73%)\n",
            "Round 98/200\n"
          ]
        },
        {
          "name": "stderr",
          "output_type": "stream",
          "text": [
            "100%|██████████| 10/10 [01:13<00:00,  7.38s/it]\n"
          ]
        },
        {
          "name": "stdout",
          "output_type": "stream",
          "text": [
            "Test set: Average loss: 0.0045, Accuracy: 9851/10000 (98.51%)\n",
            "Round 99/200\n"
          ]
        },
        {
          "name": "stderr",
          "output_type": "stream",
          "text": [
            "100%|██████████| 10/10 [01:15<00:00,  7.51s/it]\n"
          ]
        },
        {
          "name": "stdout",
          "output_type": "stream",
          "text": [
            "Test set: Average loss: 0.0042, Accuracy: 9863/10000 (98.63%)\n",
            "Round 100/200\n"
          ]
        },
        {
          "name": "stderr",
          "output_type": "stream",
          "text": [
            "100%|██████████| 10/10 [01:14<00:00,  7.47s/it]\n"
          ]
        },
        {
          "name": "stdout",
          "output_type": "stream",
          "text": [
            "Test set: Average loss: 0.0032, Accuracy: 9890/10000 (98.90%)\n",
            "Round 101/200\n"
          ]
        },
        {
          "name": "stderr",
          "output_type": "stream",
          "text": [
            "100%|██████████| 10/10 [01:14<00:00,  7.44s/it]\n"
          ]
        },
        {
          "name": "stdout",
          "output_type": "stream",
          "text": [
            "Test set: Average loss: 0.0036, Accuracy: 9880/10000 (98.80%)\n",
            "Round 102/200\n"
          ]
        },
        {
          "name": "stderr",
          "output_type": "stream",
          "text": [
            "100%|██████████| 10/10 [01:15<00:00,  7.55s/it]\n"
          ]
        },
        {
          "name": "stdout",
          "output_type": "stream",
          "text": [
            "Test set: Average loss: 0.0066, Accuracy: 9778/10000 (97.78%)\n",
            "Round 103/200\n"
          ]
        },
        {
          "name": "stderr",
          "output_type": "stream",
          "text": [
            "100%|██████████| 10/10 [01:14<00:00,  7.45s/it]\n"
          ]
        },
        {
          "name": "stdout",
          "output_type": "stream",
          "text": [
            "Test set: Average loss: 0.0053, Accuracy: 9821/10000 (98.21%)\n",
            "Round 104/200\n"
          ]
        },
        {
          "name": "stderr",
          "output_type": "stream",
          "text": [
            "100%|██████████| 10/10 [01:15<00:00,  7.51s/it]\n"
          ]
        },
        {
          "name": "stdout",
          "output_type": "stream",
          "text": [
            "Test set: Average loss: 0.0040, Accuracy: 9863/10000 (98.63%)\n",
            "Round 105/200\n"
          ]
        },
        {
          "name": "stderr",
          "output_type": "stream",
          "text": [
            "100%|██████████| 10/10 [01:14<00:00,  7.45s/it]\n"
          ]
        },
        {
          "name": "stdout",
          "output_type": "stream",
          "text": [
            "Test set: Average loss: 0.0034, Accuracy: 9888/10000 (98.88%)\n",
            "Round 106/200\n"
          ]
        },
        {
          "name": "stderr",
          "output_type": "stream",
          "text": [
            "100%|██████████| 10/10 [01:15<00:00,  7.55s/it]\n"
          ]
        },
        {
          "name": "stdout",
          "output_type": "stream",
          "text": [
            "Test set: Average loss: 0.0032, Accuracy: 9895/10000 (98.95%)\n",
            "Round 107/200\n"
          ]
        },
        {
          "name": "stderr",
          "output_type": "stream",
          "text": [
            "100%|██████████| 10/10 [01:15<00:00,  7.52s/it]\n"
          ]
        },
        {
          "name": "stdout",
          "output_type": "stream",
          "text": [
            "Test set: Average loss: 0.0034, Accuracy: 9885/10000 (98.85%)\n",
            "Round 108/200\n"
          ]
        },
        {
          "name": "stderr",
          "output_type": "stream",
          "text": [
            "100%|██████████| 10/10 [01:15<00:00,  7.54s/it]\n"
          ]
        },
        {
          "name": "stdout",
          "output_type": "stream",
          "text": [
            "Test set: Average loss: 0.0051, Accuracy: 9832/10000 (98.32%)\n",
            "Round 109/200\n"
          ]
        },
        {
          "name": "stderr",
          "output_type": "stream",
          "text": [
            "100%|██████████| 10/10 [01:15<00:00,  7.53s/it]\n"
          ]
        },
        {
          "name": "stdout",
          "output_type": "stream",
          "text": [
            "Test set: Average loss: 0.0044, Accuracy: 9856/10000 (98.56%)\n",
            "Round 110/200\n"
          ]
        },
        {
          "name": "stderr",
          "output_type": "stream",
          "text": [
            "100%|██████████| 10/10 [01:13<00:00,  7.36s/it]\n"
          ]
        },
        {
          "name": "stdout",
          "output_type": "stream",
          "text": [
            "Test set: Average loss: 0.0037, Accuracy: 9882/10000 (98.82%)\n",
            "Round 111/200\n"
          ]
        },
        {
          "name": "stderr",
          "output_type": "stream",
          "text": [
            "100%|██████████| 10/10 [01:13<00:00,  7.35s/it]\n"
          ]
        },
        {
          "name": "stdout",
          "output_type": "stream",
          "text": [
            "Test set: Average loss: 0.0032, Accuracy: 9893/10000 (98.93%)\n",
            "Round 112/200\n"
          ]
        },
        {
          "name": "stderr",
          "output_type": "stream",
          "text": [
            "100%|██████████| 10/10 [01:15<00:00,  7.56s/it]\n"
          ]
        },
        {
          "name": "stdout",
          "output_type": "stream",
          "text": [
            "Test set: Average loss: 0.0044, Accuracy: 9843/10000 (98.43%)\n",
            "Round 113/200\n"
          ]
        },
        {
          "name": "stderr",
          "output_type": "stream",
          "text": [
            "100%|██████████| 10/10 [01:14<00:00,  7.49s/it]\n"
          ]
        },
        {
          "name": "stdout",
          "output_type": "stream",
          "text": [
            "Test set: Average loss: 0.0064, Accuracy: 9796/10000 (97.96%)\n",
            "Round 114/200\n"
          ]
        },
        {
          "name": "stderr",
          "output_type": "stream",
          "text": [
            "100%|██████████| 10/10 [01:15<00:00,  7.57s/it]\n"
          ]
        },
        {
          "name": "stdout",
          "output_type": "stream",
          "text": [
            "Test set: Average loss: 0.0040, Accuracy: 9865/10000 (98.65%)\n",
            "Round 115/200\n"
          ]
        },
        {
          "name": "stderr",
          "output_type": "stream",
          "text": [
            "100%|██████████| 10/10 [01:14<00:00,  7.46s/it]\n"
          ]
        },
        {
          "name": "stdout",
          "output_type": "stream",
          "text": [
            "Test set: Average loss: 0.0037, Accuracy: 9876/10000 (98.76%)\n",
            "Round 116/200\n"
          ]
        },
        {
          "name": "stderr",
          "output_type": "stream",
          "text": [
            "100%|██████████| 10/10 [01:14<00:00,  7.50s/it]\n"
          ]
        },
        {
          "name": "stdout",
          "output_type": "stream",
          "text": [
            "Test set: Average loss: 0.0034, Accuracy: 9883/10000 (98.83%)\n",
            "Round 117/200\n"
          ]
        },
        {
          "name": "stderr",
          "output_type": "stream",
          "text": [
            "100%|██████████| 10/10 [01:16<00:00,  7.63s/it]\n"
          ]
        },
        {
          "name": "stdout",
          "output_type": "stream",
          "text": [
            "Test set: Average loss: 0.0036, Accuracy: 9877/10000 (98.77%)\n",
            "Round 118/200\n"
          ]
        },
        {
          "name": "stderr",
          "output_type": "stream",
          "text": [
            "100%|██████████| 10/10 [01:15<00:00,  7.56s/it]\n"
          ]
        },
        {
          "name": "stdout",
          "output_type": "stream",
          "text": [
            "Test set: Average loss: 0.0033, Accuracy: 9885/10000 (98.85%)\n",
            "Round 119/200\n"
          ]
        },
        {
          "name": "stderr",
          "output_type": "stream",
          "text": [
            "100%|██████████| 10/10 [01:14<00:00,  7.49s/it]\n"
          ]
        },
        {
          "name": "stdout",
          "output_type": "stream",
          "text": [
            "Test set: Average loss: 0.0035, Accuracy: 9882/10000 (98.82%)\n",
            "Round 120/200\n"
          ]
        },
        {
          "name": "stderr",
          "output_type": "stream",
          "text": [
            "100%|██████████| 10/10 [01:15<00:00,  7.50s/it]\n"
          ]
        },
        {
          "name": "stdout",
          "output_type": "stream",
          "text": [
            "Test set: Average loss: 0.0033, Accuracy: 9891/10000 (98.91%)\n",
            "Round 121/200\n"
          ]
        },
        {
          "name": "stderr",
          "output_type": "stream",
          "text": [
            "100%|██████████| 10/10 [01:15<00:00,  7.55s/it]\n"
          ]
        },
        {
          "name": "stdout",
          "output_type": "stream",
          "text": [
            "Test set: Average loss: 0.0042, Accuracy: 9853/10000 (98.53%)\n",
            "Round 122/200\n"
          ]
        },
        {
          "name": "stderr",
          "output_type": "stream",
          "text": [
            "100%|██████████| 10/10 [01:14<00:00,  7.49s/it]\n"
          ]
        },
        {
          "name": "stdout",
          "output_type": "stream",
          "text": [
            "Test set: Average loss: 0.0052, Accuracy: 9842/10000 (98.42%)\n",
            "Round 123/200\n"
          ]
        },
        {
          "name": "stderr",
          "output_type": "stream",
          "text": [
            "100%|██████████| 10/10 [01:14<00:00,  7.49s/it]\n"
          ]
        },
        {
          "name": "stdout",
          "output_type": "stream",
          "text": [
            "Test set: Average loss: 0.0043, Accuracy: 9864/10000 (98.64%)\n",
            "Round 124/200\n"
          ]
        },
        {
          "name": "stderr",
          "output_type": "stream",
          "text": [
            "100%|██████████| 10/10 [01:15<00:00,  7.54s/it]\n"
          ]
        },
        {
          "name": "stdout",
          "output_type": "stream",
          "text": [
            "Test set: Average loss: 0.0050, Accuracy: 9845/10000 (98.45%)\n",
            "Round 125/200\n"
          ]
        },
        {
          "name": "stderr",
          "output_type": "stream",
          "text": [
            "100%|██████████| 10/10 [01:15<00:00,  7.50s/it]\n"
          ]
        },
        {
          "name": "stdout",
          "output_type": "stream",
          "text": [
            "Test set: Average loss: 0.0037, Accuracy: 9877/10000 (98.77%)\n",
            "Round 126/200\n"
          ]
        },
        {
          "name": "stderr",
          "output_type": "stream",
          "text": [
            "100%|██████████| 10/10 [01:13<00:00,  7.38s/it]\n"
          ]
        },
        {
          "name": "stdout",
          "output_type": "stream",
          "text": [
            "Test set: Average loss: 0.0032, Accuracy: 9899/10000 (98.99%)\n",
            "Round 127/200\n"
          ]
        },
        {
          "name": "stderr",
          "output_type": "stream",
          "text": [
            "100%|██████████| 10/10 [01:14<00:00,  7.44s/it]\n"
          ]
        },
        {
          "name": "stdout",
          "output_type": "stream",
          "text": [
            "Test set: Average loss: 0.0037, Accuracy: 9881/10000 (98.81%)\n",
            "Round 128/200\n"
          ]
        },
        {
          "name": "stderr",
          "output_type": "stream",
          "text": [
            "100%|██████████| 10/10 [01:14<00:00,  7.47s/it]\n"
          ]
        },
        {
          "name": "stdout",
          "output_type": "stream",
          "text": [
            "Test set: Average loss: 0.0042, Accuracy: 9856/10000 (98.56%)\n",
            "Round 129/200\n"
          ]
        },
        {
          "name": "stderr",
          "output_type": "stream",
          "text": [
            "100%|██████████| 10/10 [01:15<00:00,  7.51s/it]\n"
          ]
        },
        {
          "name": "stdout",
          "output_type": "stream",
          "text": [
            "Test set: Average loss: 0.0034, Accuracy: 9889/10000 (98.89%)\n",
            "Round 130/200\n"
          ]
        },
        {
          "name": "stderr",
          "output_type": "stream",
          "text": [
            "100%|██████████| 10/10 [01:14<00:00,  7.46s/it]\n"
          ]
        },
        {
          "name": "stdout",
          "output_type": "stream",
          "text": [
            "Test set: Average loss: 0.0030, Accuracy: 9901/10000 (99.01%)\n",
            "Best round: 130, accuracy: 0.9901\n"
          ]
        }
      ],
      "source": [
        "# rounds and target accuracy\n",
        "T = 200\n",
        "target_accuracy = 0.99\n",
        "\n",
        "state_dict, accuracies, losses = await execute(server, T, target_accuracy)\n",
        "\n",
        "# save model to file\n",
        "torch.save(state_dict, \"cnn_state_dict.pth\")"
      ]
    },
    {
      "attachments": {},
      "cell_type": "markdown",
      "metadata": {
        "id": "uQ-Tw0WiKn4v"
      },
      "source": [
        "## Statistics"
      ]
    },
    {
      "cell_type": "code",
      "execution_count": 15,
      "metadata": {
        "id": "6sQWqFbbKn4v",
        "outputId": "ee931218-355d-43d2-b334-e9caae9de484"
      },
      "outputs": [
        {
          "name": "stdout",
          "output_type": "stream",
          "text": [
            "[0.6911, 0.8852, 0.8688, 0.9511, 0.9527, 0.9636, 0.9661, 0.9642, 0.9612, 0.9679, 0.9737, 0.9737, 0.9749, 0.9751, 0.9774, 0.9774, 0.9788, 0.9744, 0.9821, 0.9758, 0.9805, 0.9816, 0.9825, 0.9822, 0.9834, 0.9822, 0.9795, 0.984, 0.977, 0.9829, 0.9835, 0.9823, 0.9844, 0.9853, 0.984, 0.9862, 0.9857, 0.9835, 0.984, 0.9865, 0.9869, 0.9768, 0.9853, 0.9858, 0.9809, 0.9863, 0.9861, 0.9868, 0.9871, 0.9851, 0.9868, 0.9865, 0.9858, 0.9873, 0.981, 0.9863, 0.987, 0.9854, 0.9863, 0.9825, 0.9874, 0.9867, 0.9803, 0.9864, 0.9882, 0.9863, 0.9848, 0.9871, 0.9878, 0.9876, 0.9882, 0.9875, 0.9868, 0.9845, 0.9887, 0.9854, 0.9881, 0.9858, 0.9732, 0.9885, 0.9884, 0.9884, 0.9882, 0.9855, 0.9861, 0.9877, 0.9881, 0.9873, 0.9856, 0.9878, 0.9894, 0.9854, 0.9878, 0.9836, 0.9888, 0.9862, 0.9873, 0.9851, 0.9863, 0.989, 0.988, 0.9778, 0.9821, 0.9863, 0.9888, 0.9895, 0.9885, 0.9832, 0.9856, 0.9882, 0.9893, 0.9843, 0.9796, 0.9865, 0.9876, 0.9883, 0.9877, 0.9885, 0.9882, 0.9891, 0.9853, 0.9842, 0.9864, 0.9845, 0.9877, 0.9899, 0.9881, 0.9856, 0.9889, 0.9901]\n"
          ]
        }
      ],
      "source": [
        "# manual save to shared drive for reproducible graph\n",
        "print(accuracies)"
      ]
    },
    {
      "cell_type": "code",
      "execution_count": 16,
      "metadata": {
        "id": "z-iW5nEsKn4w",
        "outputId": "f96b47f1-4d51-4b86-ba22-3166b384e2da"
      },
      "outputs": [
        {
          "name": "stdout",
          "output_type": "stream",
          "text": [
            "[0.20162927230596542, 0.11254589696526528, 0.0707243467181921, 0.03673972718715668, 0.025431674110144378, 0.015871221370156854, 0.014019546439033002, 0.012772844161745161, 0.014905028460919857, 0.01144205445065163, 0.008807856797089335, 0.008419940020877403, 0.007891252912429626, 0.008154447330057156, 0.006781188296165783, 0.006955628892144887, 0.00634925812567235, 0.008160504384967498, 0.00589724096394275, 0.007506948696903419, 0.006214899181512737, 0.005639030115180504, 0.005405950013303663, 0.005349708760102658, 0.00495307026801911, 0.005196656868378705, 0.0063319372257366925, 0.004977871123150635, 0.00675471786565322, 0.005063529435498458, 0.004948023926468704, 0.005350936269405975, 0.004542322416908291, 0.004322431637497869, 0.004641369240309541, 0.0042403321644299925, 0.004470567394073396, 0.004622197431353379, 0.004952424205878492, 0.004222020501797124, 0.004399164374120147, 0.006797881058751045, 0.0046509244474835666, 0.004399969428766349, 0.005451224283790612, 0.004085482563980099, 0.004335677999715665, 0.003924274067691112, 0.0040844921361787665, 0.004501200644745882, 0.004146769432794985, 0.003989512709085045, 0.004170588809961668, 0.003840205903989289, 0.005446133035304365, 0.004035725829830858, 0.00408172101852524, 0.004403162598817093, 0.004188002204620863, 0.00487658687089579, 0.0037080337581664367, 0.004090033702986512, 0.005531300973681028, 0.0039369315465969746, 0.003699703381655479, 0.004215448308837244, 0.004548811639390871, 0.003779792752117626, 0.0038568660529010295, 0.003601390026383734, 0.0035152228268866222, 0.003976398325452122, 0.003978740961695794, 0.004420808287074599, 0.0036280174644283945, 0.004641917147968143, 0.0035266223958927726, 0.004176408123082794, 0.008013912051128728, 0.0036032087142021667, 0.0034944875777295414, 0.0036693960839040323, 0.003468341164700286, 0.004325713043070317, 0.004245800233603645, 0.0036195464398092055, 0.003615773593195303, 0.0037852411127553692, 0.004332186560855573, 0.003808047231004733, 0.0033367655169050095, 0.003993850275839742, 0.0035627135908654468, 0.0049804202275104854, 0.003410275846775712, 0.003916863749445571, 0.004295584893201409, 0.004500249114361071, 0.004156045207763766, 0.0032292420093837826, 0.0036039409054788754, 0.006613919004932541, 0.005332773653374677, 0.004046335898854154, 0.00340356171060087, 0.003155586452524176, 0.003448092804005921, 0.005089891221765005, 0.004422099579690075, 0.0037375694085903704, 0.00323585114381159, 0.00435716142928504, 0.0063981204551370975, 0.003961504950234788, 0.0037262335423174533, 0.0034393252242161817, 0.0035567333014878137, 0.00333401525197246, 0.00353683599328194, 0.003330792326993403, 0.004210413431760064, 0.005165507127818398, 0.0042511342155734525, 0.004961259863199288, 0.003682469613403596, 0.003161313240386309, 0.0036791869049390314, 0.004178826767422737, 0.003434749166266893, 0.0030271062448821292]\n"
          ]
        }
      ],
      "source": [
        "# manual save to shared drive for reproducible graph\n",
        "print(losses)"
      ]
    },
    {
      "cell_type": "code",
      "execution_count": 17,
      "metadata": {
        "id": "O3K-I8HvKn4w",
        "outputId": "2cd34867-fa3d-45e3-f010-18f86ac646ef"
      },
      "outputs": [
        {
          "data": {
            "image/png": "[encoded data removed]",
            "text/plain": [
              "<Figure size 640x480 with 1 Axes>"
            ]
          },
          "metadata": {},
          "output_type": "display_data"
        }
      ],
      "source": [
        "plt.plot(accuracies)\n",
        "plt.title('Test Accuracy')\n",
        "plt.xlabel('Rounds')\n",
        "plt.ylabel('Accuracy')\n",
        "plt.ylim(0.9, 1)\n",
        "plt.grid(True)\n",
        "plt.show()"
      ]
    }
  ],
  "metadata": {
    "accelerator": "GPU",
    "colab": {
      "provenance": []
    },
    "gpuClass": "standard",
    "kernelspec": {
      "display_name": "python38",
      "language": "python",
      "name": "python3"
    },
    "language_info": {
      "codemirror_mode": {
        "name": "ipython",
        "version": 3
      },
      "file_extension": ".py",
      "mimetype": "text/x-python",
      "name": "python",
      "nbconvert_exporter": "python",
      "pygments_lexer": "ipython3",
      "version": "3.8.16"
    },
    "vscode": {
      "interpreter": {
        "hash": "a5e36ac6a21e329c2cec267b08e4f28884519c7e5682f29504bd17199cc3d203"
      }
    }
  },
  "nbformat": 4,
  "nbformat_minor": 0
}
